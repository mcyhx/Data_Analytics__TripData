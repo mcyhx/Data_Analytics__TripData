{
  "cells": [
    {
      "cell_type": "code",
      "execution_count": null,
      "metadata": {
        "colab": {
          "base_uri": "https://localhost:8080/"
        },
        "id": "mcBgQnZHo3nA",
        "outputId": "9ee4bba6-2e1f-4b8d-9862-050910e1e044"
      },
      "outputs": [
        {
          "output_type": "stream",
          "name": "stdout",
          "text": [
            "Mounted at /gdrive\n",
            "/gdrive\n",
            "'/gdrive/MyDrive/202101-divvy-tripdata.csv' -> '/content/202101-divvy-tripdata.csv'\n",
            "'/gdrive/MyDrive/202102-divvy-tripdata.csv' -> '/content/202102-divvy-tripdata.csv'\n",
            "'/gdrive/MyDrive/202103-divvy-tripdata.csv' -> '/content/202103-divvy-tripdata.csv'\n",
            "'/gdrive/MyDrive/202104-divvy-tripdata.csv' -> '/content/202104-divvy-tripdata.csv'\n",
            "'/gdrive/MyDrive/202105-divvy-tripdata.csv' -> '/content/202105-divvy-tripdata.csv'\n",
            "'/gdrive/MyDrive/202106-divvy-tripdata.csv' -> '/content/202106-divvy-tripdata.csv'\n",
            "'/gdrive/MyDrive/202107-divvy-tripdata.csv' -> '/content/202107-divvy-tripdata.csv'\n",
            "'/gdrive/MyDrive/202108-divvy-tripdata.csv' -> '/content/202108-divvy-tripdata.csv'\n",
            "'/gdrive/MyDrive/202109-divvy-tripdata.csv' -> '/content/202109-divvy-tripdata.csv'\n",
            "'/gdrive/MyDrive/202110-divvy-tripdata.csv' -> '/content/202110-divvy-tripdata.csv'\n",
            "'/gdrive/MyDrive/202111-divvy-tripdata.csv' -> '/content/202111-divvy-tripdata.csv'\n",
            "'/gdrive/MyDrive/202112-divvy-tripdata.csv' -> '/content/202112-divvy-tripdata.csv'\n"
          ]
        }
      ],
      "source": [
        " from google.colab import drive\n",
        "drive.mount('/gdrive')\n",
        "\n",
        "%cd /gdrive\n",
        "%cp -av  /gdrive/MyDrive/202101-divvy-tripdata.csv /content\n",
        "%cp -av  /gdrive/MyDrive/202102-divvy-tripdata.csv /content\n",
        "%cp -av  /gdrive/MyDrive/202103-divvy-tripdata.csv /content\n",
        "%cp -av  /gdrive/MyDrive/202104-divvy-tripdata.csv /content\n",
        "%cp -av  /gdrive/MyDrive/202105-divvy-tripdata.csv /content\n",
        "%cp -av  /gdrive/MyDrive/202106-divvy-tripdata.csv /content\n",
        "%cp -av  /gdrive/MyDrive/202107-divvy-tripdata.csv /content\n",
        "%cp -av  /gdrive/MyDrive/202108-divvy-tripdata.csv /content\n",
        "%cp -av  /gdrive/MyDrive/202109-divvy-tripdata.csv /content\n",
        "%cp -av  /gdrive/MyDrive/202110-divvy-tripdata.csv /content\n",
        "%cp -av  /gdrive/MyDrive/202111-divvy-tripdata.csv /content\n",
        "%cp -av  /gdrive/MyDrive/202112-divvy-tripdata.csv /content"
      ]
    },
    {
      "cell_type": "code",
      "execution_count": null,
      "metadata": {
        "id": "63qy3751qp9H"
      },
      "outputs": [],
      "source": [
        "import pandas as pd"
      ]
    },
    {
      "cell_type": "code",
      "execution_count": null,
      "metadata": {
        "id": "SQmZAyVjqsQo"
      },
      "outputs": [],
      "source": [
        "data_1 = pd.read_csv('/content/202101-divvy-tripdata.csv')\n",
        "data_2 = pd.read_csv('/content/202102-divvy-tripdata.csv')\n",
        "data_3 = pd.read_csv('/content/202103-divvy-tripdata.csv')\n",
        "data_4 = pd.read_csv('/content/202104-divvy-tripdata.csv')\n",
        "data_5 = pd.read_csv('/content/202105-divvy-tripdata.csv')\n",
        "data_6 = pd.read_csv('/content/202106-divvy-tripdata.csv')\n",
        "data_7 = pd.read_csv('/content/202107-divvy-tripdata.csv')\n",
        "data_8 = pd.read_csv('/content/202108-divvy-tripdata.csv')\n",
        "data_9 = pd.read_csv('/content/202109-divvy-tripdata.csv')\n",
        "data_10 = pd.read_csv('/content/202110-divvy-tripdata.csv')\n",
        "data_11 = pd.read_csv('/content/202111-divvy-tripdata.csv')\n",
        "data_12 = pd.read_csv('/content/202112-divvy-tripdata.csv')"
      ]
    },
    {
      "cell_type": "code",
      "execution_count": null,
      "metadata": {
        "id": "r5Lf7taxuO_y"
      },
      "outputs": [],
      "source": [
        "data = pd.concat([data_1,data_2,data_3,data_4,data_5,data_6,data_7,data_8,data_9,data_10,data_11,data_12])"
      ]
    },
    {
      "cell_type": "code",
      "execution_count": null,
      "metadata": {
        "id": "hHZDq4SDlEfw"
      },
      "outputs": [],
      "source": [
        "#data.to_csv('tripdata.csv')"
      ]
    },
    {
      "cell_type": "code",
      "execution_count": null,
      "metadata": {
        "colab": {
          "base_uri": "https://localhost:8080/"
        },
        "id": "GgDAvPq9pa3N",
        "outputId": "b9da6bf4-d191-4b70-8b1a-01457b511b6d"
      },
      "outputs": [
        {
          "output_type": "stream",
          "name": "stdout",
          "text": [
            "Drive already mounted at /gdrive; to attempt to forcibly remount, call drive.mount(\"/gdrive\", force_remount=True).\n",
            "/gdrive\n",
            "cp: cannot stat '/content/tripdata.csv': No such file or directory\n",
            "/content\n"
          ]
        }
      ],
      "source": [
        "from google.colab import drive\n",
        "drive.mount('/gdrive')\n",
        "\n",
        "%cd /gdrive\n",
        "%cp -av  /content/tripdata.csv  /gdrive/MyDrive/\n",
        "%cd /content/"
      ]
    },
    {
      "cell_type": "code",
      "execution_count": null,
      "metadata": {
        "colab": {
          "base_uri": "https://localhost:8080/"
        },
        "id": "xoGeOx3BuXO4",
        "outputId": "df57a5d8-b306-4b04-cff4-30ce1d85979f"
      },
      "outputs": [
        {
          "output_type": "execute_result",
          "data": {
            "text/plain": [
              "5595063"
            ]
          },
          "metadata": {},
          "execution_count": 7
        }
      ],
      "source": [
        "len(data)"
      ]
    },
    {
      "cell_type": "code",
      "execution_count": null,
      "metadata": {
        "colab": {
          "base_uri": "https://localhost:8080/",
          "height": 444
        },
        "id": "F4GUifSauY4U",
        "outputId": "7e2f37b4-19ba-47f0-a3f5-64684319854b"
      },
      "outputs": [
        {
          "output_type": "execute_result",
          "data": {
            "text/plain": [
              "            ride_id  rideable_type           started_at             ended_at  \\\n",
              "0  E19E6F1B8D4C42ED  electric_bike  2021-01-23 16:14:19  2021-01-23 16:24:44   \n",
              "1  DC88F20C2C55F27F  electric_bike  2021-01-27 18:43:08  2021-01-27 18:47:12   \n",
              "2  EC45C94683FE3F27  electric_bike  2021-01-21 22:35:54  2021-01-21 22:37:14   \n",
              "3  4FA453A75AE377DB  electric_bike  2021-01-07 13:31:13  2021-01-07 13:42:55   \n",
              "4  BE5E8EB4E7263A0B  electric_bike  2021-01-23 02:24:02  2021-01-23 02:24:45   \n",
              "\n",
              "           start_station_name start_station_id end_station_name  \\\n",
              "0  California Ave & Cortez St            17660              NaN   \n",
              "1  California Ave & Cortez St            17660              NaN   \n",
              "2  California Ave & Cortez St            17660              NaN   \n",
              "3  California Ave & Cortez St            17660              NaN   \n",
              "4  California Ave & Cortez St            17660              NaN   \n",
              "\n",
              "  end_station_id  start_lat  start_lng  end_lat  end_lng member_casual  \n",
              "0            NaN  41.900341 -87.696743    41.89   -87.72        member  \n",
              "1            NaN  41.900333 -87.696707    41.90   -87.69        member  \n",
              "2            NaN  41.900313 -87.696643    41.90   -87.70        member  \n",
              "3            NaN  41.900399 -87.696662    41.92   -87.69        member  \n",
              "4            NaN  41.900326 -87.696697    41.90   -87.70        casual  "
            ],
            "text/html": [
              "\n",
              "  <div id=\"df-9a882c07-33a1-4ada-a9eb-c53a7575c1a0\">\n",
              "    <div class=\"colab-df-container\">\n",
              "      <div>\n",
              "<style scoped>\n",
              "    .dataframe tbody tr th:only-of-type {\n",
              "        vertical-align: middle;\n",
              "    }\n",
              "\n",
              "    .dataframe tbody tr th {\n",
              "        vertical-align: top;\n",
              "    }\n",
              "\n",
              "    .dataframe thead th {\n",
              "        text-align: right;\n",
              "    }\n",
              "</style>\n",
              "<table border=\"1\" class=\"dataframe\">\n",
              "  <thead>\n",
              "    <tr style=\"text-align: right;\">\n",
              "      <th></th>\n",
              "      <th>ride_id</th>\n",
              "      <th>rideable_type</th>\n",
              "      <th>started_at</th>\n",
              "      <th>ended_at</th>\n",
              "      <th>start_station_name</th>\n",
              "      <th>start_station_id</th>\n",
              "      <th>end_station_name</th>\n",
              "      <th>end_station_id</th>\n",
              "      <th>start_lat</th>\n",
              "      <th>start_lng</th>\n",
              "      <th>end_lat</th>\n",
              "      <th>end_lng</th>\n",
              "      <th>member_casual</th>\n",
              "    </tr>\n",
              "  </thead>\n",
              "  <tbody>\n",
              "    <tr>\n",
              "      <th>0</th>\n",
              "      <td>E19E6F1B8D4C42ED</td>\n",
              "      <td>electric_bike</td>\n",
              "      <td>2021-01-23 16:14:19</td>\n",
              "      <td>2021-01-23 16:24:44</td>\n",
              "      <td>California Ave &amp; Cortez St</td>\n",
              "      <td>17660</td>\n",
              "      <td>NaN</td>\n",
              "      <td>NaN</td>\n",
              "      <td>41.900341</td>\n",
              "      <td>-87.696743</td>\n",
              "      <td>41.89</td>\n",
              "      <td>-87.72</td>\n",
              "      <td>member</td>\n",
              "    </tr>\n",
              "    <tr>\n",
              "      <th>1</th>\n",
              "      <td>DC88F20C2C55F27F</td>\n",
              "      <td>electric_bike</td>\n",
              "      <td>2021-01-27 18:43:08</td>\n",
              "      <td>2021-01-27 18:47:12</td>\n",
              "      <td>California Ave &amp; Cortez St</td>\n",
              "      <td>17660</td>\n",
              "      <td>NaN</td>\n",
              "      <td>NaN</td>\n",
              "      <td>41.900333</td>\n",
              "      <td>-87.696707</td>\n",
              "      <td>41.90</td>\n",
              "      <td>-87.69</td>\n",
              "      <td>member</td>\n",
              "    </tr>\n",
              "    <tr>\n",
              "      <th>2</th>\n",
              "      <td>EC45C94683FE3F27</td>\n",
              "      <td>electric_bike</td>\n",
              "      <td>2021-01-21 22:35:54</td>\n",
              "      <td>2021-01-21 22:37:14</td>\n",
              "      <td>California Ave &amp; Cortez St</td>\n",
              "      <td>17660</td>\n",
              "      <td>NaN</td>\n",
              "      <td>NaN</td>\n",
              "      <td>41.900313</td>\n",
              "      <td>-87.696643</td>\n",
              "      <td>41.90</td>\n",
              "      <td>-87.70</td>\n",
              "      <td>member</td>\n",
              "    </tr>\n",
              "    <tr>\n",
              "      <th>3</th>\n",
              "      <td>4FA453A75AE377DB</td>\n",
              "      <td>electric_bike</td>\n",
              "      <td>2021-01-07 13:31:13</td>\n",
              "      <td>2021-01-07 13:42:55</td>\n",
              "      <td>California Ave &amp; Cortez St</td>\n",
              "      <td>17660</td>\n",
              "      <td>NaN</td>\n",
              "      <td>NaN</td>\n",
              "      <td>41.900399</td>\n",
              "      <td>-87.696662</td>\n",
              "      <td>41.92</td>\n",
              "      <td>-87.69</td>\n",
              "      <td>member</td>\n",
              "    </tr>\n",
              "    <tr>\n",
              "      <th>4</th>\n",
              "      <td>BE5E8EB4E7263A0B</td>\n",
              "      <td>electric_bike</td>\n",
              "      <td>2021-01-23 02:24:02</td>\n",
              "      <td>2021-01-23 02:24:45</td>\n",
              "      <td>California Ave &amp; Cortez St</td>\n",
              "      <td>17660</td>\n",
              "      <td>NaN</td>\n",
              "      <td>NaN</td>\n",
              "      <td>41.900326</td>\n",
              "      <td>-87.696697</td>\n",
              "      <td>41.90</td>\n",
              "      <td>-87.70</td>\n",
              "      <td>casual</td>\n",
              "    </tr>\n",
              "  </tbody>\n",
              "</table>\n",
              "</div>\n",
              "      <button class=\"colab-df-convert\" onclick=\"convertToInteractive('df-9a882c07-33a1-4ada-a9eb-c53a7575c1a0')\"\n",
              "              title=\"Convert this dataframe to an interactive table.\"\n",
              "              style=\"display:none;\">\n",
              "        \n",
              "  <svg xmlns=\"http://www.w3.org/2000/svg\" height=\"24px\"viewBox=\"0 0 24 24\"\n",
              "       width=\"24px\">\n",
              "    <path d=\"M0 0h24v24H0V0z\" fill=\"none\"/>\n",
              "    <path d=\"M18.56 5.44l.94 2.06.94-2.06 2.06-.94-2.06-.94-.94-2.06-.94 2.06-2.06.94zm-11 1L8.5 8.5l.94-2.06 2.06-.94-2.06-.94L8.5 2.5l-.94 2.06-2.06.94zm10 10l.94 2.06.94-2.06 2.06-.94-2.06-.94-.94-2.06-.94 2.06-2.06.94z\"/><path d=\"M17.41 7.96l-1.37-1.37c-.4-.4-.92-.59-1.43-.59-.52 0-1.04.2-1.43.59L10.3 9.45l-7.72 7.72c-.78.78-.78 2.05 0 2.83L4 21.41c.39.39.9.59 1.41.59.51 0 1.02-.2 1.41-.59l7.78-7.78 2.81-2.81c.8-.78.8-2.07 0-2.86zM5.41 20L4 18.59l7.72-7.72 1.47 1.35L5.41 20z\"/>\n",
              "  </svg>\n",
              "      </button>\n",
              "      \n",
              "  <style>\n",
              "    .colab-df-container {\n",
              "      display:flex;\n",
              "      flex-wrap:wrap;\n",
              "      gap: 12px;\n",
              "    }\n",
              "\n",
              "    .colab-df-convert {\n",
              "      background-color: #E8F0FE;\n",
              "      border: none;\n",
              "      border-radius: 50%;\n",
              "      cursor: pointer;\n",
              "      display: none;\n",
              "      fill: #1967D2;\n",
              "      height: 32px;\n",
              "      padding: 0 0 0 0;\n",
              "      width: 32px;\n",
              "    }\n",
              "\n",
              "    .colab-df-convert:hover {\n",
              "      background-color: #E2EBFA;\n",
              "      box-shadow: 0px 1px 2px rgba(60, 64, 67, 0.3), 0px 1px 3px 1px rgba(60, 64, 67, 0.15);\n",
              "      fill: #174EA6;\n",
              "    }\n",
              "\n",
              "    [theme=dark] .colab-df-convert {\n",
              "      background-color: #3B4455;\n",
              "      fill: #D2E3FC;\n",
              "    }\n",
              "\n",
              "    [theme=dark] .colab-df-convert:hover {\n",
              "      background-color: #434B5C;\n",
              "      box-shadow: 0px 1px 3px 1px rgba(0, 0, 0, 0.15);\n",
              "      filter: drop-shadow(0px 1px 2px rgba(0, 0, 0, 0.3));\n",
              "      fill: #FFFFFF;\n",
              "    }\n",
              "  </style>\n",
              "\n",
              "      <script>\n",
              "        const buttonEl =\n",
              "          document.querySelector('#df-9a882c07-33a1-4ada-a9eb-c53a7575c1a0 button.colab-df-convert');\n",
              "        buttonEl.style.display =\n",
              "          google.colab.kernel.accessAllowed ? 'block' : 'none';\n",
              "\n",
              "        async function convertToInteractive(key) {\n",
              "          const element = document.querySelector('#df-9a882c07-33a1-4ada-a9eb-c53a7575c1a0');\n",
              "          const dataTable =\n",
              "            await google.colab.kernel.invokeFunction('convertToInteractive',\n",
              "                                                     [key], {});\n",
              "          if (!dataTable) return;\n",
              "\n",
              "          const docLinkHtml = 'Like what you see? Visit the ' +\n",
              "            '<a target=\"_blank\" href=https://colab.research.google.com/notebooks/data_table.ipynb>data table notebook</a>'\n",
              "            + ' to learn more about interactive tables.';\n",
              "          element.innerHTML = '';\n",
              "          dataTable['output_type'] = 'display_data';\n",
              "          await google.colab.output.renderOutput(dataTable, element);\n",
              "          const docLink = document.createElement('div');\n",
              "          docLink.innerHTML = docLinkHtml;\n",
              "          element.appendChild(docLink);\n",
              "        }\n",
              "      </script>\n",
              "    </div>\n",
              "  </div>\n",
              "  "
            ]
          },
          "metadata": {},
          "execution_count": 8
        }
      ],
      "source": [
        "data.head()"
      ]
    },
    {
      "cell_type": "code",
      "execution_count": null,
      "metadata": {
        "colab": {
          "base_uri": "https://localhost:8080/",
          "height": 444
        },
        "id": "B4NkLhKZubG8",
        "outputId": "33b53166-2dd5-4a94-a305-42d7c0b5d921"
      },
      "outputs": [
        {
          "output_type": "execute_result",
          "data": {
            "text/plain": [
              "                 ride_id  rideable_type           started_at  \\\n",
              "247535  847431F3D5353AB7  electric_bike  2021-12-12 13:36:55   \n",
              "247536  CF407BBC3B9FAD63  electric_bike  2021-12-06 19:37:50   \n",
              "247537  60BB69EBF5440E92  electric_bike  2021-12-02 08:57:04   \n",
              "247538  C414F654A28635B8  electric_bike  2021-12-13 09:00:26   \n",
              "247539  37AC57E34B2E7E97   classic_bike  2021-12-13 08:45:32   \n",
              "\n",
              "                   ended_at           start_station_name start_station_id  \\\n",
              "247535  2021-12-12 13:56:08        Canal St & Madison St            13341   \n",
              "247536  2021-12-06 19:44:51        Canal St & Madison St            13341   \n",
              "247537  2021-12-02 09:05:21        Canal St & Madison St            13341   \n",
              "247538  2021-12-13 09:14:39       Lawndale Ave & 16th St            362.0   \n",
              "247539  2021-12-13 08:49:09  Michigan Ave & Jackson Blvd     TA1309000002   \n",
              "\n",
              "                end_station_name end_station_id  start_lat  start_lng  \\\n",
              "247535                       NaN            NaN  41.882289 -87.639752   \n",
              "247536  Kingsbury St & Kinzie St   KA1503000043  41.882123 -87.640053   \n",
              "247537   Dearborn St & Monroe St   TA1305000006  41.881956 -87.639955   \n",
              "247538                       NaN            NaN  41.860000 -87.720000   \n",
              "247539   Dearborn St & Monroe St   TA1305000006  41.877850 -87.624080   \n",
              "\n",
              "          end_lat    end_lng member_casual  \n",
              "247535  41.890000 -87.610000        casual  \n",
              "247536  41.889106 -87.638862        member  \n",
              "247537  41.880254 -87.629603        member  \n",
              "247538  41.850000 -87.710000        member  \n",
              "247539  41.881320 -87.629521        member  "
            ],
            "text/html": [
              "\n",
              "  <div id=\"df-a4598a81-7f08-47bc-9635-c2266a8f1ea2\">\n",
              "    <div class=\"colab-df-container\">\n",
              "      <div>\n",
              "<style scoped>\n",
              "    .dataframe tbody tr th:only-of-type {\n",
              "        vertical-align: middle;\n",
              "    }\n",
              "\n",
              "    .dataframe tbody tr th {\n",
              "        vertical-align: top;\n",
              "    }\n",
              "\n",
              "    .dataframe thead th {\n",
              "        text-align: right;\n",
              "    }\n",
              "</style>\n",
              "<table border=\"1\" class=\"dataframe\">\n",
              "  <thead>\n",
              "    <tr style=\"text-align: right;\">\n",
              "      <th></th>\n",
              "      <th>ride_id</th>\n",
              "      <th>rideable_type</th>\n",
              "      <th>started_at</th>\n",
              "      <th>ended_at</th>\n",
              "      <th>start_station_name</th>\n",
              "      <th>start_station_id</th>\n",
              "      <th>end_station_name</th>\n",
              "      <th>end_station_id</th>\n",
              "      <th>start_lat</th>\n",
              "      <th>start_lng</th>\n",
              "      <th>end_lat</th>\n",
              "      <th>end_lng</th>\n",
              "      <th>member_casual</th>\n",
              "    </tr>\n",
              "  </thead>\n",
              "  <tbody>\n",
              "    <tr>\n",
              "      <th>247535</th>\n",
              "      <td>847431F3D5353AB7</td>\n",
              "      <td>electric_bike</td>\n",
              "      <td>2021-12-12 13:36:55</td>\n",
              "      <td>2021-12-12 13:56:08</td>\n",
              "      <td>Canal St &amp; Madison St</td>\n",
              "      <td>13341</td>\n",
              "      <td>NaN</td>\n",
              "      <td>NaN</td>\n",
              "      <td>41.882289</td>\n",
              "      <td>-87.639752</td>\n",
              "      <td>41.890000</td>\n",
              "      <td>-87.610000</td>\n",
              "      <td>casual</td>\n",
              "    </tr>\n",
              "    <tr>\n",
              "      <th>247536</th>\n",
              "      <td>CF407BBC3B9FAD63</td>\n",
              "      <td>electric_bike</td>\n",
              "      <td>2021-12-06 19:37:50</td>\n",
              "      <td>2021-12-06 19:44:51</td>\n",
              "      <td>Canal St &amp; Madison St</td>\n",
              "      <td>13341</td>\n",
              "      <td>Kingsbury St &amp; Kinzie St</td>\n",
              "      <td>KA1503000043</td>\n",
              "      <td>41.882123</td>\n",
              "      <td>-87.640053</td>\n",
              "      <td>41.889106</td>\n",
              "      <td>-87.638862</td>\n",
              "      <td>member</td>\n",
              "    </tr>\n",
              "    <tr>\n",
              "      <th>247537</th>\n",
              "      <td>60BB69EBF5440E92</td>\n",
              "      <td>electric_bike</td>\n",
              "      <td>2021-12-02 08:57:04</td>\n",
              "      <td>2021-12-02 09:05:21</td>\n",
              "      <td>Canal St &amp; Madison St</td>\n",
              "      <td>13341</td>\n",
              "      <td>Dearborn St &amp; Monroe St</td>\n",
              "      <td>TA1305000006</td>\n",
              "      <td>41.881956</td>\n",
              "      <td>-87.639955</td>\n",
              "      <td>41.880254</td>\n",
              "      <td>-87.629603</td>\n",
              "      <td>member</td>\n",
              "    </tr>\n",
              "    <tr>\n",
              "      <th>247538</th>\n",
              "      <td>C414F654A28635B8</td>\n",
              "      <td>electric_bike</td>\n",
              "      <td>2021-12-13 09:00:26</td>\n",
              "      <td>2021-12-13 09:14:39</td>\n",
              "      <td>Lawndale Ave &amp; 16th St</td>\n",
              "      <td>362.0</td>\n",
              "      <td>NaN</td>\n",
              "      <td>NaN</td>\n",
              "      <td>41.860000</td>\n",
              "      <td>-87.720000</td>\n",
              "      <td>41.850000</td>\n",
              "      <td>-87.710000</td>\n",
              "      <td>member</td>\n",
              "    </tr>\n",
              "    <tr>\n",
              "      <th>247539</th>\n",
              "      <td>37AC57E34B2E7E97</td>\n",
              "      <td>classic_bike</td>\n",
              "      <td>2021-12-13 08:45:32</td>\n",
              "      <td>2021-12-13 08:49:09</td>\n",
              "      <td>Michigan Ave &amp; Jackson Blvd</td>\n",
              "      <td>TA1309000002</td>\n",
              "      <td>Dearborn St &amp; Monroe St</td>\n",
              "      <td>TA1305000006</td>\n",
              "      <td>41.877850</td>\n",
              "      <td>-87.624080</td>\n",
              "      <td>41.881320</td>\n",
              "      <td>-87.629521</td>\n",
              "      <td>member</td>\n",
              "    </tr>\n",
              "  </tbody>\n",
              "</table>\n",
              "</div>\n",
              "      <button class=\"colab-df-convert\" onclick=\"convertToInteractive('df-a4598a81-7f08-47bc-9635-c2266a8f1ea2')\"\n",
              "              title=\"Convert this dataframe to an interactive table.\"\n",
              "              style=\"display:none;\">\n",
              "        \n",
              "  <svg xmlns=\"http://www.w3.org/2000/svg\" height=\"24px\"viewBox=\"0 0 24 24\"\n",
              "       width=\"24px\">\n",
              "    <path d=\"M0 0h24v24H0V0z\" fill=\"none\"/>\n",
              "    <path d=\"M18.56 5.44l.94 2.06.94-2.06 2.06-.94-2.06-.94-.94-2.06-.94 2.06-2.06.94zm-11 1L8.5 8.5l.94-2.06 2.06-.94-2.06-.94L8.5 2.5l-.94 2.06-2.06.94zm10 10l.94 2.06.94-2.06 2.06-.94-2.06-.94-.94-2.06-.94 2.06-2.06.94z\"/><path d=\"M17.41 7.96l-1.37-1.37c-.4-.4-.92-.59-1.43-.59-.52 0-1.04.2-1.43.59L10.3 9.45l-7.72 7.72c-.78.78-.78 2.05 0 2.83L4 21.41c.39.39.9.59 1.41.59.51 0 1.02-.2 1.41-.59l7.78-7.78 2.81-2.81c.8-.78.8-2.07 0-2.86zM5.41 20L4 18.59l7.72-7.72 1.47 1.35L5.41 20z\"/>\n",
              "  </svg>\n",
              "      </button>\n",
              "      \n",
              "  <style>\n",
              "    .colab-df-container {\n",
              "      display:flex;\n",
              "      flex-wrap:wrap;\n",
              "      gap: 12px;\n",
              "    }\n",
              "\n",
              "    .colab-df-convert {\n",
              "      background-color: #E8F0FE;\n",
              "      border: none;\n",
              "      border-radius: 50%;\n",
              "      cursor: pointer;\n",
              "      display: none;\n",
              "      fill: #1967D2;\n",
              "      height: 32px;\n",
              "      padding: 0 0 0 0;\n",
              "      width: 32px;\n",
              "    }\n",
              "\n",
              "    .colab-df-convert:hover {\n",
              "      background-color: #E2EBFA;\n",
              "      box-shadow: 0px 1px 2px rgba(60, 64, 67, 0.3), 0px 1px 3px 1px rgba(60, 64, 67, 0.15);\n",
              "      fill: #174EA6;\n",
              "    }\n",
              "\n",
              "    [theme=dark] .colab-df-convert {\n",
              "      background-color: #3B4455;\n",
              "      fill: #D2E3FC;\n",
              "    }\n",
              "\n",
              "    [theme=dark] .colab-df-convert:hover {\n",
              "      background-color: #434B5C;\n",
              "      box-shadow: 0px 1px 3px 1px rgba(0, 0, 0, 0.15);\n",
              "      filter: drop-shadow(0px 1px 2px rgba(0, 0, 0, 0.3));\n",
              "      fill: #FFFFFF;\n",
              "    }\n",
              "  </style>\n",
              "\n",
              "      <script>\n",
              "        const buttonEl =\n",
              "          document.querySelector('#df-a4598a81-7f08-47bc-9635-c2266a8f1ea2 button.colab-df-convert');\n",
              "        buttonEl.style.display =\n",
              "          google.colab.kernel.accessAllowed ? 'block' : 'none';\n",
              "\n",
              "        async function convertToInteractive(key) {\n",
              "          const element = document.querySelector('#df-a4598a81-7f08-47bc-9635-c2266a8f1ea2');\n",
              "          const dataTable =\n",
              "            await google.colab.kernel.invokeFunction('convertToInteractive',\n",
              "                                                     [key], {});\n",
              "          if (!dataTable) return;\n",
              "\n",
              "          const docLinkHtml = 'Like what you see? Visit the ' +\n",
              "            '<a target=\"_blank\" href=https://colab.research.google.com/notebooks/data_table.ipynb>data table notebook</a>'\n",
              "            + ' to learn more about interactive tables.';\n",
              "          element.innerHTML = '';\n",
              "          dataTable['output_type'] = 'display_data';\n",
              "          await google.colab.output.renderOutput(dataTable, element);\n",
              "          const docLink = document.createElement('div');\n",
              "          docLink.innerHTML = docLinkHtml;\n",
              "          element.appendChild(docLink);\n",
              "        }\n",
              "      </script>\n",
              "    </div>\n",
              "  </div>\n",
              "  "
            ]
          },
          "metadata": {},
          "execution_count": 9
        }
      ],
      "source": [
        "data.tail()"
      ]
    },
    {
      "cell_type": "code",
      "execution_count": null,
      "metadata": {
        "colab": {
          "base_uri": "https://localhost:8080/"
        },
        "id": "48cCAr4Oud1g",
        "outputId": "62b86f86-eda9-43f9-e12e-d79a9d324fd8"
      },
      "outputs": [
        {
          "output_type": "stream",
          "name": "stdout",
          "text": [
            "<class 'pandas.core.frame.DataFrame'>\n",
            "Int64Index: 5595063 entries, 0 to 247539\n",
            "Data columns (total 13 columns):\n",
            " #   Column              Dtype  \n",
            "---  ------              -----  \n",
            " 0   ride_id             object \n",
            " 1   rideable_type       object \n",
            " 2   started_at          object \n",
            " 3   ended_at            object \n",
            " 4   start_station_name  object \n",
            " 5   start_station_id    object \n",
            " 6   end_station_name    object \n",
            " 7   end_station_id      object \n",
            " 8   start_lat           float64\n",
            " 9   start_lng           float64\n",
            " 10  end_lat             float64\n",
            " 11  end_lng             float64\n",
            " 12  member_casual       object \n",
            "dtypes: float64(4), object(9)\n",
            "memory usage: 597.6+ MB\n"
          ]
        }
      ],
      "source": [
        "data.info()"
      ]
    },
    {
      "cell_type": "code",
      "execution_count": null,
      "metadata": {
        "colab": {
          "base_uri": "https://localhost:8080/"
        },
        "id": "19h30L_Xugqj",
        "outputId": "4f102d8c-7197-4cba-85b8-d6cb1634377e"
      },
      "outputs": [
        {
          "output_type": "execute_result",
          "data": {
            "text/plain": [
              "True"
            ]
          },
          "metadata": {},
          "execution_count": 11
        }
      ],
      "source": [
        "data.isnull().values.any()"
      ]
    },
    {
      "cell_type": "code",
      "execution_count": null,
      "metadata": {
        "colab": {
          "base_uri": "https://localhost:8080/"
        },
        "id": "pgrWQwAaukFU",
        "outputId": "98eba206-6c5e-4536-cb95-73ef5feeac98"
      },
      "outputs": [
        {
          "output_type": "execute_result",
          "data": {
            "text/plain": [
              "ride_id                    0\n",
              "rideable_type              0\n",
              "started_at                 0\n",
              "ended_at                   0\n",
              "start_station_name    690809\n",
              "start_station_id      690806\n",
              "end_station_name      739170\n",
              "end_station_id        739170\n",
              "start_lat                  0\n",
              "start_lng                  0\n",
              "end_lat                 4771\n",
              "end_lng                 4771\n",
              "member_casual              0\n",
              "dtype: int64"
            ]
          },
          "metadata": {},
          "execution_count": 12
        }
      ],
      "source": [
        "data.isnull().sum()"
      ]
    },
    {
      "cell_type": "code",
      "execution_count": null,
      "metadata": {
        "colab": {
          "base_uri": "https://localhost:8080/"
        },
        "id": "KLHng83susss",
        "outputId": "96a4364f-a929-4b01-ab83-1e88bfe783ce"
      },
      "outputs": [
        {
          "output_type": "execute_result",
          "data": {
            "text/plain": [
              "0.13211111295797742"
            ]
          },
          "metadata": {},
          "execution_count": 13
        }
      ],
      "source": [
        "739170/len(data)"
      ]
    },
    {
      "cell_type": "code",
      "execution_count": null,
      "metadata": {
        "id": "kBsosNdYvHM5"
      },
      "outputs": [],
      "source": [
        "data_clean = data.dropna()"
      ]
    },
    {
      "cell_type": "code",
      "execution_count": null,
      "metadata": {
        "colab": {
          "base_uri": "https://localhost:8080/"
        },
        "id": "uMZrbrhuvICm",
        "outputId": "0fef378f-2ac5-46eb-d026-8379460749ad"
      },
      "outputs": [
        {
          "output_type": "execute_result",
          "data": {
            "text/plain": [
              "5595063"
            ]
          },
          "metadata": {},
          "execution_count": 15
        }
      ],
      "source": [
        "len(data)"
      ]
    },
    {
      "cell_type": "code",
      "execution_count": null,
      "metadata": {
        "colab": {
          "base_uri": "https://localhost:8080/"
        },
        "id": "MfMioiQSvJpY",
        "outputId": "758554ea-afd9-4989-d1c5-cc6e50057692"
      },
      "outputs": [
        {
          "output_type": "execute_result",
          "data": {
            "text/plain": [
              "4588302"
            ]
          },
          "metadata": {},
          "execution_count": 16
        }
      ],
      "source": [
        "len(data_clean)"
      ]
    },
    {
      "cell_type": "code",
      "execution_count": null,
      "metadata": {
        "colab": {
          "base_uri": "https://localhost:8080/"
        },
        "id": "PQxPCC1fvbcQ",
        "outputId": "d29dc427-9696-489e-bc24-6dde626a2591"
      },
      "outputs": [
        {
          "output_type": "execute_result",
          "data": {
            "text/plain": [
              "ride_id               0\n",
              "rideable_type         0\n",
              "started_at            0\n",
              "ended_at              0\n",
              "start_station_name    0\n",
              "start_station_id      0\n",
              "end_station_name      0\n",
              "end_station_id        0\n",
              "start_lat             0\n",
              "start_lng             0\n",
              "end_lat               0\n",
              "end_lng               0\n",
              "member_casual         0\n",
              "dtype: int64"
            ]
          },
          "metadata": {},
          "execution_count": 17
        }
      ],
      "source": [
        "data_clean.isnull().sum()"
      ]
    },
    {
      "cell_type": "code",
      "execution_count": null,
      "metadata": {
        "colab": {
          "base_uri": "https://localhost:8080/"
        },
        "id": "zAy-k8YGvoRm",
        "outputId": "27ee1708-7171-4cf1-e77e-9e4f8b0b640f"
      },
      "outputs": [
        {
          "output_type": "execute_result",
          "data": {
            "text/plain": [
              "0"
            ]
          },
          "metadata": {},
          "execution_count": 18
        }
      ],
      "source": [
        "data_clean.duplicated().sum()"
      ]
    },
    {
      "cell_type": "code",
      "execution_count": null,
      "metadata": {
        "id": "E-6hSuZSv1l6"
      },
      "outputs": [],
      "source": [
        "from datetime import datetime"
      ]
    },
    {
      "cell_type": "code",
      "execution_count": null,
      "metadata": {
        "colab": {
          "base_uri": "https://localhost:8080/",
          "height": 652
        },
        "id": "zsWbyG54v5Zq",
        "outputId": "28b06122-379b-4a88-f3a9-e61939a11784"
      },
      "outputs": [
        {
          "output_type": "stream",
          "name": "stderr",
          "text": [
            "<ipython-input-20-eea0d5c62604>:1: SettingWithCopyWarning: \n",
            "A value is trying to be set on a copy of a slice from a DataFrame.\n",
            "Try using .loc[row_indexer,col_indexer] = value instead\n",
            "\n",
            "See the caveats in the documentation: https://pandas.pydata.org/pandas-docs/stable/user_guide/indexing.html#returning-a-view-versus-a-copy\n",
            "  data_clean['started_at'] =pd.to_datetime(data_clean['started_at'],infer_datetime_format=True)\n",
            "<ipython-input-20-eea0d5c62604>:2: SettingWithCopyWarning: \n",
            "A value is trying to be set on a copy of a slice from a DataFrame.\n",
            "Try using .loc[row_indexer,col_indexer] = value instead\n",
            "\n",
            "See the caveats in the documentation: https://pandas.pydata.org/pandas-docs/stable/user_guide/indexing.html#returning-a-view-versus-a-copy\n",
            "  data_clean['ended_at'] = pd.to_datetime(data_clean['ended_at'],infer_datetime_format=True)\n"
          ]
        },
        {
          "output_type": "execute_result",
          "data": {
            "text/plain": [
              "             ride_id  rideable_type          started_at            ended_at  \\\n",
              "9   B9F73448DFBE0D45   classic_bike 2021-01-24 19:15:38 2021-01-24 19:22:51   \n",
              "10  457C7F4B5D3DA135  electric_bike 2021-01-23 12:57:38 2021-01-23 13:02:10   \n",
              "11  57C750326F9FDABE  electric_bike 2021-01-09 15:28:04 2021-01-09 15:37:51   \n",
              "12  4D518C65E338D070  electric_bike 2021-01-09 15:28:57 2021-01-09 15:37:54   \n",
              "13  9D08A3AFF410474D   classic_bike 2021-01-24 15:56:59 2021-01-24 16:07:08   \n",
              "\n",
              "            start_station_name start_station_id            end_station_name  \\\n",
              "9   California Ave & Cortez St            17660      Wood St & Augusta Blvd   \n",
              "10  California Ave & Cortez St            17660  California Ave & North Ave   \n",
              "11  California Ave & Cortez St            17660      Wood St & Augusta Blvd   \n",
              "12  California Ave & Cortez St            17660      Wood St & Augusta Blvd   \n",
              "13  California Ave & Cortez St            17660      Wood St & Augusta Blvd   \n",
              "\n",
              "   end_station_id  start_lat  start_lng    end_lat    end_lng member_casual  \n",
              "9             657  41.900363 -87.696704  41.899181 -87.672200        member  \n",
              "10          13258  41.900406 -87.696733  41.910435 -87.696890        member  \n",
              "11            657  41.900374 -87.696688  41.899180 -87.672178        casual  \n",
              "12            657  41.900379 -87.696716  41.899149 -87.672177        casual  \n",
              "13            657  41.900363 -87.696704  41.899181 -87.672200        casual  "
            ],
            "text/html": [
              "\n",
              "  <div id=\"df-4e38d110-07c4-4b33-82a0-72774bf08603\">\n",
              "    <div class=\"colab-df-container\">\n",
              "      <div>\n",
              "<style scoped>\n",
              "    .dataframe tbody tr th:only-of-type {\n",
              "        vertical-align: middle;\n",
              "    }\n",
              "\n",
              "    .dataframe tbody tr th {\n",
              "        vertical-align: top;\n",
              "    }\n",
              "\n",
              "    .dataframe thead th {\n",
              "        text-align: right;\n",
              "    }\n",
              "</style>\n",
              "<table border=\"1\" class=\"dataframe\">\n",
              "  <thead>\n",
              "    <tr style=\"text-align: right;\">\n",
              "      <th></th>\n",
              "      <th>ride_id</th>\n",
              "      <th>rideable_type</th>\n",
              "      <th>started_at</th>\n",
              "      <th>ended_at</th>\n",
              "      <th>start_station_name</th>\n",
              "      <th>start_station_id</th>\n",
              "      <th>end_station_name</th>\n",
              "      <th>end_station_id</th>\n",
              "      <th>start_lat</th>\n",
              "      <th>start_lng</th>\n",
              "      <th>end_lat</th>\n",
              "      <th>end_lng</th>\n",
              "      <th>member_casual</th>\n",
              "    </tr>\n",
              "  </thead>\n",
              "  <tbody>\n",
              "    <tr>\n",
              "      <th>9</th>\n",
              "      <td>B9F73448DFBE0D45</td>\n",
              "      <td>classic_bike</td>\n",
              "      <td>2021-01-24 19:15:38</td>\n",
              "      <td>2021-01-24 19:22:51</td>\n",
              "      <td>California Ave &amp; Cortez St</td>\n",
              "      <td>17660</td>\n",
              "      <td>Wood St &amp; Augusta Blvd</td>\n",
              "      <td>657</td>\n",
              "      <td>41.900363</td>\n",
              "      <td>-87.696704</td>\n",
              "      <td>41.899181</td>\n",
              "      <td>-87.672200</td>\n",
              "      <td>member</td>\n",
              "    </tr>\n",
              "    <tr>\n",
              "      <th>10</th>\n",
              "      <td>457C7F4B5D3DA135</td>\n",
              "      <td>electric_bike</td>\n",
              "      <td>2021-01-23 12:57:38</td>\n",
              "      <td>2021-01-23 13:02:10</td>\n",
              "      <td>California Ave &amp; Cortez St</td>\n",
              "      <td>17660</td>\n",
              "      <td>California Ave &amp; North Ave</td>\n",
              "      <td>13258</td>\n",
              "      <td>41.900406</td>\n",
              "      <td>-87.696733</td>\n",
              "      <td>41.910435</td>\n",
              "      <td>-87.696890</td>\n",
              "      <td>member</td>\n",
              "    </tr>\n",
              "    <tr>\n",
              "      <th>11</th>\n",
              "      <td>57C750326F9FDABE</td>\n",
              "      <td>electric_bike</td>\n",
              "      <td>2021-01-09 15:28:04</td>\n",
              "      <td>2021-01-09 15:37:51</td>\n",
              "      <td>California Ave &amp; Cortez St</td>\n",
              "      <td>17660</td>\n",
              "      <td>Wood St &amp; Augusta Blvd</td>\n",
              "      <td>657</td>\n",
              "      <td>41.900374</td>\n",
              "      <td>-87.696688</td>\n",
              "      <td>41.899180</td>\n",
              "      <td>-87.672178</td>\n",
              "      <td>casual</td>\n",
              "    </tr>\n",
              "    <tr>\n",
              "      <th>12</th>\n",
              "      <td>4D518C65E338D070</td>\n",
              "      <td>electric_bike</td>\n",
              "      <td>2021-01-09 15:28:57</td>\n",
              "      <td>2021-01-09 15:37:54</td>\n",
              "      <td>California Ave &amp; Cortez St</td>\n",
              "      <td>17660</td>\n",
              "      <td>Wood St &amp; Augusta Blvd</td>\n",
              "      <td>657</td>\n",
              "      <td>41.900379</td>\n",
              "      <td>-87.696716</td>\n",
              "      <td>41.899149</td>\n",
              "      <td>-87.672177</td>\n",
              "      <td>casual</td>\n",
              "    </tr>\n",
              "    <tr>\n",
              "      <th>13</th>\n",
              "      <td>9D08A3AFF410474D</td>\n",
              "      <td>classic_bike</td>\n",
              "      <td>2021-01-24 15:56:59</td>\n",
              "      <td>2021-01-24 16:07:08</td>\n",
              "      <td>California Ave &amp; Cortez St</td>\n",
              "      <td>17660</td>\n",
              "      <td>Wood St &amp; Augusta Blvd</td>\n",
              "      <td>657</td>\n",
              "      <td>41.900363</td>\n",
              "      <td>-87.696704</td>\n",
              "      <td>41.899181</td>\n",
              "      <td>-87.672200</td>\n",
              "      <td>casual</td>\n",
              "    </tr>\n",
              "  </tbody>\n",
              "</table>\n",
              "</div>\n",
              "      <button class=\"colab-df-convert\" onclick=\"convertToInteractive('df-4e38d110-07c4-4b33-82a0-72774bf08603')\"\n",
              "              title=\"Convert this dataframe to an interactive table.\"\n",
              "              style=\"display:none;\">\n",
              "        \n",
              "  <svg xmlns=\"http://www.w3.org/2000/svg\" height=\"24px\"viewBox=\"0 0 24 24\"\n",
              "       width=\"24px\">\n",
              "    <path d=\"M0 0h24v24H0V0z\" fill=\"none\"/>\n",
              "    <path d=\"M18.56 5.44l.94 2.06.94-2.06 2.06-.94-2.06-.94-.94-2.06-.94 2.06-2.06.94zm-11 1L8.5 8.5l.94-2.06 2.06-.94-2.06-.94L8.5 2.5l-.94 2.06-2.06.94zm10 10l.94 2.06.94-2.06 2.06-.94-2.06-.94-.94-2.06-.94 2.06-2.06.94z\"/><path d=\"M17.41 7.96l-1.37-1.37c-.4-.4-.92-.59-1.43-.59-.52 0-1.04.2-1.43.59L10.3 9.45l-7.72 7.72c-.78.78-.78 2.05 0 2.83L4 21.41c.39.39.9.59 1.41.59.51 0 1.02-.2 1.41-.59l7.78-7.78 2.81-2.81c.8-.78.8-2.07 0-2.86zM5.41 20L4 18.59l7.72-7.72 1.47 1.35L5.41 20z\"/>\n",
              "  </svg>\n",
              "      </button>\n",
              "      \n",
              "  <style>\n",
              "    .colab-df-container {\n",
              "      display:flex;\n",
              "      flex-wrap:wrap;\n",
              "      gap: 12px;\n",
              "    }\n",
              "\n",
              "    .colab-df-convert {\n",
              "      background-color: #E8F0FE;\n",
              "      border: none;\n",
              "      border-radius: 50%;\n",
              "      cursor: pointer;\n",
              "      display: none;\n",
              "      fill: #1967D2;\n",
              "      height: 32px;\n",
              "      padding: 0 0 0 0;\n",
              "      width: 32px;\n",
              "    }\n",
              "\n",
              "    .colab-df-convert:hover {\n",
              "      background-color: #E2EBFA;\n",
              "      box-shadow: 0px 1px 2px rgba(60, 64, 67, 0.3), 0px 1px 3px 1px rgba(60, 64, 67, 0.15);\n",
              "      fill: #174EA6;\n",
              "    }\n",
              "\n",
              "    [theme=dark] .colab-df-convert {\n",
              "      background-color: #3B4455;\n",
              "      fill: #D2E3FC;\n",
              "    }\n",
              "\n",
              "    [theme=dark] .colab-df-convert:hover {\n",
              "      background-color: #434B5C;\n",
              "      box-shadow: 0px 1px 3px 1px rgba(0, 0, 0, 0.15);\n",
              "      filter: drop-shadow(0px 1px 2px rgba(0, 0, 0, 0.3));\n",
              "      fill: #FFFFFF;\n",
              "    }\n",
              "  </style>\n",
              "\n",
              "      <script>\n",
              "        const buttonEl =\n",
              "          document.querySelector('#df-4e38d110-07c4-4b33-82a0-72774bf08603 button.colab-df-convert');\n",
              "        buttonEl.style.display =\n",
              "          google.colab.kernel.accessAllowed ? 'block' : 'none';\n",
              "\n",
              "        async function convertToInteractive(key) {\n",
              "          const element = document.querySelector('#df-4e38d110-07c4-4b33-82a0-72774bf08603');\n",
              "          const dataTable =\n",
              "            await google.colab.kernel.invokeFunction('convertToInteractive',\n",
              "                                                     [key], {});\n",
              "          if (!dataTable) return;\n",
              "\n",
              "          const docLinkHtml = 'Like what you see? Visit the ' +\n",
              "            '<a target=\"_blank\" href=https://colab.research.google.com/notebooks/data_table.ipynb>data table notebook</a>'\n",
              "            + ' to learn more about interactive tables.';\n",
              "          element.innerHTML = '';\n",
              "          dataTable['output_type'] = 'display_data';\n",
              "          await google.colab.output.renderOutput(dataTable, element);\n",
              "          const docLink = document.createElement('div');\n",
              "          docLink.innerHTML = docLinkHtml;\n",
              "          element.appendChild(docLink);\n",
              "        }\n",
              "      </script>\n",
              "    </div>\n",
              "  </div>\n",
              "  "
            ]
          },
          "metadata": {},
          "execution_count": 20
        }
      ],
      "source": [
        "data_clean['started_at'] =pd.to_datetime(data_clean['started_at'],infer_datetime_format=True)\n",
        "data_clean['ended_at'] = pd.to_datetime(data_clean['ended_at'],infer_datetime_format=True)\n",
        "data_clean.head()"
      ]
    },
    {
      "cell_type": "code",
      "execution_count": null,
      "metadata": {
        "colab": {
          "base_uri": "https://localhost:8080/"
        },
        "id": "SGGnJLhFv9L0",
        "outputId": "abf7c58f-890a-400c-d2e5-9ed40eb06fd6"
      },
      "outputs": [
        {
          "output_type": "stream",
          "name": "stdout",
          "text": [
            "<class 'pandas.core.frame.DataFrame'>\n",
            "Int64Index: 5595063 entries, 0 to 247539\n",
            "Data columns (total 13 columns):\n",
            " #   Column              Dtype  \n",
            "---  ------              -----  \n",
            " 0   ride_id             object \n",
            " 1   rideable_type       object \n",
            " 2   started_at          object \n",
            " 3   ended_at            object \n",
            " 4   start_station_name  object \n",
            " 5   start_station_id    object \n",
            " 6   end_station_name    object \n",
            " 7   end_station_id      object \n",
            " 8   start_lat           float64\n",
            " 9   start_lng           float64\n",
            " 10  end_lat             float64\n",
            " 11  end_lng             float64\n",
            " 12  member_casual       object \n",
            "dtypes: float64(4), object(9)\n",
            "memory usage: 597.6+ MB\n"
          ]
        }
      ],
      "source": [
        "data.info()"
      ]
    },
    {
      "cell_type": "code",
      "execution_count": null,
      "metadata": {
        "colab": {
          "base_uri": "https://localhost:8080/"
        },
        "id": "fEmcnQkxwC4k",
        "outputId": "c2a1df5d-1a9e-43a2-b40c-b22a75ac9887"
      },
      "outputs": [
        {
          "output_type": "stream",
          "name": "stdout",
          "text": [
            "<class 'pandas.core.frame.DataFrame'>\n",
            "Int64Index: 4588302 entries, 9 to 247539\n",
            "Data columns (total 13 columns):\n",
            " #   Column              Dtype         \n",
            "---  ------              -----         \n",
            " 0   ride_id             object        \n",
            " 1   rideable_type       object        \n",
            " 2   started_at          datetime64[ns]\n",
            " 3   ended_at            datetime64[ns]\n",
            " 4   start_station_name  object        \n",
            " 5   start_station_id    object        \n",
            " 6   end_station_name    object        \n",
            " 7   end_station_id      object        \n",
            " 8   start_lat           float64       \n",
            " 9   start_lng           float64       \n",
            " 10  end_lat             float64       \n",
            " 11  end_lng             float64       \n",
            " 12  member_casual       object        \n",
            "dtypes: datetime64[ns](2), float64(4), object(7)\n",
            "memory usage: 490.1+ MB\n"
          ]
        }
      ],
      "source": [
        "data_clean.info()"
      ]
    },
    {
      "cell_type": "code",
      "execution_count": null,
      "metadata": {
        "colab": {
          "base_uri": "https://localhost:8080/"
        },
        "id": "wgkxJEGCwL7l",
        "outputId": "85dd71f1-5c03-4880-df00-efd30646adcc"
      },
      "outputs": [
        {
          "output_type": "stream",
          "name": "stderr",
          "text": [
            "<ipython-input-23-80304ef7c29e>:1: SettingWithCopyWarning: \n",
            "A value is trying to be set on a copy of a slice from a DataFrame.\n",
            "Try using .loc[row_indexer,col_indexer] = value instead\n",
            "\n",
            "See the caveats in the documentation: https://pandas.pydata.org/pandas-docs/stable/user_guide/indexing.html#returning-a-view-versus-a-copy\n",
            "  data_clean['ride_length'] = data_clean['ended_at'] - data_clean['started_at']\n"
          ]
        }
      ],
      "source": [
        "data_clean['ride_length'] = data_clean['ended_at'] - data_clean['started_at']"
      ]
    },
    {
      "cell_type": "code",
      "execution_count": null,
      "metadata": {
        "colab": {
          "base_uri": "https://localhost:8080/",
          "height": 444
        },
        "id": "ZelzIi93wO9F",
        "outputId": "190a2d0a-4a41-4fea-8341-666d9d9c03c4"
      },
      "outputs": [
        {
          "output_type": "execute_result",
          "data": {
            "text/plain": [
              "             ride_id  rideable_type          started_at            ended_at  \\\n",
              "9   B9F73448DFBE0D45   classic_bike 2021-01-24 19:15:38 2021-01-24 19:22:51   \n",
              "10  457C7F4B5D3DA135  electric_bike 2021-01-23 12:57:38 2021-01-23 13:02:10   \n",
              "11  57C750326F9FDABE  electric_bike 2021-01-09 15:28:04 2021-01-09 15:37:51   \n",
              "12  4D518C65E338D070  electric_bike 2021-01-09 15:28:57 2021-01-09 15:37:54   \n",
              "13  9D08A3AFF410474D   classic_bike 2021-01-24 15:56:59 2021-01-24 16:07:08   \n",
              "\n",
              "            start_station_name start_station_id            end_station_name  \\\n",
              "9   California Ave & Cortez St            17660      Wood St & Augusta Blvd   \n",
              "10  California Ave & Cortez St            17660  California Ave & North Ave   \n",
              "11  California Ave & Cortez St            17660      Wood St & Augusta Blvd   \n",
              "12  California Ave & Cortez St            17660      Wood St & Augusta Blvd   \n",
              "13  California Ave & Cortez St            17660      Wood St & Augusta Blvd   \n",
              "\n",
              "   end_station_id  start_lat  start_lng    end_lat    end_lng member_casual  \\\n",
              "9             657  41.900363 -87.696704  41.899181 -87.672200        member   \n",
              "10          13258  41.900406 -87.696733  41.910435 -87.696890        member   \n",
              "11            657  41.900374 -87.696688  41.899180 -87.672178        casual   \n",
              "12            657  41.900379 -87.696716  41.899149 -87.672177        casual   \n",
              "13            657  41.900363 -87.696704  41.899181 -87.672200        casual   \n",
              "\n",
              "       ride_length  \n",
              "9  0 days 00:07:13  \n",
              "10 0 days 00:04:32  \n",
              "11 0 days 00:09:47  \n",
              "12 0 days 00:08:57  \n",
              "13 0 days 00:10:09  "
            ],
            "text/html": [
              "\n",
              "  <div id=\"df-7bd9f010-9cf6-4783-a117-5a7c087dfb60\">\n",
              "    <div class=\"colab-df-container\">\n",
              "      <div>\n",
              "<style scoped>\n",
              "    .dataframe tbody tr th:only-of-type {\n",
              "        vertical-align: middle;\n",
              "    }\n",
              "\n",
              "    .dataframe tbody tr th {\n",
              "        vertical-align: top;\n",
              "    }\n",
              "\n",
              "    .dataframe thead th {\n",
              "        text-align: right;\n",
              "    }\n",
              "</style>\n",
              "<table border=\"1\" class=\"dataframe\">\n",
              "  <thead>\n",
              "    <tr style=\"text-align: right;\">\n",
              "      <th></th>\n",
              "      <th>ride_id</th>\n",
              "      <th>rideable_type</th>\n",
              "      <th>started_at</th>\n",
              "      <th>ended_at</th>\n",
              "      <th>start_station_name</th>\n",
              "      <th>start_station_id</th>\n",
              "      <th>end_station_name</th>\n",
              "      <th>end_station_id</th>\n",
              "      <th>start_lat</th>\n",
              "      <th>start_lng</th>\n",
              "      <th>end_lat</th>\n",
              "      <th>end_lng</th>\n",
              "      <th>member_casual</th>\n",
              "      <th>ride_length</th>\n",
              "    </tr>\n",
              "  </thead>\n",
              "  <tbody>\n",
              "    <tr>\n",
              "      <th>9</th>\n",
              "      <td>B9F73448DFBE0D45</td>\n",
              "      <td>classic_bike</td>\n",
              "      <td>2021-01-24 19:15:38</td>\n",
              "      <td>2021-01-24 19:22:51</td>\n",
              "      <td>California Ave &amp; Cortez St</td>\n",
              "      <td>17660</td>\n",
              "      <td>Wood St &amp; Augusta Blvd</td>\n",
              "      <td>657</td>\n",
              "      <td>41.900363</td>\n",
              "      <td>-87.696704</td>\n",
              "      <td>41.899181</td>\n",
              "      <td>-87.672200</td>\n",
              "      <td>member</td>\n",
              "      <td>0 days 00:07:13</td>\n",
              "    </tr>\n",
              "    <tr>\n",
              "      <th>10</th>\n",
              "      <td>457C7F4B5D3DA135</td>\n",
              "      <td>electric_bike</td>\n",
              "      <td>2021-01-23 12:57:38</td>\n",
              "      <td>2021-01-23 13:02:10</td>\n",
              "      <td>California Ave &amp; Cortez St</td>\n",
              "      <td>17660</td>\n",
              "      <td>California Ave &amp; North Ave</td>\n",
              "      <td>13258</td>\n",
              "      <td>41.900406</td>\n",
              "      <td>-87.696733</td>\n",
              "      <td>41.910435</td>\n",
              "      <td>-87.696890</td>\n",
              "      <td>member</td>\n",
              "      <td>0 days 00:04:32</td>\n",
              "    </tr>\n",
              "    <tr>\n",
              "      <th>11</th>\n",
              "      <td>57C750326F9FDABE</td>\n",
              "      <td>electric_bike</td>\n",
              "      <td>2021-01-09 15:28:04</td>\n",
              "      <td>2021-01-09 15:37:51</td>\n",
              "      <td>California Ave &amp; Cortez St</td>\n",
              "      <td>17660</td>\n",
              "      <td>Wood St &amp; Augusta Blvd</td>\n",
              "      <td>657</td>\n",
              "      <td>41.900374</td>\n",
              "      <td>-87.696688</td>\n",
              "      <td>41.899180</td>\n",
              "      <td>-87.672178</td>\n",
              "      <td>casual</td>\n",
              "      <td>0 days 00:09:47</td>\n",
              "    </tr>\n",
              "    <tr>\n",
              "      <th>12</th>\n",
              "      <td>4D518C65E338D070</td>\n",
              "      <td>electric_bike</td>\n",
              "      <td>2021-01-09 15:28:57</td>\n",
              "      <td>2021-01-09 15:37:54</td>\n",
              "      <td>California Ave &amp; Cortez St</td>\n",
              "      <td>17660</td>\n",
              "      <td>Wood St &amp; Augusta Blvd</td>\n",
              "      <td>657</td>\n",
              "      <td>41.900379</td>\n",
              "      <td>-87.696716</td>\n",
              "      <td>41.899149</td>\n",
              "      <td>-87.672177</td>\n",
              "      <td>casual</td>\n",
              "      <td>0 days 00:08:57</td>\n",
              "    </tr>\n",
              "    <tr>\n",
              "      <th>13</th>\n",
              "      <td>9D08A3AFF410474D</td>\n",
              "      <td>classic_bike</td>\n",
              "      <td>2021-01-24 15:56:59</td>\n",
              "      <td>2021-01-24 16:07:08</td>\n",
              "      <td>California Ave &amp; Cortez St</td>\n",
              "      <td>17660</td>\n",
              "      <td>Wood St &amp; Augusta Blvd</td>\n",
              "      <td>657</td>\n",
              "      <td>41.900363</td>\n",
              "      <td>-87.696704</td>\n",
              "      <td>41.899181</td>\n",
              "      <td>-87.672200</td>\n",
              "      <td>casual</td>\n",
              "      <td>0 days 00:10:09</td>\n",
              "    </tr>\n",
              "  </tbody>\n",
              "</table>\n",
              "</div>\n",
              "      <button class=\"colab-df-convert\" onclick=\"convertToInteractive('df-7bd9f010-9cf6-4783-a117-5a7c087dfb60')\"\n",
              "              title=\"Convert this dataframe to an interactive table.\"\n",
              "              style=\"display:none;\">\n",
              "        \n",
              "  <svg xmlns=\"http://www.w3.org/2000/svg\" height=\"24px\"viewBox=\"0 0 24 24\"\n",
              "       width=\"24px\">\n",
              "    <path d=\"M0 0h24v24H0V0z\" fill=\"none\"/>\n",
              "    <path d=\"M18.56 5.44l.94 2.06.94-2.06 2.06-.94-2.06-.94-.94-2.06-.94 2.06-2.06.94zm-11 1L8.5 8.5l.94-2.06 2.06-.94-2.06-.94L8.5 2.5l-.94 2.06-2.06.94zm10 10l.94 2.06.94-2.06 2.06-.94-2.06-.94-.94-2.06-.94 2.06-2.06.94z\"/><path d=\"M17.41 7.96l-1.37-1.37c-.4-.4-.92-.59-1.43-.59-.52 0-1.04.2-1.43.59L10.3 9.45l-7.72 7.72c-.78.78-.78 2.05 0 2.83L4 21.41c.39.39.9.59 1.41.59.51 0 1.02-.2 1.41-.59l7.78-7.78 2.81-2.81c.8-.78.8-2.07 0-2.86zM5.41 20L4 18.59l7.72-7.72 1.47 1.35L5.41 20z\"/>\n",
              "  </svg>\n",
              "      </button>\n",
              "      \n",
              "  <style>\n",
              "    .colab-df-container {\n",
              "      display:flex;\n",
              "      flex-wrap:wrap;\n",
              "      gap: 12px;\n",
              "    }\n",
              "\n",
              "    .colab-df-convert {\n",
              "      background-color: #E8F0FE;\n",
              "      border: none;\n",
              "      border-radius: 50%;\n",
              "      cursor: pointer;\n",
              "      display: none;\n",
              "      fill: #1967D2;\n",
              "      height: 32px;\n",
              "      padding: 0 0 0 0;\n",
              "      width: 32px;\n",
              "    }\n",
              "\n",
              "    .colab-df-convert:hover {\n",
              "      background-color: #E2EBFA;\n",
              "      box-shadow: 0px 1px 2px rgba(60, 64, 67, 0.3), 0px 1px 3px 1px rgba(60, 64, 67, 0.15);\n",
              "      fill: #174EA6;\n",
              "    }\n",
              "\n",
              "    [theme=dark] .colab-df-convert {\n",
              "      background-color: #3B4455;\n",
              "      fill: #D2E3FC;\n",
              "    }\n",
              "\n",
              "    [theme=dark] .colab-df-convert:hover {\n",
              "      background-color: #434B5C;\n",
              "      box-shadow: 0px 1px 3px 1px rgba(0, 0, 0, 0.15);\n",
              "      filter: drop-shadow(0px 1px 2px rgba(0, 0, 0, 0.3));\n",
              "      fill: #FFFFFF;\n",
              "    }\n",
              "  </style>\n",
              "\n",
              "      <script>\n",
              "        const buttonEl =\n",
              "          document.querySelector('#df-7bd9f010-9cf6-4783-a117-5a7c087dfb60 button.colab-df-convert');\n",
              "        buttonEl.style.display =\n",
              "          google.colab.kernel.accessAllowed ? 'block' : 'none';\n",
              "\n",
              "        async function convertToInteractive(key) {\n",
              "          const element = document.querySelector('#df-7bd9f010-9cf6-4783-a117-5a7c087dfb60');\n",
              "          const dataTable =\n",
              "            await google.colab.kernel.invokeFunction('convertToInteractive',\n",
              "                                                     [key], {});\n",
              "          if (!dataTable) return;\n",
              "\n",
              "          const docLinkHtml = 'Like what you see? Visit the ' +\n",
              "            '<a target=\"_blank\" href=https://colab.research.google.com/notebooks/data_table.ipynb>data table notebook</a>'\n",
              "            + ' to learn more about interactive tables.';\n",
              "          element.innerHTML = '';\n",
              "          dataTable['output_type'] = 'display_data';\n",
              "          await google.colab.output.renderOutput(dataTable, element);\n",
              "          const docLink = document.createElement('div');\n",
              "          docLink.innerHTML = docLinkHtml;\n",
              "          element.appendChild(docLink);\n",
              "        }\n",
              "      </script>\n",
              "    </div>\n",
              "  </div>\n",
              "  "
            ]
          },
          "metadata": {},
          "execution_count": 24
        }
      ],
      "source": [
        "data_clean.head()"
      ]
    },
    {
      "cell_type": "code",
      "execution_count": null,
      "metadata": {
        "colab": {
          "base_uri": "https://localhost:8080/"
        },
        "id": "22-P9HQqKuYa",
        "outputId": "82fd0f27-d045-4c49-dbde-28359d6591dc"
      },
      "outputs": [
        {
          "output_type": "stream",
          "name": "stderr",
          "text": [
            "<ipython-input-25-bd6c8f4314f0>:1: SettingWithCopyWarning: \n",
            "A value is trying to be set on a copy of a slice from a DataFrame.\n",
            "Try using .loc[row_indexer,col_indexer] = value instead\n",
            "\n",
            "See the caveats in the documentation: https://pandas.pydata.org/pandas-docs/stable/user_guide/indexing.html#returning-a-view-versus-a-copy\n",
            "  data_clean['ride_length'] = data_clean['ride_length'].dt.total_seconds()\n"
          ]
        }
      ],
      "source": [
        "data_clean['ride_length'] = data_clean['ride_length'].dt.total_seconds()"
      ]
    },
    {
      "cell_type": "code",
      "execution_count": null,
      "metadata": {
        "colab": {
          "base_uri": "https://localhost:8080/"
        },
        "id": "jS_XsWUUKGRp",
        "outputId": "0505c0ec-3982-4948-db90-6def2a85036e"
      },
      "outputs": [
        {
          "output_type": "stream",
          "name": "stdout",
          "text": [
            "<class 'pandas.core.frame.DataFrame'>\n",
            "Int64Index: 4588302 entries, 9 to 247539\n",
            "Data columns (total 14 columns):\n",
            " #   Column              Dtype         \n",
            "---  ------              -----         \n",
            " 0   ride_id             object        \n",
            " 1   rideable_type       object        \n",
            " 2   started_at          datetime64[ns]\n",
            " 3   ended_at            datetime64[ns]\n",
            " 4   start_station_name  object        \n",
            " 5   start_station_id    object        \n",
            " 6   end_station_name    object        \n",
            " 7   end_station_id      object        \n",
            " 8   start_lat           float64       \n",
            " 9   start_lng           float64       \n",
            " 10  end_lat             float64       \n",
            " 11  end_lng             float64       \n",
            " 12  member_casual       object        \n",
            " 13  ride_length         float64       \n",
            "dtypes: datetime64[ns](2), float64(5), object(7)\n",
            "memory usage: 525.1+ MB\n"
          ]
        }
      ],
      "source": [
        "data_clean.info()"
      ]
    },
    {
      "cell_type": "code",
      "execution_count": null,
      "metadata": {
        "colab": {
          "base_uri": "https://localhost:8080/",
          "height": 835
        },
        "id": "_P4aGwlewjN9",
        "outputId": "fe2db060-7bd7-4f6f-ddeb-98a8625724fc"
      },
      "outputs": [
        {
          "output_type": "execute_result",
          "data": {
            "text/plain": [
              "                 ride_id  rideable_type          started_at  \\\n",
              "39317   F79335E3A77A57B5  electric_bike 2021-03-29 15:41:21   \n",
              "120830  5D2797A8FFA71B49   classic_bike 2021-03-13 18:02:58   \n",
              "22361   BC53ECCBC76278FD   classic_bike 2021-04-07 16:11:33   \n",
              "292566  6E81034B446FC2FD  electric_bike 2021-04-23 09:43:39   \n",
              "292678  318DD838369AEA61   classic_bike 2021-04-30 10:56:32   \n",
              "...                  ...            ...                 ...   \n",
              "253875  7E24361D78747AF6  electric_bike 2021-11-07 01:58:06   \n",
              "260820  6F9E76F5EDAAC1B8  electric_bike 2021-11-07 01:55:42   \n",
              "280766  F2AF011E90AC8918   classic_bike 2021-11-07 01:53:03   \n",
              "282673  7AECC76D1562B51C   classic_bike 2021-11-07 01:54:58   \n",
              "283250  36198116E86D6457  electric_bike 2021-11-07 01:57:36   \n",
              "\n",
              "                  ended_at              start_station_name start_station_id  \\\n",
              "39317  2021-03-29 15:41:20  Ashland Ave & Belle Plaine Ave            13249   \n",
              "120830 2021-03-13 18:02:57           Dayton St & North Ave            13058   \n",
              "22361  2021-04-07 16:11:26         Ashland Ave & Grand Ave            13434   \n",
              "292566 2021-04-23 09:43:29           Dayton St & North Ave            13058   \n",
              "292678 2021-04-30 10:56:30           Dayton St & North Ave            13058   \n",
              "...                    ...                             ...              ...   \n",
              "253875 2021-11-07 01:06:43            Wells St & Walton St     TA1306000011   \n",
              "260820 2021-11-07 01:01:55    Milwaukee Ave & Wabansia Ave            13243   \n",
              "280766 2021-11-07 01:22:34         Orleans St & Hubbard St              636   \n",
              "282673 2021-11-07 01:01:29  Sheffield Ave & Wrightwood Ave     TA1309000023   \n",
              "283250 2021-11-07 01:16:31        Wilton Ave & Belmont Ave     TA1307000134   \n",
              "\n",
              "                      end_station_name end_station_id  start_lat  start_lng  \\\n",
              "39317   Ashland Ave & Belle Plaine Ave          13249  41.956133 -87.668981   \n",
              "120830           Dayton St & North Ave          13058  41.910578 -87.649422   \n",
              "22361          Ashland Ave & Grand Ave          13434  41.891072 -87.666611   \n",
              "292566           Dayton St & North Ave          13058  41.910638 -87.649372   \n",
              "292678           Dayton St & North Ave          13058  41.910578 -87.649422   \n",
              "...                                ...            ...        ...        ...   \n",
              "253875          Clark St & Randolph St   TA1305000030  41.899954 -87.634449   \n",
              "260820       Western Ave & Division St          13241  41.912580 -87.681424   \n",
              "280766          Broadway & Belmont Ave          13277  41.890028 -87.636618   \n",
              "282673  Southport Ave & Wellington Ave   TA1307000006  41.928712 -87.653833   \n",
              "283250          St. Clair St & Erie St          13016  41.940031 -87.652953   \n",
              "\n",
              "          end_lat    end_lng member_casual  ride_length  \n",
              "39317   41.956143 -87.668985        member         -1.0  \n",
              "120830  41.910578 -87.649422        casual         -1.0  \n",
              "22361   41.891072 -87.666611        member         -7.0  \n",
              "292566  41.910650 -87.649386        member        -10.0  \n",
              "292678  41.910578 -87.649422        member         -2.0  \n",
              "...           ...        ...           ...          ...  \n",
              "253875  41.885264 -87.632307        member      -3083.0  \n",
              "260820  41.902906 -87.687367        member      -3227.0  \n",
              "280766  41.940106 -87.645451        casual      -1829.0  \n",
              "282673  41.935733 -87.663576        casual      -3209.0  \n",
              "283250  41.895157 -87.623314        member      -2465.0  \n",
              "\n",
              "[116 rows x 14 columns]"
            ],
            "text/html": [
              "\n",
              "  <div id=\"df-473b5650-c462-40e1-a5a2-6fff751890b5\">\n",
              "    <div class=\"colab-df-container\">\n",
              "      <div>\n",
              "<style scoped>\n",
              "    .dataframe tbody tr th:only-of-type {\n",
              "        vertical-align: middle;\n",
              "    }\n",
              "\n",
              "    .dataframe tbody tr th {\n",
              "        vertical-align: top;\n",
              "    }\n",
              "\n",
              "    .dataframe thead th {\n",
              "        text-align: right;\n",
              "    }\n",
              "</style>\n",
              "<table border=\"1\" class=\"dataframe\">\n",
              "  <thead>\n",
              "    <tr style=\"text-align: right;\">\n",
              "      <th></th>\n",
              "      <th>ride_id</th>\n",
              "      <th>rideable_type</th>\n",
              "      <th>started_at</th>\n",
              "      <th>ended_at</th>\n",
              "      <th>start_station_name</th>\n",
              "      <th>start_station_id</th>\n",
              "      <th>end_station_name</th>\n",
              "      <th>end_station_id</th>\n",
              "      <th>start_lat</th>\n",
              "      <th>start_lng</th>\n",
              "      <th>end_lat</th>\n",
              "      <th>end_lng</th>\n",
              "      <th>member_casual</th>\n",
              "      <th>ride_length</th>\n",
              "    </tr>\n",
              "  </thead>\n",
              "  <tbody>\n",
              "    <tr>\n",
              "      <th>39317</th>\n",
              "      <td>F79335E3A77A57B5</td>\n",
              "      <td>electric_bike</td>\n",
              "      <td>2021-03-29 15:41:21</td>\n",
              "      <td>2021-03-29 15:41:20</td>\n",
              "      <td>Ashland Ave &amp; Belle Plaine Ave</td>\n",
              "      <td>13249</td>\n",
              "      <td>Ashland Ave &amp; Belle Plaine Ave</td>\n",
              "      <td>13249</td>\n",
              "      <td>41.956133</td>\n",
              "      <td>-87.668981</td>\n",
              "      <td>41.956143</td>\n",
              "      <td>-87.668985</td>\n",
              "      <td>member</td>\n",
              "      <td>-1.0</td>\n",
              "    </tr>\n",
              "    <tr>\n",
              "      <th>120830</th>\n",
              "      <td>5D2797A8FFA71B49</td>\n",
              "      <td>classic_bike</td>\n",
              "      <td>2021-03-13 18:02:58</td>\n",
              "      <td>2021-03-13 18:02:57</td>\n",
              "      <td>Dayton St &amp; North Ave</td>\n",
              "      <td>13058</td>\n",
              "      <td>Dayton St &amp; North Ave</td>\n",
              "      <td>13058</td>\n",
              "      <td>41.910578</td>\n",
              "      <td>-87.649422</td>\n",
              "      <td>41.910578</td>\n",
              "      <td>-87.649422</td>\n",
              "      <td>casual</td>\n",
              "      <td>-1.0</td>\n",
              "    </tr>\n",
              "    <tr>\n",
              "      <th>22361</th>\n",
              "      <td>BC53ECCBC76278FD</td>\n",
              "      <td>classic_bike</td>\n",
              "      <td>2021-04-07 16:11:33</td>\n",
              "      <td>2021-04-07 16:11:26</td>\n",
              "      <td>Ashland Ave &amp; Grand Ave</td>\n",
              "      <td>13434</td>\n",
              "      <td>Ashland Ave &amp; Grand Ave</td>\n",
              "      <td>13434</td>\n",
              "      <td>41.891072</td>\n",
              "      <td>-87.666611</td>\n",
              "      <td>41.891072</td>\n",
              "      <td>-87.666611</td>\n",
              "      <td>member</td>\n",
              "      <td>-7.0</td>\n",
              "    </tr>\n",
              "    <tr>\n",
              "      <th>292566</th>\n",
              "      <td>6E81034B446FC2FD</td>\n",
              "      <td>electric_bike</td>\n",
              "      <td>2021-04-23 09:43:39</td>\n",
              "      <td>2021-04-23 09:43:29</td>\n",
              "      <td>Dayton St &amp; North Ave</td>\n",
              "      <td>13058</td>\n",
              "      <td>Dayton St &amp; North Ave</td>\n",
              "      <td>13058</td>\n",
              "      <td>41.910638</td>\n",
              "      <td>-87.649372</td>\n",
              "      <td>41.910650</td>\n",
              "      <td>-87.649386</td>\n",
              "      <td>member</td>\n",
              "      <td>-10.0</td>\n",
              "    </tr>\n",
              "    <tr>\n",
              "      <th>292678</th>\n",
              "      <td>318DD838369AEA61</td>\n",
              "      <td>classic_bike</td>\n",
              "      <td>2021-04-30 10:56:32</td>\n",
              "      <td>2021-04-30 10:56:30</td>\n",
              "      <td>Dayton St &amp; North Ave</td>\n",
              "      <td>13058</td>\n",
              "      <td>Dayton St &amp; North Ave</td>\n",
              "      <td>13058</td>\n",
              "      <td>41.910578</td>\n",
              "      <td>-87.649422</td>\n",
              "      <td>41.910578</td>\n",
              "      <td>-87.649422</td>\n",
              "      <td>member</td>\n",
              "      <td>-2.0</td>\n",
              "    </tr>\n",
              "    <tr>\n",
              "      <th>...</th>\n",
              "      <td>...</td>\n",
              "      <td>...</td>\n",
              "      <td>...</td>\n",
              "      <td>...</td>\n",
              "      <td>...</td>\n",
              "      <td>...</td>\n",
              "      <td>...</td>\n",
              "      <td>...</td>\n",
              "      <td>...</td>\n",
              "      <td>...</td>\n",
              "      <td>...</td>\n",
              "      <td>...</td>\n",
              "      <td>...</td>\n",
              "      <td>...</td>\n",
              "    </tr>\n",
              "    <tr>\n",
              "      <th>253875</th>\n",
              "      <td>7E24361D78747AF6</td>\n",
              "      <td>electric_bike</td>\n",
              "      <td>2021-11-07 01:58:06</td>\n",
              "      <td>2021-11-07 01:06:43</td>\n",
              "      <td>Wells St &amp; Walton St</td>\n",
              "      <td>TA1306000011</td>\n",
              "      <td>Clark St &amp; Randolph St</td>\n",
              "      <td>TA1305000030</td>\n",
              "      <td>41.899954</td>\n",
              "      <td>-87.634449</td>\n",
              "      <td>41.885264</td>\n",
              "      <td>-87.632307</td>\n",
              "      <td>member</td>\n",
              "      <td>-3083.0</td>\n",
              "    </tr>\n",
              "    <tr>\n",
              "      <th>260820</th>\n",
              "      <td>6F9E76F5EDAAC1B8</td>\n",
              "      <td>electric_bike</td>\n",
              "      <td>2021-11-07 01:55:42</td>\n",
              "      <td>2021-11-07 01:01:55</td>\n",
              "      <td>Milwaukee Ave &amp; Wabansia Ave</td>\n",
              "      <td>13243</td>\n",
              "      <td>Western Ave &amp; Division St</td>\n",
              "      <td>13241</td>\n",
              "      <td>41.912580</td>\n",
              "      <td>-87.681424</td>\n",
              "      <td>41.902906</td>\n",
              "      <td>-87.687367</td>\n",
              "      <td>member</td>\n",
              "      <td>-3227.0</td>\n",
              "    </tr>\n",
              "    <tr>\n",
              "      <th>280766</th>\n",
              "      <td>F2AF011E90AC8918</td>\n",
              "      <td>classic_bike</td>\n",
              "      <td>2021-11-07 01:53:03</td>\n",
              "      <td>2021-11-07 01:22:34</td>\n",
              "      <td>Orleans St &amp; Hubbard St</td>\n",
              "      <td>636</td>\n",
              "      <td>Broadway &amp; Belmont Ave</td>\n",
              "      <td>13277</td>\n",
              "      <td>41.890028</td>\n",
              "      <td>-87.636618</td>\n",
              "      <td>41.940106</td>\n",
              "      <td>-87.645451</td>\n",
              "      <td>casual</td>\n",
              "      <td>-1829.0</td>\n",
              "    </tr>\n",
              "    <tr>\n",
              "      <th>282673</th>\n",
              "      <td>7AECC76D1562B51C</td>\n",
              "      <td>classic_bike</td>\n",
              "      <td>2021-11-07 01:54:58</td>\n",
              "      <td>2021-11-07 01:01:29</td>\n",
              "      <td>Sheffield Ave &amp; Wrightwood Ave</td>\n",
              "      <td>TA1309000023</td>\n",
              "      <td>Southport Ave &amp; Wellington Ave</td>\n",
              "      <td>TA1307000006</td>\n",
              "      <td>41.928712</td>\n",
              "      <td>-87.653833</td>\n",
              "      <td>41.935733</td>\n",
              "      <td>-87.663576</td>\n",
              "      <td>casual</td>\n",
              "      <td>-3209.0</td>\n",
              "    </tr>\n",
              "    <tr>\n",
              "      <th>283250</th>\n",
              "      <td>36198116E86D6457</td>\n",
              "      <td>electric_bike</td>\n",
              "      <td>2021-11-07 01:57:36</td>\n",
              "      <td>2021-11-07 01:16:31</td>\n",
              "      <td>Wilton Ave &amp; Belmont Ave</td>\n",
              "      <td>TA1307000134</td>\n",
              "      <td>St. Clair St &amp; Erie St</td>\n",
              "      <td>13016</td>\n",
              "      <td>41.940031</td>\n",
              "      <td>-87.652953</td>\n",
              "      <td>41.895157</td>\n",
              "      <td>-87.623314</td>\n",
              "      <td>member</td>\n",
              "      <td>-2465.0</td>\n",
              "    </tr>\n",
              "  </tbody>\n",
              "</table>\n",
              "<p>116 rows × 14 columns</p>\n",
              "</div>\n",
              "      <button class=\"colab-df-convert\" onclick=\"convertToInteractive('df-473b5650-c462-40e1-a5a2-6fff751890b5')\"\n",
              "              title=\"Convert this dataframe to an interactive table.\"\n",
              "              style=\"display:none;\">\n",
              "        \n",
              "  <svg xmlns=\"http://www.w3.org/2000/svg\" height=\"24px\"viewBox=\"0 0 24 24\"\n",
              "       width=\"24px\">\n",
              "    <path d=\"M0 0h24v24H0V0z\" fill=\"none\"/>\n",
              "    <path d=\"M18.56 5.44l.94 2.06.94-2.06 2.06-.94-2.06-.94-.94-2.06-.94 2.06-2.06.94zm-11 1L8.5 8.5l.94-2.06 2.06-.94-2.06-.94L8.5 2.5l-.94 2.06-2.06.94zm10 10l.94 2.06.94-2.06 2.06-.94-2.06-.94-.94-2.06-.94 2.06-2.06.94z\"/><path d=\"M17.41 7.96l-1.37-1.37c-.4-.4-.92-.59-1.43-.59-.52 0-1.04.2-1.43.59L10.3 9.45l-7.72 7.72c-.78.78-.78 2.05 0 2.83L4 21.41c.39.39.9.59 1.41.59.51 0 1.02-.2 1.41-.59l7.78-7.78 2.81-2.81c.8-.78.8-2.07 0-2.86zM5.41 20L4 18.59l7.72-7.72 1.47 1.35L5.41 20z\"/>\n",
              "  </svg>\n",
              "      </button>\n",
              "      \n",
              "  <style>\n",
              "    .colab-df-container {\n",
              "      display:flex;\n",
              "      flex-wrap:wrap;\n",
              "      gap: 12px;\n",
              "    }\n",
              "\n",
              "    .colab-df-convert {\n",
              "      background-color: #E8F0FE;\n",
              "      border: none;\n",
              "      border-radius: 50%;\n",
              "      cursor: pointer;\n",
              "      display: none;\n",
              "      fill: #1967D2;\n",
              "      height: 32px;\n",
              "      padding: 0 0 0 0;\n",
              "      width: 32px;\n",
              "    }\n",
              "\n",
              "    .colab-df-convert:hover {\n",
              "      background-color: #E2EBFA;\n",
              "      box-shadow: 0px 1px 2px rgba(60, 64, 67, 0.3), 0px 1px 3px 1px rgba(60, 64, 67, 0.15);\n",
              "      fill: #174EA6;\n",
              "    }\n",
              "\n",
              "    [theme=dark] .colab-df-convert {\n",
              "      background-color: #3B4455;\n",
              "      fill: #D2E3FC;\n",
              "    }\n",
              "\n",
              "    [theme=dark] .colab-df-convert:hover {\n",
              "      background-color: #434B5C;\n",
              "      box-shadow: 0px 1px 3px 1px rgba(0, 0, 0, 0.15);\n",
              "      filter: drop-shadow(0px 1px 2px rgba(0, 0, 0, 0.3));\n",
              "      fill: #FFFFFF;\n",
              "    }\n",
              "  </style>\n",
              "\n",
              "      <script>\n",
              "        const buttonEl =\n",
              "          document.querySelector('#df-473b5650-c462-40e1-a5a2-6fff751890b5 button.colab-df-convert');\n",
              "        buttonEl.style.display =\n",
              "          google.colab.kernel.accessAllowed ? 'block' : 'none';\n",
              "\n",
              "        async function convertToInteractive(key) {\n",
              "          const element = document.querySelector('#df-473b5650-c462-40e1-a5a2-6fff751890b5');\n",
              "          const dataTable =\n",
              "            await google.colab.kernel.invokeFunction('convertToInteractive',\n",
              "                                                     [key], {});\n",
              "          if (!dataTable) return;\n",
              "\n",
              "          const docLinkHtml = 'Like what you see? Visit the ' +\n",
              "            '<a target=\"_blank\" href=https://colab.research.google.com/notebooks/data_table.ipynb>data table notebook</a>'\n",
              "            + ' to learn more about interactive tables.';\n",
              "          element.innerHTML = '';\n",
              "          dataTable['output_type'] = 'display_data';\n",
              "          await google.colab.output.renderOutput(dataTable, element);\n",
              "          const docLink = document.createElement('div');\n",
              "          docLink.innerHTML = docLinkHtml;\n",
              "          element.appendChild(docLink);\n",
              "        }\n",
              "      </script>\n",
              "    </div>\n",
              "  </div>\n",
              "  "
            ]
          },
          "metadata": {},
          "execution_count": 27
        }
      ],
      "source": [
        "data_clean[data_clean['ride_length'] < 0]"
      ]
    },
    {
      "cell_type": "code",
      "execution_count": null,
      "metadata": {
        "colab": {
          "base_uri": "https://localhost:8080/"
        },
        "id": "7zfASHaRxIn-",
        "outputId": "fc600e61-c059-4234-8bb6-4d0a741f9e2e"
      },
      "outputs": [
        {
          "output_type": "execute_result",
          "data": {
            "text/plain": [
              "4588302"
            ]
          },
          "metadata": {},
          "execution_count": 28
        }
      ],
      "source": [
        "len(data_clean)"
      ]
    },
    {
      "cell_type": "code",
      "execution_count": null,
      "metadata": {
        "id": "zdhS-AKMxMi5"
      },
      "outputs": [],
      "source": [
        "data_clean= data_clean[data_clean['ride_length'] > 0]"
      ]
    },
    {
      "cell_type": "code",
      "execution_count": null,
      "metadata": {
        "colab": {
          "base_uri": "https://localhost:8080/"
        },
        "id": "XrXUc7tWxR-c",
        "outputId": "5aff83a9-7def-40d6-f819-bef664df6fcf"
      },
      "outputs": [
        {
          "output_type": "execute_result",
          "data": {
            "text/plain": [
              "4588104"
            ]
          },
          "metadata": {},
          "execution_count": 30
        }
      ],
      "source": [
        "len(data_clean)"
      ]
    },
    {
      "cell_type": "code",
      "execution_count": null,
      "metadata": {
        "colab": {
          "base_uri": "https://localhost:8080/",
          "height": 113
        },
        "id": "d6bNFNwGxc8h",
        "outputId": "a5dda16c-5881-4b8a-c65a-eff7851c4e57"
      },
      "outputs": [
        {
          "output_type": "execute_result",
          "data": {
            "text/plain": [
              "Empty DataFrame\n",
              "Columns: [ride_id, rideable_type, started_at, ended_at, start_station_name, start_station_id, end_station_name, end_station_id, start_lat, start_lng, end_lat, end_lng, member_casual, ride_length]\n",
              "Index: []"
            ],
            "text/html": [
              "\n",
              "  <div id=\"df-999c6e6c-cda7-4035-ab85-0b3f93e03b3e\">\n",
              "    <div class=\"colab-df-container\">\n",
              "      <div>\n",
              "<style scoped>\n",
              "    .dataframe tbody tr th:only-of-type {\n",
              "        vertical-align: middle;\n",
              "    }\n",
              "\n",
              "    .dataframe tbody tr th {\n",
              "        vertical-align: top;\n",
              "    }\n",
              "\n",
              "    .dataframe thead th {\n",
              "        text-align: right;\n",
              "    }\n",
              "</style>\n",
              "<table border=\"1\" class=\"dataframe\">\n",
              "  <thead>\n",
              "    <tr style=\"text-align: right;\">\n",
              "      <th></th>\n",
              "      <th>ride_id</th>\n",
              "      <th>rideable_type</th>\n",
              "      <th>started_at</th>\n",
              "      <th>ended_at</th>\n",
              "      <th>start_station_name</th>\n",
              "      <th>start_station_id</th>\n",
              "      <th>end_station_name</th>\n",
              "      <th>end_station_id</th>\n",
              "      <th>start_lat</th>\n",
              "      <th>start_lng</th>\n",
              "      <th>end_lat</th>\n",
              "      <th>end_lng</th>\n",
              "      <th>member_casual</th>\n",
              "      <th>ride_length</th>\n",
              "    </tr>\n",
              "  </thead>\n",
              "  <tbody>\n",
              "  </tbody>\n",
              "</table>\n",
              "</div>\n",
              "      <button class=\"colab-df-convert\" onclick=\"convertToInteractive('df-999c6e6c-cda7-4035-ab85-0b3f93e03b3e')\"\n",
              "              title=\"Convert this dataframe to an interactive table.\"\n",
              "              style=\"display:none;\">\n",
              "        \n",
              "  <svg xmlns=\"http://www.w3.org/2000/svg\" height=\"24px\"viewBox=\"0 0 24 24\"\n",
              "       width=\"24px\">\n",
              "    <path d=\"M0 0h24v24H0V0z\" fill=\"none\"/>\n",
              "    <path d=\"M18.56 5.44l.94 2.06.94-2.06 2.06-.94-2.06-.94-.94-2.06-.94 2.06-2.06.94zm-11 1L8.5 8.5l.94-2.06 2.06-.94-2.06-.94L8.5 2.5l-.94 2.06-2.06.94zm10 10l.94 2.06.94-2.06 2.06-.94-2.06-.94-.94-2.06-.94 2.06-2.06.94z\"/><path d=\"M17.41 7.96l-1.37-1.37c-.4-.4-.92-.59-1.43-.59-.52 0-1.04.2-1.43.59L10.3 9.45l-7.72 7.72c-.78.78-.78 2.05 0 2.83L4 21.41c.39.39.9.59 1.41.59.51 0 1.02-.2 1.41-.59l7.78-7.78 2.81-2.81c.8-.78.8-2.07 0-2.86zM5.41 20L4 18.59l7.72-7.72 1.47 1.35L5.41 20z\"/>\n",
              "  </svg>\n",
              "      </button>\n",
              "      \n",
              "  <style>\n",
              "    .colab-df-container {\n",
              "      display:flex;\n",
              "      flex-wrap:wrap;\n",
              "      gap: 12px;\n",
              "    }\n",
              "\n",
              "    .colab-df-convert {\n",
              "      background-color: #E8F0FE;\n",
              "      border: none;\n",
              "      border-radius: 50%;\n",
              "      cursor: pointer;\n",
              "      display: none;\n",
              "      fill: #1967D2;\n",
              "      height: 32px;\n",
              "      padding: 0 0 0 0;\n",
              "      width: 32px;\n",
              "    }\n",
              "\n",
              "    .colab-df-convert:hover {\n",
              "      background-color: #E2EBFA;\n",
              "      box-shadow: 0px 1px 2px rgba(60, 64, 67, 0.3), 0px 1px 3px 1px rgba(60, 64, 67, 0.15);\n",
              "      fill: #174EA6;\n",
              "    }\n",
              "\n",
              "    [theme=dark] .colab-df-convert {\n",
              "      background-color: #3B4455;\n",
              "      fill: #D2E3FC;\n",
              "    }\n",
              "\n",
              "    [theme=dark] .colab-df-convert:hover {\n",
              "      background-color: #434B5C;\n",
              "      box-shadow: 0px 1px 3px 1px rgba(0, 0, 0, 0.15);\n",
              "      filter: drop-shadow(0px 1px 2px rgba(0, 0, 0, 0.3));\n",
              "      fill: #FFFFFF;\n",
              "    }\n",
              "  </style>\n",
              "\n",
              "      <script>\n",
              "        const buttonEl =\n",
              "          document.querySelector('#df-999c6e6c-cda7-4035-ab85-0b3f93e03b3e button.colab-df-convert');\n",
              "        buttonEl.style.display =\n",
              "          google.colab.kernel.accessAllowed ? 'block' : 'none';\n",
              "\n",
              "        async function convertToInteractive(key) {\n",
              "          const element = document.querySelector('#df-999c6e6c-cda7-4035-ab85-0b3f93e03b3e');\n",
              "          const dataTable =\n",
              "            await google.colab.kernel.invokeFunction('convertToInteractive',\n",
              "                                                     [key], {});\n",
              "          if (!dataTable) return;\n",
              "\n",
              "          const docLinkHtml = 'Like what you see? Visit the ' +\n",
              "            '<a target=\"_blank\" href=https://colab.research.google.com/notebooks/data_table.ipynb>data table notebook</a>'\n",
              "            + ' to learn more about interactive tables.';\n",
              "          element.innerHTML = '';\n",
              "          dataTable['output_type'] = 'display_data';\n",
              "          await google.colab.output.renderOutput(dataTable, element);\n",
              "          const docLink = document.createElement('div');\n",
              "          docLink.innerHTML = docLinkHtml;\n",
              "          element.appendChild(docLink);\n",
              "        }\n",
              "      </script>\n",
              "    </div>\n",
              "  </div>\n",
              "  "
            ]
          },
          "metadata": {},
          "execution_count": 31
        }
      ],
      "source": [
        "data_clean[data_clean['ride_length'] <= 0]"
      ]
    },
    {
      "cell_type": "code",
      "execution_count": null,
      "metadata": {
        "id": "Rvf_-B8fxsFs"
      },
      "outputs": [],
      "source": [
        "data_clean['weekday'] = data_clean['started_at'].dt.day_name()"
      ]
    },
    {
      "cell_type": "code",
      "execution_count": null,
      "metadata": {
        "colab": {
          "base_uri": "https://localhost:8080/",
          "height": 179
        },
        "id": "g9cgejpcnzVB",
        "outputId": "7b989aa4-68a0-42ae-a50b-c1537754d9a7"
      },
      "outputs": [
        {
          "output_type": "execute_result",
          "data": {
            "text/plain": [
              "            ride_id rideable_type          started_at            ended_at  \\\n",
              "9  B9F73448DFBE0D45  classic_bike 2021-01-24 19:15:38 2021-01-24 19:22:51   \n",
              "\n",
              "           start_station_name start_station_id        end_station_name  \\\n",
              "9  California Ave & Cortez St            17660  Wood St & Augusta Blvd   \n",
              "\n",
              "  end_station_id  start_lat  start_lng    end_lat  end_lng member_casual  \\\n",
              "9            657  41.900363 -87.696704  41.899181 -87.6722        member   \n",
              "\n",
              "   ride_length weekday  \n",
              "9        433.0  Sunday  "
            ],
            "text/html": [
              "\n",
              "  <div id=\"df-f499be82-4a49-4e49-878d-89b53f86c89e\">\n",
              "    <div class=\"colab-df-container\">\n",
              "      <div>\n",
              "<style scoped>\n",
              "    .dataframe tbody tr th:only-of-type {\n",
              "        vertical-align: middle;\n",
              "    }\n",
              "\n",
              "    .dataframe tbody tr th {\n",
              "        vertical-align: top;\n",
              "    }\n",
              "\n",
              "    .dataframe thead th {\n",
              "        text-align: right;\n",
              "    }\n",
              "</style>\n",
              "<table border=\"1\" class=\"dataframe\">\n",
              "  <thead>\n",
              "    <tr style=\"text-align: right;\">\n",
              "      <th></th>\n",
              "      <th>ride_id</th>\n",
              "      <th>rideable_type</th>\n",
              "      <th>started_at</th>\n",
              "      <th>ended_at</th>\n",
              "      <th>start_station_name</th>\n",
              "      <th>start_station_id</th>\n",
              "      <th>end_station_name</th>\n",
              "      <th>end_station_id</th>\n",
              "      <th>start_lat</th>\n",
              "      <th>start_lng</th>\n",
              "      <th>end_lat</th>\n",
              "      <th>end_lng</th>\n",
              "      <th>member_casual</th>\n",
              "      <th>ride_length</th>\n",
              "      <th>weekday</th>\n",
              "    </tr>\n",
              "  </thead>\n",
              "  <tbody>\n",
              "    <tr>\n",
              "      <th>9</th>\n",
              "      <td>B9F73448DFBE0D45</td>\n",
              "      <td>classic_bike</td>\n",
              "      <td>2021-01-24 19:15:38</td>\n",
              "      <td>2021-01-24 19:22:51</td>\n",
              "      <td>California Ave &amp; Cortez St</td>\n",
              "      <td>17660</td>\n",
              "      <td>Wood St &amp; Augusta Blvd</td>\n",
              "      <td>657</td>\n",
              "      <td>41.900363</td>\n",
              "      <td>-87.696704</td>\n",
              "      <td>41.899181</td>\n",
              "      <td>-87.6722</td>\n",
              "      <td>member</td>\n",
              "      <td>433.0</td>\n",
              "      <td>Sunday</td>\n",
              "    </tr>\n",
              "  </tbody>\n",
              "</table>\n",
              "</div>\n",
              "      <button class=\"colab-df-convert\" onclick=\"convertToInteractive('df-f499be82-4a49-4e49-878d-89b53f86c89e')\"\n",
              "              title=\"Convert this dataframe to an interactive table.\"\n",
              "              style=\"display:none;\">\n",
              "        \n",
              "  <svg xmlns=\"http://www.w3.org/2000/svg\" height=\"24px\"viewBox=\"0 0 24 24\"\n",
              "       width=\"24px\">\n",
              "    <path d=\"M0 0h24v24H0V0z\" fill=\"none\"/>\n",
              "    <path d=\"M18.56 5.44l.94 2.06.94-2.06 2.06-.94-2.06-.94-.94-2.06-.94 2.06-2.06.94zm-11 1L8.5 8.5l.94-2.06 2.06-.94-2.06-.94L8.5 2.5l-.94 2.06-2.06.94zm10 10l.94 2.06.94-2.06 2.06-.94-2.06-.94-.94-2.06-.94 2.06-2.06.94z\"/><path d=\"M17.41 7.96l-1.37-1.37c-.4-.4-.92-.59-1.43-.59-.52 0-1.04.2-1.43.59L10.3 9.45l-7.72 7.72c-.78.78-.78 2.05 0 2.83L4 21.41c.39.39.9.59 1.41.59.51 0 1.02-.2 1.41-.59l7.78-7.78 2.81-2.81c.8-.78.8-2.07 0-2.86zM5.41 20L4 18.59l7.72-7.72 1.47 1.35L5.41 20z\"/>\n",
              "  </svg>\n",
              "      </button>\n",
              "      \n",
              "  <style>\n",
              "    .colab-df-container {\n",
              "      display:flex;\n",
              "      flex-wrap:wrap;\n",
              "      gap: 12px;\n",
              "    }\n",
              "\n",
              "    .colab-df-convert {\n",
              "      background-color: #E8F0FE;\n",
              "      border: none;\n",
              "      border-radius: 50%;\n",
              "      cursor: pointer;\n",
              "      display: none;\n",
              "      fill: #1967D2;\n",
              "      height: 32px;\n",
              "      padding: 0 0 0 0;\n",
              "      width: 32px;\n",
              "    }\n",
              "\n",
              "    .colab-df-convert:hover {\n",
              "      background-color: #E2EBFA;\n",
              "      box-shadow: 0px 1px 2px rgba(60, 64, 67, 0.3), 0px 1px 3px 1px rgba(60, 64, 67, 0.15);\n",
              "      fill: #174EA6;\n",
              "    }\n",
              "\n",
              "    [theme=dark] .colab-df-convert {\n",
              "      background-color: #3B4455;\n",
              "      fill: #D2E3FC;\n",
              "    }\n",
              "\n",
              "    [theme=dark] .colab-df-convert:hover {\n",
              "      background-color: #434B5C;\n",
              "      box-shadow: 0px 1px 3px 1px rgba(0, 0, 0, 0.15);\n",
              "      filter: drop-shadow(0px 1px 2px rgba(0, 0, 0, 0.3));\n",
              "      fill: #FFFFFF;\n",
              "    }\n",
              "  </style>\n",
              "\n",
              "      <script>\n",
              "        const buttonEl =\n",
              "          document.querySelector('#df-f499be82-4a49-4e49-878d-89b53f86c89e button.colab-df-convert');\n",
              "        buttonEl.style.display =\n",
              "          google.colab.kernel.accessAllowed ? 'block' : 'none';\n",
              "\n",
              "        async function convertToInteractive(key) {\n",
              "          const element = document.querySelector('#df-f499be82-4a49-4e49-878d-89b53f86c89e');\n",
              "          const dataTable =\n",
              "            await google.colab.kernel.invokeFunction('convertToInteractive',\n",
              "                                                     [key], {});\n",
              "          if (!dataTable) return;\n",
              "\n",
              "          const docLinkHtml = 'Like what you see? Visit the ' +\n",
              "            '<a target=\"_blank\" href=https://colab.research.google.com/notebooks/data_table.ipynb>data table notebook</a>'\n",
              "            + ' to learn more about interactive tables.';\n",
              "          element.innerHTML = '';\n",
              "          dataTable['output_type'] = 'display_data';\n",
              "          await google.colab.output.renderOutput(dataTable, element);\n",
              "          const docLink = document.createElement('div');\n",
              "          docLink.innerHTML = docLinkHtml;\n",
              "          element.appendChild(docLink);\n",
              "        }\n",
              "      </script>\n",
              "    </div>\n",
              "  </div>\n",
              "  "
            ]
          },
          "metadata": {},
          "execution_count": 33
        }
      ],
      "source": [
        "data_clean.head(1)"
      ]
    },
    {
      "cell_type": "code",
      "execution_count": null,
      "metadata": {
        "id": "6Y8MCbWsm7xh"
      },
      "outputs": [],
      "source": [
        "data_clean = data_clean.replace(['Monday','Tuesday','Wednesday','Thursday','Friday','Saturday','Sunday'],[2,3,4,5,6,7,1])"
      ]
    },
    {
      "cell_type": "code",
      "execution_count": null,
      "metadata": {
        "colab": {
          "base_uri": "https://localhost:8080/"
        },
        "id": "r1SU5J_DxxbK",
        "outputId": "8f3368aa-bb16-4ee4-f244-e6240b75628e"
      },
      "outputs": [
        {
          "output_type": "execute_result",
          "data": {
            "text/plain": [
              "member_casual\n",
              "casual    1950.609075\n",
              "member     791.040519\n",
              "Name: ride_length, dtype: float64"
            ]
          },
          "metadata": {},
          "execution_count": 35
        }
      ],
      "source": [
        "data_clean.groupby('member_casual')['ride_length'].mean()"
      ]
    },
    {
      "cell_type": "code",
      "execution_count": null,
      "metadata": {
        "colab": {
          "base_uri": "https://localhost:8080/"
        },
        "id": "9GSa8RdKyW9-",
        "outputId": "26e9d7ae-4102-41b9-8daa-7d305ff1784d"
      },
      "outputs": [
        {
          "output_type": "execute_result",
          "data": {
            "text/plain": [
              "member_casual  weekday\n",
              "casual         1          2256.216325\n",
              "               2          1958.234503\n",
              "               3          1728.201268\n",
              "               4          1696.178115\n",
              "               5          1680.660153\n",
              "               6          1855.144152\n",
              "               7          2092.344349\n",
              "member         1           911.678926\n",
              "               2           763.512206\n",
              "               3           743.281099\n",
              "               4           747.488997\n",
              "               5           741.221713\n",
              "               6           767.556767\n",
              "               7           889.187392\n",
              "Name: ride_length, dtype: float64"
            ]
          },
          "metadata": {},
          "execution_count": 36
        }
      ],
      "source": [
        "data_clean.groupby(['member_casual','weekday'])['ride_length'].mean()"
      ]
    },
    {
      "cell_type": "code",
      "execution_count": null,
      "metadata": {
        "colab": {
          "base_uri": "https://localhost:8080/"
        },
        "id": "V94sTvAhydIt",
        "outputId": "31118881-1a04-4d8e-df57-3b4959325dda"
      },
      "outputs": [
        {
          "output_type": "stream",
          "name": "stdout",
          "text": [
            "Looking in indexes: https://pypi.org/simple, https://us-python.pkg.dev/colab-wheels/public/simple/\n",
            "Collecting haversine\n",
            "  Downloading haversine-2.7.0-py2.py3-none-any.whl (6.9 kB)\n",
            "Installing collected packages: haversine\n",
            "Successfully installed haversine-2.7.0\n"
          ]
        }
      ],
      "source": [
        "!pip install haversine"
      ]
    },
    {
      "cell_type": "code",
      "execution_count": null,
      "metadata": {
        "id": "DSZ52j-Yym2L"
      },
      "outputs": [],
      "source": [
        "from haversine import haversine, Unit"
      ]
    },
    {
      "cell_type": "code",
      "execution_count": null,
      "metadata": {
        "id": "JdeGywwoyrLr"
      },
      "outputs": [],
      "source": [
        "data_clean['distance']=data_clean.apply(lambda x: haversine((x['start_lat'],x['start_lng']),(x['end_lat'],x['end_lng']),unit=Unit.MILES),axis =1)"
      ]
    },
    {
      "cell_type": "code",
      "execution_count": null,
      "metadata": {
        "colab": {
          "base_uri": "https://localhost:8080/",
          "height": 444
        },
        "id": "Cl5z0N9Qz3i5",
        "outputId": "115940d9-4fdc-4ee1-d090-ed2db3b47721"
      },
      "outputs": [
        {
          "output_type": "execute_result",
          "data": {
            "text/plain": [
              "             ride_id  rideable_type          started_at            ended_at  \\\n",
              "9   B9F73448DFBE0D45   classic_bike 2021-01-24 19:15:38 2021-01-24 19:22:51   \n",
              "10  457C7F4B5D3DA135  electric_bike 2021-01-23 12:57:38 2021-01-23 13:02:10   \n",
              "11  57C750326F9FDABE  electric_bike 2021-01-09 15:28:04 2021-01-09 15:37:51   \n",
              "12  4D518C65E338D070  electric_bike 2021-01-09 15:28:57 2021-01-09 15:37:54   \n",
              "13  9D08A3AFF410474D   classic_bike 2021-01-24 15:56:59 2021-01-24 16:07:08   \n",
              "\n",
              "            start_station_name start_station_id            end_station_name  \\\n",
              "9   California Ave & Cortez St            17660      Wood St & Augusta Blvd   \n",
              "10  California Ave & Cortez St            17660  California Ave & North Ave   \n",
              "11  California Ave & Cortez St            17660      Wood St & Augusta Blvd   \n",
              "12  California Ave & Cortez St            17660      Wood St & Augusta Blvd   \n",
              "13  California Ave & Cortez St            17660      Wood St & Augusta Blvd   \n",
              "\n",
              "   end_station_id  start_lat  start_lng    end_lat    end_lng member_casual  \\\n",
              "9             657  41.900363 -87.696704  41.899181 -87.672200        member   \n",
              "10          13258  41.900406 -87.696733  41.910435 -87.696890        member   \n",
              "11            657  41.900374 -87.696688  41.899180 -87.672178        casual   \n",
              "12            657  41.900379 -87.696716  41.899149 -87.672177        casual   \n",
              "13            657  41.900363 -87.696704  41.899181 -87.672200        casual   \n",
              "\n",
              "    ride_length  weekday  distance  \n",
              "9         433.0        1  1.262816  \n",
              "10        272.0        7  0.693008  \n",
              "11        587.0        7  1.263194  \n",
              "12        537.0        7  1.264830  \n",
              "13        609.0        1  1.262816  "
            ],
            "text/html": [
              "\n",
              "  <div id=\"df-5a1b9169-0bf6-40c8-9cfc-18fecd44bae9\">\n",
              "    <div class=\"colab-df-container\">\n",
              "      <div>\n",
              "<style scoped>\n",
              "    .dataframe tbody tr th:only-of-type {\n",
              "        vertical-align: middle;\n",
              "    }\n",
              "\n",
              "    .dataframe tbody tr th {\n",
              "        vertical-align: top;\n",
              "    }\n",
              "\n",
              "    .dataframe thead th {\n",
              "        text-align: right;\n",
              "    }\n",
              "</style>\n",
              "<table border=\"1\" class=\"dataframe\">\n",
              "  <thead>\n",
              "    <tr style=\"text-align: right;\">\n",
              "      <th></th>\n",
              "      <th>ride_id</th>\n",
              "      <th>rideable_type</th>\n",
              "      <th>started_at</th>\n",
              "      <th>ended_at</th>\n",
              "      <th>start_station_name</th>\n",
              "      <th>start_station_id</th>\n",
              "      <th>end_station_name</th>\n",
              "      <th>end_station_id</th>\n",
              "      <th>start_lat</th>\n",
              "      <th>start_lng</th>\n",
              "      <th>end_lat</th>\n",
              "      <th>end_lng</th>\n",
              "      <th>member_casual</th>\n",
              "      <th>ride_length</th>\n",
              "      <th>weekday</th>\n",
              "      <th>distance</th>\n",
              "    </tr>\n",
              "  </thead>\n",
              "  <tbody>\n",
              "    <tr>\n",
              "      <th>9</th>\n",
              "      <td>B9F73448DFBE0D45</td>\n",
              "      <td>classic_bike</td>\n",
              "      <td>2021-01-24 19:15:38</td>\n",
              "      <td>2021-01-24 19:22:51</td>\n",
              "      <td>California Ave &amp; Cortez St</td>\n",
              "      <td>17660</td>\n",
              "      <td>Wood St &amp; Augusta Blvd</td>\n",
              "      <td>657</td>\n",
              "      <td>41.900363</td>\n",
              "      <td>-87.696704</td>\n",
              "      <td>41.899181</td>\n",
              "      <td>-87.672200</td>\n",
              "      <td>member</td>\n",
              "      <td>433.0</td>\n",
              "      <td>1</td>\n",
              "      <td>1.262816</td>\n",
              "    </tr>\n",
              "    <tr>\n",
              "      <th>10</th>\n",
              "      <td>457C7F4B5D3DA135</td>\n",
              "      <td>electric_bike</td>\n",
              "      <td>2021-01-23 12:57:38</td>\n",
              "      <td>2021-01-23 13:02:10</td>\n",
              "      <td>California Ave &amp; Cortez St</td>\n",
              "      <td>17660</td>\n",
              "      <td>California Ave &amp; North Ave</td>\n",
              "      <td>13258</td>\n",
              "      <td>41.900406</td>\n",
              "      <td>-87.696733</td>\n",
              "      <td>41.910435</td>\n",
              "      <td>-87.696890</td>\n",
              "      <td>member</td>\n",
              "      <td>272.0</td>\n",
              "      <td>7</td>\n",
              "      <td>0.693008</td>\n",
              "    </tr>\n",
              "    <tr>\n",
              "      <th>11</th>\n",
              "      <td>57C750326F9FDABE</td>\n",
              "      <td>electric_bike</td>\n",
              "      <td>2021-01-09 15:28:04</td>\n",
              "      <td>2021-01-09 15:37:51</td>\n",
              "      <td>California Ave &amp; Cortez St</td>\n",
              "      <td>17660</td>\n",
              "      <td>Wood St &amp; Augusta Blvd</td>\n",
              "      <td>657</td>\n",
              "      <td>41.900374</td>\n",
              "      <td>-87.696688</td>\n",
              "      <td>41.899180</td>\n",
              "      <td>-87.672178</td>\n",
              "      <td>casual</td>\n",
              "      <td>587.0</td>\n",
              "      <td>7</td>\n",
              "      <td>1.263194</td>\n",
              "    </tr>\n",
              "    <tr>\n",
              "      <th>12</th>\n",
              "      <td>4D518C65E338D070</td>\n",
              "      <td>electric_bike</td>\n",
              "      <td>2021-01-09 15:28:57</td>\n",
              "      <td>2021-01-09 15:37:54</td>\n",
              "      <td>California Ave &amp; Cortez St</td>\n",
              "      <td>17660</td>\n",
              "      <td>Wood St &amp; Augusta Blvd</td>\n",
              "      <td>657</td>\n",
              "      <td>41.900379</td>\n",
              "      <td>-87.696716</td>\n",
              "      <td>41.899149</td>\n",
              "      <td>-87.672177</td>\n",
              "      <td>casual</td>\n",
              "      <td>537.0</td>\n",
              "      <td>7</td>\n",
              "      <td>1.264830</td>\n",
              "    </tr>\n",
              "    <tr>\n",
              "      <th>13</th>\n",
              "      <td>9D08A3AFF410474D</td>\n",
              "      <td>classic_bike</td>\n",
              "      <td>2021-01-24 15:56:59</td>\n",
              "      <td>2021-01-24 16:07:08</td>\n",
              "      <td>California Ave &amp; Cortez St</td>\n",
              "      <td>17660</td>\n",
              "      <td>Wood St &amp; Augusta Blvd</td>\n",
              "      <td>657</td>\n",
              "      <td>41.900363</td>\n",
              "      <td>-87.696704</td>\n",
              "      <td>41.899181</td>\n",
              "      <td>-87.672200</td>\n",
              "      <td>casual</td>\n",
              "      <td>609.0</td>\n",
              "      <td>1</td>\n",
              "      <td>1.262816</td>\n",
              "    </tr>\n",
              "  </tbody>\n",
              "</table>\n",
              "</div>\n",
              "      <button class=\"colab-df-convert\" onclick=\"convertToInteractive('df-5a1b9169-0bf6-40c8-9cfc-18fecd44bae9')\"\n",
              "              title=\"Convert this dataframe to an interactive table.\"\n",
              "              style=\"display:none;\">\n",
              "        \n",
              "  <svg xmlns=\"http://www.w3.org/2000/svg\" height=\"24px\"viewBox=\"0 0 24 24\"\n",
              "       width=\"24px\">\n",
              "    <path d=\"M0 0h24v24H0V0z\" fill=\"none\"/>\n",
              "    <path d=\"M18.56 5.44l.94 2.06.94-2.06 2.06-.94-2.06-.94-.94-2.06-.94 2.06-2.06.94zm-11 1L8.5 8.5l.94-2.06 2.06-.94-2.06-.94L8.5 2.5l-.94 2.06-2.06.94zm10 10l.94 2.06.94-2.06 2.06-.94-2.06-.94-.94-2.06-.94 2.06-2.06.94z\"/><path d=\"M17.41 7.96l-1.37-1.37c-.4-.4-.92-.59-1.43-.59-.52 0-1.04.2-1.43.59L10.3 9.45l-7.72 7.72c-.78.78-.78 2.05 0 2.83L4 21.41c.39.39.9.59 1.41.59.51 0 1.02-.2 1.41-.59l7.78-7.78 2.81-2.81c.8-.78.8-2.07 0-2.86zM5.41 20L4 18.59l7.72-7.72 1.47 1.35L5.41 20z\"/>\n",
              "  </svg>\n",
              "      </button>\n",
              "      \n",
              "  <style>\n",
              "    .colab-df-container {\n",
              "      display:flex;\n",
              "      flex-wrap:wrap;\n",
              "      gap: 12px;\n",
              "    }\n",
              "\n",
              "    .colab-df-convert {\n",
              "      background-color: #E8F0FE;\n",
              "      border: none;\n",
              "      border-radius: 50%;\n",
              "      cursor: pointer;\n",
              "      display: none;\n",
              "      fill: #1967D2;\n",
              "      height: 32px;\n",
              "      padding: 0 0 0 0;\n",
              "      width: 32px;\n",
              "    }\n",
              "\n",
              "    .colab-df-convert:hover {\n",
              "      background-color: #E2EBFA;\n",
              "      box-shadow: 0px 1px 2px rgba(60, 64, 67, 0.3), 0px 1px 3px 1px rgba(60, 64, 67, 0.15);\n",
              "      fill: #174EA6;\n",
              "    }\n",
              "\n",
              "    [theme=dark] .colab-df-convert {\n",
              "      background-color: #3B4455;\n",
              "      fill: #D2E3FC;\n",
              "    }\n",
              "\n",
              "    [theme=dark] .colab-df-convert:hover {\n",
              "      background-color: #434B5C;\n",
              "      box-shadow: 0px 1px 3px 1px rgba(0, 0, 0, 0.15);\n",
              "      filter: drop-shadow(0px 1px 2px rgba(0, 0, 0, 0.3));\n",
              "      fill: #FFFFFF;\n",
              "    }\n",
              "  </style>\n",
              "\n",
              "      <script>\n",
              "        const buttonEl =\n",
              "          document.querySelector('#df-5a1b9169-0bf6-40c8-9cfc-18fecd44bae9 button.colab-df-convert');\n",
              "        buttonEl.style.display =\n",
              "          google.colab.kernel.accessAllowed ? 'block' : 'none';\n",
              "\n",
              "        async function convertToInteractive(key) {\n",
              "          const element = document.querySelector('#df-5a1b9169-0bf6-40c8-9cfc-18fecd44bae9');\n",
              "          const dataTable =\n",
              "            await google.colab.kernel.invokeFunction('convertToInteractive',\n",
              "                                                     [key], {});\n",
              "          if (!dataTable) return;\n",
              "\n",
              "          const docLinkHtml = 'Like what you see? Visit the ' +\n",
              "            '<a target=\"_blank\" href=https://colab.research.google.com/notebooks/data_table.ipynb>data table notebook</a>'\n",
              "            + ' to learn more about interactive tables.';\n",
              "          element.innerHTML = '';\n",
              "          dataTable['output_type'] = 'display_data';\n",
              "          await google.colab.output.renderOutput(dataTable, element);\n",
              "          const docLink = document.createElement('div');\n",
              "          docLink.innerHTML = docLinkHtml;\n",
              "          element.appendChild(docLink);\n",
              "        }\n",
              "      </script>\n",
              "    </div>\n",
              "  </div>\n",
              "  "
            ]
          },
          "metadata": {},
          "execution_count": 40
        }
      ],
      "source": [
        "data_clean.head()"
      ]
    },
    {
      "cell_type": "code",
      "execution_count": null,
      "metadata": {
        "id": "kL7As97q2bKI"
      },
      "outputs": [],
      "source": [
        "#distribution of casual and member\n",
        "member_number = len(data_clean[data_clean[\"member_casual\"]==\"member\"])\n",
        "casual_number = len(data_clean[data_clean[\"member_casual\"]==\"casual\"])"
      ]
    },
    {
      "cell_type": "code",
      "execution_count": null,
      "metadata": {
        "colab": {
          "base_uri": "https://localhost:8080/"
        },
        "id": "PjAgvRkFdl93",
        "outputId": "97990cec-c307-48f9-ecf1-b77506614016"
      },
      "outputs": [
        {
          "output_type": "execute_result",
          "data": {
            "text/plain": [
              "0.00027789256738731293"
            ]
          },
          "metadata": {},
          "execution_count": 42
        }
      ],
      "source": [
        "len(data_clean[data_clean['ride_length']>86400])/len(data_clean)"
      ]
    },
    {
      "cell_type": "code",
      "execution_count": null,
      "metadata": {
        "colab": {
          "base_uri": "https://localhost:8080/"
        },
        "id": "Eqyf6TixfELc",
        "outputId": "ba1add73-4f2a-4b7c-d1a4-a03d44774e15"
      },
      "outputs": [
        {
          "output_type": "execute_result",
          "data": {
            "text/plain": [
              "19.88515815610305"
            ]
          },
          "metadata": {},
          "execution_count": 43
        }
      ],
      "source": [
        " data_clean[data_clean['ride_length']<86400]['ride_length'].mean()/60"
      ]
    },
    {
      "cell_type": "code",
      "execution_count": null,
      "metadata": {
        "colab": {
          "base_uri": "https://localhost:8080/"
        },
        "id": "pnBLsdkBfYas",
        "outputId": "339df9be-936d-4e8f-80c1-0c556bdaa0bd"
      },
      "outputs": [
        {
          "output_type": "execute_result",
          "data": {
            "text/plain": [
              "21.811924784181006"
            ]
          },
          "metadata": {},
          "execution_count": 44
        }
      ],
      "source": [
        "data_clean['ride_length'].mean()/60"
      ]
    },
    {
      "cell_type": "code",
      "execution_count": null,
      "metadata": {
        "colab": {
          "base_uri": "https://localhost:8080/"
        },
        "id": "gL9nomDPf-OW",
        "outputId": "47596827-9589-4c73-b548-682b80e3107d"
      },
      "outputs": [
        {
          "output_type": "execute_result",
          "data": {
            "text/plain": [
              "member_casual\n",
              "casual    32.510151\n",
              "member    13.184009\n",
              "Name: ride_length, dtype: float64"
            ]
          },
          "metadata": {},
          "execution_count": 45
        }
      ],
      "source": [
        "data_clean.groupby('member_casual')['ride_length'].mean()/60"
      ]
    },
    {
      "cell_type": "code",
      "execution_count": null,
      "metadata": {
        "colab": {
          "base_uri": "https://localhost:8080/"
        },
        "id": "ceoXsipXgOfw",
        "outputId": "4599708a-c703-41b7-ba39-822bd2ecd9b9"
      },
      "outputs": [
        {
          "output_type": "execute_result",
          "data": {
            "text/plain": [
              "member_casual\n",
              "casual    28.210684\n",
              "member    13.174865\n",
              "Name: ride_length, dtype: float64"
            ]
          },
          "metadata": {},
          "execution_count": 46
        }
      ],
      "source": [
        "data_clean[data_clean['ride_length']<86400].groupby('member_casual')['ride_length'].mean()/60"
      ]
    },
    {
      "cell_type": "code",
      "execution_count": null,
      "metadata": {
        "colab": {
          "base_uri": "https://localhost:8080/"
        },
        "id": "zeV13xBih617",
        "outputId": "7747a545-3c27-49aa-8b65-3ece5f90de33"
      },
      "outputs": [
        {
          "output_type": "execute_result",
          "data": {
            "text/plain": [
              "1275"
            ]
          },
          "metadata": {},
          "execution_count": 47
        }
      ],
      "source": [
        "len(data_clean[data_clean['ride_length']> 86400])"
      ]
    },
    {
      "cell_type": "code",
      "execution_count": null,
      "metadata": {
        "colab": {
          "base_uri": "https://localhost:8080/"
        },
        "id": "0CqxSHDoiCsP",
        "outputId": "eaa52d59-40d3-4cf2-8071-c2ffb8f582d8"
      },
      "outputs": [
        {
          "output_type": "execute_result",
          "data": {
            "text/plain": [
              "member_casual\n",
              "casual    1259\n",
              "member      16\n",
              "Name: ride_id, dtype: int64"
            ]
          },
          "metadata": {},
          "execution_count": 48
        }
      ],
      "source": [
        "from pandas.core.base import value_counts\n",
        "data_clean[data_clean['ride_length'] > 86400].groupby('member_casual')['ride_id'].count()"
      ]
    },
    {
      "cell_type": "code",
      "execution_count": null,
      "metadata": {
        "colab": {
          "base_uri": "https://localhost:8080/"
        },
        "id": "7SBUUZC4j1H0",
        "outputId": "16c950a3-d573-42a4-f574-83f30e8a1842"
      },
      "outputs": [
        {
          "output_type": "execute_result",
          "data": {
            "text/plain": [
              "member_casual\n",
              "casual    22332\n",
              "member     2051\n",
              "Name: ride_id, dtype: int64"
            ]
          },
          "metadata": {},
          "execution_count": 49
        }
      ],
      "source": [
        "data_clean[data_clean['ride_length'] > 10000].groupby('member_casual')['ride_id'].count()"
      ]
    },
    {
      "cell_type": "code",
      "execution_count": null,
      "metadata": {
        "colab": {
          "base_uri": "https://localhost:8080/"
        },
        "id": "uFSCw_SzppVC",
        "outputId": "d21993d6-3df2-456d-b576-ccf5b4e918ca"
      },
      "outputs": [
        {
          "output_type": "execute_result",
          "data": {
            "text/plain": [
              "member_casual\n",
              "casual    112219\n",
              "member      7480\n",
              "Name: ride_id, dtype: int64"
            ]
          },
          "metadata": {},
          "execution_count": 50
        }
      ],
      "source": [
        "data_clean[data_clean['ride_length'] > 5000].groupby('member_casual')['ride_id'].count()"
      ]
    },
    {
      "cell_type": "code",
      "execution_count": null,
      "metadata": {
        "colab": {
          "base_uri": "https://localhost:8080/"
        },
        "id": "ca08Y8yFpvqH",
        "outputId": "8c9378c6-a770-40bb-926b-e57a6911ff48"
      },
      "outputs": [
        {
          "output_type": "execute_result",
          "data": {
            "text/plain": [
              "0.7315982811200443"
            ]
          },
          "metadata": {},
          "execution_count": 51
        }
      ],
      "source": [
        "data_clean['ride_length'].max()/len(data_clean)"
      ]
    },
    {
      "cell_type": "code",
      "execution_count": null,
      "metadata": {
        "colab": {
          "base_uri": "https://localhost:8080/"
        },
        "id": "xNvGT5PRqAgn",
        "outputId": "0683d362-8723-4bdd-8764-7e16eec962f5"
      },
      "outputs": [
        {
          "output_type": "execute_result",
          "data": {
            "text/plain": [
              "38.85010416666667"
            ]
          },
          "metadata": {},
          "execution_count": 52
        }
      ],
      "source": [
        "data_clean['ride_length'].max()/86400"
      ]
    },
    {
      "cell_type": "code",
      "execution_count": null,
      "metadata": {
        "colab": {
          "base_uri": "https://localhost:8080/"
        },
        "id": "9YXe90Z3qFJF",
        "outputId": "1d82b89e-c7bd-4728-cb9d-ceca45cc6d8a"
      },
      "outputs": [
        {
          "output_type": "execute_result",
          "data": {
            "text/plain": [
              "21.002486386806364"
            ]
          },
          "metadata": {},
          "execution_count": 53
        }
      ],
      "source": [
        "data_clean['distance'].max()"
      ]
    },
    {
      "cell_type": "code",
      "execution_count": null,
      "metadata": {
        "colab": {
          "base_uri": "https://localhost:8080/"
        },
        "id": "aniGtd9Wqce0",
        "outputId": "8d6fe872-13bb-409a-ff79-2b5c488b0c23"
      },
      "outputs": [
        {
          "output_type": "execute_result",
          "data": {
            "text/plain": [
              "member_casual\n",
              "casual    1435\n",
              "member     470\n",
              "Name: ride_id, dtype: int64"
            ]
          },
          "metadata": {},
          "execution_count": 54
        }
      ],
      "source": [
        "data_clean[data_clean['distance'] > 10].groupby('member_casual')['ride_id'].count()"
      ]
    },
    {
      "cell_type": "code",
      "execution_count": null,
      "metadata": {
        "colab": {
          "base_uri": "https://localhost:8080/"
        },
        "id": "z02JVucmqld2",
        "outputId": "dfc99d1d-1139-4ca2-a207-17f125c81fa5"
      },
      "outputs": [
        {
          "output_type": "execute_result",
          "data": {
            "text/plain": [
              "member_casual\n",
              "casual    38833\n",
              "member    35574\n",
              "Name: ride_id, dtype: int64"
            ]
          },
          "metadata": {},
          "execution_count": 55
        }
      ],
      "source": [
        "data_clean[data_clean['distance'] > 5].groupby('member_casual')['ride_id'].count()"
      ]
    },
    {
      "cell_type": "code",
      "execution_count": null,
      "metadata": {
        "colab": {
          "base_uri": "https://localhost:8080/"
        },
        "id": "yiQbiNO521-L",
        "outputId": "1689b387-df9f-49d0-f992-ddd60f2cb44c"
      },
      "outputs": [
        {
          "output_type": "execute_result",
          "data": {
            "text/plain": [
              "2048302"
            ]
          },
          "metadata": {},
          "execution_count": 56
        }
      ],
      "source": [
        "casual_number"
      ]
    },
    {
      "cell_type": "code",
      "execution_count": null,
      "metadata": {
        "id": "GRuJbjyx7ttT"
      },
      "outputs": [],
      "source": []
    },
    {
      "cell_type": "code",
      "execution_count": null,
      "metadata": {
        "colab": {
          "base_uri": "https://localhost:8080/"
        },
        "id": "RZgdd0Yw25Vk",
        "outputId": "563ba2a5-0ef3-46c0-d224-0b045ecbce4f"
      },
      "outputs": [
        {
          "output_type": "execute_result",
          "data": {
            "text/plain": [
              "0.19351902234898627"
            ]
          },
          "metadata": {},
          "execution_count": 57
        }
      ],
      "source": [
        "(member_number-casual_number)/member_number"
      ]
    },
    {
      "cell_type": "code",
      "execution_count": null,
      "metadata": {
        "id": "Vc8ZZ7dd3Cgu"
      },
      "outputs": [],
      "source": [
        "#member in each month\n",
        "#casual in each month"
      ]
    },
    {
      "cell_type": "code",
      "execution_count": null,
      "metadata": {
        "id": "_qnmWu-J0Csm"
      },
      "outputs": [],
      "source": [
        "mean_ride_length=list(data_clean.groupby(\"member_casual\")['ride_length'].mean())"
      ]
    },
    {
      "cell_type": "code",
      "execution_count": null,
      "metadata": {
        "colab": {
          "base_uri": "https://localhost:8080/"
        },
        "id": "xyfDO1-uw71B",
        "outputId": "c94a494a-14c8-48c8-dd34-b1935bd7b768"
      },
      "outputs": [
        {
          "output_type": "execute_result",
          "data": {
            "text/plain": [
              "member_casual\n",
              "casual    1950.609075\n",
              "member     791.040519\n",
              "Name: ride_length, dtype: float64"
            ]
          },
          "metadata": {},
          "execution_count": 60
        }
      ],
      "source": [
        "data_clean.groupby(\"member_casual\")['ride_length'].mean()"
      ]
    },
    {
      "cell_type": "code",
      "execution_count": null,
      "metadata": {
        "id": "3BIzcB2p10ox"
      },
      "outputs": [],
      "source": [
        "mean_ride_lengthes = data_clean.groupby(\"member_casual\")['ride_length'].mean()"
      ]
    },
    {
      "cell_type": "code",
      "execution_count": null,
      "metadata": {
        "colab": {
          "base_uri": "https://localhost:8080/"
        },
        "id": "a1CMk45I1_yG",
        "outputId": "bb72e8b4-485c-4f5d-8f95-214110a55598"
      },
      "outputs": [
        {
          "output_type": "execute_result",
          "data": {
            "text/plain": [
              "1.4658775727850957"
            ]
          },
          "metadata": {},
          "execution_count": 62
        }
      ],
      "source": [
        "(mean_ride_lengthes['casual']-mean_ride_lengthes['member'])/mean_ride_lengthes['member']"
      ]
    },
    {
      "cell_type": "code",
      "execution_count": null,
      "metadata": {
        "colab": {
          "base_uri": "https://localhost:8080/"
        },
        "id": "6af63cnWxBjs",
        "outputId": "d029378d-c8a6-40cf-f970-7886cdd8952a"
      },
      "outputs": [
        {
          "output_type": "execute_result",
          "data": {
            "text/plain": [
              "member_casual\n",
              "casual    1.355071\n",
              "member    1.296860\n",
              "Name: distance, dtype: float64"
            ]
          },
          "metadata": {},
          "execution_count": 63
        }
      ],
      "source": [
        "data_clean.groupby(\"member_casual\")['distance'].mean()"
      ]
    },
    {
      "cell_type": "code",
      "execution_count": null,
      "metadata": {
        "id": "vJckEqOB1BTj"
      },
      "outputs": [],
      "source": [
        "mean_distances = data_clean.groupby(\"member_casual\")['distance'].mean()"
      ]
    },
    {
      "cell_type": "code",
      "execution_count": null,
      "metadata": {
        "colab": {
          "base_uri": "https://localhost:8080/"
        },
        "id": "4wx0OiDf1SHx",
        "outputId": "d0f2d223-f3e5-46ba-948a-016eda857a36"
      },
      "outputs": [
        {
          "output_type": "execute_result",
          "data": {
            "text/plain": [
              "0.04488619164007495"
            ]
          },
          "metadata": {},
          "execution_count": 65
        }
      ],
      "source": [
        "(mean_distances['casual']-mean_distances['member'])/mean_distances['member']"
      ]
    },
    {
      "cell_type": "code",
      "execution_count": null,
      "metadata": {
        "id": "ymVonDtq0QpB"
      },
      "outputs": [],
      "source": [
        "mean_distance = list(data_clean.groupby(\"member_casual\")['distance'].mean())"
      ]
    },
    {
      "cell_type": "code",
      "execution_count": null,
      "metadata": {
        "colab": {
          "base_uri": "https://localhost:8080/"
        },
        "id": "w3oxuJXhwu-8",
        "outputId": "916efb3d-1003-484b-9ceb-35509f349fae"
      },
      "outputs": [
        {
          "output_type": "execute_result",
          "data": {
            "text/plain": [
              "[1950.6090747360497, 791.040518906592]"
            ]
          },
          "metadata": {},
          "execution_count": 67
        }
      ],
      "source": [
        "mean_ride_length"
      ]
    },
    {
      "cell_type": "code",
      "execution_count": null,
      "metadata": {
        "colab": {
          "base_uri": "https://localhost:8080/"
        },
        "id": "r2Qb5sC3wwsE",
        "outputId": "bd039b52-4bca-4926-f7dc-aedc5dcdff75"
      },
      "outputs": [
        {
          "output_type": "execute_result",
          "data": {
            "text/plain": [
              "[1.3550712814191137, 1.296860167414181]"
            ]
          },
          "metadata": {},
          "execution_count": 68
        }
      ],
      "source": [
        "mean_distance "
      ]
    },
    {
      "cell_type": "code",
      "execution_count": null,
      "metadata": {
        "id": "KW6NJT9MrfIE"
      },
      "outputs": [],
      "source": [
        "%matplotlib notebook\n",
        "%matplotlib inline"
      ]
    },
    {
      "cell_type": "code",
      "execution_count": null,
      "metadata": {
        "id": "Mr5cWxMm0UuO"
      },
      "outputs": [],
      "source": [
        "%matplotlib inline"
      ]
    },
    {
      "cell_type": "code",
      "execution_count": null,
      "metadata": {
        "colab": {
          "base_uri": "https://localhost:8080/",
          "height": 281
        },
        "id": "5Xsfg9Lnxx-V",
        "outputId": "cb42b72c-807e-45eb-b1c2-97fcd4f5c240"
      },
      "outputs": [
        {
          "output_type": "display_data",
          "data": {
            "text/plain": [
              "<Figure size 432x288 with 1 Axes>"
            ],
            "image/png": "[encoded data removed]"
          },
          "metadata": {
            "needs_background": "light"
          }
        }
      ],
      "source": [
        "import matplotlib.pyplot as plt\n",
        "fig, ax = plt.subplots()\n",
        "\n",
        "fruits = [\"casual\",\"member\"]\n",
        "counts = mean_ride_length\n",
        "bar_labels = ['red', 'blue']\n",
        "bar_colors = ['tab:red', 'tab:blue']\n",
        "ax.bar(fruits, counts, label=bar_labels, color=bar_colors)\n",
        "\n",
        "ax.set_ylabel('casual or member')\n",
        "ax.set_title('mean ride length of casual and member')\n",
        "ax.legend(title='mean_ride_length')\n",
        "plt.show()"
      ]
    },
    {
      "cell_type": "code",
      "execution_count": null,
      "metadata": {
        "id": "Y4gJ9mlKjGYR"
      },
      "outputs": [],
      "source": [
        "import numpy as np"
      ]
    },
    {
      "cell_type": "code",
      "execution_count": null,
      "metadata": {
        "colab": {
          "base_uri": "https://localhost:8080/",
          "height": 281
        },
        "id": "Vlbjg7fD2FSc",
        "outputId": "98f356f6-d8b5-4619-a26d-8aa79d1514c8"
      },
      "outputs": [
        {
          "output_type": "display_data",
          "data": {
            "text/plain": [
              "<Figure size 432x288 with 1 Axes>"
            ],
            "image/png": "[encoded data removed]"
          },
          "metadata": {
            "needs_background": "light"
          }
        }
      ],
      "source": [
        "fig, ax = plt.subplots()\n",
        "\n",
        "fruits = [\"casual\",\"member\"]\n",
        "counts = mean_distance \n",
        "bar_labels = ['red', 'blue']\n",
        "bar_colors = ['tab:red', 'tab:blue']\n",
        "ax.bar(fruits, counts, label=bar_labels, color=bar_colors)\n",
        "\n",
        "ax.set_ylabel('casual or member')\n",
        "ax.set_title('mean distance  of casual and member')\n",
        "ax.legend(title='mean_ride_length')\n",
        "plt.show()"
      ]
    },
    {
      "cell_type": "code",
      "execution_count": null,
      "metadata": {
        "colab": {
          "base_uri": "https://localhost:8080/"
        },
        "id": "a3XbChE-2yn3",
        "outputId": "55bc711e-2840-4420-942d-e09a972b5a48"
      },
      "outputs": [
        {
          "output_type": "execute_result",
          "data": {
            "text/plain": [
              "member_casual  weekday\n",
              "casual         1          2256.216325\n",
              "               2          1958.234503\n",
              "               3          1728.201268\n",
              "               4          1696.178115\n",
              "               5          1680.660153\n",
              "               6          1855.144152\n",
              "               7          2092.344349\n",
              "member         1           911.678926\n",
              "               2           763.512206\n",
              "               3           743.281099\n",
              "               4           747.488997\n",
              "               5           741.221713\n",
              "               6           767.556767\n",
              "               7           889.187392\n",
              "Name: ride_length, dtype: float64"
            ]
          },
          "metadata": {},
          "execution_count": 74
        }
      ],
      "source": [
        " data_clean.groupby(['member_casual','weekday'])['ride_length'].mean()"
      ]
    },
    {
      "cell_type": "code",
      "execution_count": null,
      "metadata": {
        "id": "p6eTxxLv4Hb4"
      },
      "outputs": [],
      "source": [
        "weekday_info = pd.DataFrame(data_clean.groupby(['member_casual','weekday'])['ride_length'].mean())"
      ]
    },
    {
      "cell_type": "code",
      "execution_count": null,
      "metadata": {
        "colab": {
          "base_uri": "https://localhost:8080/",
          "height": 520
        },
        "id": "OtYQYZAP4Oqw",
        "outputId": "5b901382-4609-4979-915c-2c22a1f2c67b"
      },
      "outputs": [
        {
          "output_type": "execute_result",
          "data": {
            "text/plain": [
              "                       ride_length\n",
              "member_casual weekday             \n",
              "casual        1        2256.216325\n",
              "              2        1958.234503\n",
              "              3        1728.201268\n",
              "              4        1696.178115\n",
              "              5        1680.660153\n",
              "              6        1855.144152\n",
              "              7        2092.344349\n",
              "member        1         911.678926\n",
              "              2         763.512206\n",
              "              3         743.281099\n",
              "              4         747.488997\n",
              "              5         741.221713\n",
              "              6         767.556767\n",
              "              7         889.187392"
            ],
            "text/html": [
              "\n",
              "  <div id=\"df-f0db5bb3-0a30-44ee-b21c-5de70d3ff192\">\n",
              "    <div class=\"colab-df-container\">\n",
              "      <div>\n",
              "<style scoped>\n",
              "    .dataframe tbody tr th:only-of-type {\n",
              "        vertical-align: middle;\n",
              "    }\n",
              "\n",
              "    .dataframe tbody tr th {\n",
              "        vertical-align: top;\n",
              "    }\n",
              "\n",
              "    .dataframe thead th {\n",
              "        text-align: right;\n",
              "    }\n",
              "</style>\n",
              "<table border=\"1\" class=\"dataframe\">\n",
              "  <thead>\n",
              "    <tr style=\"text-align: right;\">\n",
              "      <th></th>\n",
              "      <th></th>\n",
              "      <th>ride_length</th>\n",
              "    </tr>\n",
              "    <tr>\n",
              "      <th>member_casual</th>\n",
              "      <th>weekday</th>\n",
              "      <th></th>\n",
              "    </tr>\n",
              "  </thead>\n",
              "  <tbody>\n",
              "    <tr>\n",
              "      <th rowspan=\"7\" valign=\"top\">casual</th>\n",
              "      <th>1</th>\n",
              "      <td>2256.216325</td>\n",
              "    </tr>\n",
              "    <tr>\n",
              "      <th>2</th>\n",
              "      <td>1958.234503</td>\n",
              "    </tr>\n",
              "    <tr>\n",
              "      <th>3</th>\n",
              "      <td>1728.201268</td>\n",
              "    </tr>\n",
              "    <tr>\n",
              "      <th>4</th>\n",
              "      <td>1696.178115</td>\n",
              "    </tr>\n",
              "    <tr>\n",
              "      <th>5</th>\n",
              "      <td>1680.660153</td>\n",
              "    </tr>\n",
              "    <tr>\n",
              "      <th>6</th>\n",
              "      <td>1855.144152</td>\n",
              "    </tr>\n",
              "    <tr>\n",
              "      <th>7</th>\n",
              "      <td>2092.344349</td>\n",
              "    </tr>\n",
              "    <tr>\n",
              "      <th rowspan=\"7\" valign=\"top\">member</th>\n",
              "      <th>1</th>\n",
              "      <td>911.678926</td>\n",
              "    </tr>\n",
              "    <tr>\n",
              "      <th>2</th>\n",
              "      <td>763.512206</td>\n",
              "    </tr>\n",
              "    <tr>\n",
              "      <th>3</th>\n",
              "      <td>743.281099</td>\n",
              "    </tr>\n",
              "    <tr>\n",
              "      <th>4</th>\n",
              "      <td>747.488997</td>\n",
              "    </tr>\n",
              "    <tr>\n",
              "      <th>5</th>\n",
              "      <td>741.221713</td>\n",
              "    </tr>\n",
              "    <tr>\n",
              "      <th>6</th>\n",
              "      <td>767.556767</td>\n",
              "    </tr>\n",
              "    <tr>\n",
              "      <th>7</th>\n",
              "      <td>889.187392</td>\n",
              "    </tr>\n",
              "  </tbody>\n",
              "</table>\n",
              "</div>\n",
              "      <button class=\"colab-df-convert\" onclick=\"convertToInteractive('df-f0db5bb3-0a30-44ee-b21c-5de70d3ff192')\"\n",
              "              title=\"Convert this dataframe to an interactive table.\"\n",
              "              style=\"display:none;\">\n",
              "        \n",
              "  <svg xmlns=\"http://www.w3.org/2000/svg\" height=\"24px\"viewBox=\"0 0 24 24\"\n",
              "       width=\"24px\">\n",
              "    <path d=\"M0 0h24v24H0V0z\" fill=\"none\"/>\n",
              "    <path d=\"M18.56 5.44l.94 2.06.94-2.06 2.06-.94-2.06-.94-.94-2.06-.94 2.06-2.06.94zm-11 1L8.5 8.5l.94-2.06 2.06-.94-2.06-.94L8.5 2.5l-.94 2.06-2.06.94zm10 10l.94 2.06.94-2.06 2.06-.94-2.06-.94-.94-2.06-.94 2.06-2.06.94z\"/><path d=\"M17.41 7.96l-1.37-1.37c-.4-.4-.92-.59-1.43-.59-.52 0-1.04.2-1.43.59L10.3 9.45l-7.72 7.72c-.78.78-.78 2.05 0 2.83L4 21.41c.39.39.9.59 1.41.59.51 0 1.02-.2 1.41-.59l7.78-7.78 2.81-2.81c.8-.78.8-2.07 0-2.86zM5.41 20L4 18.59l7.72-7.72 1.47 1.35L5.41 20z\"/>\n",
              "  </svg>\n",
              "      </button>\n",
              "      \n",
              "  <style>\n",
              "    .colab-df-container {\n",
              "      display:flex;\n",
              "      flex-wrap:wrap;\n",
              "      gap: 12px;\n",
              "    }\n",
              "\n",
              "    .colab-df-convert {\n",
              "      background-color: #E8F0FE;\n",
              "      border: none;\n",
              "      border-radius: 50%;\n",
              "      cursor: pointer;\n",
              "      display: none;\n",
              "      fill: #1967D2;\n",
              "      height: 32px;\n",
              "      padding: 0 0 0 0;\n",
              "      width: 32px;\n",
              "    }\n",
              "\n",
              "    .colab-df-convert:hover {\n",
              "      background-color: #E2EBFA;\n",
              "      box-shadow: 0px 1px 2px rgba(60, 64, 67, 0.3), 0px 1px 3px 1px rgba(60, 64, 67, 0.15);\n",
              "      fill: #174EA6;\n",
              "    }\n",
              "\n",
              "    [theme=dark] .colab-df-convert {\n",
              "      background-color: #3B4455;\n",
              "      fill: #D2E3FC;\n",
              "    }\n",
              "\n",
              "    [theme=dark] .colab-df-convert:hover {\n",
              "      background-color: #434B5C;\n",
              "      box-shadow: 0px 1px 3px 1px rgba(0, 0, 0, 0.15);\n",
              "      filter: drop-shadow(0px 1px 2px rgba(0, 0, 0, 0.3));\n",
              "      fill: #FFFFFF;\n",
              "    }\n",
              "  </style>\n",
              "\n",
              "      <script>\n",
              "        const buttonEl =\n",
              "          document.querySelector('#df-f0db5bb3-0a30-44ee-b21c-5de70d3ff192 button.colab-df-convert');\n",
              "        buttonEl.style.display =\n",
              "          google.colab.kernel.accessAllowed ? 'block' : 'none';\n",
              "\n",
              "        async function convertToInteractive(key) {\n",
              "          const element = document.querySelector('#df-f0db5bb3-0a30-44ee-b21c-5de70d3ff192');\n",
              "          const dataTable =\n",
              "            await google.colab.kernel.invokeFunction('convertToInteractive',\n",
              "                                                     [key], {});\n",
              "          if (!dataTable) return;\n",
              "\n",
              "          const docLinkHtml = 'Like what you see? Visit the ' +\n",
              "            '<a target=\"_blank\" href=https://colab.research.google.com/notebooks/data_table.ipynb>data table notebook</a>'\n",
              "            + ' to learn more about interactive tables.';\n",
              "          element.innerHTML = '';\n",
              "          dataTable['output_type'] = 'display_data';\n",
              "          await google.colab.output.renderOutput(dataTable, element);\n",
              "          const docLink = document.createElement('div');\n",
              "          docLink.innerHTML = docLinkHtml;\n",
              "          element.appendChild(docLink);\n",
              "        }\n",
              "      </script>\n",
              "    </div>\n",
              "  </div>\n",
              "  "
            ]
          },
          "metadata": {},
          "execution_count": 76
        }
      ],
      "source": [
        "weekday_info "
      ]
    },
    {
      "cell_type": "code",
      "execution_count": null,
      "metadata": {
        "id": "ilwHPfZscVEP"
      },
      "outputs": [],
      "source": [
        "#casual = pd.DataFrame(weekday_info.loc[\"casual\",:]).rename(index={'Friday': 5,'Monday':1,'Saturday':6,'Sunday':7,'Thursday':4,'Tuesday':2,'Wednesday':3}).sort_index()\n",
        "casual = pd.DataFrame(weekday_info.loc[\"casual\",:]).sort_index()"
      ]
    },
    {
      "cell_type": "code",
      "execution_count": null,
      "metadata": {
        "colab": {
          "base_uri": "https://localhost:8080/"
        },
        "id": "fnk0LDqmZXNp",
        "outputId": "8ddf7f67-62bf-40de-f743-bcfdc1086dd6"
      },
      "outputs": [
        {
          "output_type": "execute_result",
          "data": {
            "text/plain": [
              "Int64Index([1, 2, 3, 4, 5, 6, 7], dtype='int64', name='weekday')"
            ]
          },
          "metadata": {},
          "execution_count": 78
        }
      ],
      "source": [
        "pd.DataFrame(weekday_info.loc[\"casual\",:]).index"
      ]
    },
    {
      "cell_type": "code",
      "execution_count": null,
      "metadata": {
        "colab": {
          "base_uri": "https://localhost:8080/",
          "height": 300
        },
        "id": "Fr2ng-nNY5cE",
        "outputId": "7136f169-aacd-4278-bc1c-498eba5bfb31"
      },
      "outputs": [
        {
          "output_type": "execute_result",
          "data": {
            "text/plain": [
              "         ride_length\n",
              "weekday             \n",
              "1        2256.216325\n",
              "2        1958.234503\n",
              "3        1728.201268\n",
              "4        1696.178115\n",
              "5        1680.660153\n",
              "6        1855.144152\n",
              "7        2092.344349"
            ],
            "text/html": [
              "\n",
              "  <div id=\"df-4c8a0862-649a-47e6-a369-f5176cbe3dbc\">\n",
              "    <div class=\"colab-df-container\">\n",
              "      <div>\n",
              "<style scoped>\n",
              "    .dataframe tbody tr th:only-of-type {\n",
              "        vertical-align: middle;\n",
              "    }\n",
              "\n",
              "    .dataframe tbody tr th {\n",
              "        vertical-align: top;\n",
              "    }\n",
              "\n",
              "    .dataframe thead th {\n",
              "        text-align: right;\n",
              "    }\n",
              "</style>\n",
              "<table border=\"1\" class=\"dataframe\">\n",
              "  <thead>\n",
              "    <tr style=\"text-align: right;\">\n",
              "      <th></th>\n",
              "      <th>ride_length</th>\n",
              "    </tr>\n",
              "    <tr>\n",
              "      <th>weekday</th>\n",
              "      <th></th>\n",
              "    </tr>\n",
              "  </thead>\n",
              "  <tbody>\n",
              "    <tr>\n",
              "      <th>1</th>\n",
              "      <td>2256.216325</td>\n",
              "    </tr>\n",
              "    <tr>\n",
              "      <th>2</th>\n",
              "      <td>1958.234503</td>\n",
              "    </tr>\n",
              "    <tr>\n",
              "      <th>3</th>\n",
              "      <td>1728.201268</td>\n",
              "    </tr>\n",
              "    <tr>\n",
              "      <th>4</th>\n",
              "      <td>1696.178115</td>\n",
              "    </tr>\n",
              "    <tr>\n",
              "      <th>5</th>\n",
              "      <td>1680.660153</td>\n",
              "    </tr>\n",
              "    <tr>\n",
              "      <th>6</th>\n",
              "      <td>1855.144152</td>\n",
              "    </tr>\n",
              "    <tr>\n",
              "      <th>7</th>\n",
              "      <td>2092.344349</td>\n",
              "    </tr>\n",
              "  </tbody>\n",
              "</table>\n",
              "</div>\n",
              "      <button class=\"colab-df-convert\" onclick=\"convertToInteractive('df-4c8a0862-649a-47e6-a369-f5176cbe3dbc')\"\n",
              "              title=\"Convert this dataframe to an interactive table.\"\n",
              "              style=\"display:none;\">\n",
              "        \n",
              "  <svg xmlns=\"http://www.w3.org/2000/svg\" height=\"24px\"viewBox=\"0 0 24 24\"\n",
              "       width=\"24px\">\n",
              "    <path d=\"M0 0h24v24H0V0z\" fill=\"none\"/>\n",
              "    <path d=\"M18.56 5.44l.94 2.06.94-2.06 2.06-.94-2.06-.94-.94-2.06-.94 2.06-2.06.94zm-11 1L8.5 8.5l.94-2.06 2.06-.94-2.06-.94L8.5 2.5l-.94 2.06-2.06.94zm10 10l.94 2.06.94-2.06 2.06-.94-2.06-.94-.94-2.06-.94 2.06-2.06.94z\"/><path d=\"M17.41 7.96l-1.37-1.37c-.4-.4-.92-.59-1.43-.59-.52 0-1.04.2-1.43.59L10.3 9.45l-7.72 7.72c-.78.78-.78 2.05 0 2.83L4 21.41c.39.39.9.59 1.41.59.51 0 1.02-.2 1.41-.59l7.78-7.78 2.81-2.81c.8-.78.8-2.07 0-2.86zM5.41 20L4 18.59l7.72-7.72 1.47 1.35L5.41 20z\"/>\n",
              "  </svg>\n",
              "      </button>\n",
              "      \n",
              "  <style>\n",
              "    .colab-df-container {\n",
              "      display:flex;\n",
              "      flex-wrap:wrap;\n",
              "      gap: 12px;\n",
              "    }\n",
              "\n",
              "    .colab-df-convert {\n",
              "      background-color: #E8F0FE;\n",
              "      border: none;\n",
              "      border-radius: 50%;\n",
              "      cursor: pointer;\n",
              "      display: none;\n",
              "      fill: #1967D2;\n",
              "      height: 32px;\n",
              "      padding: 0 0 0 0;\n",
              "      width: 32px;\n",
              "    }\n",
              "\n",
              "    .colab-df-convert:hover {\n",
              "      background-color: #E2EBFA;\n",
              "      box-shadow: 0px 1px 2px rgba(60, 64, 67, 0.3), 0px 1px 3px 1px rgba(60, 64, 67, 0.15);\n",
              "      fill: #174EA6;\n",
              "    }\n",
              "\n",
              "    [theme=dark] .colab-df-convert {\n",
              "      background-color: #3B4455;\n",
              "      fill: #D2E3FC;\n",
              "    }\n",
              "\n",
              "    [theme=dark] .colab-df-convert:hover {\n",
              "      background-color: #434B5C;\n",
              "      box-shadow: 0px 1px 3px 1px rgba(0, 0, 0, 0.15);\n",
              "      filter: drop-shadow(0px 1px 2px rgba(0, 0, 0, 0.3));\n",
              "      fill: #FFFFFF;\n",
              "    }\n",
              "  </style>\n",
              "\n",
              "      <script>\n",
              "        const buttonEl =\n",
              "          document.querySelector('#df-4c8a0862-649a-47e6-a369-f5176cbe3dbc button.colab-df-convert');\n",
              "        buttonEl.style.display =\n",
              "          google.colab.kernel.accessAllowed ? 'block' : 'none';\n",
              "\n",
              "        async function convertToInteractive(key) {\n",
              "          const element = document.querySelector('#df-4c8a0862-649a-47e6-a369-f5176cbe3dbc');\n",
              "          const dataTable =\n",
              "            await google.colab.kernel.invokeFunction('convertToInteractive',\n",
              "                                                     [key], {});\n",
              "          if (!dataTable) return;\n",
              "\n",
              "          const docLinkHtml = 'Like what you see? Visit the ' +\n",
              "            '<a target=\"_blank\" href=https://colab.research.google.com/notebooks/data_table.ipynb>data table notebook</a>'\n",
              "            + ' to learn more about interactive tables.';\n",
              "          element.innerHTML = '';\n",
              "          dataTable['output_type'] = 'display_data';\n",
              "          await google.colab.output.renderOutput(dataTable, element);\n",
              "          const docLink = document.createElement('div');\n",
              "          docLink.innerHTML = docLinkHtml;\n",
              "          element.appendChild(docLink);\n",
              "        }\n",
              "      </script>\n",
              "    </div>\n",
              "  </div>\n",
              "  "
            ]
          },
          "metadata": {},
          "execution_count": 79
        }
      ],
      "source": [
        "casual"
      ]
    },
    {
      "cell_type": "code",
      "execution_count": null,
      "metadata": {
        "id": "Mq2GVEXjc78S"
      },
      "outputs": [],
      "source": [
        "#member = pd.DataFrame(weekday_info.loc[\"member\",:]).rename(index={'Friday': 5,'Monday':1,'Saturday':6,'Sunday':7,'Thursday':4,'Tuesday':2,'Wednesday':3}).sort_index()\n",
        "member = pd.DataFrame(weekday_info.loc[\"member\",:]).sort_index()"
      ]
    },
    {
      "cell_type": "code",
      "execution_count": null,
      "metadata": {
        "colab": {
          "base_uri": "https://localhost:8080/",
          "height": 350
        },
        "id": "RqvUo8c1eYzy",
        "outputId": "c9d1a745-b7c9-4d5d-f23c-c3772fc2dc1e"
      },
      "outputs": [
        {
          "output_type": "display_data",
          "data": {
            "text/plain": [
              "<Figure size 576x360 with 1 Axes>"
            ],
            "image/png": "[encoded data removed]"
          },
          "metadata": {
            "needs_background": "light"
          }
        }
      ],
      "source": [
        "fig, ax = plt.subplots()\n",
        "\n",
        " \n",
        "fig.set_figwidth(8)\n",
        "fig.set_figheight(5) \n",
        "\n",
        "fruits = list(casual.index)\n",
        "counts_1 = list(casual[\"ride_length\"].values)\n",
        "counts_2 = list(member[\"ride_length\"].values)\n",
        "\n",
        "\n",
        " \n",
        "#ax.bar(fruits, counts)\n",
        "\n",
        "X_axis = np.arange(1,8)\n",
        "ax.bar(X_axis - 0.2, counts_1, 0.4, label = 'Casual')\n",
        "ax.bar(X_axis + 0.2, counts_2, 0.4, label = 'Member')\n",
        "  \n",
        "\n",
        "ax.set_ylabel('mean_ride_length_weekday')\n",
        "ax.set_xlabel('weekday')\n",
        "ax.set_title('mean distance of weekday')\n",
        "ax.legend(title='mean_ride_length',loc=0)\n",
        "plt.show()"
      ]
    },
    {
      "cell_type": "code",
      "execution_count": null,
      "metadata": {
        "colab": {
          "base_uri": "https://localhost:8080/"
        },
        "id": "Zw19ffRj3JMA",
        "outputId": "e87c9109-c52d-4426-8a46-fce93c3adcbe"
      },
      "outputs": [
        {
          "output_type": "stream",
          "name": "stdout",
          "text": [
            "<class 'pandas.core.frame.DataFrame'>\n",
            "Int64Index: 4588104 entries, 9 to 247539\n",
            "Data columns (total 16 columns):\n",
            " #   Column              Dtype         \n",
            "---  ------              -----         \n",
            " 0   ride_id             object        \n",
            " 1   rideable_type       object        \n",
            " 2   started_at          datetime64[ns]\n",
            " 3   ended_at            datetime64[ns]\n",
            " 4   start_station_name  object        \n",
            " 5   start_station_id    object        \n",
            " 6   end_station_name    object        \n",
            " 7   end_station_id      object        \n",
            " 8   start_lat           float64       \n",
            " 9   start_lng           float64       \n",
            " 10  end_lat             float64       \n",
            " 11  end_lng             float64       \n",
            " 12  member_casual       object        \n",
            " 13  ride_length         float64       \n",
            " 14  weekday             int64         \n",
            " 15  distance            float64       \n",
            "dtypes: datetime64[ns](2), float64(6), int64(1), object(7)\n",
            "memory usage: 595.1+ MB\n"
          ]
        }
      ],
      "source": [
        "data_clean.info()"
      ]
    },
    {
      "cell_type": "code",
      "execution_count": null,
      "metadata": {
        "colab": {
          "base_uri": "https://localhost:8080/",
          "height": 444
        },
        "id": "Agr3RcxU5pG_",
        "outputId": "d3e141b4-e258-4855-c698-4bdc92a50646"
      },
      "outputs": [
        {
          "output_type": "execute_result",
          "data": {
            "text/plain": [
              "             ride_id  rideable_type          started_at            ended_at  \\\n",
              "9   B9F73448DFBE0D45   classic_bike 2021-01-24 19:15:38 2021-01-24 19:22:51   \n",
              "10  457C7F4B5D3DA135  electric_bike 2021-01-23 12:57:38 2021-01-23 13:02:10   \n",
              "11  57C750326F9FDABE  electric_bike 2021-01-09 15:28:04 2021-01-09 15:37:51   \n",
              "12  4D518C65E338D070  electric_bike 2021-01-09 15:28:57 2021-01-09 15:37:54   \n",
              "13  9D08A3AFF410474D   classic_bike 2021-01-24 15:56:59 2021-01-24 16:07:08   \n",
              "\n",
              "            start_station_name start_station_id            end_station_name  \\\n",
              "9   California Ave & Cortez St            17660      Wood St & Augusta Blvd   \n",
              "10  California Ave & Cortez St            17660  California Ave & North Ave   \n",
              "11  California Ave & Cortez St            17660      Wood St & Augusta Blvd   \n",
              "12  California Ave & Cortez St            17660      Wood St & Augusta Blvd   \n",
              "13  California Ave & Cortez St            17660      Wood St & Augusta Blvd   \n",
              "\n",
              "   end_station_id  start_lat  start_lng    end_lat    end_lng member_casual  \\\n",
              "9             657  41.900363 -87.696704  41.899181 -87.672200        member   \n",
              "10          13258  41.900406 -87.696733  41.910435 -87.696890        member   \n",
              "11            657  41.900374 -87.696688  41.899180 -87.672178        casual   \n",
              "12            657  41.900379 -87.696716  41.899149 -87.672177        casual   \n",
              "13            657  41.900363 -87.696704  41.899181 -87.672200        casual   \n",
              "\n",
              "    ride_length  weekday  distance  \n",
              "9         433.0        1  1.262816  \n",
              "10        272.0        7  0.693008  \n",
              "11        587.0        7  1.263194  \n",
              "12        537.0        7  1.264830  \n",
              "13        609.0        1  1.262816  "
            ],
            "text/html": [
              "\n",
              "  <div id=\"df-97edb080-27a1-48d1-b504-a9ef8a88f56a\">\n",
              "    <div class=\"colab-df-container\">\n",
              "      <div>\n",
              "<style scoped>\n",
              "    .dataframe tbody tr th:only-of-type {\n",
              "        vertical-align: middle;\n",
              "    }\n",
              "\n",
              "    .dataframe tbody tr th {\n",
              "        vertical-align: top;\n",
              "    }\n",
              "\n",
              "    .dataframe thead th {\n",
              "        text-align: right;\n",
              "    }\n",
              "</style>\n",
              "<table border=\"1\" class=\"dataframe\">\n",
              "  <thead>\n",
              "    <tr style=\"text-align: right;\">\n",
              "      <th></th>\n",
              "      <th>ride_id</th>\n",
              "      <th>rideable_type</th>\n",
              "      <th>started_at</th>\n",
              "      <th>ended_at</th>\n",
              "      <th>start_station_name</th>\n",
              "      <th>start_station_id</th>\n",
              "      <th>end_station_name</th>\n",
              "      <th>end_station_id</th>\n",
              "      <th>start_lat</th>\n",
              "      <th>start_lng</th>\n",
              "      <th>end_lat</th>\n",
              "      <th>end_lng</th>\n",
              "      <th>member_casual</th>\n",
              "      <th>ride_length</th>\n",
              "      <th>weekday</th>\n",
              "      <th>distance</th>\n",
              "    </tr>\n",
              "  </thead>\n",
              "  <tbody>\n",
              "    <tr>\n",
              "      <th>9</th>\n",
              "      <td>B9F73448DFBE0D45</td>\n",
              "      <td>classic_bike</td>\n",
              "      <td>2021-01-24 19:15:38</td>\n",
              "      <td>2021-01-24 19:22:51</td>\n",
              "      <td>California Ave &amp; Cortez St</td>\n",
              "      <td>17660</td>\n",
              "      <td>Wood St &amp; Augusta Blvd</td>\n",
              "      <td>657</td>\n",
              "      <td>41.900363</td>\n",
              "      <td>-87.696704</td>\n",
              "      <td>41.899181</td>\n",
              "      <td>-87.672200</td>\n",
              "      <td>member</td>\n",
              "      <td>433.0</td>\n",
              "      <td>1</td>\n",
              "      <td>1.262816</td>\n",
              "    </tr>\n",
              "    <tr>\n",
              "      <th>10</th>\n",
              "      <td>457C7F4B5D3DA135</td>\n",
              "      <td>electric_bike</td>\n",
              "      <td>2021-01-23 12:57:38</td>\n",
              "      <td>2021-01-23 13:02:10</td>\n",
              "      <td>California Ave &amp; Cortez St</td>\n",
              "      <td>17660</td>\n",
              "      <td>California Ave &amp; North Ave</td>\n",
              "      <td>13258</td>\n",
              "      <td>41.900406</td>\n",
              "      <td>-87.696733</td>\n",
              "      <td>41.910435</td>\n",
              "      <td>-87.696890</td>\n",
              "      <td>member</td>\n",
              "      <td>272.0</td>\n",
              "      <td>7</td>\n",
              "      <td>0.693008</td>\n",
              "    </tr>\n",
              "    <tr>\n",
              "      <th>11</th>\n",
              "      <td>57C750326F9FDABE</td>\n",
              "      <td>electric_bike</td>\n",
              "      <td>2021-01-09 15:28:04</td>\n",
              "      <td>2021-01-09 15:37:51</td>\n",
              "      <td>California Ave &amp; Cortez St</td>\n",
              "      <td>17660</td>\n",
              "      <td>Wood St &amp; Augusta Blvd</td>\n",
              "      <td>657</td>\n",
              "      <td>41.900374</td>\n",
              "      <td>-87.696688</td>\n",
              "      <td>41.899180</td>\n",
              "      <td>-87.672178</td>\n",
              "      <td>casual</td>\n",
              "      <td>587.0</td>\n",
              "      <td>7</td>\n",
              "      <td>1.263194</td>\n",
              "    </tr>\n",
              "    <tr>\n",
              "      <th>12</th>\n",
              "      <td>4D518C65E338D070</td>\n",
              "      <td>electric_bike</td>\n",
              "      <td>2021-01-09 15:28:57</td>\n",
              "      <td>2021-01-09 15:37:54</td>\n",
              "      <td>California Ave &amp; Cortez St</td>\n",
              "      <td>17660</td>\n",
              "      <td>Wood St &amp; Augusta Blvd</td>\n",
              "      <td>657</td>\n",
              "      <td>41.900379</td>\n",
              "      <td>-87.696716</td>\n",
              "      <td>41.899149</td>\n",
              "      <td>-87.672177</td>\n",
              "      <td>casual</td>\n",
              "      <td>537.0</td>\n",
              "      <td>7</td>\n",
              "      <td>1.264830</td>\n",
              "    </tr>\n",
              "    <tr>\n",
              "      <th>13</th>\n",
              "      <td>9D08A3AFF410474D</td>\n",
              "      <td>classic_bike</td>\n",
              "      <td>2021-01-24 15:56:59</td>\n",
              "      <td>2021-01-24 16:07:08</td>\n",
              "      <td>California Ave &amp; Cortez St</td>\n",
              "      <td>17660</td>\n",
              "      <td>Wood St &amp; Augusta Blvd</td>\n",
              "      <td>657</td>\n",
              "      <td>41.900363</td>\n",
              "      <td>-87.696704</td>\n",
              "      <td>41.899181</td>\n",
              "      <td>-87.672200</td>\n",
              "      <td>casual</td>\n",
              "      <td>609.0</td>\n",
              "      <td>1</td>\n",
              "      <td>1.262816</td>\n",
              "    </tr>\n",
              "  </tbody>\n",
              "</table>\n",
              "</div>\n",
              "      <button class=\"colab-df-convert\" onclick=\"convertToInteractive('df-97edb080-27a1-48d1-b504-a9ef8a88f56a')\"\n",
              "              title=\"Convert this dataframe to an interactive table.\"\n",
              "              style=\"display:none;\">\n",
              "        \n",
              "  <svg xmlns=\"http://www.w3.org/2000/svg\" height=\"24px\"viewBox=\"0 0 24 24\"\n",
              "       width=\"24px\">\n",
              "    <path d=\"M0 0h24v24H0V0z\" fill=\"none\"/>\n",
              "    <path d=\"M18.56 5.44l.94 2.06.94-2.06 2.06-.94-2.06-.94-.94-2.06-.94 2.06-2.06.94zm-11 1L8.5 8.5l.94-2.06 2.06-.94-2.06-.94L8.5 2.5l-.94 2.06-2.06.94zm10 10l.94 2.06.94-2.06 2.06-.94-2.06-.94-.94-2.06-.94 2.06-2.06.94z\"/><path d=\"M17.41 7.96l-1.37-1.37c-.4-.4-.92-.59-1.43-.59-.52 0-1.04.2-1.43.59L10.3 9.45l-7.72 7.72c-.78.78-.78 2.05 0 2.83L4 21.41c.39.39.9.59 1.41.59.51 0 1.02-.2 1.41-.59l7.78-7.78 2.81-2.81c.8-.78.8-2.07 0-2.86zM5.41 20L4 18.59l7.72-7.72 1.47 1.35L5.41 20z\"/>\n",
              "  </svg>\n",
              "      </button>\n",
              "      \n",
              "  <style>\n",
              "    .colab-df-container {\n",
              "      display:flex;\n",
              "      flex-wrap:wrap;\n",
              "      gap: 12px;\n",
              "    }\n",
              "\n",
              "    .colab-df-convert {\n",
              "      background-color: #E8F0FE;\n",
              "      border: none;\n",
              "      border-radius: 50%;\n",
              "      cursor: pointer;\n",
              "      display: none;\n",
              "      fill: #1967D2;\n",
              "      height: 32px;\n",
              "      padding: 0 0 0 0;\n",
              "      width: 32px;\n",
              "    }\n",
              "\n",
              "    .colab-df-convert:hover {\n",
              "      background-color: #E2EBFA;\n",
              "      box-shadow: 0px 1px 2px rgba(60, 64, 67, 0.3), 0px 1px 3px 1px rgba(60, 64, 67, 0.15);\n",
              "      fill: #174EA6;\n",
              "    }\n",
              "\n",
              "    [theme=dark] .colab-df-convert {\n",
              "      background-color: #3B4455;\n",
              "      fill: #D2E3FC;\n",
              "    }\n",
              "\n",
              "    [theme=dark] .colab-df-convert:hover {\n",
              "      background-color: #434B5C;\n",
              "      box-shadow: 0px 1px 3px 1px rgba(0, 0, 0, 0.15);\n",
              "      filter: drop-shadow(0px 1px 2px rgba(0, 0, 0, 0.3));\n",
              "      fill: #FFFFFF;\n",
              "    }\n",
              "  </style>\n",
              "\n",
              "      <script>\n",
              "        const buttonEl =\n",
              "          document.querySelector('#df-97edb080-27a1-48d1-b504-a9ef8a88f56a button.colab-df-convert');\n",
              "        buttonEl.style.display =\n",
              "          google.colab.kernel.accessAllowed ? 'block' : 'none';\n",
              "\n",
              "        async function convertToInteractive(key) {\n",
              "          const element = document.querySelector('#df-97edb080-27a1-48d1-b504-a9ef8a88f56a');\n",
              "          const dataTable =\n",
              "            await google.colab.kernel.invokeFunction('convertToInteractive',\n",
              "                                                     [key], {});\n",
              "          if (!dataTable) return;\n",
              "\n",
              "          const docLinkHtml = 'Like what you see? Visit the ' +\n",
              "            '<a target=\"_blank\" href=https://colab.research.google.com/notebooks/data_table.ipynb>data table notebook</a>'\n",
              "            + ' to learn more about interactive tables.';\n",
              "          element.innerHTML = '';\n",
              "          dataTable['output_type'] = 'display_data';\n",
              "          await google.colab.output.renderOutput(dataTable, element);\n",
              "          const docLink = document.createElement('div');\n",
              "          docLink.innerHTML = docLinkHtml;\n",
              "          element.appendChild(docLink);\n",
              "        }\n",
              "      </script>\n",
              "    </div>\n",
              "  </div>\n",
              "  "
            ]
          },
          "metadata": {},
          "execution_count": 83
        }
      ],
      "source": [
        "data_clean.head()"
      ]
    },
    {
      "cell_type": "code",
      "execution_count": null,
      "metadata": {
        "id": "UF5TJSoQ3h_X"
      },
      "outputs": [],
      "source": [
        "data_clean[\"Month\"] = data_clean.apply(lambda x:x[\"started_at\"].month,axis=1)"
      ]
    },
    {
      "cell_type": "code",
      "execution_count": null,
      "metadata": {
        "colab": {
          "base_uri": "https://localhost:8080/"
        },
        "id": "evKMn95a6hcH",
        "outputId": "207b321c-aad5-4be2-bfc2-ec51036f3e25"
      },
      "outputs": [
        {
          "output_type": "execute_result",
          "data": {
            "text/plain": [
              "array([ 1,  2,  3,  4,  5,  6,  7,  8,  9, 10, 11, 12])"
            ]
          },
          "metadata": {},
          "execution_count": 85
        }
      ],
      "source": [
        "data_clean[\"Month\"].unique()"
      ]
    },
    {
      "cell_type": "code",
      "execution_count": null,
      "metadata": {
        "id": "31jDRCVq7GDa"
      },
      "outputs": [],
      "source": [
        " data_month_counts= data_clean.groupby(['member_casual'])[\"Month\"].apply(lambda x: x.value_counts()).sort_index()"
      ]
    },
    {
      "cell_type": "code",
      "execution_count": null,
      "metadata": {
        "colab": {
          "base_uri": "https://localhost:8080/"
        },
        "id": "BFuKok3sMzAw",
        "outputId": "9db46aeb-8221-46f8-eba3-f176b3c542dc"
      },
      "outputs": [
        {
          "output_type": "execute_result",
          "data": {
            "text/plain": [
              "2       8613\n",
              "1      14690\n",
              "12     45076\n",
              "11     69958\n",
              "3      75641\n",
              "4     120418\n",
              "10    189115\n",
              "5     216823\n",
              "9     292920\n",
              "6     304184\n",
              "8     341463\n",
              "7     369401\n",
              "Name: Month, dtype: int64"
            ]
          },
          "metadata": {},
          "execution_count": 87
        }
      ],
      "source": [
        "data_month_counts[\"casual\"].sort_values()"
      ]
    },
    {
      "cell_type": "code",
      "execution_count": null,
      "metadata": {
        "colab": {
          "base_uri": "https://localhost:8080/"
        },
        "id": "PpA6Gy-i4t1J",
        "outputId": "ba89b7b6-66f7-482b-8048-72b486bbc4fc"
      },
      "outputs": [
        {
          "output_type": "execute_result",
          "data": {
            "text/plain": [
              "2      34381\n",
              "1      68818\n",
              "3     130046\n",
              "12    131293\n",
              "4     177781\n",
              "11    185909\n",
              "5     234155\n",
              "10    288851\n",
              "6     304579\n",
              "7     322892\n",
              "9     328183\n",
              "8     332914\n",
              "Name: Month, dtype: int64"
            ]
          },
          "metadata": {},
          "execution_count": 88
        }
      ],
      "source": [
        "data_month_counts[\"member\"].sort_values()"
      ]
    },
    {
      "cell_type": "code",
      "execution_count": null,
      "metadata": {
        "colab": {
          "base_uri": "https://localhost:8080/",
          "height": 350
        },
        "id": "IG_CZ00BOLeO",
        "outputId": "968274a7-028e-49d2-c6fd-1f8e08c9949f"
      },
      "outputs": [
        {
          "output_type": "display_data",
          "data": {
            "text/plain": [
              "<Figure size 576x360 with 1 Axes>"
            ],
            "image/png": "[encoded data removed]"
          },
          "metadata": {
            "needs_background": "light"
          }
        }
      ],
      "source": [
        "fig, ax = plt.subplots()\n",
        "\n",
        " \n",
        "fig.set_figwidth(8)\n",
        "fig.set_figheight(5) \n",
        "\n",
        "fruits =list(pd.DataFrame(data_month_counts[\"casual\"]).index),\n",
        "counts_1 = list(data_month_counts[\"casual\"].values)\n",
        "counts_2 = list(data_month_counts[\"member\"].values)\n",
        "\n",
        "\n",
        " \n",
        "#ax.bar(fruits, counts)\n",
        "\n",
        "X_axis = np.arange(1,13)\n",
        "ax.bar(X_axis - 0.2, counts_1, 0.4, label = 'Casual')\n",
        "ax.bar(X_axis + 0.2, counts_2, 0.4, label = 'Member')\n",
        "  \n",
        "\n",
        "ax.set_ylabel('Counts of Clients Each Month')\n",
        "ax.set_xlabel('Month')\n",
        "ax.set_title('Counts Each Month')\n",
        "ax.legend(title='Count',loc=0)\n",
        "plt.show()"
      ]
    },
    {
      "cell_type": "code",
      "execution_count": null,
      "metadata": {
        "colab": {
          "base_uri": "https://localhost:8080/"
        },
        "id": "Ft3qdGdtNRWr",
        "outputId": "fb79903e-47a2-4dab-b27c-86ac43077c76"
      },
      "outputs": [
        {
          "output_type": "execute_result",
          "data": {
            "text/plain": [
              "Int64Index([1, 2, 3, 4, 5, 6, 7, 8, 9, 10, 11, 12], dtype='int64')"
            ]
          },
          "metadata": {},
          "execution_count": 90
        }
      ],
      "source": [
        "    pd.DataFrame(data_month_counts[\"casual\"]).index"
      ]
    },
    {
      "cell_type": "code",
      "execution_count": null,
      "metadata": {
        "id": "qnEoGUKuTwv1"
      },
      "outputs": [],
      "source": [
        "data_month_ride_length = pd.DataFrame(data_clean.groupby(['member_casual','Month'])[\"ride_length\"].mean())\n",
        "                         "
      ]
    },
    {
      "cell_type": "code",
      "execution_count": null,
      "metadata": {
        "colab": {
          "base_uri": "https://localhost:8080/",
          "height": 833
        },
        "id": "FCvh4IunUWZs",
        "outputId": "91f56ad3-f217-4e62-91f4-126e4b5c3833"
      },
      "outputs": [
        {
          "output_type": "execute_result",
          "data": {
            "text/plain": [
              "                     ride_length\n",
              "member_casual Month             \n",
              "casual        1      1582.200204\n",
              "              2      2828.227099\n",
              "              3      2308.828982\n",
              "              4      2306.503197\n",
              "              5      2378.124687\n",
              "              6      2311.217605\n",
              "              7      1997.148944\n",
              "              8      1713.873172\n",
              "              9      1685.310382\n",
              "              10     1578.857325\n",
              "              11     1348.964364\n",
              "              12     1490.584502\n",
              "member        1       721.867971\n",
              "              2       886.872022\n",
              "              3       819.917967\n",
              "              4       855.786321\n",
              "              5       860.643680\n",
              "              6       848.403061\n",
              "              7       827.486447\n",
              "              8       813.175829\n",
              "              9       787.882188\n",
              "              10      720.877705\n",
              "              11      657.094132\n",
              "              12      634.885234"
            ],
            "text/html": [
              "\n",
              "  <div id=\"df-517e969c-d58f-4b50-91d3-e354a98286bc\">\n",
              "    <div class=\"colab-df-container\">\n",
              "      <div>\n",
              "<style scoped>\n",
              "    .dataframe tbody tr th:only-of-type {\n",
              "        vertical-align: middle;\n",
              "    }\n",
              "\n",
              "    .dataframe tbody tr th {\n",
              "        vertical-align: top;\n",
              "    }\n",
              "\n",
              "    .dataframe thead th {\n",
              "        text-align: right;\n",
              "    }\n",
              "</style>\n",
              "<table border=\"1\" class=\"dataframe\">\n",
              "  <thead>\n",
              "    <tr style=\"text-align: right;\">\n",
              "      <th></th>\n",
              "      <th></th>\n",
              "      <th>ride_length</th>\n",
              "    </tr>\n",
              "    <tr>\n",
              "      <th>member_casual</th>\n",
              "      <th>Month</th>\n",
              "      <th></th>\n",
              "    </tr>\n",
              "  </thead>\n",
              "  <tbody>\n",
              "    <tr>\n",
              "      <th rowspan=\"12\" valign=\"top\">casual</th>\n",
              "      <th>1</th>\n",
              "      <td>1582.200204</td>\n",
              "    </tr>\n",
              "    <tr>\n",
              "      <th>2</th>\n",
              "      <td>2828.227099</td>\n",
              "    </tr>\n",
              "    <tr>\n",
              "      <th>3</th>\n",
              "      <td>2308.828982</td>\n",
              "    </tr>\n",
              "    <tr>\n",
              "      <th>4</th>\n",
              "      <td>2306.503197</td>\n",
              "    </tr>\n",
              "    <tr>\n",
              "      <th>5</th>\n",
              "      <td>2378.124687</td>\n",
              "    </tr>\n",
              "    <tr>\n",
              "      <th>6</th>\n",
              "      <td>2311.217605</td>\n",
              "    </tr>\n",
              "    <tr>\n",
              "      <th>7</th>\n",
              "      <td>1997.148944</td>\n",
              "    </tr>\n",
              "    <tr>\n",
              "      <th>8</th>\n",
              "      <td>1713.873172</td>\n",
              "    </tr>\n",
              "    <tr>\n",
              "      <th>9</th>\n",
              "      <td>1685.310382</td>\n",
              "    </tr>\n",
              "    <tr>\n",
              "      <th>10</th>\n",
              "      <td>1578.857325</td>\n",
              "    </tr>\n",
              "    <tr>\n",
              "      <th>11</th>\n",
              "      <td>1348.964364</td>\n",
              "    </tr>\n",
              "    <tr>\n",
              "      <th>12</th>\n",
              "      <td>1490.584502</td>\n",
              "    </tr>\n",
              "    <tr>\n",
              "      <th rowspan=\"12\" valign=\"top\">member</th>\n",
              "      <th>1</th>\n",
              "      <td>721.867971</td>\n",
              "    </tr>\n",
              "    <tr>\n",
              "      <th>2</th>\n",
              "      <td>886.872022</td>\n",
              "    </tr>\n",
              "    <tr>\n",
              "      <th>3</th>\n",
              "      <td>819.917967</td>\n",
              "    </tr>\n",
              "    <tr>\n",
              "      <th>4</th>\n",
              "      <td>855.786321</td>\n",
              "    </tr>\n",
              "    <tr>\n",
              "      <th>5</th>\n",
              "      <td>860.643680</td>\n",
              "    </tr>\n",
              "    <tr>\n",
              "      <th>6</th>\n",
              "      <td>848.403061</td>\n",
              "    </tr>\n",
              "    <tr>\n",
              "      <th>7</th>\n",
              "      <td>827.486447</td>\n",
              "    </tr>\n",
              "    <tr>\n",
              "      <th>8</th>\n",
              "      <td>813.175829</td>\n",
              "    </tr>\n",
              "    <tr>\n",
              "      <th>9</th>\n",
              "      <td>787.882188</td>\n",
              "    </tr>\n",
              "    <tr>\n",
              "      <th>10</th>\n",
              "      <td>720.877705</td>\n",
              "    </tr>\n",
              "    <tr>\n",
              "      <th>11</th>\n",
              "      <td>657.094132</td>\n",
              "    </tr>\n",
              "    <tr>\n",
              "      <th>12</th>\n",
              "      <td>634.885234</td>\n",
              "    </tr>\n",
              "  </tbody>\n",
              "</table>\n",
              "</div>\n",
              "      <button class=\"colab-df-convert\" onclick=\"convertToInteractive('df-517e969c-d58f-4b50-91d3-e354a98286bc')\"\n",
              "              title=\"Convert this dataframe to an interactive table.\"\n",
              "              style=\"display:none;\">\n",
              "        \n",
              "  <svg xmlns=\"http://www.w3.org/2000/svg\" height=\"24px\"viewBox=\"0 0 24 24\"\n",
              "       width=\"24px\">\n",
              "    <path d=\"M0 0h24v24H0V0z\" fill=\"none\"/>\n",
              "    <path d=\"M18.56 5.44l.94 2.06.94-2.06 2.06-.94-2.06-.94-.94-2.06-.94 2.06-2.06.94zm-11 1L8.5 8.5l.94-2.06 2.06-.94-2.06-.94L8.5 2.5l-.94 2.06-2.06.94zm10 10l.94 2.06.94-2.06 2.06-.94-2.06-.94-.94-2.06-.94 2.06-2.06.94z\"/><path d=\"M17.41 7.96l-1.37-1.37c-.4-.4-.92-.59-1.43-.59-.52 0-1.04.2-1.43.59L10.3 9.45l-7.72 7.72c-.78.78-.78 2.05 0 2.83L4 21.41c.39.39.9.59 1.41.59.51 0 1.02-.2 1.41-.59l7.78-7.78 2.81-2.81c.8-.78.8-2.07 0-2.86zM5.41 20L4 18.59l7.72-7.72 1.47 1.35L5.41 20z\"/>\n",
              "  </svg>\n",
              "      </button>\n",
              "      \n",
              "  <style>\n",
              "    .colab-df-container {\n",
              "      display:flex;\n",
              "      flex-wrap:wrap;\n",
              "      gap: 12px;\n",
              "    }\n",
              "\n",
              "    .colab-df-convert {\n",
              "      background-color: #E8F0FE;\n",
              "      border: none;\n",
              "      border-radius: 50%;\n",
              "      cursor: pointer;\n",
              "      display: none;\n",
              "      fill: #1967D2;\n",
              "      height: 32px;\n",
              "      padding: 0 0 0 0;\n",
              "      width: 32px;\n",
              "    }\n",
              "\n",
              "    .colab-df-convert:hover {\n",
              "      background-color: #E2EBFA;\n",
              "      box-shadow: 0px 1px 2px rgba(60, 64, 67, 0.3), 0px 1px 3px 1px rgba(60, 64, 67, 0.15);\n",
              "      fill: #174EA6;\n",
              "    }\n",
              "\n",
              "    [theme=dark] .colab-df-convert {\n",
              "      background-color: #3B4455;\n",
              "      fill: #D2E3FC;\n",
              "    }\n",
              "\n",
              "    [theme=dark] .colab-df-convert:hover {\n",
              "      background-color: #434B5C;\n",
              "      box-shadow: 0px 1px 3px 1px rgba(0, 0, 0, 0.15);\n",
              "      filter: drop-shadow(0px 1px 2px rgba(0, 0, 0, 0.3));\n",
              "      fill: #FFFFFF;\n",
              "    }\n",
              "  </style>\n",
              "\n",
              "      <script>\n",
              "        const buttonEl =\n",
              "          document.querySelector('#df-517e969c-d58f-4b50-91d3-e354a98286bc button.colab-df-convert');\n",
              "        buttonEl.style.display =\n",
              "          google.colab.kernel.accessAllowed ? 'block' : 'none';\n",
              "\n",
              "        async function convertToInteractive(key) {\n",
              "          const element = document.querySelector('#df-517e969c-d58f-4b50-91d3-e354a98286bc');\n",
              "          const dataTable =\n",
              "            await google.colab.kernel.invokeFunction('convertToInteractive',\n",
              "                                                     [key], {});\n",
              "          if (!dataTable) return;\n",
              "\n",
              "          const docLinkHtml = 'Like what you see? Visit the ' +\n",
              "            '<a target=\"_blank\" href=https://colab.research.google.com/notebooks/data_table.ipynb>data table notebook</a>'\n",
              "            + ' to learn more about interactive tables.';\n",
              "          element.innerHTML = '';\n",
              "          dataTable['output_type'] = 'display_data';\n",
              "          await google.colab.output.renderOutput(dataTable, element);\n",
              "          const docLink = document.createElement('div');\n",
              "          docLink.innerHTML = docLinkHtml;\n",
              "          element.appendChild(docLink);\n",
              "        }\n",
              "      </script>\n",
              "    </div>\n",
              "  </div>\n",
              "  "
            ]
          },
          "metadata": {},
          "execution_count": 92
        }
      ],
      "source": [
        "data_month_ride_length"
      ]
    },
    {
      "cell_type": "code",
      "execution_count": null,
      "metadata": {
        "colab": {
          "base_uri": "https://localhost:8080/"
        },
        "id": "iKXT3sKmYKXz",
        "outputId": "be221976-48b1-4d57-f524-18119e51efd7"
      },
      "outputs": [
        {
          "output_type": "execute_result",
          "data": {
            "text/plain": [
              "Int64Index([1, 2, 3, 4, 5, 6, 7, 8, 9, 10, 11, 12], dtype='int64', name='Month')"
            ]
          },
          "metadata": {},
          "execution_count": 93
        }
      ],
      "source": [
        "data_month_ride_length.loc['casual',:].index"
      ]
    },
    {
      "cell_type": "code",
      "execution_count": null,
      "metadata": {
        "colab": {
          "base_uri": "https://localhost:8080/"
        },
        "id": "oa_lPEo_aQXx",
        "outputId": "200bd33e-4b19-406a-d777-8e8159de9cc9"
      },
      "outputs": [
        {
          "output_type": "execute_result",
          "data": {
            "text/plain": [
              "array([1582.20020422, 2828.22709857, 2308.82898164, 2306.5031972 ,\n",
              "       2378.12468696, 2311.21760513, 1997.14894383, 1713.8731722 ,\n",
              "       1685.31038167, 1578.85732491, 1348.96436433, 1490.58450173])"
            ]
          },
          "metadata": {},
          "execution_count": 94
        }
      ],
      "source": [
        "data_month_ride_length.loc['casual',:][\"ride_length\"].values"
      ]
    },
    {
      "cell_type": "code",
      "execution_count": null,
      "metadata": {
        "colab": {
          "base_uri": "https://localhost:8080/",
          "height": 350
        },
        "id": "CQZZj8fNaKDK",
        "outputId": "57159987-0215-4971-de3a-27742cd50e41"
      },
      "outputs": [
        {
          "output_type": "display_data",
          "data": {
            "text/plain": [
              "<Figure size 576x360 with 1 Axes>"
            ],
            "image/png": "[encoded data removed]"
          },
          "metadata": {
            "needs_background": "light"
          }
        }
      ],
      "source": [
        "fig, ax = plt.subplots()\n",
        "\n",
        " \n",
        "fig.set_figwidth(8)\n",
        "fig.set_figheight(5) \n",
        "\n",
        "fruits =list(pd.DataFrame(data_month_counts[\"casual\"]).index),\n",
        "counts_1 = list(data_month_ride_length.loc['casual',:][\"ride_length\"].values)\n",
        "counts_2 = list(data_month_ride_length.loc['member',:][\"ride_length\"].values)\n",
        "\n",
        "\n",
        " \n",
        "#ax.bar(fruits, counts)\n",
        "\n",
        "X_axis = np.arange(1,13)\n",
        "ax.bar(X_axis - 0.2, counts_1, 0.4, label = 'Casual')\n",
        "ax.bar(X_axis + 0.2, counts_2, 0.4, label = 'Member')\n",
        "  \n",
        "\n",
        "ax.set_ylabel('mean_ride_length_month')\n",
        "ax.set_xlabel('month')\n",
        "ax.set_title('mean ride_length of month')\n",
        "ax.legend(title='ride_length of each month',loc=0)\n",
        "plt.show()"
      ]
    },
    {
      "cell_type": "code",
      "execution_count": null,
      "metadata": {
        "id": "2KIvlMBveawQ"
      },
      "outputs": [],
      "source": [
        "data_month_distance= pd.DataFrame(data_clean.groupby(['member_casual','Month'])[\"distance\"].mean())"
      ]
    },
    {
      "cell_type": "code",
      "execution_count": null,
      "metadata": {
        "colab": {
          "base_uri": "https://localhost:8080/",
          "height": 833
        },
        "id": "9eK3mCQReocW",
        "outputId": "4a48347c-1b24-4490-8c90-fb79b1a64916"
      },
      "outputs": [
        {
          "output_type": "execute_result",
          "data": {
            "text/plain": [
              "                     distance\n",
              "member_casual Month          \n",
              "casual        1      1.195033\n",
              "              2      1.252785\n",
              "              3      1.272036\n",
              "              4      1.273212\n",
              "              5      1.325811\n",
              "              6      1.359473\n",
              "              7      1.378546\n",
              "              8      1.394398\n",
              "              9      1.408075\n",
              "              10     1.362781\n",
              "              11     1.244778\n",
              "              12     1.199945\n",
              "member        1      1.193952\n",
              "              2      1.209440\n",
              "              3      1.306196\n",
              "              4      1.331449\n",
              "              5      1.357116\n",
              "              6      1.363523\n",
              "              7      1.354434\n",
              "              8      1.329534\n",
              "              9      1.307420\n",
              "              10     1.227842\n",
              "              11     1.157295\n",
              "              12     1.154124"
            ],
            "text/html": [
              "\n",
              "  <div id=\"df-7d7d8f62-f299-486d-9809-229fc01c5e2e\">\n",
              "    <div class=\"colab-df-container\">\n",
              "      <div>\n",
              "<style scoped>\n",
              "    .dataframe tbody tr th:only-of-type {\n",
              "        vertical-align: middle;\n",
              "    }\n",
              "\n",
              "    .dataframe tbody tr th {\n",
              "        vertical-align: top;\n",
              "    }\n",
              "\n",
              "    .dataframe thead th {\n",
              "        text-align: right;\n",
              "    }\n",
              "</style>\n",
              "<table border=\"1\" class=\"dataframe\">\n",
              "  <thead>\n",
              "    <tr style=\"text-align: right;\">\n",
              "      <th></th>\n",
              "      <th></th>\n",
              "      <th>distance</th>\n",
              "    </tr>\n",
              "    <tr>\n",
              "      <th>member_casual</th>\n",
              "      <th>Month</th>\n",
              "      <th></th>\n",
              "    </tr>\n",
              "  </thead>\n",
              "  <tbody>\n",
              "    <tr>\n",
              "      <th rowspan=\"12\" valign=\"top\">casual</th>\n",
              "      <th>1</th>\n",
              "      <td>1.195033</td>\n",
              "    </tr>\n",
              "    <tr>\n",
              "      <th>2</th>\n",
              "      <td>1.252785</td>\n",
              "    </tr>\n",
              "    <tr>\n",
              "      <th>3</th>\n",
              "      <td>1.272036</td>\n",
              "    </tr>\n",
              "    <tr>\n",
              "      <th>4</th>\n",
              "      <td>1.273212</td>\n",
              "    </tr>\n",
              "    <tr>\n",
              "      <th>5</th>\n",
              "      <td>1.325811</td>\n",
              "    </tr>\n",
              "    <tr>\n",
              "      <th>6</th>\n",
              "      <td>1.359473</td>\n",
              "    </tr>\n",
              "    <tr>\n",
              "      <th>7</th>\n",
              "      <td>1.378546</td>\n",
              "    </tr>\n",
              "    <tr>\n",
              "      <th>8</th>\n",
              "      <td>1.394398</td>\n",
              "    </tr>\n",
              "    <tr>\n",
              "      <th>9</th>\n",
              "      <td>1.408075</td>\n",
              "    </tr>\n",
              "    <tr>\n",
              "      <th>10</th>\n",
              "      <td>1.362781</td>\n",
              "    </tr>\n",
              "    <tr>\n",
              "      <th>11</th>\n",
              "      <td>1.244778</td>\n",
              "    </tr>\n",
              "    <tr>\n",
              "      <th>12</th>\n",
              "      <td>1.199945</td>\n",
              "    </tr>\n",
              "    <tr>\n",
              "      <th rowspan=\"12\" valign=\"top\">member</th>\n",
              "      <th>1</th>\n",
              "      <td>1.193952</td>\n",
              "    </tr>\n",
              "    <tr>\n",
              "      <th>2</th>\n",
              "      <td>1.209440</td>\n",
              "    </tr>\n",
              "    <tr>\n",
              "      <th>3</th>\n",
              "      <td>1.306196</td>\n",
              "    </tr>\n",
              "    <tr>\n",
              "      <th>4</th>\n",
              "      <td>1.331449</td>\n",
              "    </tr>\n",
              "    <tr>\n",
              "      <th>5</th>\n",
              "      <td>1.357116</td>\n",
              "    </tr>\n",
              "    <tr>\n",
              "      <th>6</th>\n",
              "      <td>1.363523</td>\n",
              "    </tr>\n",
              "    <tr>\n",
              "      <th>7</th>\n",
              "      <td>1.354434</td>\n",
              "    </tr>\n",
              "    <tr>\n",
              "      <th>8</th>\n",
              "      <td>1.329534</td>\n",
              "    </tr>\n",
              "    <tr>\n",
              "      <th>9</th>\n",
              "      <td>1.307420</td>\n",
              "    </tr>\n",
              "    <tr>\n",
              "      <th>10</th>\n",
              "      <td>1.227842</td>\n",
              "    </tr>\n",
              "    <tr>\n",
              "      <th>11</th>\n",
              "      <td>1.157295</td>\n",
              "    </tr>\n",
              "    <tr>\n",
              "      <th>12</th>\n",
              "      <td>1.154124</td>\n",
              "    </tr>\n",
              "  </tbody>\n",
              "</table>\n",
              "</div>\n",
              "      <button class=\"colab-df-convert\" onclick=\"convertToInteractive('df-7d7d8f62-f299-486d-9809-229fc01c5e2e')\"\n",
              "              title=\"Convert this dataframe to an interactive table.\"\n",
              "              style=\"display:none;\">\n",
              "        \n",
              "  <svg xmlns=\"http://www.w3.org/2000/svg\" height=\"24px\"viewBox=\"0 0 24 24\"\n",
              "       width=\"24px\">\n",
              "    <path d=\"M0 0h24v24H0V0z\" fill=\"none\"/>\n",
              "    <path d=\"M18.56 5.44l.94 2.06.94-2.06 2.06-.94-2.06-.94-.94-2.06-.94 2.06-2.06.94zm-11 1L8.5 8.5l.94-2.06 2.06-.94-2.06-.94L8.5 2.5l-.94 2.06-2.06.94zm10 10l.94 2.06.94-2.06 2.06-.94-2.06-.94-.94-2.06-.94 2.06-2.06.94z\"/><path d=\"M17.41 7.96l-1.37-1.37c-.4-.4-.92-.59-1.43-.59-.52 0-1.04.2-1.43.59L10.3 9.45l-7.72 7.72c-.78.78-.78 2.05 0 2.83L4 21.41c.39.39.9.59 1.41.59.51 0 1.02-.2 1.41-.59l7.78-7.78 2.81-2.81c.8-.78.8-2.07 0-2.86zM5.41 20L4 18.59l7.72-7.72 1.47 1.35L5.41 20z\"/>\n",
              "  </svg>\n",
              "      </button>\n",
              "      \n",
              "  <style>\n",
              "    .colab-df-container {\n",
              "      display:flex;\n",
              "      flex-wrap:wrap;\n",
              "      gap: 12px;\n",
              "    }\n",
              "\n",
              "    .colab-df-convert {\n",
              "      background-color: #E8F0FE;\n",
              "      border: none;\n",
              "      border-radius: 50%;\n",
              "      cursor: pointer;\n",
              "      display: none;\n",
              "      fill: #1967D2;\n",
              "      height: 32px;\n",
              "      padding: 0 0 0 0;\n",
              "      width: 32px;\n",
              "    }\n",
              "\n",
              "    .colab-df-convert:hover {\n",
              "      background-color: #E2EBFA;\n",
              "      box-shadow: 0px 1px 2px rgba(60, 64, 67, 0.3), 0px 1px 3px 1px rgba(60, 64, 67, 0.15);\n",
              "      fill: #174EA6;\n",
              "    }\n",
              "\n",
              "    [theme=dark] .colab-df-convert {\n",
              "      background-color: #3B4455;\n",
              "      fill: #D2E3FC;\n",
              "    }\n",
              "\n",
              "    [theme=dark] .colab-df-convert:hover {\n",
              "      background-color: #434B5C;\n",
              "      box-shadow: 0px 1px 3px 1px rgba(0, 0, 0, 0.15);\n",
              "      filter: drop-shadow(0px 1px 2px rgba(0, 0, 0, 0.3));\n",
              "      fill: #FFFFFF;\n",
              "    }\n",
              "  </style>\n",
              "\n",
              "      <script>\n",
              "        const buttonEl =\n",
              "          document.querySelector('#df-7d7d8f62-f299-486d-9809-229fc01c5e2e button.colab-df-convert');\n",
              "        buttonEl.style.display =\n",
              "          google.colab.kernel.accessAllowed ? 'block' : 'none';\n",
              "\n",
              "        async function convertToInteractive(key) {\n",
              "          const element = document.querySelector('#df-7d7d8f62-f299-486d-9809-229fc01c5e2e');\n",
              "          const dataTable =\n",
              "            await google.colab.kernel.invokeFunction('convertToInteractive',\n",
              "                                                     [key], {});\n",
              "          if (!dataTable) return;\n",
              "\n",
              "          const docLinkHtml = 'Like what you see? Visit the ' +\n",
              "            '<a target=\"_blank\" href=https://colab.research.google.com/notebooks/data_table.ipynb>data table notebook</a>'\n",
              "            + ' to learn more about interactive tables.';\n",
              "          element.innerHTML = '';\n",
              "          dataTable['output_type'] = 'display_data';\n",
              "          await google.colab.output.renderOutput(dataTable, element);\n",
              "          const docLink = document.createElement('div');\n",
              "          docLink.innerHTML = docLinkHtml;\n",
              "          element.appendChild(docLink);\n",
              "        }\n",
              "      </script>\n",
              "    </div>\n",
              "  </div>\n",
              "  "
            ]
          },
          "metadata": {},
          "execution_count": 97
        }
      ],
      "source": [
        "data_month_distance"
      ]
    },
    {
      "cell_type": "code",
      "execution_count": null,
      "metadata": {
        "colab": {
          "base_uri": "https://localhost:8080/",
          "height": 350
        },
        "id": "erHGRu4bet1f",
        "outputId": "3d371d03-e9e4-4abb-81d6-f0f093d6a15c"
      },
      "outputs": [
        {
          "output_type": "display_data",
          "data": {
            "text/plain": [
              "<Figure size 576x360 with 1 Axes>"
            ],
            "image/png": "[encoded data removed]"
          },
          "metadata": {
            "needs_background": "light"
          }
        }
      ],
      "source": [
        "fig, ax = plt.subplots()\n",
        "\n",
        " \n",
        "fig.set_figwidth(8)\n",
        "fig.set_figheight(5) \n",
        "\n",
        " \n",
        "counts_1 = list(data_month_distance.loc['casual',:][\"distance\"].values)\n",
        "counts_2 = list(data_month_distance.loc['member',:][\"distance\"].values)\n",
        "\n",
        "\n",
        " \n",
        "#ax.bar(fruits, counts)\n",
        "\n",
        "X_axis = np.arange(1,13)\n",
        "ax.bar(X_axis - 0.2, counts_1, 0.4, label = 'Casual')\n",
        "ax.bar(X_axis + 0.2, counts_2, 0.4, label = 'Member')\n",
        "  \n",
        "\n",
        "ax.set_ylabel('mean_distance_month')\n",
        "ax.set_xlabel('month')\n",
        "ax.set_title('mean distance of month')\n",
        "ax.legend(title='distance of each month',loc=0)\n",
        "plt.show()"
      ]
    },
    {
      "cell_type": "code",
      "execution_count": null,
      "metadata": {
        "colab": {
          "base_uri": "https://localhost:8080/"
        },
        "id": "zNle0bJm-QoR",
        "outputId": "491d09d2-45cd-43f6-9ca8-5e228fae73be"
      },
      "outputs": [
        {
          "output_type": "stream",
          "name": "stdout",
          "text": [
            "<class 'pandas.core.frame.DataFrame'>\n",
            "Int64Index: 4588104 entries, 9 to 247539\n",
            "Data columns (total 17 columns):\n",
            " #   Column              Dtype         \n",
            "---  ------              -----         \n",
            " 0   ride_id             object        \n",
            " 1   rideable_type       object        \n",
            " 2   started_at          datetime64[ns]\n",
            " 3   ended_at            datetime64[ns]\n",
            " 4   start_station_name  object        \n",
            " 5   start_station_id    object        \n",
            " 6   end_station_name    object        \n",
            " 7   end_station_id      object        \n",
            " 8   start_lat           float64       \n",
            " 9   start_lng           float64       \n",
            " 10  end_lat             float64       \n",
            " 11  end_lng             float64       \n",
            " 12  member_casual       object        \n",
            " 13  ride_length         float64       \n",
            " 14  weekday             int64         \n",
            " 15  distance            float64       \n",
            " 16  Month               int64         \n",
            "dtypes: datetime64[ns](2), float64(6), int64(2), object(7)\n",
            "memory usage: 630.1+ MB\n"
          ]
        }
      ],
      "source": [
        "data_clean.info()"
      ]
    },
    {
      "cell_type": "code",
      "execution_count": null,
      "metadata": {
        "colab": {
          "base_uri": "https://localhost:8080/"
        },
        "id": "vPrGSfIi-VF3",
        "outputId": "b55e36d9-3626-44be-88f9-a98d261160fb"
      },
      "outputs": [
        {
          "output_type": "execute_result",
          "data": {
            "text/plain": [
              "4588104"
            ]
          },
          "metadata": {},
          "execution_count": 100
        }
      ],
      "source": [
        "len(data_clean)"
      ]
    },
    {
      "cell_type": "code",
      "execution_count": null,
      "metadata": {
        "colab": {
          "base_uri": "https://localhost:8080/"
        },
        "id": "-phh-QO4-XrH",
        "outputId": "27bdc6d9-428b-4d67-b3b0-e9c079315f1b"
      },
      "outputs": [
        {
          "output_type": "execute_result",
          "data": {
            "text/plain": [
              "4588104"
            ]
          },
          "metadata": {},
          "execution_count": 101
        }
      ],
      "source": [
        "len(data_clean[\"ride_id\"].unique())"
      ]
    },
    {
      "cell_type": "code",
      "execution_count": null,
      "metadata": {
        "colab": {
          "base_uri": "https://localhost:8080/"
        },
        "id": "nmc80zdn_wp4",
        "outputId": "2785f901-075d-4518-8f04-83fdd6fc16f7"
      },
      "outputs": [
        {
          "output_type": "execute_result",
          "data": {
            "text/plain": [
              "member_casual    \n",
              "casual         1      14690\n",
              "               2       8613\n",
              "               3      75641\n",
              "               4     120418\n",
              "               5     216823\n",
              "               6     304184\n",
              "               7     369401\n",
              "               8     341463\n",
              "               9     292920\n",
              "               10    189115\n",
              "               11     69958\n",
              "               12     45076\n",
              "member         1      68818\n",
              "               2      34381\n",
              "               3     130046\n",
              "               4     177781\n",
              "               5     234155\n",
              "               6     304579\n",
              "               7     322892\n",
              "               8     332914\n",
              "               9     328183\n",
              "               10    288851\n",
              "               11    185909\n",
              "               12    131293\n",
              "Name: Month, dtype: int64"
            ]
          },
          "metadata": {},
          "execution_count": 102
        }
      ],
      "source": [
        "data_month_counts"
      ]
    },
    {
      "cell_type": "code",
      "execution_count": null,
      "metadata": {
        "colab": {
          "base_uri": "https://localhost:8080/"
        },
        "id": "tZrGN2B3BsVw",
        "outputId": "35838fd1-711c-4fac-caa6-845c76c2dc15"
      },
      "outputs": [
        {
          "output_type": "execute_result",
          "data": {
            "text/plain": [
              "-24882"
            ]
          },
          "metadata": {},
          "execution_count": 103
        }
      ],
      "source": [
        "45076-69958"
      ]
    },
    {
      "cell_type": "code",
      "execution_count": null,
      "metadata": {
        "id": "8OhbxycWAzIk"
      },
      "outputs": [],
      "source": [
        "casual_counts = data_month_counts[\"casual\"]"
      ]
    },
    {
      "cell_type": "code",
      "execution_count": null,
      "metadata": {
        "id": "w0FeVEM3A-ws"
      },
      "outputs": [],
      "source": [
        "Causal_detal_month = casual_counts.diff(\n",
        "    periods=1 \n",
        ").fillna(0)"
      ]
    },
    {
      "cell_type": "code",
      "execution_count": null,
      "metadata": {
        "id": "S_NDUUYnCR2w"
      },
      "outputs": [],
      "source": [
        "Member_detal_month = data_month_counts[\"member\"].diff(\n",
        "    periods=1 \n",
        ").fillna(0)"
      ]
    },
    {
      "cell_type": "code",
      "execution_count": null,
      "metadata": {
        "colab": {
          "base_uri": "https://localhost:8080/"
        },
        "id": "pJeuHZVMCqgX",
        "outputId": "7ee425ba-1bd3-4680-f387-aad54a8134ed"
      },
      "outputs": [
        {
          "output_type": "execute_result",
          "data": {
            "text/plain": [
              "1          0.0\n",
              "2     -34437.0\n",
              "3      95665.0\n",
              "4      47735.0\n",
              "5      56374.0\n",
              "6      70424.0\n",
              "7      18313.0\n",
              "8      10022.0\n",
              "9      -4731.0\n",
              "10    -39332.0\n",
              "11   -102942.0\n",
              "12    -54616.0\n",
              "Name: Month, dtype: float64"
            ]
          },
          "metadata": {},
          "execution_count": 107
        }
      ],
      "source": [
        "Member_detal_month"
      ]
    },
    {
      "cell_type": "code",
      "execution_count": null,
      "metadata": {
        "id": "y2Exd9VekLdu"
      },
      "outputs": [],
      "source": [
        "Member_detal_month.to_csv('Member_detal_month.csv')"
      ]
    },
    {
      "cell_type": "code",
      "execution_count": null,
      "metadata": {
        "colab": {
          "base_uri": "https://localhost:8080/"
        },
        "id": "qUc9gfuUCpUl",
        "outputId": "bb5d06c7-91de-47fc-f838-2e9876d81b32"
      },
      "outputs": [
        {
          "output_type": "execute_result",
          "data": {
            "text/plain": [
              "Int64Index([1, 2, 3, 4, 5, 6, 7, 8, 9, 10, 11, 12], dtype='int64')"
            ]
          },
          "metadata": {},
          "execution_count": 109
        }
      ],
      "source": [
        "Causal_detal_month.index"
      ]
    },
    {
      "cell_type": "markdown",
      "metadata": {
        "id": "hqv2h27SoKxQ"
      },
      "source": []
    },
    {
      "cell_type": "code",
      "execution_count": null,
      "metadata": {
        "id": "nISC5t3TkTf5"
      },
      "outputs": [],
      "source": [
        "Causal_detal_month.to_csv('Casual_detal_month.csv')"
      ]
    },
    {
      "cell_type": "code",
      "execution_count": null,
      "metadata": {
        "colab": {
          "base_uri": "https://localhost:8080/",
          "height": 367
        },
        "id": "ANVeRJjvDV6w",
        "outputId": "d5490286-2408-4dc5-e03f-7d99233294d3"
      },
      "outputs": [
        {
          "output_type": "execute_result",
          "data": {
            "text/plain": [
              "<matplotlib.legend.Legend at 0x7f08d02fe3a0>"
            ]
          },
          "metadata": {},
          "execution_count": 111
        },
        {
          "output_type": "display_data",
          "data": {
            "text/plain": [
              "<Figure size 576x360 with 1 Axes>"
            ],
            "image/png": "[encoded data removed]"
          },
          "metadata": {
            "needs_background": "light"
          }
        }
      ],
      "source": [
        "fig, ax = plt.subplots()\n",
        "\n",
        " \n",
        "fig.set_figwidth(8)\n",
        "fig.set_figheight(5) \n",
        "\n",
        " \n",
        "counts_1 = list(Causal_detal_month.values)\n",
        "counts_2 = list(Member_detal_month.values)\n",
        "\n",
        "\n",
        " \n",
        "#ax.bar(fruits, counts)\n",
        "\n",
        "X_axis = np.arange(1,13)\n",
        "ax.bar(X_axis - 0.2, counts_1, 0.4, label = 'Casual')\n",
        "ax.bar(X_axis + 0.2, counts_2, 0.4, label = 'Member')\n",
        "  \n",
        "\n",
        "ax.set_ylabel('Counts Detal')\n",
        "ax.set_xlabel('Month')\n",
        "ax.set_title('Count Detal')\n",
        "ax.legend(title='Count Detal',loc=0)"
      ]
    },
    {
      "cell_type": "markdown",
      "metadata": {
        "id": "NCftFYTIFPFT"
      },
      "source": [
        "1. From May to July, Casual increases more than Member, in this time use Marketing stategy to promote the casual to subscribe member.\n",
        "2. It shows that casual ride more length than member in weekday,memeber ride more stable length but less length. encourage Casual to ride more often with small distances coupon to foster their habbit then turn them into member.\n"
      ]
    },
    {
      "cell_type": "code",
      "execution_count": null,
      "metadata": {
        "colab": {
          "base_uri": "https://localhost:8080/"
        },
        "id": "6zWHD1q3Gxs5",
        "outputId": "b6e02975-dbdc-4c86-d161-513d13c79248"
      },
      "outputs": [
        {
          "output_type": "execute_result",
          "data": {
            "text/plain": [
              "array(['classic_bike', 'electric_bike', 'docked_bike'], dtype=object)"
            ]
          },
          "metadata": {},
          "execution_count": 112
        }
      ],
      "source": [
        "data_clean['rideable_type'].unique()"
      ]
    },
    {
      "cell_type": "code",
      "execution_count": null,
      "metadata": {
        "id": "yNhnFPUAH9s6"
      },
      "outputs": [],
      "source": [
        "data_clean[\"Hour\"] = data_clean.apply(lambda x:x[\"started_at\"].hour,axis=1)"
      ]
    },
    {
      "cell_type": "code",
      "execution_count": null,
      "metadata": {
        "colab": {
          "base_uri": "https://localhost:8080/",
          "height": 444
        },
        "id": "nnplxPU8Iheo",
        "outputId": "d9d24f44-fcc3-4870-9a71-ebb4ef8ee754"
      },
      "outputs": [
        {
          "output_type": "execute_result",
          "data": {
            "text/plain": [
              "             ride_id  rideable_type          started_at            ended_at  \\\n",
              "9   B9F73448DFBE0D45   classic_bike 2021-01-24 19:15:38 2021-01-24 19:22:51   \n",
              "10  457C7F4B5D3DA135  electric_bike 2021-01-23 12:57:38 2021-01-23 13:02:10   \n",
              "11  57C750326F9FDABE  electric_bike 2021-01-09 15:28:04 2021-01-09 15:37:51   \n",
              "12  4D518C65E338D070  electric_bike 2021-01-09 15:28:57 2021-01-09 15:37:54   \n",
              "13  9D08A3AFF410474D   classic_bike 2021-01-24 15:56:59 2021-01-24 16:07:08   \n",
              "\n",
              "            start_station_name start_station_id            end_station_name  \\\n",
              "9   California Ave & Cortez St            17660      Wood St & Augusta Blvd   \n",
              "10  California Ave & Cortez St            17660  California Ave & North Ave   \n",
              "11  California Ave & Cortez St            17660      Wood St & Augusta Blvd   \n",
              "12  California Ave & Cortez St            17660      Wood St & Augusta Blvd   \n",
              "13  California Ave & Cortez St            17660      Wood St & Augusta Blvd   \n",
              "\n",
              "   end_station_id  start_lat  start_lng    end_lat    end_lng member_casual  \\\n",
              "9             657  41.900363 -87.696704  41.899181 -87.672200        member   \n",
              "10          13258  41.900406 -87.696733  41.910435 -87.696890        member   \n",
              "11            657  41.900374 -87.696688  41.899180 -87.672178        casual   \n",
              "12            657  41.900379 -87.696716  41.899149 -87.672177        casual   \n",
              "13            657  41.900363 -87.696704  41.899181 -87.672200        casual   \n",
              "\n",
              "    ride_length  weekday  distance  Month  Hour  \n",
              "9         433.0        1  1.262816      1    19  \n",
              "10        272.0        7  0.693008      1    12  \n",
              "11        587.0        7  1.263194      1    15  \n",
              "12        537.0        7  1.264830      1    15  \n",
              "13        609.0        1  1.262816      1    15  "
            ],
            "text/html": [
              "\n",
              "  <div id=\"df-706ce7ec-dd22-4dc2-81e3-93ad40a50cfa\">\n",
              "    <div class=\"colab-df-container\">\n",
              "      <div>\n",
              "<style scoped>\n",
              "    .dataframe tbody tr th:only-of-type {\n",
              "        vertical-align: middle;\n",
              "    }\n",
              "\n",
              "    .dataframe tbody tr th {\n",
              "        vertical-align: top;\n",
              "    }\n",
              "\n",
              "    .dataframe thead th {\n",
              "        text-align: right;\n",
              "    }\n",
              "</style>\n",
              "<table border=\"1\" class=\"dataframe\">\n",
              "  <thead>\n",
              "    <tr style=\"text-align: right;\">\n",
              "      <th></th>\n",
              "      <th>ride_id</th>\n",
              "      <th>rideable_type</th>\n",
              "      <th>started_at</th>\n",
              "      <th>ended_at</th>\n",
              "      <th>start_station_name</th>\n",
              "      <th>start_station_id</th>\n",
              "      <th>end_station_name</th>\n",
              "      <th>end_station_id</th>\n",
              "      <th>start_lat</th>\n",
              "      <th>start_lng</th>\n",
              "      <th>end_lat</th>\n",
              "      <th>end_lng</th>\n",
              "      <th>member_casual</th>\n",
              "      <th>ride_length</th>\n",
              "      <th>weekday</th>\n",
              "      <th>distance</th>\n",
              "      <th>Month</th>\n",
              "      <th>Hour</th>\n",
              "    </tr>\n",
              "  </thead>\n",
              "  <tbody>\n",
              "    <tr>\n",
              "      <th>9</th>\n",
              "      <td>B9F73448DFBE0D45</td>\n",
              "      <td>classic_bike</td>\n",
              "      <td>2021-01-24 19:15:38</td>\n",
              "      <td>2021-01-24 19:22:51</td>\n",
              "      <td>California Ave &amp; Cortez St</td>\n",
              "      <td>17660</td>\n",
              "      <td>Wood St &amp; Augusta Blvd</td>\n",
              "      <td>657</td>\n",
              "      <td>41.900363</td>\n",
              "      <td>-87.696704</td>\n",
              "      <td>41.899181</td>\n",
              "      <td>-87.672200</td>\n",
              "      <td>member</td>\n",
              "      <td>433.0</td>\n",
              "      <td>1</td>\n",
              "      <td>1.262816</td>\n",
              "      <td>1</td>\n",
              "      <td>19</td>\n",
              "    </tr>\n",
              "    <tr>\n",
              "      <th>10</th>\n",
              "      <td>457C7F4B5D3DA135</td>\n",
              "      <td>electric_bike</td>\n",
              "      <td>2021-01-23 12:57:38</td>\n",
              "      <td>2021-01-23 13:02:10</td>\n",
              "      <td>California Ave &amp; Cortez St</td>\n",
              "      <td>17660</td>\n",
              "      <td>California Ave &amp; North Ave</td>\n",
              "      <td>13258</td>\n",
              "      <td>41.900406</td>\n",
              "      <td>-87.696733</td>\n",
              "      <td>41.910435</td>\n",
              "      <td>-87.696890</td>\n",
              "      <td>member</td>\n",
              "      <td>272.0</td>\n",
              "      <td>7</td>\n",
              "      <td>0.693008</td>\n",
              "      <td>1</td>\n",
              "      <td>12</td>\n",
              "    </tr>\n",
              "    <tr>\n",
              "      <th>11</th>\n",
              "      <td>57C750326F9FDABE</td>\n",
              "      <td>electric_bike</td>\n",
              "      <td>2021-01-09 15:28:04</td>\n",
              "      <td>2021-01-09 15:37:51</td>\n",
              "      <td>California Ave &amp; Cortez St</td>\n",
              "      <td>17660</td>\n",
              "      <td>Wood St &amp; Augusta Blvd</td>\n",
              "      <td>657</td>\n",
              "      <td>41.900374</td>\n",
              "      <td>-87.696688</td>\n",
              "      <td>41.899180</td>\n",
              "      <td>-87.672178</td>\n",
              "      <td>casual</td>\n",
              "      <td>587.0</td>\n",
              "      <td>7</td>\n",
              "      <td>1.263194</td>\n",
              "      <td>1</td>\n",
              "      <td>15</td>\n",
              "    </tr>\n",
              "    <tr>\n",
              "      <th>12</th>\n",
              "      <td>4D518C65E338D070</td>\n",
              "      <td>electric_bike</td>\n",
              "      <td>2021-01-09 15:28:57</td>\n",
              "      <td>2021-01-09 15:37:54</td>\n",
              "      <td>California Ave &amp; Cortez St</td>\n",
              "      <td>17660</td>\n",
              "      <td>Wood St &amp; Augusta Blvd</td>\n",
              "      <td>657</td>\n",
              "      <td>41.900379</td>\n",
              "      <td>-87.696716</td>\n",
              "      <td>41.899149</td>\n",
              "      <td>-87.672177</td>\n",
              "      <td>casual</td>\n",
              "      <td>537.0</td>\n",
              "      <td>7</td>\n",
              "      <td>1.264830</td>\n",
              "      <td>1</td>\n",
              "      <td>15</td>\n",
              "    </tr>\n",
              "    <tr>\n",
              "      <th>13</th>\n",
              "      <td>9D08A3AFF410474D</td>\n",
              "      <td>classic_bike</td>\n",
              "      <td>2021-01-24 15:56:59</td>\n",
              "      <td>2021-01-24 16:07:08</td>\n",
              "      <td>California Ave &amp; Cortez St</td>\n",
              "      <td>17660</td>\n",
              "      <td>Wood St &amp; Augusta Blvd</td>\n",
              "      <td>657</td>\n",
              "      <td>41.900363</td>\n",
              "      <td>-87.696704</td>\n",
              "      <td>41.899181</td>\n",
              "      <td>-87.672200</td>\n",
              "      <td>casual</td>\n",
              "      <td>609.0</td>\n",
              "      <td>1</td>\n",
              "      <td>1.262816</td>\n",
              "      <td>1</td>\n",
              "      <td>15</td>\n",
              "    </tr>\n",
              "  </tbody>\n",
              "</table>\n",
              "</div>\n",
              "      <button class=\"colab-df-convert\" onclick=\"convertToInteractive('df-706ce7ec-dd22-4dc2-81e3-93ad40a50cfa')\"\n",
              "              title=\"Convert this dataframe to an interactive table.\"\n",
              "              style=\"display:none;\">\n",
              "        \n",
              "  <svg xmlns=\"http://www.w3.org/2000/svg\" height=\"24px\"viewBox=\"0 0 24 24\"\n",
              "       width=\"24px\">\n",
              "    <path d=\"M0 0h24v24H0V0z\" fill=\"none\"/>\n",
              "    <path d=\"M18.56 5.44l.94 2.06.94-2.06 2.06-.94-2.06-.94-.94-2.06-.94 2.06-2.06.94zm-11 1L8.5 8.5l.94-2.06 2.06-.94-2.06-.94L8.5 2.5l-.94 2.06-2.06.94zm10 10l.94 2.06.94-2.06 2.06-.94-2.06-.94-.94-2.06-.94 2.06-2.06.94z\"/><path d=\"M17.41 7.96l-1.37-1.37c-.4-.4-.92-.59-1.43-.59-.52 0-1.04.2-1.43.59L10.3 9.45l-7.72 7.72c-.78.78-.78 2.05 0 2.83L4 21.41c.39.39.9.59 1.41.59.51 0 1.02-.2 1.41-.59l7.78-7.78 2.81-2.81c.8-.78.8-2.07 0-2.86zM5.41 20L4 18.59l7.72-7.72 1.47 1.35L5.41 20z\"/>\n",
              "  </svg>\n",
              "      </button>\n",
              "      \n",
              "  <style>\n",
              "    .colab-df-container {\n",
              "      display:flex;\n",
              "      flex-wrap:wrap;\n",
              "      gap: 12px;\n",
              "    }\n",
              "\n",
              "    .colab-df-convert {\n",
              "      background-color: #E8F0FE;\n",
              "      border: none;\n",
              "      border-radius: 50%;\n",
              "      cursor: pointer;\n",
              "      display: none;\n",
              "      fill: #1967D2;\n",
              "      height: 32px;\n",
              "      padding: 0 0 0 0;\n",
              "      width: 32px;\n",
              "    }\n",
              "\n",
              "    .colab-df-convert:hover {\n",
              "      background-color: #E2EBFA;\n",
              "      box-shadow: 0px 1px 2px rgba(60, 64, 67, 0.3), 0px 1px 3px 1px rgba(60, 64, 67, 0.15);\n",
              "      fill: #174EA6;\n",
              "    }\n",
              "\n",
              "    [theme=dark] .colab-df-convert {\n",
              "      background-color: #3B4455;\n",
              "      fill: #D2E3FC;\n",
              "    }\n",
              "\n",
              "    [theme=dark] .colab-df-convert:hover {\n",
              "      background-color: #434B5C;\n",
              "      box-shadow: 0px 1px 3px 1px rgba(0, 0, 0, 0.15);\n",
              "      filter: drop-shadow(0px 1px 2px rgba(0, 0, 0, 0.3));\n",
              "      fill: #FFFFFF;\n",
              "    }\n",
              "  </style>\n",
              "\n",
              "      <script>\n",
              "        const buttonEl =\n",
              "          document.querySelector('#df-706ce7ec-dd22-4dc2-81e3-93ad40a50cfa button.colab-df-convert');\n",
              "        buttonEl.style.display =\n",
              "          google.colab.kernel.accessAllowed ? 'block' : 'none';\n",
              "\n",
              "        async function convertToInteractive(key) {\n",
              "          const element = document.querySelector('#df-706ce7ec-dd22-4dc2-81e3-93ad40a50cfa');\n",
              "          const dataTable =\n",
              "            await google.colab.kernel.invokeFunction('convertToInteractive',\n",
              "                                                     [key], {});\n",
              "          if (!dataTable) return;\n",
              "\n",
              "          const docLinkHtml = 'Like what you see? Visit the ' +\n",
              "            '<a target=\"_blank\" href=https://colab.research.google.com/notebooks/data_table.ipynb>data table notebook</a>'\n",
              "            + ' to learn more about interactive tables.';\n",
              "          element.innerHTML = '';\n",
              "          dataTable['output_type'] = 'display_data';\n",
              "          await google.colab.output.renderOutput(dataTable, element);\n",
              "          const docLink = document.createElement('div');\n",
              "          docLink.innerHTML = docLinkHtml;\n",
              "          element.appendChild(docLink);\n",
              "        }\n",
              "      </script>\n",
              "    </div>\n",
              "  </div>\n",
              "  "
            ]
          },
          "metadata": {},
          "execution_count": 114
        }
      ],
      "source": [
        "data_clean.head()"
      ]
    },
    {
      "cell_type": "code",
      "execution_count": null,
      "metadata": {
        "id": "qdOzNXdQG9mq"
      },
      "outputs": [],
      "source": [
        "def f(x):\n",
        "    if (x > 4) and (x <= 8):\n",
        "        return 'Early morning'\n",
        "    elif (x > 8) and (x <= 12 ):\n",
        "        return 'Morning'\n",
        "    elif (x > 12) and (x <= 16):\n",
        "        return'Noon'\n",
        "    elif (x > 16) and (x <= 20) :\n",
        "        return 'Eve'\n",
        "    elif (x > 20) and (x <= 24):\n",
        "        return'Night'\n",
        "    elif (x <= 4):\n",
        "        return'Late Night'"
      ]
    },
    {
      "cell_type": "code",
      "execution_count": null,
      "metadata": {
        "id": "3chum_2ljaXL"
      },
      "outputs": [],
      "source": [
        "def f(x):\n",
        "    if (x > 4) and (x <= 8):\n",
        "        return 1\n",
        "    elif (x > 8) and (x <= 12 ):\n",
        "        return 2\n",
        "    elif (x > 12) and (x <= 16):\n",
        "        return 3\n",
        "    elif (x > 16) and (x <= 20) :\n",
        "        return 4\n",
        "    elif (x > 20) and (x <= 24):\n",
        "        return 5\n",
        "    elif (x <= 4):\n",
        "        return 6"
      ]
    },
    {
      "cell_type": "code",
      "execution_count": null,
      "metadata": {
        "id": "MCEkNNphHm5i"
      },
      "outputs": [],
      "source": [
        "data_clean['session'] = data_clean['Hour'].apply(f)"
      ]
    },
    {
      "cell_type": "code",
      "execution_count": null,
      "metadata": {
        "colab": {
          "base_uri": "https://localhost:8080/",
          "height": 444
        },
        "id": "pSSrmwFjIf7N",
        "outputId": "ffbfe6ab-cced-4a18-8179-60b75f3b9502"
      },
      "outputs": [
        {
          "output_type": "execute_result",
          "data": {
            "text/plain": [
              "             ride_id  rideable_type          started_at            ended_at  \\\n",
              "9   B9F73448DFBE0D45   classic_bike 2021-01-24 19:15:38 2021-01-24 19:22:51   \n",
              "10  457C7F4B5D3DA135  electric_bike 2021-01-23 12:57:38 2021-01-23 13:02:10   \n",
              "11  57C750326F9FDABE  electric_bike 2021-01-09 15:28:04 2021-01-09 15:37:51   \n",
              "12  4D518C65E338D070  electric_bike 2021-01-09 15:28:57 2021-01-09 15:37:54   \n",
              "13  9D08A3AFF410474D   classic_bike 2021-01-24 15:56:59 2021-01-24 16:07:08   \n",
              "\n",
              "            start_station_name start_station_id            end_station_name  \\\n",
              "9   California Ave & Cortez St            17660      Wood St & Augusta Blvd   \n",
              "10  California Ave & Cortez St            17660  California Ave & North Ave   \n",
              "11  California Ave & Cortez St            17660      Wood St & Augusta Blvd   \n",
              "12  California Ave & Cortez St            17660      Wood St & Augusta Blvd   \n",
              "13  California Ave & Cortez St            17660      Wood St & Augusta Blvd   \n",
              "\n",
              "   end_station_id  start_lat  start_lng    end_lat    end_lng member_casual  \\\n",
              "9             657  41.900363 -87.696704  41.899181 -87.672200        member   \n",
              "10          13258  41.900406 -87.696733  41.910435 -87.696890        member   \n",
              "11            657  41.900374 -87.696688  41.899180 -87.672178        casual   \n",
              "12            657  41.900379 -87.696716  41.899149 -87.672177        casual   \n",
              "13            657  41.900363 -87.696704  41.899181 -87.672200        casual   \n",
              "\n",
              "    ride_length  weekday  distance  Month  Hour  session  \n",
              "9         433.0        1  1.262816      1    19        4  \n",
              "10        272.0        7  0.693008      1    12        2  \n",
              "11        587.0        7  1.263194      1    15        3  \n",
              "12        537.0        7  1.264830      1    15        3  \n",
              "13        609.0        1  1.262816      1    15        3  "
            ],
            "text/html": [
              "\n",
              "  <div id=\"df-2773601a-a928-41dc-9cd7-9532939dc297\">\n",
              "    <div class=\"colab-df-container\">\n",
              "      <div>\n",
              "<style scoped>\n",
              "    .dataframe tbody tr th:only-of-type {\n",
              "        vertical-align: middle;\n",
              "    }\n",
              "\n",
              "    .dataframe tbody tr th {\n",
              "        vertical-align: top;\n",
              "    }\n",
              "\n",
              "    .dataframe thead th {\n",
              "        text-align: right;\n",
              "    }\n",
              "</style>\n",
              "<table border=\"1\" class=\"dataframe\">\n",
              "  <thead>\n",
              "    <tr style=\"text-align: right;\">\n",
              "      <th></th>\n",
              "      <th>ride_id</th>\n",
              "      <th>rideable_type</th>\n",
              "      <th>started_at</th>\n",
              "      <th>ended_at</th>\n",
              "      <th>start_station_name</th>\n",
              "      <th>start_station_id</th>\n",
              "      <th>end_station_name</th>\n",
              "      <th>end_station_id</th>\n",
              "      <th>start_lat</th>\n",
              "      <th>start_lng</th>\n",
              "      <th>end_lat</th>\n",
              "      <th>end_lng</th>\n",
              "      <th>member_casual</th>\n",
              "      <th>ride_length</th>\n",
              "      <th>weekday</th>\n",
              "      <th>distance</th>\n",
              "      <th>Month</th>\n",
              "      <th>Hour</th>\n",
              "      <th>session</th>\n",
              "    </tr>\n",
              "  </thead>\n",
              "  <tbody>\n",
              "    <tr>\n",
              "      <th>9</th>\n",
              "      <td>B9F73448DFBE0D45</td>\n",
              "      <td>classic_bike</td>\n",
              "      <td>2021-01-24 19:15:38</td>\n",
              "      <td>2021-01-24 19:22:51</td>\n",
              "      <td>California Ave &amp; Cortez St</td>\n",
              "      <td>17660</td>\n",
              "      <td>Wood St &amp; Augusta Blvd</td>\n",
              "      <td>657</td>\n",
              "      <td>41.900363</td>\n",
              "      <td>-87.696704</td>\n",
              "      <td>41.899181</td>\n",
              "      <td>-87.672200</td>\n",
              "      <td>member</td>\n",
              "      <td>433.0</td>\n",
              "      <td>1</td>\n",
              "      <td>1.262816</td>\n",
              "      <td>1</td>\n",
              "      <td>19</td>\n",
              "      <td>4</td>\n",
              "    </tr>\n",
              "    <tr>\n",
              "      <th>10</th>\n",
              "      <td>457C7F4B5D3DA135</td>\n",
              "      <td>electric_bike</td>\n",
              "      <td>2021-01-23 12:57:38</td>\n",
              "      <td>2021-01-23 13:02:10</td>\n",
              "      <td>California Ave &amp; Cortez St</td>\n",
              "      <td>17660</td>\n",
              "      <td>California Ave &amp; North Ave</td>\n",
              "      <td>13258</td>\n",
              "      <td>41.900406</td>\n",
              "      <td>-87.696733</td>\n",
              "      <td>41.910435</td>\n",
              "      <td>-87.696890</td>\n",
              "      <td>member</td>\n",
              "      <td>272.0</td>\n",
              "      <td>7</td>\n",
              "      <td>0.693008</td>\n",
              "      <td>1</td>\n",
              "      <td>12</td>\n",
              "      <td>2</td>\n",
              "    </tr>\n",
              "    <tr>\n",
              "      <th>11</th>\n",
              "      <td>57C750326F9FDABE</td>\n",
              "      <td>electric_bike</td>\n",
              "      <td>2021-01-09 15:28:04</td>\n",
              "      <td>2021-01-09 15:37:51</td>\n",
              "      <td>California Ave &amp; Cortez St</td>\n",
              "      <td>17660</td>\n",
              "      <td>Wood St &amp; Augusta Blvd</td>\n",
              "      <td>657</td>\n",
              "      <td>41.900374</td>\n",
              "      <td>-87.696688</td>\n",
              "      <td>41.899180</td>\n",
              "      <td>-87.672178</td>\n",
              "      <td>casual</td>\n",
              "      <td>587.0</td>\n",
              "      <td>7</td>\n",
              "      <td>1.263194</td>\n",
              "      <td>1</td>\n",
              "      <td>15</td>\n",
              "      <td>3</td>\n",
              "    </tr>\n",
              "    <tr>\n",
              "      <th>12</th>\n",
              "      <td>4D518C65E338D070</td>\n",
              "      <td>electric_bike</td>\n",
              "      <td>2021-01-09 15:28:57</td>\n",
              "      <td>2021-01-09 15:37:54</td>\n",
              "      <td>California Ave &amp; Cortez St</td>\n",
              "      <td>17660</td>\n",
              "      <td>Wood St &amp; Augusta Blvd</td>\n",
              "      <td>657</td>\n",
              "      <td>41.900379</td>\n",
              "      <td>-87.696716</td>\n",
              "      <td>41.899149</td>\n",
              "      <td>-87.672177</td>\n",
              "      <td>casual</td>\n",
              "      <td>537.0</td>\n",
              "      <td>7</td>\n",
              "      <td>1.264830</td>\n",
              "      <td>1</td>\n",
              "      <td>15</td>\n",
              "      <td>3</td>\n",
              "    </tr>\n",
              "    <tr>\n",
              "      <th>13</th>\n",
              "      <td>9D08A3AFF410474D</td>\n",
              "      <td>classic_bike</td>\n",
              "      <td>2021-01-24 15:56:59</td>\n",
              "      <td>2021-01-24 16:07:08</td>\n",
              "      <td>California Ave &amp; Cortez St</td>\n",
              "      <td>17660</td>\n",
              "      <td>Wood St &amp; Augusta Blvd</td>\n",
              "      <td>657</td>\n",
              "      <td>41.900363</td>\n",
              "      <td>-87.696704</td>\n",
              "      <td>41.899181</td>\n",
              "      <td>-87.672200</td>\n",
              "      <td>casual</td>\n",
              "      <td>609.0</td>\n",
              "      <td>1</td>\n",
              "      <td>1.262816</td>\n",
              "      <td>1</td>\n",
              "      <td>15</td>\n",
              "      <td>3</td>\n",
              "    </tr>\n",
              "  </tbody>\n",
              "</table>\n",
              "</div>\n",
              "      <button class=\"colab-df-convert\" onclick=\"convertToInteractive('df-2773601a-a928-41dc-9cd7-9532939dc297')\"\n",
              "              title=\"Convert this dataframe to an interactive table.\"\n",
              "              style=\"display:none;\">\n",
              "        \n",
              "  <svg xmlns=\"http://www.w3.org/2000/svg\" height=\"24px\"viewBox=\"0 0 24 24\"\n",
              "       width=\"24px\">\n",
              "    <path d=\"M0 0h24v24H0V0z\" fill=\"none\"/>\n",
              "    <path d=\"M18.56 5.44l.94 2.06.94-2.06 2.06-.94-2.06-.94-.94-2.06-.94 2.06-2.06.94zm-11 1L8.5 8.5l.94-2.06 2.06-.94-2.06-.94L8.5 2.5l-.94 2.06-2.06.94zm10 10l.94 2.06.94-2.06 2.06-.94-2.06-.94-.94-2.06-.94 2.06-2.06.94z\"/><path d=\"M17.41 7.96l-1.37-1.37c-.4-.4-.92-.59-1.43-.59-.52 0-1.04.2-1.43.59L10.3 9.45l-7.72 7.72c-.78.78-.78 2.05 0 2.83L4 21.41c.39.39.9.59 1.41.59.51 0 1.02-.2 1.41-.59l7.78-7.78 2.81-2.81c.8-.78.8-2.07 0-2.86zM5.41 20L4 18.59l7.72-7.72 1.47 1.35L5.41 20z\"/>\n",
              "  </svg>\n",
              "      </button>\n",
              "      \n",
              "  <style>\n",
              "    .colab-df-container {\n",
              "      display:flex;\n",
              "      flex-wrap:wrap;\n",
              "      gap: 12px;\n",
              "    }\n",
              "\n",
              "    .colab-df-convert {\n",
              "      background-color: #E8F0FE;\n",
              "      border: none;\n",
              "      border-radius: 50%;\n",
              "      cursor: pointer;\n",
              "      display: none;\n",
              "      fill: #1967D2;\n",
              "      height: 32px;\n",
              "      padding: 0 0 0 0;\n",
              "      width: 32px;\n",
              "    }\n",
              "\n",
              "    .colab-df-convert:hover {\n",
              "      background-color: #E2EBFA;\n",
              "      box-shadow: 0px 1px 2px rgba(60, 64, 67, 0.3), 0px 1px 3px 1px rgba(60, 64, 67, 0.15);\n",
              "      fill: #174EA6;\n",
              "    }\n",
              "\n",
              "    [theme=dark] .colab-df-convert {\n",
              "      background-color: #3B4455;\n",
              "      fill: #D2E3FC;\n",
              "    }\n",
              "\n",
              "    [theme=dark] .colab-df-convert:hover {\n",
              "      background-color: #434B5C;\n",
              "      box-shadow: 0px 1px 3px 1px rgba(0, 0, 0, 0.15);\n",
              "      filter: drop-shadow(0px 1px 2px rgba(0, 0, 0, 0.3));\n",
              "      fill: #FFFFFF;\n",
              "    }\n",
              "  </style>\n",
              "\n",
              "      <script>\n",
              "        const buttonEl =\n",
              "          document.querySelector('#df-2773601a-a928-41dc-9cd7-9532939dc297 button.colab-df-convert');\n",
              "        buttonEl.style.display =\n",
              "          google.colab.kernel.accessAllowed ? 'block' : 'none';\n",
              "\n",
              "        async function convertToInteractive(key) {\n",
              "          const element = document.querySelector('#df-2773601a-a928-41dc-9cd7-9532939dc297');\n",
              "          const dataTable =\n",
              "            await google.colab.kernel.invokeFunction('convertToInteractive',\n",
              "                                                     [key], {});\n",
              "          if (!dataTable) return;\n",
              "\n",
              "          const docLinkHtml = 'Like what you see? Visit the ' +\n",
              "            '<a target=\"_blank\" href=https://colab.research.google.com/notebooks/data_table.ipynb>data table notebook</a>'\n",
              "            + ' to learn more about interactive tables.';\n",
              "          element.innerHTML = '';\n",
              "          dataTable['output_type'] = 'display_data';\n",
              "          await google.colab.output.renderOutput(dataTable, element);\n",
              "          const docLink = document.createElement('div');\n",
              "          docLink.innerHTML = docLinkHtml;\n",
              "          element.appendChild(docLink);\n",
              "        }\n",
              "      </script>\n",
              "    </div>\n",
              "  </div>\n",
              "  "
            ]
          },
          "metadata": {},
          "execution_count": 118
        }
      ],
      "source": [
        "data_clean.head()"
      ]
    },
    {
      "cell_type": "code",
      "execution_count": null,
      "metadata": {
        "colab": {
          "base_uri": "https://localhost:8080/"
        },
        "id": "M6yieyGgdlHK",
        "outputId": "7dbe4703-797b-4713-9ac6-96da73bd9c0b"
      },
      "outputs": [
        {
          "output_type": "execute_result",
          "data": {
            "text/plain": [
              "6"
            ]
          },
          "metadata": {},
          "execution_count": 119
        }
      ],
      "source": [
        "len(data_clean['session'].unique())"
      ]
    },
    {
      "cell_type": "code",
      "execution_count": null,
      "metadata": {
        "colab": {
          "base_uri": "https://localhost:8080/",
          "height": 455
        },
        "id": "E7X2g0_yc6g4",
        "outputId": "dcf108e3-e837-486f-9f77-f2f718e6182b"
      },
      "outputs": [
        {
          "output_type": "execute_result",
          "data": {
            "text/plain": [
              "                               weekday\n",
              "member_casual session weekday         \n",
              "casual        1       4          17984\n",
              "                      3          17846\n",
              "                      5          17107\n",
              "                      6          16017\n",
              "                      2          15937\n",
              "...                                ...\n",
              "member        6       6           7181\n",
              "                      5           4761\n",
              "                      2           4672\n",
              "                      4           4056\n",
              "                      3           3514\n",
              "\n",
              "[84 rows x 1 columns]"
            ],
            "text/html": [
              "\n",
              "  <div id=\"df-0a30c84e-99d6-40bc-8585-f3d908bce59d\">\n",
              "    <div class=\"colab-df-container\">\n",
              "      <div>\n",
              "<style scoped>\n",
              "    .dataframe tbody tr th:only-of-type {\n",
              "        vertical-align: middle;\n",
              "    }\n",
              "\n",
              "    .dataframe tbody tr th {\n",
              "        vertical-align: top;\n",
              "    }\n",
              "\n",
              "    .dataframe thead th {\n",
              "        text-align: right;\n",
              "    }\n",
              "</style>\n",
              "<table border=\"1\" class=\"dataframe\">\n",
              "  <thead>\n",
              "    <tr style=\"text-align: right;\">\n",
              "      <th></th>\n",
              "      <th></th>\n",
              "      <th></th>\n",
              "      <th>weekday</th>\n",
              "    </tr>\n",
              "    <tr>\n",
              "      <th>member_casual</th>\n",
              "      <th>session</th>\n",
              "      <th>weekday</th>\n",
              "      <th></th>\n",
              "    </tr>\n",
              "  </thead>\n",
              "  <tbody>\n",
              "    <tr>\n",
              "      <th rowspan=\"5\" valign=\"top\">casual</th>\n",
              "      <th rowspan=\"5\" valign=\"top\">1</th>\n",
              "      <th>4</th>\n",
              "      <td>17984</td>\n",
              "    </tr>\n",
              "    <tr>\n",
              "      <th>3</th>\n",
              "      <td>17846</td>\n",
              "    </tr>\n",
              "    <tr>\n",
              "      <th>5</th>\n",
              "      <td>17107</td>\n",
              "    </tr>\n",
              "    <tr>\n",
              "      <th>6</th>\n",
              "      <td>16017</td>\n",
              "    </tr>\n",
              "    <tr>\n",
              "      <th>2</th>\n",
              "      <td>15937</td>\n",
              "    </tr>\n",
              "    <tr>\n",
              "      <th>...</th>\n",
              "      <th>...</th>\n",
              "      <th>...</th>\n",
              "      <td>...</td>\n",
              "    </tr>\n",
              "    <tr>\n",
              "      <th rowspan=\"5\" valign=\"top\">member</th>\n",
              "      <th rowspan=\"5\" valign=\"top\">6</th>\n",
              "      <th>6</th>\n",
              "      <td>7181</td>\n",
              "    </tr>\n",
              "    <tr>\n",
              "      <th>5</th>\n",
              "      <td>4761</td>\n",
              "    </tr>\n",
              "    <tr>\n",
              "      <th>2</th>\n",
              "      <td>4672</td>\n",
              "    </tr>\n",
              "    <tr>\n",
              "      <th>4</th>\n",
              "      <td>4056</td>\n",
              "    </tr>\n",
              "    <tr>\n",
              "      <th>3</th>\n",
              "      <td>3514</td>\n",
              "    </tr>\n",
              "  </tbody>\n",
              "</table>\n",
              "<p>84 rows × 1 columns</p>\n",
              "</div>\n",
              "      <button class=\"colab-df-convert\" onclick=\"convertToInteractive('df-0a30c84e-99d6-40bc-8585-f3d908bce59d')\"\n",
              "              title=\"Convert this dataframe to an interactive table.\"\n",
              "              style=\"display:none;\">\n",
              "        \n",
              "  <svg xmlns=\"http://www.w3.org/2000/svg\" height=\"24px\"viewBox=\"0 0 24 24\"\n",
              "       width=\"24px\">\n",
              "    <path d=\"M0 0h24v24H0V0z\" fill=\"none\"/>\n",
              "    <path d=\"M18.56 5.44l.94 2.06.94-2.06 2.06-.94-2.06-.94-.94-2.06-.94 2.06-2.06.94zm-11 1L8.5 8.5l.94-2.06 2.06-.94-2.06-.94L8.5 2.5l-.94 2.06-2.06.94zm10 10l.94 2.06.94-2.06 2.06-.94-2.06-.94-.94-2.06-.94 2.06-2.06.94z\"/><path d=\"M17.41 7.96l-1.37-1.37c-.4-.4-.92-.59-1.43-.59-.52 0-1.04.2-1.43.59L10.3 9.45l-7.72 7.72c-.78.78-.78 2.05 0 2.83L4 21.41c.39.39.9.59 1.41.59.51 0 1.02-.2 1.41-.59l7.78-7.78 2.81-2.81c.8-.78.8-2.07 0-2.86zM5.41 20L4 18.59l7.72-7.72 1.47 1.35L5.41 20z\"/>\n",
              "  </svg>\n",
              "      </button>\n",
              "      \n",
              "  <style>\n",
              "    .colab-df-container {\n",
              "      display:flex;\n",
              "      flex-wrap:wrap;\n",
              "      gap: 12px;\n",
              "    }\n",
              "\n",
              "    .colab-df-convert {\n",
              "      background-color: #E8F0FE;\n",
              "      border: none;\n",
              "      border-radius: 50%;\n",
              "      cursor: pointer;\n",
              "      display: none;\n",
              "      fill: #1967D2;\n",
              "      height: 32px;\n",
              "      padding: 0 0 0 0;\n",
              "      width: 32px;\n",
              "    }\n",
              "\n",
              "    .colab-df-convert:hover {\n",
              "      background-color: #E2EBFA;\n",
              "      box-shadow: 0px 1px 2px rgba(60, 64, 67, 0.3), 0px 1px 3px 1px rgba(60, 64, 67, 0.15);\n",
              "      fill: #174EA6;\n",
              "    }\n",
              "\n",
              "    [theme=dark] .colab-df-convert {\n",
              "      background-color: #3B4455;\n",
              "      fill: #D2E3FC;\n",
              "    }\n",
              "\n",
              "    [theme=dark] .colab-df-convert:hover {\n",
              "      background-color: #434B5C;\n",
              "      box-shadow: 0px 1px 3px 1px rgba(0, 0, 0, 0.15);\n",
              "      filter: drop-shadow(0px 1px 2px rgba(0, 0, 0, 0.3));\n",
              "      fill: #FFFFFF;\n",
              "    }\n",
              "  </style>\n",
              "\n",
              "      <script>\n",
              "        const buttonEl =\n",
              "          document.querySelector('#df-0a30c84e-99d6-40bc-8585-f3d908bce59d button.colab-df-convert');\n",
              "        buttonEl.style.display =\n",
              "          google.colab.kernel.accessAllowed ? 'block' : 'none';\n",
              "\n",
              "        async function convertToInteractive(key) {\n",
              "          const element = document.querySelector('#df-0a30c84e-99d6-40bc-8585-f3d908bce59d');\n",
              "          const dataTable =\n",
              "            await google.colab.kernel.invokeFunction('convertToInteractive',\n",
              "                                                     [key], {});\n",
              "          if (!dataTable) return;\n",
              "\n",
              "          const docLinkHtml = 'Like what you see? Visit the ' +\n",
              "            '<a target=\"_blank\" href=https://colab.research.google.com/notebooks/data_table.ipynb>data table notebook</a>'\n",
              "            + ' to learn more about interactive tables.';\n",
              "          element.innerHTML = '';\n",
              "          dataTable['output_type'] = 'display_data';\n",
              "          await google.colab.output.renderOutput(dataTable, element);\n",
              "          const docLink = document.createElement('div');\n",
              "          docLink.innerHTML = docLinkHtml;\n",
              "          element.appendChild(docLink);\n",
              "        }\n",
              "      </script>\n",
              "    </div>\n",
              "  </div>\n",
              "  "
            ]
          },
          "metadata": {},
          "execution_count": 120
        }
      ],
      "source": [
        "pd.DataFrame(data_clean.groupby(['member_casual','session'])[\"weekday\"].value_counts())"
      ]
    },
    {
      "cell_type": "code",
      "execution_count": null,
      "metadata": {
        "id": "XQBlcvHxeHLD"
      },
      "outputs": [],
      "source": [
        "session_info = pd.DataFrame(data_clean.groupby(['member_casual'])[\"session\"].value_counts()).sort_index()"
      ]
    },
    {
      "cell_type": "code",
      "execution_count": null,
      "metadata": {
        "colab": {
          "base_uri": "https://localhost:8080/"
        },
        "id": "YrI-ECrpkibj",
        "outputId": "eae57e29-46d8-4e00-d37a-da01411c13a0"
      },
      "outputs": [
        {
          "output_type": "execute_result",
          "data": {
            "text/plain": [
              "array([113931, 392073, 609740, 605217, 217866, 109475])"
            ]
          },
          "metadata": {},
          "execution_count": 122
        }
      ],
      "source": [
        "session_info.loc['casual',:]['session'].values"
      ]
    },
    {
      "cell_type": "code",
      "execution_count": null,
      "metadata": {
        "id": "GSBoUHGvkHx0"
      },
      "outputs": [],
      "source": [
        "session_info.to_csv(\"Session_info.csv\")"
      ]
    },
    {
      "cell_type": "code",
      "execution_count": null,
      "metadata": {
        "colab": {
          "base_uri": "https://localhost:8080/",
          "height": 457
        },
        "id": "4H8xCxNfkT33",
        "outputId": "aa1e8bd1-6d80-46f0-ad5f-e0b81c8497b1"
      },
      "outputs": [
        {
          "output_type": "execute_result",
          "data": {
            "text/plain": [
              "                       session\n",
              "member_casual session         \n",
              "casual        1         113931\n",
              "              2         392073\n",
              "              3         609740\n",
              "              4         605217\n",
              "              5         217866\n",
              "              6         109475\n",
              "member        1         377194\n",
              "              2         487621\n",
              "              3         668000\n",
              "              4         769517\n",
              "              5         175795\n",
              "              6          61675"
            ],
            "text/html": [
              "\n",
              "  <div id=\"df-2ae97671-6614-427c-a1ff-7eea1c697e11\">\n",
              "    <div class=\"colab-df-container\">\n",
              "      <div>\n",
              "<style scoped>\n",
              "    .dataframe tbody tr th:only-of-type {\n",
              "        vertical-align: middle;\n",
              "    }\n",
              "\n",
              "    .dataframe tbody tr th {\n",
              "        vertical-align: top;\n",
              "    }\n",
              "\n",
              "    .dataframe thead th {\n",
              "        text-align: right;\n",
              "    }\n",
              "</style>\n",
              "<table border=\"1\" class=\"dataframe\">\n",
              "  <thead>\n",
              "    <tr style=\"text-align: right;\">\n",
              "      <th></th>\n",
              "      <th></th>\n",
              "      <th>session</th>\n",
              "    </tr>\n",
              "    <tr>\n",
              "      <th>member_casual</th>\n",
              "      <th>session</th>\n",
              "      <th></th>\n",
              "    </tr>\n",
              "  </thead>\n",
              "  <tbody>\n",
              "    <tr>\n",
              "      <th rowspan=\"6\" valign=\"top\">casual</th>\n",
              "      <th>1</th>\n",
              "      <td>113931</td>\n",
              "    </tr>\n",
              "    <tr>\n",
              "      <th>2</th>\n",
              "      <td>392073</td>\n",
              "    </tr>\n",
              "    <tr>\n",
              "      <th>3</th>\n",
              "      <td>609740</td>\n",
              "    </tr>\n",
              "    <tr>\n",
              "      <th>4</th>\n",
              "      <td>605217</td>\n",
              "    </tr>\n",
              "    <tr>\n",
              "      <th>5</th>\n",
              "      <td>217866</td>\n",
              "    </tr>\n",
              "    <tr>\n",
              "      <th>6</th>\n",
              "      <td>109475</td>\n",
              "    </tr>\n",
              "    <tr>\n",
              "      <th rowspan=\"6\" valign=\"top\">member</th>\n",
              "      <th>1</th>\n",
              "      <td>377194</td>\n",
              "    </tr>\n",
              "    <tr>\n",
              "      <th>2</th>\n",
              "      <td>487621</td>\n",
              "    </tr>\n",
              "    <tr>\n",
              "      <th>3</th>\n",
              "      <td>668000</td>\n",
              "    </tr>\n",
              "    <tr>\n",
              "      <th>4</th>\n",
              "      <td>769517</td>\n",
              "    </tr>\n",
              "    <tr>\n",
              "      <th>5</th>\n",
              "      <td>175795</td>\n",
              "    </tr>\n",
              "    <tr>\n",
              "      <th>6</th>\n",
              "      <td>61675</td>\n",
              "    </tr>\n",
              "  </tbody>\n",
              "</table>\n",
              "</div>\n",
              "      <button class=\"colab-df-convert\" onclick=\"convertToInteractive('df-2ae97671-6614-427c-a1ff-7eea1c697e11')\"\n",
              "              title=\"Convert this dataframe to an interactive table.\"\n",
              "              style=\"display:none;\">\n",
              "        \n",
              "  <svg xmlns=\"http://www.w3.org/2000/svg\" height=\"24px\"viewBox=\"0 0 24 24\"\n",
              "       width=\"24px\">\n",
              "    <path d=\"M0 0h24v24H0V0z\" fill=\"none\"/>\n",
              "    <path d=\"M18.56 5.44l.94 2.06.94-2.06 2.06-.94-2.06-.94-.94-2.06-.94 2.06-2.06.94zm-11 1L8.5 8.5l.94-2.06 2.06-.94-2.06-.94L8.5 2.5l-.94 2.06-2.06.94zm10 10l.94 2.06.94-2.06 2.06-.94-2.06-.94-.94-2.06-.94 2.06-2.06.94z\"/><path d=\"M17.41 7.96l-1.37-1.37c-.4-.4-.92-.59-1.43-.59-.52 0-1.04.2-1.43.59L10.3 9.45l-7.72 7.72c-.78.78-.78 2.05 0 2.83L4 21.41c.39.39.9.59 1.41.59.51 0 1.02-.2 1.41-.59l7.78-7.78 2.81-2.81c.8-.78.8-2.07 0-2.86zM5.41 20L4 18.59l7.72-7.72 1.47 1.35L5.41 20z\"/>\n",
              "  </svg>\n",
              "      </button>\n",
              "      \n",
              "  <style>\n",
              "    .colab-df-container {\n",
              "      display:flex;\n",
              "      flex-wrap:wrap;\n",
              "      gap: 12px;\n",
              "    }\n",
              "\n",
              "    .colab-df-convert {\n",
              "      background-color: #E8F0FE;\n",
              "      border: none;\n",
              "      border-radius: 50%;\n",
              "      cursor: pointer;\n",
              "      display: none;\n",
              "      fill: #1967D2;\n",
              "      height: 32px;\n",
              "      padding: 0 0 0 0;\n",
              "      width: 32px;\n",
              "    }\n",
              "\n",
              "    .colab-df-convert:hover {\n",
              "      background-color: #E2EBFA;\n",
              "      box-shadow: 0px 1px 2px rgba(60, 64, 67, 0.3), 0px 1px 3px 1px rgba(60, 64, 67, 0.15);\n",
              "      fill: #174EA6;\n",
              "    }\n",
              "\n",
              "    [theme=dark] .colab-df-convert {\n",
              "      background-color: #3B4455;\n",
              "      fill: #D2E3FC;\n",
              "    }\n",
              "\n",
              "    [theme=dark] .colab-df-convert:hover {\n",
              "      background-color: #434B5C;\n",
              "      box-shadow: 0px 1px 3px 1px rgba(0, 0, 0, 0.15);\n",
              "      filter: drop-shadow(0px 1px 2px rgba(0, 0, 0, 0.3));\n",
              "      fill: #FFFFFF;\n",
              "    }\n",
              "  </style>\n",
              "\n",
              "      <script>\n",
              "        const buttonEl =\n",
              "          document.querySelector('#df-2ae97671-6614-427c-a1ff-7eea1c697e11 button.colab-df-convert');\n",
              "        buttonEl.style.display =\n",
              "          google.colab.kernel.accessAllowed ? 'block' : 'none';\n",
              "\n",
              "        async function convertToInteractive(key) {\n",
              "          const element = document.querySelector('#df-2ae97671-6614-427c-a1ff-7eea1c697e11');\n",
              "          const dataTable =\n",
              "            await google.colab.kernel.invokeFunction('convertToInteractive',\n",
              "                                                     [key], {});\n",
              "          if (!dataTable) return;\n",
              "\n",
              "          const docLinkHtml = 'Like what you see? Visit the ' +\n",
              "            '<a target=\"_blank\" href=https://colab.research.google.com/notebooks/data_table.ipynb>data table notebook</a>'\n",
              "            + ' to learn more about interactive tables.';\n",
              "          element.innerHTML = '';\n",
              "          dataTable['output_type'] = 'display_data';\n",
              "          await google.colab.output.renderOutput(dataTable, element);\n",
              "          const docLink = document.createElement('div');\n",
              "          docLink.innerHTML = docLinkHtml;\n",
              "          element.appendChild(docLink);\n",
              "        }\n",
              "      </script>\n",
              "    </div>\n",
              "  </div>\n",
              "  "
            ]
          },
          "metadata": {},
          "execution_count": 124
        }
      ],
      "source": [
        "session_info"
      ]
    },
    {
      "cell_type": "code",
      "execution_count": null,
      "metadata": {
        "colab": {
          "base_uri": "https://localhost:8080/",
          "height": 367
        },
        "id": "Qse9V7fLkC8N",
        "outputId": "c31f1ad7-0b45-48e2-9728-dcf5755cd259"
      },
      "outputs": [
        {
          "output_type": "execute_result",
          "data": {
            "text/plain": [
              "<matplotlib.legend.Legend at 0x7f08c63abd90>"
            ]
          },
          "metadata": {},
          "execution_count": 125
        },
        {
          "output_type": "display_data",
          "data": {
            "text/plain": [
              "<Figure size 576x360 with 1 Axes>"
            ],
            "image/png": "[encoded data removed]"
          },
          "metadata": {
            "needs_background": "light"
          }
        }
      ],
      "source": [
        "fig, ax = plt.subplots()\n",
        "\n",
        " \n",
        "fig.set_figwidth(8)\n",
        "fig.set_figheight(5) \n",
        "\n",
        " \n",
        "counts_1 = list(session_info.loc['casual',:]['session'].values)\n",
        "counts_2 = list(session_info.loc['member',:]['session'].values)\n",
        "\n",
        "\n",
        " \n",
        "#ax.bar(fruits, counts)\n",
        "\n",
        "X_axis = np.arange(1,7)\n",
        "ax.bar(X_axis - 0.2, counts_1, 0.4, label = 'Casual')\n",
        "ax.bar(X_axis + 0.2, counts_2, 0.4, label = 'Member')\n",
        "  \n",
        "\n",
        "ax.set_ylabel('Count')\n",
        "ax.set_xlabel('Session')\n",
        "ax.set_title('Session_Count')\n",
        "ax.legend(title='Session_Count',loc=0)"
      ]
    },
    {
      "cell_type": "markdown",
      "metadata": {
        "id": "TiN4e-rQlKlK"
      },
      "source": [
        "1 stands for 'Early morning'\n",
        "2 stands for  'Morning'\n",
        "3 stands for  'Noon'\n",
        "4 stands for  'Eve'\n",
        "5 stands for  'Night'\n",
        "6 stands for  'Late Night'\n",
        "\n",
        "More members than casual ride from early Morning to Eve,  Poromotion activites to encourage casual to ride at this time;Casual ride more at night and late night."
      ]
    },
    {
      "cell_type": "code",
      "execution_count": null,
      "metadata": {
        "colab": {
          "base_uri": "https://localhost:8080/",
          "height": 455
        },
        "id": "S19X3pludtS8",
        "outputId": "238dc9fc-87c1-4500-a203-d6d250ce592e"
      },
      "outputs": [
        {
          "output_type": "execute_result",
          "data": {
            "text/plain": [
              "                               weekday\n",
              "member_casual session weekday         \n",
              "casual        1       4          17984\n",
              "                      3          17846\n",
              "                      5          17107\n",
              "                      6          16017\n",
              "                      2          15937\n",
              "...                                ...\n",
              "member        6       6           7181\n",
              "                      5           4761\n",
              "                      2           4672\n",
              "                      4           4056\n",
              "                      3           3514\n",
              "\n",
              "[84 rows x 1 columns]"
            ],
            "text/html": [
              "\n",
              "  <div id=\"df-d818b00b-5f32-459e-9ad3-608528cb60eb\">\n",
              "    <div class=\"colab-df-container\">\n",
              "      <div>\n",
              "<style scoped>\n",
              "    .dataframe tbody tr th:only-of-type {\n",
              "        vertical-align: middle;\n",
              "    }\n",
              "\n",
              "    .dataframe tbody tr th {\n",
              "        vertical-align: top;\n",
              "    }\n",
              "\n",
              "    .dataframe thead th {\n",
              "        text-align: right;\n",
              "    }\n",
              "</style>\n",
              "<table border=\"1\" class=\"dataframe\">\n",
              "  <thead>\n",
              "    <tr style=\"text-align: right;\">\n",
              "      <th></th>\n",
              "      <th></th>\n",
              "      <th></th>\n",
              "      <th>weekday</th>\n",
              "    </tr>\n",
              "    <tr>\n",
              "      <th>member_casual</th>\n",
              "      <th>session</th>\n",
              "      <th>weekday</th>\n",
              "      <th></th>\n",
              "    </tr>\n",
              "  </thead>\n",
              "  <tbody>\n",
              "    <tr>\n",
              "      <th rowspan=\"5\" valign=\"top\">casual</th>\n",
              "      <th rowspan=\"5\" valign=\"top\">1</th>\n",
              "      <th>4</th>\n",
              "      <td>17984</td>\n",
              "    </tr>\n",
              "    <tr>\n",
              "      <th>3</th>\n",
              "      <td>17846</td>\n",
              "    </tr>\n",
              "    <tr>\n",
              "      <th>5</th>\n",
              "      <td>17107</td>\n",
              "    </tr>\n",
              "    <tr>\n",
              "      <th>6</th>\n",
              "      <td>16017</td>\n",
              "    </tr>\n",
              "    <tr>\n",
              "      <th>2</th>\n",
              "      <td>15937</td>\n",
              "    </tr>\n",
              "    <tr>\n",
              "      <th>...</th>\n",
              "      <th>...</th>\n",
              "      <th>...</th>\n",
              "      <td>...</td>\n",
              "    </tr>\n",
              "    <tr>\n",
              "      <th rowspan=\"5\" valign=\"top\">member</th>\n",
              "      <th rowspan=\"5\" valign=\"top\">6</th>\n",
              "      <th>6</th>\n",
              "      <td>7181</td>\n",
              "    </tr>\n",
              "    <tr>\n",
              "      <th>5</th>\n",
              "      <td>4761</td>\n",
              "    </tr>\n",
              "    <tr>\n",
              "      <th>2</th>\n",
              "      <td>4672</td>\n",
              "    </tr>\n",
              "    <tr>\n",
              "      <th>4</th>\n",
              "      <td>4056</td>\n",
              "    </tr>\n",
              "    <tr>\n",
              "      <th>3</th>\n",
              "      <td>3514</td>\n",
              "    </tr>\n",
              "  </tbody>\n",
              "</table>\n",
              "<p>84 rows × 1 columns</p>\n",
              "</div>\n",
              "      <button class=\"colab-df-convert\" onclick=\"convertToInteractive('df-d818b00b-5f32-459e-9ad3-608528cb60eb')\"\n",
              "              title=\"Convert this dataframe to an interactive table.\"\n",
              "              style=\"display:none;\">\n",
              "        \n",
              "  <svg xmlns=\"http://www.w3.org/2000/svg\" height=\"24px\"viewBox=\"0 0 24 24\"\n",
              "       width=\"24px\">\n",
              "    <path d=\"M0 0h24v24H0V0z\" fill=\"none\"/>\n",
              "    <path d=\"M18.56 5.44l.94 2.06.94-2.06 2.06-.94-2.06-.94-.94-2.06-.94 2.06-2.06.94zm-11 1L8.5 8.5l.94-2.06 2.06-.94-2.06-.94L8.5 2.5l-.94 2.06-2.06.94zm10 10l.94 2.06.94-2.06 2.06-.94-2.06-.94-.94-2.06-.94 2.06-2.06.94z\"/><path d=\"M17.41 7.96l-1.37-1.37c-.4-.4-.92-.59-1.43-.59-.52 0-1.04.2-1.43.59L10.3 9.45l-7.72 7.72c-.78.78-.78 2.05 0 2.83L4 21.41c.39.39.9.59 1.41.59.51 0 1.02-.2 1.41-.59l7.78-7.78 2.81-2.81c.8-.78.8-2.07 0-2.86zM5.41 20L4 18.59l7.72-7.72 1.47 1.35L5.41 20z\"/>\n",
              "  </svg>\n",
              "      </button>\n",
              "      \n",
              "  <style>\n",
              "    .colab-df-container {\n",
              "      display:flex;\n",
              "      flex-wrap:wrap;\n",
              "      gap: 12px;\n",
              "    }\n",
              "\n",
              "    .colab-df-convert {\n",
              "      background-color: #E8F0FE;\n",
              "      border: none;\n",
              "      border-radius: 50%;\n",
              "      cursor: pointer;\n",
              "      display: none;\n",
              "      fill: #1967D2;\n",
              "      height: 32px;\n",
              "      padding: 0 0 0 0;\n",
              "      width: 32px;\n",
              "    }\n",
              "\n",
              "    .colab-df-convert:hover {\n",
              "      background-color: #E2EBFA;\n",
              "      box-shadow: 0px 1px 2px rgba(60, 64, 67, 0.3), 0px 1px 3px 1px rgba(60, 64, 67, 0.15);\n",
              "      fill: #174EA6;\n",
              "    }\n",
              "\n",
              "    [theme=dark] .colab-df-convert {\n",
              "      background-color: #3B4455;\n",
              "      fill: #D2E3FC;\n",
              "    }\n",
              "\n",
              "    [theme=dark] .colab-df-convert:hover {\n",
              "      background-color: #434B5C;\n",
              "      box-shadow: 0px 1px 3px 1px rgba(0, 0, 0, 0.15);\n",
              "      filter: drop-shadow(0px 1px 2px rgba(0, 0, 0, 0.3));\n",
              "      fill: #FFFFFF;\n",
              "    }\n",
              "  </style>\n",
              "\n",
              "      <script>\n",
              "        const buttonEl =\n",
              "          document.querySelector('#df-d818b00b-5f32-459e-9ad3-608528cb60eb button.colab-df-convert');\n",
              "        buttonEl.style.display =\n",
              "          google.colab.kernel.accessAllowed ? 'block' : 'none';\n",
              "\n",
              "        async function convertToInteractive(key) {\n",
              "          const element = document.querySelector('#df-d818b00b-5f32-459e-9ad3-608528cb60eb');\n",
              "          const dataTable =\n",
              "            await google.colab.kernel.invokeFunction('convertToInteractive',\n",
              "                                                     [key], {});\n",
              "          if (!dataTable) return;\n",
              "\n",
              "          const docLinkHtml = 'Like what you see? Visit the ' +\n",
              "            '<a target=\"_blank\" href=https://colab.research.google.com/notebooks/data_table.ipynb>data table notebook</a>'\n",
              "            + ' to learn more about interactive tables.';\n",
              "          element.innerHTML = '';\n",
              "          dataTable['output_type'] = 'display_data';\n",
              "          await google.colab.output.renderOutput(dataTable, element);\n",
              "          const docLink = document.createElement('div');\n",
              "          docLink.innerHTML = docLinkHtml;\n",
              "          element.appendChild(docLink);\n",
              "        }\n",
              "      </script>\n",
              "    </div>\n",
              "  </div>\n",
              "  "
            ]
          },
          "metadata": {},
          "execution_count": 126
        }
      ],
      "source": [
        "pd.DataFrame(data_clean.groupby(['member_casual','session'])[\"weekday\"].value_counts())"
      ]
    },
    {
      "cell_type": "code",
      "execution_count": null,
      "metadata": {
        "id": "g4ht1YmPrmFF"
      },
      "outputs": [],
      "source": [
        "session_weekday_info = pd.DataFrame(data_clean.groupby(['member_casual','session'])[\"weekday\"].value_counts()).sort_index()"
      ]
    },
    {
      "cell_type": "code",
      "execution_count": null,
      "metadata": {
        "colab": {
          "base_uri": "https://localhost:8080/",
          "height": 455
        },
        "id": "V9okTVa45CJK",
        "outputId": "85ff4cdd-f998-4b7d-8024-0517f0bd877e"
      },
      "outputs": [
        {
          "output_type": "execute_result",
          "data": {
            "text/plain": [
              "                               weekday\n",
              "member_casual session weekday         \n",
              "casual        1       1          13970\n",
              "                      2          15937\n",
              "                      3          17846\n",
              "                      4          17984\n",
              "                      5          17107\n",
              "...                                ...\n",
              "member        6       3           3514\n",
              "                      4           4056\n",
              "                      5           4761\n",
              "                      6           7181\n",
              "                      7          17865\n",
              "\n",
              "[84 rows x 1 columns]"
            ],
            "text/html": [
              "\n",
              "  <div id=\"df-1b33ada3-7e77-49d8-8054-36154cb74ba1\">\n",
              "    <div class=\"colab-df-container\">\n",
              "      <div>\n",
              "<style scoped>\n",
              "    .dataframe tbody tr th:only-of-type {\n",
              "        vertical-align: middle;\n",
              "    }\n",
              "\n",
              "    .dataframe tbody tr th {\n",
              "        vertical-align: top;\n",
              "    }\n",
              "\n",
              "    .dataframe thead th {\n",
              "        text-align: right;\n",
              "    }\n",
              "</style>\n",
              "<table border=\"1\" class=\"dataframe\">\n",
              "  <thead>\n",
              "    <tr style=\"text-align: right;\">\n",
              "      <th></th>\n",
              "      <th></th>\n",
              "      <th></th>\n",
              "      <th>weekday</th>\n",
              "    </tr>\n",
              "    <tr>\n",
              "      <th>member_casual</th>\n",
              "      <th>session</th>\n",
              "      <th>weekday</th>\n",
              "      <th></th>\n",
              "    </tr>\n",
              "  </thead>\n",
              "  <tbody>\n",
              "    <tr>\n",
              "      <th rowspan=\"5\" valign=\"top\">casual</th>\n",
              "      <th rowspan=\"5\" valign=\"top\">1</th>\n",
              "      <th>1</th>\n",
              "      <td>13970</td>\n",
              "    </tr>\n",
              "    <tr>\n",
              "      <th>2</th>\n",
              "      <td>15937</td>\n",
              "    </tr>\n",
              "    <tr>\n",
              "      <th>3</th>\n",
              "      <td>17846</td>\n",
              "    </tr>\n",
              "    <tr>\n",
              "      <th>4</th>\n",
              "      <td>17984</td>\n",
              "    </tr>\n",
              "    <tr>\n",
              "      <th>5</th>\n",
              "      <td>17107</td>\n",
              "    </tr>\n",
              "    <tr>\n",
              "      <th>...</th>\n",
              "      <th>...</th>\n",
              "      <th>...</th>\n",
              "      <td>...</td>\n",
              "    </tr>\n",
              "    <tr>\n",
              "      <th rowspan=\"5\" valign=\"top\">member</th>\n",
              "      <th rowspan=\"5\" valign=\"top\">6</th>\n",
              "      <th>3</th>\n",
              "      <td>3514</td>\n",
              "    </tr>\n",
              "    <tr>\n",
              "      <th>4</th>\n",
              "      <td>4056</td>\n",
              "    </tr>\n",
              "    <tr>\n",
              "      <th>5</th>\n",
              "      <td>4761</td>\n",
              "    </tr>\n",
              "    <tr>\n",
              "      <th>6</th>\n",
              "      <td>7181</td>\n",
              "    </tr>\n",
              "    <tr>\n",
              "      <th>7</th>\n",
              "      <td>17865</td>\n",
              "    </tr>\n",
              "  </tbody>\n",
              "</table>\n",
              "<p>84 rows × 1 columns</p>\n",
              "</div>\n",
              "      <button class=\"colab-df-convert\" onclick=\"convertToInteractive('df-1b33ada3-7e77-49d8-8054-36154cb74ba1')\"\n",
              "              title=\"Convert this dataframe to an interactive table.\"\n",
              "              style=\"display:none;\">\n",
              "        \n",
              "  <svg xmlns=\"http://www.w3.org/2000/svg\" height=\"24px\"viewBox=\"0 0 24 24\"\n",
              "       width=\"24px\">\n",
              "    <path d=\"M0 0h24v24H0V0z\" fill=\"none\"/>\n",
              "    <path d=\"M18.56 5.44l.94 2.06.94-2.06 2.06-.94-2.06-.94-.94-2.06-.94 2.06-2.06.94zm-11 1L8.5 8.5l.94-2.06 2.06-.94-2.06-.94L8.5 2.5l-.94 2.06-2.06.94zm10 10l.94 2.06.94-2.06 2.06-.94-2.06-.94-.94-2.06-.94 2.06-2.06.94z\"/><path d=\"M17.41 7.96l-1.37-1.37c-.4-.4-.92-.59-1.43-.59-.52 0-1.04.2-1.43.59L10.3 9.45l-7.72 7.72c-.78.78-.78 2.05 0 2.83L4 21.41c.39.39.9.59 1.41.59.51 0 1.02-.2 1.41-.59l7.78-7.78 2.81-2.81c.8-.78.8-2.07 0-2.86zM5.41 20L4 18.59l7.72-7.72 1.47 1.35L5.41 20z\"/>\n",
              "  </svg>\n",
              "      </button>\n",
              "      \n",
              "  <style>\n",
              "    .colab-df-container {\n",
              "      display:flex;\n",
              "      flex-wrap:wrap;\n",
              "      gap: 12px;\n",
              "    }\n",
              "\n",
              "    .colab-df-convert {\n",
              "      background-color: #E8F0FE;\n",
              "      border: none;\n",
              "      border-radius: 50%;\n",
              "      cursor: pointer;\n",
              "      display: none;\n",
              "      fill: #1967D2;\n",
              "      height: 32px;\n",
              "      padding: 0 0 0 0;\n",
              "      width: 32px;\n",
              "    }\n",
              "\n",
              "    .colab-df-convert:hover {\n",
              "      background-color: #E2EBFA;\n",
              "      box-shadow: 0px 1px 2px rgba(60, 64, 67, 0.3), 0px 1px 3px 1px rgba(60, 64, 67, 0.15);\n",
              "      fill: #174EA6;\n",
              "    }\n",
              "\n",
              "    [theme=dark] .colab-df-convert {\n",
              "      background-color: #3B4455;\n",
              "      fill: #D2E3FC;\n",
              "    }\n",
              "\n",
              "    [theme=dark] .colab-df-convert:hover {\n",
              "      background-color: #434B5C;\n",
              "      box-shadow: 0px 1px 3px 1px rgba(0, 0, 0, 0.15);\n",
              "      filter: drop-shadow(0px 1px 2px rgba(0, 0, 0, 0.3));\n",
              "      fill: #FFFFFF;\n",
              "    }\n",
              "  </style>\n",
              "\n",
              "      <script>\n",
              "        const buttonEl =\n",
              "          document.querySelector('#df-1b33ada3-7e77-49d8-8054-36154cb74ba1 button.colab-df-convert');\n",
              "        buttonEl.style.display =\n",
              "          google.colab.kernel.accessAllowed ? 'block' : 'none';\n",
              "\n",
              "        async function convertToInteractive(key) {\n",
              "          const element = document.querySelector('#df-1b33ada3-7e77-49d8-8054-36154cb74ba1');\n",
              "          const dataTable =\n",
              "            await google.colab.kernel.invokeFunction('convertToInteractive',\n",
              "                                                     [key], {});\n",
              "          if (!dataTable) return;\n",
              "\n",
              "          const docLinkHtml = 'Like what you see? Visit the ' +\n",
              "            '<a target=\"_blank\" href=https://colab.research.google.com/notebooks/data_table.ipynb>data table notebook</a>'\n",
              "            + ' to learn more about interactive tables.';\n",
              "          element.innerHTML = '';\n",
              "          dataTable['output_type'] = 'display_data';\n",
              "          await google.colab.output.renderOutput(dataTable, element);\n",
              "          const docLink = document.createElement('div');\n",
              "          docLink.innerHTML = docLinkHtml;\n",
              "          element.appendChild(docLink);\n",
              "        }\n",
              "      </script>\n",
              "    </div>\n",
              "  </div>\n",
              "  "
            ]
          },
          "metadata": {},
          "execution_count": 128
        }
      ],
      "source": [
        "session_weekday_info"
      ]
    },
    {
      "cell_type": "code",
      "execution_count": null,
      "metadata": {
        "id": "2Krngo8f5Dtj"
      },
      "outputs": [],
      "source": [
        "session_weekday_unstack_casual = session_weekday_info.loc['casual',:].unstack()"
      ]
    },
    {
      "cell_type": "code",
      "execution_count": null,
      "metadata": {
        "colab": {
          "base_uri": "https://localhost:8080/",
          "height": 300
        },
        "id": "OX6bM5Yd6hZW",
        "outputId": "e102cb75-9821-4b7f-adbc-48790919437d"
      },
      "outputs": [
        {
          "output_type": "execute_result",
          "data": {
            "text/plain": [
              "        weekday                                           \n",
              "weekday       1      2      3      4      5      6       7\n",
              "session                                                   \n",
              "1         13970  15937  17846  17984  17107  16017   15070\n",
              "2         93548  42461  34241  33574  33739  48545  105965\n",
              "3        139709  67282  56842  54538  55088  82705  153576\n",
              "4         88239  73004  78417  81297  81791  93539  108930\n",
              "5         27641  20723  22557  25561  30376  38475   52533\n",
              "6         40647   9524   5029   5175   6103  10753   32244"
            ],
            "text/html": [
              "\n",
              "  <div id=\"df-58606ffd-e57b-4b32-9ada-3359f6e5b459\">\n",
              "    <div class=\"colab-df-container\">\n",
              "      <div>\n",
              "<style scoped>\n",
              "    .dataframe tbody tr th:only-of-type {\n",
              "        vertical-align: middle;\n",
              "    }\n",
              "\n",
              "    .dataframe tbody tr th {\n",
              "        vertical-align: top;\n",
              "    }\n",
              "\n",
              "    .dataframe thead tr th {\n",
              "        text-align: left;\n",
              "    }\n",
              "\n",
              "    .dataframe thead tr:last-of-type th {\n",
              "        text-align: right;\n",
              "    }\n",
              "</style>\n",
              "<table border=\"1\" class=\"dataframe\">\n",
              "  <thead>\n",
              "    <tr>\n",
              "      <th></th>\n",
              "      <th colspan=\"7\" halign=\"left\">weekday</th>\n",
              "    </tr>\n",
              "    <tr>\n",
              "      <th>weekday</th>\n",
              "      <th>1</th>\n",
              "      <th>2</th>\n",
              "      <th>3</th>\n",
              "      <th>4</th>\n",
              "      <th>5</th>\n",
              "      <th>6</th>\n",
              "      <th>7</th>\n",
              "    </tr>\n",
              "    <tr>\n",
              "      <th>session</th>\n",
              "      <th></th>\n",
              "      <th></th>\n",
              "      <th></th>\n",
              "      <th></th>\n",
              "      <th></th>\n",
              "      <th></th>\n",
              "      <th></th>\n",
              "    </tr>\n",
              "  </thead>\n",
              "  <tbody>\n",
              "    <tr>\n",
              "      <th>1</th>\n",
              "      <td>13970</td>\n",
              "      <td>15937</td>\n",
              "      <td>17846</td>\n",
              "      <td>17984</td>\n",
              "      <td>17107</td>\n",
              "      <td>16017</td>\n",
              "      <td>15070</td>\n",
              "    </tr>\n",
              "    <tr>\n",
              "      <th>2</th>\n",
              "      <td>93548</td>\n",
              "      <td>42461</td>\n",
              "      <td>34241</td>\n",
              "      <td>33574</td>\n",
              "      <td>33739</td>\n",
              "      <td>48545</td>\n",
              "      <td>105965</td>\n",
              "    </tr>\n",
              "    <tr>\n",
              "      <th>3</th>\n",
              "      <td>139709</td>\n",
              "      <td>67282</td>\n",
              "      <td>56842</td>\n",
              "      <td>54538</td>\n",
              "      <td>55088</td>\n",
              "      <td>82705</td>\n",
              "      <td>153576</td>\n",
              "    </tr>\n",
              "    <tr>\n",
              "      <th>4</th>\n",
              "      <td>88239</td>\n",
              "      <td>73004</td>\n",
              "      <td>78417</td>\n",
              "      <td>81297</td>\n",
              "      <td>81791</td>\n",
              "      <td>93539</td>\n",
              "      <td>108930</td>\n",
              "    </tr>\n",
              "    <tr>\n",
              "      <th>5</th>\n",
              "      <td>27641</td>\n",
              "      <td>20723</td>\n",
              "      <td>22557</td>\n",
              "      <td>25561</td>\n",
              "      <td>30376</td>\n",
              "      <td>38475</td>\n",
              "      <td>52533</td>\n",
              "    </tr>\n",
              "    <tr>\n",
              "      <th>6</th>\n",
              "      <td>40647</td>\n",
              "      <td>9524</td>\n",
              "      <td>5029</td>\n",
              "      <td>5175</td>\n",
              "      <td>6103</td>\n",
              "      <td>10753</td>\n",
              "      <td>32244</td>\n",
              "    </tr>\n",
              "  </tbody>\n",
              "</table>\n",
              "</div>\n",
              "      <button class=\"colab-df-convert\" onclick=\"convertToInteractive('df-58606ffd-e57b-4b32-9ada-3359f6e5b459')\"\n",
              "              title=\"Convert this dataframe to an interactive table.\"\n",
              "              style=\"display:none;\">\n",
              "        \n",
              "  <svg xmlns=\"http://www.w3.org/2000/svg\" height=\"24px\"viewBox=\"0 0 24 24\"\n",
              "       width=\"24px\">\n",
              "    <path d=\"M0 0h24v24H0V0z\" fill=\"none\"/>\n",
              "    <path d=\"M18.56 5.44l.94 2.06.94-2.06 2.06-.94-2.06-.94-.94-2.06-.94 2.06-2.06.94zm-11 1L8.5 8.5l.94-2.06 2.06-.94-2.06-.94L8.5 2.5l-.94 2.06-2.06.94zm10 10l.94 2.06.94-2.06 2.06-.94-2.06-.94-.94-2.06-.94 2.06-2.06.94z\"/><path d=\"M17.41 7.96l-1.37-1.37c-.4-.4-.92-.59-1.43-.59-.52 0-1.04.2-1.43.59L10.3 9.45l-7.72 7.72c-.78.78-.78 2.05 0 2.83L4 21.41c.39.39.9.59 1.41.59.51 0 1.02-.2 1.41-.59l7.78-7.78 2.81-2.81c.8-.78.8-2.07 0-2.86zM5.41 20L4 18.59l7.72-7.72 1.47 1.35L5.41 20z\"/>\n",
              "  </svg>\n",
              "      </button>\n",
              "      \n",
              "  <style>\n",
              "    .colab-df-container {\n",
              "      display:flex;\n",
              "      flex-wrap:wrap;\n",
              "      gap: 12px;\n",
              "    }\n",
              "\n",
              "    .colab-df-convert {\n",
              "      background-color: #E8F0FE;\n",
              "      border: none;\n",
              "      border-radius: 50%;\n",
              "      cursor: pointer;\n",
              "      display: none;\n",
              "      fill: #1967D2;\n",
              "      height: 32px;\n",
              "      padding: 0 0 0 0;\n",
              "      width: 32px;\n",
              "    }\n",
              "\n",
              "    .colab-df-convert:hover {\n",
              "      background-color: #E2EBFA;\n",
              "      box-shadow: 0px 1px 2px rgba(60, 64, 67, 0.3), 0px 1px 3px 1px rgba(60, 64, 67, 0.15);\n",
              "      fill: #174EA6;\n",
              "    }\n",
              "\n",
              "    [theme=dark] .colab-df-convert {\n",
              "      background-color: #3B4455;\n",
              "      fill: #D2E3FC;\n",
              "    }\n",
              "\n",
              "    [theme=dark] .colab-df-convert:hover {\n",
              "      background-color: #434B5C;\n",
              "      box-shadow: 0px 1px 3px 1px rgba(0, 0, 0, 0.15);\n",
              "      filter: drop-shadow(0px 1px 2px rgba(0, 0, 0, 0.3));\n",
              "      fill: #FFFFFF;\n",
              "    }\n",
              "  </style>\n",
              "\n",
              "      <script>\n",
              "        const buttonEl =\n",
              "          document.querySelector('#df-58606ffd-e57b-4b32-9ada-3359f6e5b459 button.colab-df-convert');\n",
              "        buttonEl.style.display =\n",
              "          google.colab.kernel.accessAllowed ? 'block' : 'none';\n",
              "\n",
              "        async function convertToInteractive(key) {\n",
              "          const element = document.querySelector('#df-58606ffd-e57b-4b32-9ada-3359f6e5b459');\n",
              "          const dataTable =\n",
              "            await google.colab.kernel.invokeFunction('convertToInteractive',\n",
              "                                                     [key], {});\n",
              "          if (!dataTable) return;\n",
              "\n",
              "          const docLinkHtml = 'Like what you see? Visit the ' +\n",
              "            '<a target=\"_blank\" href=https://colab.research.google.com/notebooks/data_table.ipynb>data table notebook</a>'\n",
              "            + ' to learn more about interactive tables.';\n",
              "          element.innerHTML = '';\n",
              "          dataTable['output_type'] = 'display_data';\n",
              "          await google.colab.output.renderOutput(dataTable, element);\n",
              "          const docLink = document.createElement('div');\n",
              "          docLink.innerHTML = docLinkHtml;\n",
              "          element.appendChild(docLink);\n",
              "        }\n",
              "      </script>\n",
              "    </div>\n",
              "  </div>\n",
              "  "
            ]
          },
          "metadata": {},
          "execution_count": 130
        }
      ],
      "source": [
        "session_weekday_unstack_casual"
      ]
    },
    {
      "cell_type": "code",
      "execution_count": null,
      "metadata": {
        "id": "03o8Nb5G5sKQ"
      },
      "outputs": [],
      "source": [
        "session_weekday_unstack_casual['Max_in_weekday']=session_weekday_unstack_casual.apply(lambda x:x.argmax() + 1,axis = 1)"
      ]
    },
    {
      "cell_type": "code",
      "execution_count": null,
      "metadata": {
        "colab": {
          "base_uri": "https://localhost:8080/",
          "height": 300
        },
        "id": "yB-ii_f06wV0",
        "outputId": "53eda5cf-9a1f-457c-a532-18b9e72017cb"
      },
      "outputs": [
        {
          "output_type": "execute_result",
          "data": {
            "text/plain": [
              "        weekday                                            Max_in_weekday\n",
              "weekday       1      2      3      4      5      6       7               \n",
              "session                                                                  \n",
              "1         13970  15937  17846  17984  17107  16017   15070              4\n",
              "2         93548  42461  34241  33574  33739  48545  105965              7\n",
              "3        139709  67282  56842  54538  55088  82705  153576              7\n",
              "4         88239  73004  78417  81297  81791  93539  108930              7\n",
              "5         27641  20723  22557  25561  30376  38475   52533              7\n",
              "6         40647   9524   5029   5175   6103  10753   32244              1"
            ],
            "text/html": [
              "\n",
              "  <div id=\"df-a30705e6-5f55-4511-a0aa-61ddf1e11221\">\n",
              "    <div class=\"colab-df-container\">\n",
              "      <div>\n",
              "<style scoped>\n",
              "    .dataframe tbody tr th:only-of-type {\n",
              "        vertical-align: middle;\n",
              "    }\n",
              "\n",
              "    .dataframe tbody tr th {\n",
              "        vertical-align: top;\n",
              "    }\n",
              "\n",
              "    .dataframe thead tr th {\n",
              "        text-align: left;\n",
              "    }\n",
              "\n",
              "    .dataframe thead tr:last-of-type th {\n",
              "        text-align: right;\n",
              "    }\n",
              "</style>\n",
              "<table border=\"1\" class=\"dataframe\">\n",
              "  <thead>\n",
              "    <tr>\n",
              "      <th></th>\n",
              "      <th colspan=\"7\" halign=\"left\">weekday</th>\n",
              "      <th>Max_in_weekday</th>\n",
              "    </tr>\n",
              "    <tr>\n",
              "      <th>weekday</th>\n",
              "      <th>1</th>\n",
              "      <th>2</th>\n",
              "      <th>3</th>\n",
              "      <th>4</th>\n",
              "      <th>5</th>\n",
              "      <th>6</th>\n",
              "      <th>7</th>\n",
              "      <th></th>\n",
              "    </tr>\n",
              "    <tr>\n",
              "      <th>session</th>\n",
              "      <th></th>\n",
              "      <th></th>\n",
              "      <th></th>\n",
              "      <th></th>\n",
              "      <th></th>\n",
              "      <th></th>\n",
              "      <th></th>\n",
              "      <th></th>\n",
              "    </tr>\n",
              "  </thead>\n",
              "  <tbody>\n",
              "    <tr>\n",
              "      <th>1</th>\n",
              "      <td>13970</td>\n",
              "      <td>15937</td>\n",
              "      <td>17846</td>\n",
              "      <td>17984</td>\n",
              "      <td>17107</td>\n",
              "      <td>16017</td>\n",
              "      <td>15070</td>\n",
              "      <td>4</td>\n",
              "    </tr>\n",
              "    <tr>\n",
              "      <th>2</th>\n",
              "      <td>93548</td>\n",
              "      <td>42461</td>\n",
              "      <td>34241</td>\n",
              "      <td>33574</td>\n",
              "      <td>33739</td>\n",
              "      <td>48545</td>\n",
              "      <td>105965</td>\n",
              "      <td>7</td>\n",
              "    </tr>\n",
              "    <tr>\n",
              "      <th>3</th>\n",
              "      <td>139709</td>\n",
              "      <td>67282</td>\n",
              "      <td>56842</td>\n",
              "      <td>54538</td>\n",
              "      <td>55088</td>\n",
              "      <td>82705</td>\n",
              "      <td>153576</td>\n",
              "      <td>7</td>\n",
              "    </tr>\n",
              "    <tr>\n",
              "      <th>4</th>\n",
              "      <td>88239</td>\n",
              "      <td>73004</td>\n",
              "      <td>78417</td>\n",
              "      <td>81297</td>\n",
              "      <td>81791</td>\n",
              "      <td>93539</td>\n",
              "      <td>108930</td>\n",
              "      <td>7</td>\n",
              "    </tr>\n",
              "    <tr>\n",
              "      <th>5</th>\n",
              "      <td>27641</td>\n",
              "      <td>20723</td>\n",
              "      <td>22557</td>\n",
              "      <td>25561</td>\n",
              "      <td>30376</td>\n",
              "      <td>38475</td>\n",
              "      <td>52533</td>\n",
              "      <td>7</td>\n",
              "    </tr>\n",
              "    <tr>\n",
              "      <th>6</th>\n",
              "      <td>40647</td>\n",
              "      <td>9524</td>\n",
              "      <td>5029</td>\n",
              "      <td>5175</td>\n",
              "      <td>6103</td>\n",
              "      <td>10753</td>\n",
              "      <td>32244</td>\n",
              "      <td>1</td>\n",
              "    </tr>\n",
              "  </tbody>\n",
              "</table>\n",
              "</div>\n",
              "      <button class=\"colab-df-convert\" onclick=\"convertToInteractive('df-a30705e6-5f55-4511-a0aa-61ddf1e11221')\"\n",
              "              title=\"Convert this dataframe to an interactive table.\"\n",
              "              style=\"display:none;\">\n",
              "        \n",
              "  <svg xmlns=\"http://www.w3.org/2000/svg\" height=\"24px\"viewBox=\"0 0 24 24\"\n",
              "       width=\"24px\">\n",
              "    <path d=\"M0 0h24v24H0V0z\" fill=\"none\"/>\n",
              "    <path d=\"M18.56 5.44l.94 2.06.94-2.06 2.06-.94-2.06-.94-.94-2.06-.94 2.06-2.06.94zm-11 1L8.5 8.5l.94-2.06 2.06-.94-2.06-.94L8.5 2.5l-.94 2.06-2.06.94zm10 10l.94 2.06.94-2.06 2.06-.94-2.06-.94-.94-2.06-.94 2.06-2.06.94z\"/><path d=\"M17.41 7.96l-1.37-1.37c-.4-.4-.92-.59-1.43-.59-.52 0-1.04.2-1.43.59L10.3 9.45l-7.72 7.72c-.78.78-.78 2.05 0 2.83L4 21.41c.39.39.9.59 1.41.59.51 0 1.02-.2 1.41-.59l7.78-7.78 2.81-2.81c.8-.78.8-2.07 0-2.86zM5.41 20L4 18.59l7.72-7.72 1.47 1.35L5.41 20z\"/>\n",
              "  </svg>\n",
              "      </button>\n",
              "      \n",
              "  <style>\n",
              "    .colab-df-container {\n",
              "      display:flex;\n",
              "      flex-wrap:wrap;\n",
              "      gap: 12px;\n",
              "    }\n",
              "\n",
              "    .colab-df-convert {\n",
              "      background-color: #E8F0FE;\n",
              "      border: none;\n",
              "      border-radius: 50%;\n",
              "      cursor: pointer;\n",
              "      display: none;\n",
              "      fill: #1967D2;\n",
              "      height: 32px;\n",
              "      padding: 0 0 0 0;\n",
              "      width: 32px;\n",
              "    }\n",
              "\n",
              "    .colab-df-convert:hover {\n",
              "      background-color: #E2EBFA;\n",
              "      box-shadow: 0px 1px 2px rgba(60, 64, 67, 0.3), 0px 1px 3px 1px rgba(60, 64, 67, 0.15);\n",
              "      fill: #174EA6;\n",
              "    }\n",
              "\n",
              "    [theme=dark] .colab-df-convert {\n",
              "      background-color: #3B4455;\n",
              "      fill: #D2E3FC;\n",
              "    }\n",
              "\n",
              "    [theme=dark] .colab-df-convert:hover {\n",
              "      background-color: #434B5C;\n",
              "      box-shadow: 0px 1px 3px 1px rgba(0, 0, 0, 0.15);\n",
              "      filter: drop-shadow(0px 1px 2px rgba(0, 0, 0, 0.3));\n",
              "      fill: #FFFFFF;\n",
              "    }\n",
              "  </style>\n",
              "\n",
              "      <script>\n",
              "        const buttonEl =\n",
              "          document.querySelector('#df-a30705e6-5f55-4511-a0aa-61ddf1e11221 button.colab-df-convert');\n",
              "        buttonEl.style.display =\n",
              "          google.colab.kernel.accessAllowed ? 'block' : 'none';\n",
              "\n",
              "        async function convertToInteractive(key) {\n",
              "          const element = document.querySelector('#df-a30705e6-5f55-4511-a0aa-61ddf1e11221');\n",
              "          const dataTable =\n",
              "            await google.colab.kernel.invokeFunction('convertToInteractive',\n",
              "                                                     [key], {});\n",
              "          if (!dataTable) return;\n",
              "\n",
              "          const docLinkHtml = 'Like what you see? Visit the ' +\n",
              "            '<a target=\"_blank\" href=https://colab.research.google.com/notebooks/data_table.ipynb>data table notebook</a>'\n",
              "            + ' to learn more about interactive tables.';\n",
              "          element.innerHTML = '';\n",
              "          dataTable['output_type'] = 'display_data';\n",
              "          await google.colab.output.renderOutput(dataTable, element);\n",
              "          const docLink = document.createElement('div');\n",
              "          docLink.innerHTML = docLinkHtml;\n",
              "          element.appendChild(docLink);\n",
              "        }\n",
              "      </script>\n",
              "    </div>\n",
              "  </div>\n",
              "  "
            ]
          },
          "metadata": {},
          "execution_count": 132
        }
      ],
      "source": [
        "\n",
        "session_weekday_unstack_casual"
      ]
    },
    {
      "cell_type": "code",
      "execution_count": null,
      "metadata": {
        "colab": {
          "base_uri": "https://localhost:8080/"
        },
        "id": "dKL6AQ0i6c_O",
        "outputId": "a41e3a69-586f-453b-e4a5-c700e06c9dd5"
      },
      "outputs": [
        {
          "output_type": "execute_result",
          "data": {
            "text/plain": [
              "                weekday\n",
              "weekday         1          3\n",
              "                2          4\n",
              "                3          4\n",
              "                4          4\n",
              "                5          4\n",
              "                6          4\n",
              "                7          3\n",
              "Max_in_weekday             2\n",
              "dtype: int64"
            ]
          },
          "metadata": {},
          "execution_count": 133
        }
      ],
      "source": [
        "\n",
        "session_weekday_unstack_casual.apply(lambda x:x.argmax() + 1,axis = 0) "
      ]
    },
    {
      "cell_type": "code",
      "execution_count": null,
      "metadata": {
        "id": "XDCl1LEy7KOW"
      },
      "outputs": [],
      "source": [
        "session_weekday_unstack_member = session_weekday_info.loc['member',:].unstack()"
      ]
    },
    {
      "cell_type": "code",
      "execution_count": null,
      "metadata": {
        "id": "p_IPP1Ul-7MZ"
      },
      "outputs": [],
      "source": [
        "session_weekday_unstack_member['Max_in_weekday']=session_weekday_unstack_member.apply(lambda x:x.argmax() + 1,axis = 1)"
      ]
    },
    {
      "cell_type": "code",
      "execution_count": null,
      "metadata": {
        "colab": {
          "base_uri": "https://localhost:8080/",
          "height": 300
        },
        "id": "OrAOkrjK_EVR",
        "outputId": "0174ad69-e1c7-4acd-e86b-ad490e16c0ac"
      },
      "outputs": [
        {
          "output_type": "execute_result",
          "data": {
            "text/plain": [
              "        weekday                                                 Max_in_weekday\n",
              "weekday       1       2       3       4       5       6       7               \n",
              "session                                                                       \n",
              "1         18776   60143   74687   74791   66885   56738   25174              4\n",
              "2         81118   58398   61396   63656   61185   65701   96167              7\n",
              "3        103139   86689   92201   92034   87525   98563  107849              7\n",
              "4         71102  117254  132848  136005  124140  108641   79527              4\n",
              "5         17451   19320   23474   27139   28973   28950   30488              7\n",
              "6         19626    4672    3514    4056    4761    7181   17865              1"
            ],
            "text/html": [
              "\n",
              "  <div id=\"df-63305d6f-8b7b-4313-a569-9697cec8d209\">\n",
              "    <div class=\"colab-df-container\">\n",
              "      <div>\n",
              "<style scoped>\n",
              "    .dataframe tbody tr th:only-of-type {\n",
              "        vertical-align: middle;\n",
              "    }\n",
              "\n",
              "    .dataframe tbody tr th {\n",
              "        vertical-align: top;\n",
              "    }\n",
              "\n",
              "    .dataframe thead tr th {\n",
              "        text-align: left;\n",
              "    }\n",
              "\n",
              "    .dataframe thead tr:last-of-type th {\n",
              "        text-align: right;\n",
              "    }\n",
              "</style>\n",
              "<table border=\"1\" class=\"dataframe\">\n",
              "  <thead>\n",
              "    <tr>\n",
              "      <th></th>\n",
              "      <th colspan=\"7\" halign=\"left\">weekday</th>\n",
              "      <th>Max_in_weekday</th>\n",
              "    </tr>\n",
              "    <tr>\n",
              "      <th>weekday</th>\n",
              "      <th>1</th>\n",
              "      <th>2</th>\n",
              "      <th>3</th>\n",
              "      <th>4</th>\n",
              "      <th>5</th>\n",
              "      <th>6</th>\n",
              "      <th>7</th>\n",
              "      <th></th>\n",
              "    </tr>\n",
              "    <tr>\n",
              "      <th>session</th>\n",
              "      <th></th>\n",
              "      <th></th>\n",
              "      <th></th>\n",
              "      <th></th>\n",
              "      <th></th>\n",
              "      <th></th>\n",
              "      <th></th>\n",
              "      <th></th>\n",
              "    </tr>\n",
              "  </thead>\n",
              "  <tbody>\n",
              "    <tr>\n",
              "      <th>1</th>\n",
              "      <td>18776</td>\n",
              "      <td>60143</td>\n",
              "      <td>74687</td>\n",
              "      <td>74791</td>\n",
              "      <td>66885</td>\n",
              "      <td>56738</td>\n",
              "      <td>25174</td>\n",
              "      <td>4</td>\n",
              "    </tr>\n",
              "    <tr>\n",
              "      <th>2</th>\n",
              "      <td>81118</td>\n",
              "      <td>58398</td>\n",
              "      <td>61396</td>\n",
              "      <td>63656</td>\n",
              "      <td>61185</td>\n",
              "      <td>65701</td>\n",
              "      <td>96167</td>\n",
              "      <td>7</td>\n",
              "    </tr>\n",
              "    <tr>\n",
              "      <th>3</th>\n",
              "      <td>103139</td>\n",
              "      <td>86689</td>\n",
              "      <td>92201</td>\n",
              "      <td>92034</td>\n",
              "      <td>87525</td>\n",
              "      <td>98563</td>\n",
              "      <td>107849</td>\n",
              "      <td>7</td>\n",
              "    </tr>\n",
              "    <tr>\n",
              "      <th>4</th>\n",
              "      <td>71102</td>\n",
              "      <td>117254</td>\n",
              "      <td>132848</td>\n",
              "      <td>136005</td>\n",
              "      <td>124140</td>\n",
              "      <td>108641</td>\n",
              "      <td>79527</td>\n",
              "      <td>4</td>\n",
              "    </tr>\n",
              "    <tr>\n",
              "      <th>5</th>\n",
              "      <td>17451</td>\n",
              "      <td>19320</td>\n",
              "      <td>23474</td>\n",
              "      <td>27139</td>\n",
              "      <td>28973</td>\n",
              "      <td>28950</td>\n",
              "      <td>30488</td>\n",
              "      <td>7</td>\n",
              "    </tr>\n",
              "    <tr>\n",
              "      <th>6</th>\n",
              "      <td>19626</td>\n",
              "      <td>4672</td>\n",
              "      <td>3514</td>\n",
              "      <td>4056</td>\n",
              "      <td>4761</td>\n",
              "      <td>7181</td>\n",
              "      <td>17865</td>\n",
              "      <td>1</td>\n",
              "    </tr>\n",
              "  </tbody>\n",
              "</table>\n",
              "</div>\n",
              "      <button class=\"colab-df-convert\" onclick=\"convertToInteractive('df-63305d6f-8b7b-4313-a569-9697cec8d209')\"\n",
              "              title=\"Convert this dataframe to an interactive table.\"\n",
              "              style=\"display:none;\">\n",
              "        \n",
              "  <svg xmlns=\"http://www.w3.org/2000/svg\" height=\"24px\"viewBox=\"0 0 24 24\"\n",
              "       width=\"24px\">\n",
              "    <path d=\"M0 0h24v24H0V0z\" fill=\"none\"/>\n",
              "    <path d=\"M18.56 5.44l.94 2.06.94-2.06 2.06-.94-2.06-.94-.94-2.06-.94 2.06-2.06.94zm-11 1L8.5 8.5l.94-2.06 2.06-.94-2.06-.94L8.5 2.5l-.94 2.06-2.06.94zm10 10l.94 2.06.94-2.06 2.06-.94-2.06-.94-.94-2.06-.94 2.06-2.06.94z\"/><path d=\"M17.41 7.96l-1.37-1.37c-.4-.4-.92-.59-1.43-.59-.52 0-1.04.2-1.43.59L10.3 9.45l-7.72 7.72c-.78.78-.78 2.05 0 2.83L4 21.41c.39.39.9.59 1.41.59.51 0 1.02-.2 1.41-.59l7.78-7.78 2.81-2.81c.8-.78.8-2.07 0-2.86zM5.41 20L4 18.59l7.72-7.72 1.47 1.35L5.41 20z\"/>\n",
              "  </svg>\n",
              "      </button>\n",
              "      \n",
              "  <style>\n",
              "    .colab-df-container {\n",
              "      display:flex;\n",
              "      flex-wrap:wrap;\n",
              "      gap: 12px;\n",
              "    }\n",
              "\n",
              "    .colab-df-convert {\n",
              "      background-color: #E8F0FE;\n",
              "      border: none;\n",
              "      border-radius: 50%;\n",
              "      cursor: pointer;\n",
              "      display: none;\n",
              "      fill: #1967D2;\n",
              "      height: 32px;\n",
              "      padding: 0 0 0 0;\n",
              "      width: 32px;\n",
              "    }\n",
              "\n",
              "    .colab-df-convert:hover {\n",
              "      background-color: #E2EBFA;\n",
              "      box-shadow: 0px 1px 2px rgba(60, 64, 67, 0.3), 0px 1px 3px 1px rgba(60, 64, 67, 0.15);\n",
              "      fill: #174EA6;\n",
              "    }\n",
              "\n",
              "    [theme=dark] .colab-df-convert {\n",
              "      background-color: #3B4455;\n",
              "      fill: #D2E3FC;\n",
              "    }\n",
              "\n",
              "    [theme=dark] .colab-df-convert:hover {\n",
              "      background-color: #434B5C;\n",
              "      box-shadow: 0px 1px 3px 1px rgba(0, 0, 0, 0.15);\n",
              "      filter: drop-shadow(0px 1px 2px rgba(0, 0, 0, 0.3));\n",
              "      fill: #FFFFFF;\n",
              "    }\n",
              "  </style>\n",
              "\n",
              "      <script>\n",
              "        const buttonEl =\n",
              "          document.querySelector('#df-63305d6f-8b7b-4313-a569-9697cec8d209 button.colab-df-convert');\n",
              "        buttonEl.style.display =\n",
              "          google.colab.kernel.accessAllowed ? 'block' : 'none';\n",
              "\n",
              "        async function convertToInteractive(key) {\n",
              "          const element = document.querySelector('#df-63305d6f-8b7b-4313-a569-9697cec8d209');\n",
              "          const dataTable =\n",
              "            await google.colab.kernel.invokeFunction('convertToInteractive',\n",
              "                                                     [key], {});\n",
              "          if (!dataTable) return;\n",
              "\n",
              "          const docLinkHtml = 'Like what you see? Visit the ' +\n",
              "            '<a target=\"_blank\" href=https://colab.research.google.com/notebooks/data_table.ipynb>data table notebook</a>'\n",
              "            + ' to learn more about interactive tables.';\n",
              "          element.innerHTML = '';\n",
              "          dataTable['output_type'] = 'display_data';\n",
              "          await google.colab.output.renderOutput(dataTable, element);\n",
              "          const docLink = document.createElement('div');\n",
              "          docLink.innerHTML = docLinkHtml;\n",
              "          element.appendChild(docLink);\n",
              "        }\n",
              "      </script>\n",
              "    </div>\n",
              "  </div>\n",
              "  "
            ]
          },
          "metadata": {},
          "execution_count": 136
        }
      ],
      "source": [
        "session_weekday_unstack_member"
      ]
    },
    {
      "cell_type": "code",
      "execution_count": null,
      "metadata": {
        "colab": {
          "base_uri": "https://localhost:8080/"
        },
        "id": "wmQ61WBO_Qkt",
        "outputId": "7fb542d0-7a9d-4372-ad8a-c03469e02826"
      },
      "outputs": [
        {
          "output_type": "execute_result",
          "data": {
            "text/plain": [
              "                weekday\n",
              "weekday         1          3\n",
              "                2          4\n",
              "                3          4\n",
              "                4          4\n",
              "                5          4\n",
              "                6          4\n",
              "                7          3\n",
              "Max_in_weekday             2\n",
              "dtype: int64"
            ]
          },
          "metadata": {},
          "execution_count": 137
        }
      ],
      "source": [
        "#一周七天，每天最多member 出现在哪个时段，一周七天，因此有7个最多\n",
        "session_weekday_unstack_member.apply(lambda x:x.argmax() + 1,axis = 0) "
      ]
    },
    {
      "cell_type": "code",
      "execution_count": null,
      "metadata": {
        "colab": {
          "base_uri": "https://localhost:8080/"
        },
        "id": "UqrHCRom4luV",
        "outputId": "1fabafa4-cca5-4e20-fdcb-e95c04f73434"
      },
      "outputs": [
        {
          "output_type": "stream",
          "name": "stdout",
          "text": [
            "<class 'pandas.core.frame.DataFrame'>\n",
            "Int64Index: 4588104 entries, 9 to 247539\n",
            "Data columns (total 19 columns):\n",
            " #   Column              Dtype         \n",
            "---  ------              -----         \n",
            " 0   ride_id             object        \n",
            " 1   rideable_type       object        \n",
            " 2   started_at          datetime64[ns]\n",
            " 3   ended_at            datetime64[ns]\n",
            " 4   start_station_name  object        \n",
            " 5   start_station_id    object        \n",
            " 6   end_station_name    object        \n",
            " 7   end_station_id      object        \n",
            " 8   start_lat           float64       \n",
            " 9   start_lng           float64       \n",
            " 10  end_lat             float64       \n",
            " 11  end_lng             float64       \n",
            " 12  member_casual       object        \n",
            " 13  ride_length         float64       \n",
            " 14  weekday             int64         \n",
            " 15  distance            float64       \n",
            " 16  Month               int64         \n",
            " 17  Hour                int64         \n",
            " 18  session             int64         \n",
            "dtypes: datetime64[ns](2), float64(6), int64(4), object(7)\n",
            "memory usage: 700.1+ MB\n"
          ]
        }
      ],
      "source": [
        "data_clean.info()"
      ]
    },
    {
      "cell_type": "code",
      "execution_count": null,
      "metadata": {
        "colab": {
          "base_uri": "https://localhost:8080/"
        },
        "id": "cRPjPbTm4oc5",
        "outputId": "1f900cd7-c409-47fd-ad15-cf27df6aacbc"
      },
      "outputs": [
        {
          "output_type": "execute_result",
          "data": {
            "text/plain": [
              "array(['classic_bike', 'electric_bike', 'docked_bike'], dtype=object)"
            ]
          },
          "metadata": {},
          "execution_count": 139
        }
      ],
      "source": [
        "data_clean['rideable_type'].unique()"
      ]
    },
    {
      "cell_type": "code",
      "execution_count": null,
      "metadata": {
        "colab": {
          "base_uri": "https://localhost:8080/"
        },
        "id": "NM4Jja8i45Lw",
        "outputId": "40a91fa7-1863-4464-871e-67c0c6dd90e3"
      },
      "outputs": [
        {
          "output_type": "execute_result",
          "data": {
            "text/plain": [
              "member_casual  rideable_type\n",
              "casual         classic_bike     1261508\n",
              "               electric_bike     474754\n",
              "               docked_bike       312040\n",
              "member         classic_bike     1980328\n",
              "               electric_bike     559473\n",
              "               docked_bike            1\n",
              "Name: rideable_type, dtype: int64"
            ]
          },
          "metadata": {},
          "execution_count": 140
        }
      ],
      "source": [
        "data_clean.groupby(['member_casual'])['rideable_type'].value_counts()"
      ]
    },
    {
      "cell_type": "code",
      "execution_count": null,
      "metadata": {
        "colab": {
          "base_uri": "https://localhost:8080/",
          "height": 455
        },
        "id": "UatFCFLFi30Y",
        "outputId": "e36b1f69-a2f0-496e-b3fa-9f1d91317d08"
      },
      "outputs": [
        {
          "output_type": "execute_result",
          "data": {
            "text/plain": [
              "                               weekday\n",
              "member_casual session weekday         \n",
              "casual        1       1          13970\n",
              "                      2          15937\n",
              "                      3          17846\n",
              "                      4          17984\n",
              "                      5          17107\n",
              "...                                ...\n",
              "member        6       3           3514\n",
              "                      4           4056\n",
              "                      5           4761\n",
              "                      6           7181\n",
              "                      7          17865\n",
              "\n",
              "[84 rows x 1 columns]"
            ],
            "text/html": [
              "\n",
              "  <div id=\"df-cec41abe-31f0-483a-ac57-36966ded3812\">\n",
              "    <div class=\"colab-df-container\">\n",
              "      <div>\n",
              "<style scoped>\n",
              "    .dataframe tbody tr th:only-of-type {\n",
              "        vertical-align: middle;\n",
              "    }\n",
              "\n",
              "    .dataframe tbody tr th {\n",
              "        vertical-align: top;\n",
              "    }\n",
              "\n",
              "    .dataframe thead th {\n",
              "        text-align: right;\n",
              "    }\n",
              "</style>\n",
              "<table border=\"1\" class=\"dataframe\">\n",
              "  <thead>\n",
              "    <tr style=\"text-align: right;\">\n",
              "      <th></th>\n",
              "      <th></th>\n",
              "      <th></th>\n",
              "      <th>weekday</th>\n",
              "    </tr>\n",
              "    <tr>\n",
              "      <th>member_casual</th>\n",
              "      <th>session</th>\n",
              "      <th>weekday</th>\n",
              "      <th></th>\n",
              "    </tr>\n",
              "  </thead>\n",
              "  <tbody>\n",
              "    <tr>\n",
              "      <th rowspan=\"5\" valign=\"top\">casual</th>\n",
              "      <th rowspan=\"5\" valign=\"top\">1</th>\n",
              "      <th>1</th>\n",
              "      <td>13970</td>\n",
              "    </tr>\n",
              "    <tr>\n",
              "      <th>2</th>\n",
              "      <td>15937</td>\n",
              "    </tr>\n",
              "    <tr>\n",
              "      <th>3</th>\n",
              "      <td>17846</td>\n",
              "    </tr>\n",
              "    <tr>\n",
              "      <th>4</th>\n",
              "      <td>17984</td>\n",
              "    </tr>\n",
              "    <tr>\n",
              "      <th>5</th>\n",
              "      <td>17107</td>\n",
              "    </tr>\n",
              "    <tr>\n",
              "      <th>...</th>\n",
              "      <th>...</th>\n",
              "      <th>...</th>\n",
              "      <td>...</td>\n",
              "    </tr>\n",
              "    <tr>\n",
              "      <th rowspan=\"5\" valign=\"top\">member</th>\n",
              "      <th rowspan=\"5\" valign=\"top\">6</th>\n",
              "      <th>3</th>\n",
              "      <td>3514</td>\n",
              "    </tr>\n",
              "    <tr>\n",
              "      <th>4</th>\n",
              "      <td>4056</td>\n",
              "    </tr>\n",
              "    <tr>\n",
              "      <th>5</th>\n",
              "      <td>4761</td>\n",
              "    </tr>\n",
              "    <tr>\n",
              "      <th>6</th>\n",
              "      <td>7181</td>\n",
              "    </tr>\n",
              "    <tr>\n",
              "      <th>7</th>\n",
              "      <td>17865</td>\n",
              "    </tr>\n",
              "  </tbody>\n",
              "</table>\n",
              "<p>84 rows × 1 columns</p>\n",
              "</div>\n",
              "      <button class=\"colab-df-convert\" onclick=\"convertToInteractive('df-cec41abe-31f0-483a-ac57-36966ded3812')\"\n",
              "              title=\"Convert this dataframe to an interactive table.\"\n",
              "              style=\"display:none;\">\n",
              "        \n",
              "  <svg xmlns=\"http://www.w3.org/2000/svg\" height=\"24px\"viewBox=\"0 0 24 24\"\n",
              "       width=\"24px\">\n",
              "    <path d=\"M0 0h24v24H0V0z\" fill=\"none\"/>\n",
              "    <path d=\"M18.56 5.44l.94 2.06.94-2.06 2.06-.94-2.06-.94-.94-2.06-.94 2.06-2.06.94zm-11 1L8.5 8.5l.94-2.06 2.06-.94-2.06-.94L8.5 2.5l-.94 2.06-2.06.94zm10 10l.94 2.06.94-2.06 2.06-.94-2.06-.94-.94-2.06-.94 2.06-2.06.94z\"/><path d=\"M17.41 7.96l-1.37-1.37c-.4-.4-.92-.59-1.43-.59-.52 0-1.04.2-1.43.59L10.3 9.45l-7.72 7.72c-.78.78-.78 2.05 0 2.83L4 21.41c.39.39.9.59 1.41.59.51 0 1.02-.2 1.41-.59l7.78-7.78 2.81-2.81c.8-.78.8-2.07 0-2.86zM5.41 20L4 18.59l7.72-7.72 1.47 1.35L5.41 20z\"/>\n",
              "  </svg>\n",
              "      </button>\n",
              "      \n",
              "  <style>\n",
              "    .colab-df-container {\n",
              "      display:flex;\n",
              "      flex-wrap:wrap;\n",
              "      gap: 12px;\n",
              "    }\n",
              "\n",
              "    .colab-df-convert {\n",
              "      background-color: #E8F0FE;\n",
              "      border: none;\n",
              "      border-radius: 50%;\n",
              "      cursor: pointer;\n",
              "      display: none;\n",
              "      fill: #1967D2;\n",
              "      height: 32px;\n",
              "      padding: 0 0 0 0;\n",
              "      width: 32px;\n",
              "    }\n",
              "\n",
              "    .colab-df-convert:hover {\n",
              "      background-color: #E2EBFA;\n",
              "      box-shadow: 0px 1px 2px rgba(60, 64, 67, 0.3), 0px 1px 3px 1px rgba(60, 64, 67, 0.15);\n",
              "      fill: #174EA6;\n",
              "    }\n",
              "\n",
              "    [theme=dark] .colab-df-convert {\n",
              "      background-color: #3B4455;\n",
              "      fill: #D2E3FC;\n",
              "    }\n",
              "\n",
              "    [theme=dark] .colab-df-convert:hover {\n",
              "      background-color: #434B5C;\n",
              "      box-shadow: 0px 1px 3px 1px rgba(0, 0, 0, 0.15);\n",
              "      filter: drop-shadow(0px 1px 2px rgba(0, 0, 0, 0.3));\n",
              "      fill: #FFFFFF;\n",
              "    }\n",
              "  </style>\n",
              "\n",
              "      <script>\n",
              "        const buttonEl =\n",
              "          document.querySelector('#df-cec41abe-31f0-483a-ac57-36966ded3812 button.colab-df-convert');\n",
              "        buttonEl.style.display =\n",
              "          google.colab.kernel.accessAllowed ? 'block' : 'none';\n",
              "\n",
              "        async function convertToInteractive(key) {\n",
              "          const element = document.querySelector('#df-cec41abe-31f0-483a-ac57-36966ded3812');\n",
              "          const dataTable =\n",
              "            await google.colab.kernel.invokeFunction('convertToInteractive',\n",
              "                                                     [key], {});\n",
              "          if (!dataTable) return;\n",
              "\n",
              "          const docLinkHtml = 'Like what you see? Visit the ' +\n",
              "            '<a target=\"_blank\" href=https://colab.research.google.com/notebooks/data_table.ipynb>data table notebook</a>'\n",
              "            + ' to learn more about interactive tables.';\n",
              "          element.innerHTML = '';\n",
              "          dataTable['output_type'] = 'display_data';\n",
              "          await google.colab.output.renderOutput(dataTable, element);\n",
              "          const docLink = document.createElement('div');\n",
              "          docLink.innerHTML = docLinkHtml;\n",
              "          element.appendChild(docLink);\n",
              "        }\n",
              "      </script>\n",
              "    </div>\n",
              "  </div>\n",
              "  "
            ]
          },
          "metadata": {},
          "execution_count": 141
        }
      ],
      "source": [
        "pd.DataFrame(data_clean.groupby(['member_casual','session'])[\"weekday\"].value_counts()).sort_index()"
      ]
    },
    {
      "cell_type": "code",
      "execution_count": null,
      "metadata": {
        "id": "Bu7Fc6L_jCGu"
      },
      "outputs": [],
      "source": [
        "session_weekday_infomation = pd.DataFrame(data_clean.groupby(['member_casual','session'])[\"weekday\"].value_counts()).sort_index().unstack()"
      ]
    },
    {
      "cell_type": "code",
      "execution_count": null,
      "metadata": {
        "colab": {
          "base_uri": "https://localhost:8080/",
          "height": 488
        },
        "id": "3HujNnB_uErK",
        "outputId": "1ff85173-f67a-478c-bb1b-514547b62560"
      },
      "outputs": [
        {
          "output_type": "execute_result",
          "data": {
            "text/plain": [
              "                      weekday                                                \n",
              "weekday                     1       2       3       4       5       6       7\n",
              "member_casual session                                                        \n",
              "casual        1         13970   15937   17846   17984   17107   16017   15070\n",
              "              2         93548   42461   34241   33574   33739   48545  105965\n",
              "              3        139709   67282   56842   54538   55088   82705  153576\n",
              "              4         88239   73004   78417   81297   81791   93539  108930\n",
              "              5         27641   20723   22557   25561   30376   38475   52533\n",
              "              6         40647    9524    5029    5175    6103   10753   32244\n",
              "member        1         18776   60143   74687   74791   66885   56738   25174\n",
              "              2         81118   58398   61396   63656   61185   65701   96167\n",
              "              3        103139   86689   92201   92034   87525   98563  107849\n",
              "              4         71102  117254  132848  136005  124140  108641   79527\n",
              "              5         17451   19320   23474   27139   28973   28950   30488\n",
              "              6         19626    4672    3514    4056    4761    7181   17865"
            ],
            "text/html": [
              "\n",
              "  <div id=\"df-92f2e564-d4d9-49fa-aa69-44bc7866eee6\">\n",
              "    <div class=\"colab-df-container\">\n",
              "      <div>\n",
              "<style scoped>\n",
              "    .dataframe tbody tr th:only-of-type {\n",
              "        vertical-align: middle;\n",
              "    }\n",
              "\n",
              "    .dataframe tbody tr th {\n",
              "        vertical-align: top;\n",
              "    }\n",
              "\n",
              "    .dataframe thead tr th {\n",
              "        text-align: left;\n",
              "    }\n",
              "\n",
              "    .dataframe thead tr:last-of-type th {\n",
              "        text-align: right;\n",
              "    }\n",
              "</style>\n",
              "<table border=\"1\" class=\"dataframe\">\n",
              "  <thead>\n",
              "    <tr>\n",
              "      <th></th>\n",
              "      <th></th>\n",
              "      <th colspan=\"7\" halign=\"left\">weekday</th>\n",
              "    </tr>\n",
              "    <tr>\n",
              "      <th></th>\n",
              "      <th>weekday</th>\n",
              "      <th>1</th>\n",
              "      <th>2</th>\n",
              "      <th>3</th>\n",
              "      <th>4</th>\n",
              "      <th>5</th>\n",
              "      <th>6</th>\n",
              "      <th>7</th>\n",
              "    </tr>\n",
              "    <tr>\n",
              "      <th>member_casual</th>\n",
              "      <th>session</th>\n",
              "      <th></th>\n",
              "      <th></th>\n",
              "      <th></th>\n",
              "      <th></th>\n",
              "      <th></th>\n",
              "      <th></th>\n",
              "      <th></th>\n",
              "    </tr>\n",
              "  </thead>\n",
              "  <tbody>\n",
              "    <tr>\n",
              "      <th rowspan=\"6\" valign=\"top\">casual</th>\n",
              "      <th>1</th>\n",
              "      <td>13970</td>\n",
              "      <td>15937</td>\n",
              "      <td>17846</td>\n",
              "      <td>17984</td>\n",
              "      <td>17107</td>\n",
              "      <td>16017</td>\n",
              "      <td>15070</td>\n",
              "    </tr>\n",
              "    <tr>\n",
              "      <th>2</th>\n",
              "      <td>93548</td>\n",
              "      <td>42461</td>\n",
              "      <td>34241</td>\n",
              "      <td>33574</td>\n",
              "      <td>33739</td>\n",
              "      <td>48545</td>\n",
              "      <td>105965</td>\n",
              "    </tr>\n",
              "    <tr>\n",
              "      <th>3</th>\n",
              "      <td>139709</td>\n",
              "      <td>67282</td>\n",
              "      <td>56842</td>\n",
              "      <td>54538</td>\n",
              "      <td>55088</td>\n",
              "      <td>82705</td>\n",
              "      <td>153576</td>\n",
              "    </tr>\n",
              "    <tr>\n",
              "      <th>4</th>\n",
              "      <td>88239</td>\n",
              "      <td>73004</td>\n",
              "      <td>78417</td>\n",
              "      <td>81297</td>\n",
              "      <td>81791</td>\n",
              "      <td>93539</td>\n",
              "      <td>108930</td>\n",
              "    </tr>\n",
              "    <tr>\n",
              "      <th>5</th>\n",
              "      <td>27641</td>\n",
              "      <td>20723</td>\n",
              "      <td>22557</td>\n",
              "      <td>25561</td>\n",
              "      <td>30376</td>\n",
              "      <td>38475</td>\n",
              "      <td>52533</td>\n",
              "    </tr>\n",
              "    <tr>\n",
              "      <th>6</th>\n",
              "      <td>40647</td>\n",
              "      <td>9524</td>\n",
              "      <td>5029</td>\n",
              "      <td>5175</td>\n",
              "      <td>6103</td>\n",
              "      <td>10753</td>\n",
              "      <td>32244</td>\n",
              "    </tr>\n",
              "    <tr>\n",
              "      <th rowspan=\"6\" valign=\"top\">member</th>\n",
              "      <th>1</th>\n",
              "      <td>18776</td>\n",
              "      <td>60143</td>\n",
              "      <td>74687</td>\n",
              "      <td>74791</td>\n",
              "      <td>66885</td>\n",
              "      <td>56738</td>\n",
              "      <td>25174</td>\n",
              "    </tr>\n",
              "    <tr>\n",
              "      <th>2</th>\n",
              "      <td>81118</td>\n",
              "      <td>58398</td>\n",
              "      <td>61396</td>\n",
              "      <td>63656</td>\n",
              "      <td>61185</td>\n",
              "      <td>65701</td>\n",
              "      <td>96167</td>\n",
              "    </tr>\n",
              "    <tr>\n",
              "      <th>3</th>\n",
              "      <td>103139</td>\n",
              "      <td>86689</td>\n",
              "      <td>92201</td>\n",
              "      <td>92034</td>\n",
              "      <td>87525</td>\n",
              "      <td>98563</td>\n",
              "      <td>107849</td>\n",
              "    </tr>\n",
              "    <tr>\n",
              "      <th>4</th>\n",
              "      <td>71102</td>\n",
              "      <td>117254</td>\n",
              "      <td>132848</td>\n",
              "      <td>136005</td>\n",
              "      <td>124140</td>\n",
              "      <td>108641</td>\n",
              "      <td>79527</td>\n",
              "    </tr>\n",
              "    <tr>\n",
              "      <th>5</th>\n",
              "      <td>17451</td>\n",
              "      <td>19320</td>\n",
              "      <td>23474</td>\n",
              "      <td>27139</td>\n",
              "      <td>28973</td>\n",
              "      <td>28950</td>\n",
              "      <td>30488</td>\n",
              "    </tr>\n",
              "    <tr>\n",
              "      <th>6</th>\n",
              "      <td>19626</td>\n",
              "      <td>4672</td>\n",
              "      <td>3514</td>\n",
              "      <td>4056</td>\n",
              "      <td>4761</td>\n",
              "      <td>7181</td>\n",
              "      <td>17865</td>\n",
              "    </tr>\n",
              "  </tbody>\n",
              "</table>\n",
              "</div>\n",
              "      <button class=\"colab-df-convert\" onclick=\"convertToInteractive('df-92f2e564-d4d9-49fa-aa69-44bc7866eee6')\"\n",
              "              title=\"Convert this dataframe to an interactive table.\"\n",
              "              style=\"display:none;\">\n",
              "        \n",
              "  <svg xmlns=\"http://www.w3.org/2000/svg\" height=\"24px\"viewBox=\"0 0 24 24\"\n",
              "       width=\"24px\">\n",
              "    <path d=\"M0 0h24v24H0V0z\" fill=\"none\"/>\n",
              "    <path d=\"M18.56 5.44l.94 2.06.94-2.06 2.06-.94-2.06-.94-.94-2.06-.94 2.06-2.06.94zm-11 1L8.5 8.5l.94-2.06 2.06-.94-2.06-.94L8.5 2.5l-.94 2.06-2.06.94zm10 10l.94 2.06.94-2.06 2.06-.94-2.06-.94-.94-2.06-.94 2.06-2.06.94z\"/><path d=\"M17.41 7.96l-1.37-1.37c-.4-.4-.92-.59-1.43-.59-.52 0-1.04.2-1.43.59L10.3 9.45l-7.72 7.72c-.78.78-.78 2.05 0 2.83L4 21.41c.39.39.9.59 1.41.59.51 0 1.02-.2 1.41-.59l7.78-7.78 2.81-2.81c.8-.78.8-2.07 0-2.86zM5.41 20L4 18.59l7.72-7.72 1.47 1.35L5.41 20z\"/>\n",
              "  </svg>\n",
              "      </button>\n",
              "      \n",
              "  <style>\n",
              "    .colab-df-container {\n",
              "      display:flex;\n",
              "      flex-wrap:wrap;\n",
              "      gap: 12px;\n",
              "    }\n",
              "\n",
              "    .colab-df-convert {\n",
              "      background-color: #E8F0FE;\n",
              "      border: none;\n",
              "      border-radius: 50%;\n",
              "      cursor: pointer;\n",
              "      display: none;\n",
              "      fill: #1967D2;\n",
              "      height: 32px;\n",
              "      padding: 0 0 0 0;\n",
              "      width: 32px;\n",
              "    }\n",
              "\n",
              "    .colab-df-convert:hover {\n",
              "      background-color: #E2EBFA;\n",
              "      box-shadow: 0px 1px 2px rgba(60, 64, 67, 0.3), 0px 1px 3px 1px rgba(60, 64, 67, 0.15);\n",
              "      fill: #174EA6;\n",
              "    }\n",
              "\n",
              "    [theme=dark] .colab-df-convert {\n",
              "      background-color: #3B4455;\n",
              "      fill: #D2E3FC;\n",
              "    }\n",
              "\n",
              "    [theme=dark] .colab-df-convert:hover {\n",
              "      background-color: #434B5C;\n",
              "      box-shadow: 0px 1px 3px 1px rgba(0, 0, 0, 0.15);\n",
              "      filter: drop-shadow(0px 1px 2px rgba(0, 0, 0, 0.3));\n",
              "      fill: #FFFFFF;\n",
              "    }\n",
              "  </style>\n",
              "\n",
              "      <script>\n",
              "        const buttonEl =\n",
              "          document.querySelector('#df-92f2e564-d4d9-49fa-aa69-44bc7866eee6 button.colab-df-convert');\n",
              "        buttonEl.style.display =\n",
              "          google.colab.kernel.accessAllowed ? 'block' : 'none';\n",
              "\n",
              "        async function convertToInteractive(key) {\n",
              "          const element = document.querySelector('#df-92f2e564-d4d9-49fa-aa69-44bc7866eee6');\n",
              "          const dataTable =\n",
              "            await google.colab.kernel.invokeFunction('convertToInteractive',\n",
              "                                                     [key], {});\n",
              "          if (!dataTable) return;\n",
              "\n",
              "          const docLinkHtml = 'Like what you see? Visit the ' +\n",
              "            '<a target=\"_blank\" href=https://colab.research.google.com/notebooks/data_table.ipynb>data table notebook</a>'\n",
              "            + ' to learn more about interactive tables.';\n",
              "          element.innerHTML = '';\n",
              "          dataTable['output_type'] = 'display_data';\n",
              "          await google.colab.output.renderOutput(dataTable, element);\n",
              "          const docLink = document.createElement('div');\n",
              "          docLink.innerHTML = docLinkHtml;\n",
              "          element.appendChild(docLink);\n",
              "        }\n",
              "      </script>\n",
              "    </div>\n",
              "  </div>\n",
              "  "
            ]
          },
          "metadata": {},
          "execution_count": 143
        }
      ],
      "source": [
        "session_weekday_infomation"
      ]
    },
    {
      "cell_type": "code",
      "execution_count": null,
      "metadata": {
        "id": "aZuQqjPF2zST"
      },
      "outputs": [],
      "source": [
        "session_weekday_stack = pd.DataFrame(data_clean.groupby(['member_casual','session'])[\"weekday\"].value_counts()).sort_index()"
      ]
    },
    {
      "cell_type": "code",
      "execution_count": null,
      "metadata": {
        "colab": {
          "base_uri": "https://localhost:8080/",
          "height": 455
        },
        "id": "yNVCgXJR3GTl",
        "outputId": "ec601981-08ee-4684-9d30-5f1d1b2c702e"
      },
      "outputs": [
        {
          "output_type": "execute_result",
          "data": {
            "text/plain": [
              "                               weekday\n",
              "member_casual session weekday         \n",
              "casual        1       1          13970\n",
              "                      2          15937\n",
              "                      3          17846\n",
              "                      4          17984\n",
              "                      5          17107\n",
              "...                                ...\n",
              "member        6       3           3514\n",
              "                      4           4056\n",
              "                      5           4761\n",
              "                      6           7181\n",
              "                      7          17865\n",
              "\n",
              "[84 rows x 1 columns]"
            ],
            "text/html": [
              "\n",
              "  <div id=\"df-efbf1602-c709-45e6-9dab-e41b6ad63046\">\n",
              "    <div class=\"colab-df-container\">\n",
              "      <div>\n",
              "<style scoped>\n",
              "    .dataframe tbody tr th:only-of-type {\n",
              "        vertical-align: middle;\n",
              "    }\n",
              "\n",
              "    .dataframe tbody tr th {\n",
              "        vertical-align: top;\n",
              "    }\n",
              "\n",
              "    .dataframe thead th {\n",
              "        text-align: right;\n",
              "    }\n",
              "</style>\n",
              "<table border=\"1\" class=\"dataframe\">\n",
              "  <thead>\n",
              "    <tr style=\"text-align: right;\">\n",
              "      <th></th>\n",
              "      <th></th>\n",
              "      <th></th>\n",
              "      <th>weekday</th>\n",
              "    </tr>\n",
              "    <tr>\n",
              "      <th>member_casual</th>\n",
              "      <th>session</th>\n",
              "      <th>weekday</th>\n",
              "      <th></th>\n",
              "    </tr>\n",
              "  </thead>\n",
              "  <tbody>\n",
              "    <tr>\n",
              "      <th rowspan=\"5\" valign=\"top\">casual</th>\n",
              "      <th rowspan=\"5\" valign=\"top\">1</th>\n",
              "      <th>1</th>\n",
              "      <td>13970</td>\n",
              "    </tr>\n",
              "    <tr>\n",
              "      <th>2</th>\n",
              "      <td>15937</td>\n",
              "    </tr>\n",
              "    <tr>\n",
              "      <th>3</th>\n",
              "      <td>17846</td>\n",
              "    </tr>\n",
              "    <tr>\n",
              "      <th>4</th>\n",
              "      <td>17984</td>\n",
              "    </tr>\n",
              "    <tr>\n",
              "      <th>5</th>\n",
              "      <td>17107</td>\n",
              "    </tr>\n",
              "    <tr>\n",
              "      <th>...</th>\n",
              "      <th>...</th>\n",
              "      <th>...</th>\n",
              "      <td>...</td>\n",
              "    </tr>\n",
              "    <tr>\n",
              "      <th rowspan=\"5\" valign=\"top\">member</th>\n",
              "      <th rowspan=\"5\" valign=\"top\">6</th>\n",
              "      <th>3</th>\n",
              "      <td>3514</td>\n",
              "    </tr>\n",
              "    <tr>\n",
              "      <th>4</th>\n",
              "      <td>4056</td>\n",
              "    </tr>\n",
              "    <tr>\n",
              "      <th>5</th>\n",
              "      <td>4761</td>\n",
              "    </tr>\n",
              "    <tr>\n",
              "      <th>6</th>\n",
              "      <td>7181</td>\n",
              "    </tr>\n",
              "    <tr>\n",
              "      <th>7</th>\n",
              "      <td>17865</td>\n",
              "    </tr>\n",
              "  </tbody>\n",
              "</table>\n",
              "<p>84 rows × 1 columns</p>\n",
              "</div>\n",
              "      <button class=\"colab-df-convert\" onclick=\"convertToInteractive('df-efbf1602-c709-45e6-9dab-e41b6ad63046')\"\n",
              "              title=\"Convert this dataframe to an interactive table.\"\n",
              "              style=\"display:none;\">\n",
              "        \n",
              "  <svg xmlns=\"http://www.w3.org/2000/svg\" height=\"24px\"viewBox=\"0 0 24 24\"\n",
              "       width=\"24px\">\n",
              "    <path d=\"M0 0h24v24H0V0z\" fill=\"none\"/>\n",
              "    <path d=\"M18.56 5.44l.94 2.06.94-2.06 2.06-.94-2.06-.94-.94-2.06-.94 2.06-2.06.94zm-11 1L8.5 8.5l.94-2.06 2.06-.94-2.06-.94L8.5 2.5l-.94 2.06-2.06.94zm10 10l.94 2.06.94-2.06 2.06-.94-2.06-.94-.94-2.06-.94 2.06-2.06.94z\"/><path d=\"M17.41 7.96l-1.37-1.37c-.4-.4-.92-.59-1.43-.59-.52 0-1.04.2-1.43.59L10.3 9.45l-7.72 7.72c-.78.78-.78 2.05 0 2.83L4 21.41c.39.39.9.59 1.41.59.51 0 1.02-.2 1.41-.59l7.78-7.78 2.81-2.81c.8-.78.8-2.07 0-2.86zM5.41 20L4 18.59l7.72-7.72 1.47 1.35L5.41 20z\"/>\n",
              "  </svg>\n",
              "      </button>\n",
              "      \n",
              "  <style>\n",
              "    .colab-df-container {\n",
              "      display:flex;\n",
              "      flex-wrap:wrap;\n",
              "      gap: 12px;\n",
              "    }\n",
              "\n",
              "    .colab-df-convert {\n",
              "      background-color: #E8F0FE;\n",
              "      border: none;\n",
              "      border-radius: 50%;\n",
              "      cursor: pointer;\n",
              "      display: none;\n",
              "      fill: #1967D2;\n",
              "      height: 32px;\n",
              "      padding: 0 0 0 0;\n",
              "      width: 32px;\n",
              "    }\n",
              "\n",
              "    .colab-df-convert:hover {\n",
              "      background-color: #E2EBFA;\n",
              "      box-shadow: 0px 1px 2px rgba(60, 64, 67, 0.3), 0px 1px 3px 1px rgba(60, 64, 67, 0.15);\n",
              "      fill: #174EA6;\n",
              "    }\n",
              "\n",
              "    [theme=dark] .colab-df-convert {\n",
              "      background-color: #3B4455;\n",
              "      fill: #D2E3FC;\n",
              "    }\n",
              "\n",
              "    [theme=dark] .colab-df-convert:hover {\n",
              "      background-color: #434B5C;\n",
              "      box-shadow: 0px 1px 3px 1px rgba(0, 0, 0, 0.15);\n",
              "      filter: drop-shadow(0px 1px 2px rgba(0, 0, 0, 0.3));\n",
              "      fill: #FFFFFF;\n",
              "    }\n",
              "  </style>\n",
              "\n",
              "      <script>\n",
              "        const buttonEl =\n",
              "          document.querySelector('#df-efbf1602-c709-45e6-9dab-e41b6ad63046 button.colab-df-convert');\n",
              "        buttonEl.style.display =\n",
              "          google.colab.kernel.accessAllowed ? 'block' : 'none';\n",
              "\n",
              "        async function convertToInteractive(key) {\n",
              "          const element = document.querySelector('#df-efbf1602-c709-45e6-9dab-e41b6ad63046');\n",
              "          const dataTable =\n",
              "            await google.colab.kernel.invokeFunction('convertToInteractive',\n",
              "                                                     [key], {});\n",
              "          if (!dataTable) return;\n",
              "\n",
              "          const docLinkHtml = 'Like what you see? Visit the ' +\n",
              "            '<a target=\"_blank\" href=https://colab.research.google.com/notebooks/data_table.ipynb>data table notebook</a>'\n",
              "            + ' to learn more about interactive tables.';\n",
              "          element.innerHTML = '';\n",
              "          dataTable['output_type'] = 'display_data';\n",
              "          await google.colab.output.renderOutput(dataTable, element);\n",
              "          const docLink = document.createElement('div');\n",
              "          docLink.innerHTML = docLinkHtml;\n",
              "          element.appendChild(docLink);\n",
              "        }\n",
              "      </script>\n",
              "    </div>\n",
              "  </div>\n",
              "  "
            ]
          },
          "metadata": {},
          "execution_count": 145
        }
      ],
      "source": [
        "session_weekday_stack"
      ]
    },
    {
      "cell_type": "code",
      "execution_count": null,
      "metadata": {
        "colab": {
          "base_uri": "https://localhost:8080/"
        },
        "id": "_twO-euSrduX",
        "outputId": "0352dcc9-021d-4d81-b084-d940c80a9b4c"
      },
      "outputs": [
        {
          "output_type": "execute_result",
          "data": {
            "text/plain": [
              "MultiIndex([('casual', 1),\n",
              "            ('casual', 2),\n",
              "            ('casual', 3),\n",
              "            ('casual', 4),\n",
              "            ('casual', 5),\n",
              "            ('casual', 6),\n",
              "            ('member', 1),\n",
              "            ('member', 2),\n",
              "            ('member', 3),\n",
              "            ('member', 4),\n",
              "            ('member', 5),\n",
              "            ('member', 6)],\n",
              "           names=['member_casual', 'session'])"
            ]
          },
          "metadata": {},
          "execution_count": 146
        }
      ],
      "source": [
        "session_weekday_infomation.index"
      ]
    },
    {
      "cell_type": "code",
      "execution_count": null,
      "metadata": {
        "colab": {
          "base_uri": "https://localhost:8080/"
        },
        "id": "nODkUw9ztB8O",
        "outputId": "5812d62a-7abb-4b09-db1e-c35c062dd0a8"
      },
      "outputs": [
        {
          "output_type": "execute_result",
          "data": {
            "text/plain": [
              "Index(['weekday'], dtype='object')"
            ]
          },
          "metadata": {},
          "execution_count": 147
        }
      ],
      "source": [
        "session_weekday_infomation.columns.levels[0]"
      ]
    },
    {
      "cell_type": "code",
      "execution_count": null,
      "metadata": {
        "colab": {
          "base_uri": "https://localhost:8080/"
        },
        "id": "6YO58sJZuOFS",
        "outputId": "2ae0194e-fd57-4d08-c83c-cc16111792cd"
      },
      "outputs": [
        {
          "output_type": "execute_result",
          "data": {
            "text/plain": [
              "(['Monday',\n",
              "  'Tuesday',\n",
              "  'Wednesday',\n",
              "  'Thursday',\n",
              "  'Friday',\n",
              "  'Saturday',\n",
              "  'Sunday'],\n",
              " [2, 3, 4, 5, 6, 7, 1])"
            ]
          },
          "metadata": {},
          "execution_count": 148
        }
      ],
      "source": [
        "(['Monday','Tuesday','Wednesday','Thursday','Friday','Saturday','Sunday'],[2,3,4,5,6,7,1])"
      ]
    },
    {
      "cell_type": "code",
      "execution_count": null,
      "metadata": {
        "id": "GGLbLKO9uZot"
      },
      "outputs": [],
      "source": [
        "d = {2:'Monday',3:'Tuesday',4:'Wednesday',5:'Thursday',6:'Friday',7:'Saturday',1:'Sunday'}"
      ]
    },
    {
      "cell_type": "code",
      "execution_count": null,
      "metadata": {
        "colab": {
          "base_uri": "https://localhost:8080/",
          "height": 488
        },
        "id": "dJUBAJiFuL_y",
        "outputId": "55af531a-ea46-4709-d72f-6989e25244ed"
      },
      "outputs": [
        {
          "output_type": "execute_result",
          "data": {
            "text/plain": [
              "                      weekday                                             \\\n",
              "weekday                Sunday  Monday Tuesday Wednesday Thursday  Friday   \n",
              "member_casual session                                                      \n",
              "casual        1         13970   15937   17846     17984    17107   16017   \n",
              "              2         93548   42461   34241     33574    33739   48545   \n",
              "              3        139709   67282   56842     54538    55088   82705   \n",
              "              4         88239   73004   78417     81297    81791   93539   \n",
              "              5         27641   20723   22557     25561    30376   38475   \n",
              "              6         40647    9524    5029      5175     6103   10753   \n",
              "member        1         18776   60143   74687     74791    66885   56738   \n",
              "              2         81118   58398   61396     63656    61185   65701   \n",
              "              3        103139   86689   92201     92034    87525   98563   \n",
              "              4         71102  117254  132848    136005   124140  108641   \n",
              "              5         17451   19320   23474     27139    28973   28950   \n",
              "              6         19626    4672    3514      4056     4761    7181   \n",
              "\n",
              "                                \n",
              "weekday               Saturday  \n",
              "member_casual session           \n",
              "casual        1          15070  \n",
              "              2         105965  \n",
              "              3         153576  \n",
              "              4         108930  \n",
              "              5          52533  \n",
              "              6          32244  \n",
              "member        1          25174  \n",
              "              2          96167  \n",
              "              3         107849  \n",
              "              4          79527  \n",
              "              5          30488  \n",
              "              6          17865  "
            ],
            "text/html": [
              "\n",
              "  <div id=\"df-c4a1f7e3-5d1d-496c-b695-909c886b2606\">\n",
              "    <div class=\"colab-df-container\">\n",
              "      <div>\n",
              "<style scoped>\n",
              "    .dataframe tbody tr th:only-of-type {\n",
              "        vertical-align: middle;\n",
              "    }\n",
              "\n",
              "    .dataframe tbody tr th {\n",
              "        vertical-align: top;\n",
              "    }\n",
              "\n",
              "    .dataframe thead tr th {\n",
              "        text-align: left;\n",
              "    }\n",
              "\n",
              "    .dataframe thead tr:last-of-type th {\n",
              "        text-align: right;\n",
              "    }\n",
              "</style>\n",
              "<table border=\"1\" class=\"dataframe\">\n",
              "  <thead>\n",
              "    <tr>\n",
              "      <th></th>\n",
              "      <th></th>\n",
              "      <th colspan=\"7\" halign=\"left\">weekday</th>\n",
              "    </tr>\n",
              "    <tr>\n",
              "      <th></th>\n",
              "      <th>weekday</th>\n",
              "      <th>Sunday</th>\n",
              "      <th>Monday</th>\n",
              "      <th>Tuesday</th>\n",
              "      <th>Wednesday</th>\n",
              "      <th>Thursday</th>\n",
              "      <th>Friday</th>\n",
              "      <th>Saturday</th>\n",
              "    </tr>\n",
              "    <tr>\n",
              "      <th>member_casual</th>\n",
              "      <th>session</th>\n",
              "      <th></th>\n",
              "      <th></th>\n",
              "      <th></th>\n",
              "      <th></th>\n",
              "      <th></th>\n",
              "      <th></th>\n",
              "      <th></th>\n",
              "    </tr>\n",
              "  </thead>\n",
              "  <tbody>\n",
              "    <tr>\n",
              "      <th rowspan=\"6\" valign=\"top\">casual</th>\n",
              "      <th>1</th>\n",
              "      <td>13970</td>\n",
              "      <td>15937</td>\n",
              "      <td>17846</td>\n",
              "      <td>17984</td>\n",
              "      <td>17107</td>\n",
              "      <td>16017</td>\n",
              "      <td>15070</td>\n",
              "    </tr>\n",
              "    <tr>\n",
              "      <th>2</th>\n",
              "      <td>93548</td>\n",
              "      <td>42461</td>\n",
              "      <td>34241</td>\n",
              "      <td>33574</td>\n",
              "      <td>33739</td>\n",
              "      <td>48545</td>\n",
              "      <td>105965</td>\n",
              "    </tr>\n",
              "    <tr>\n",
              "      <th>3</th>\n",
              "      <td>139709</td>\n",
              "      <td>67282</td>\n",
              "      <td>56842</td>\n",
              "      <td>54538</td>\n",
              "      <td>55088</td>\n",
              "      <td>82705</td>\n",
              "      <td>153576</td>\n",
              "    </tr>\n",
              "    <tr>\n",
              "      <th>4</th>\n",
              "      <td>88239</td>\n",
              "      <td>73004</td>\n",
              "      <td>78417</td>\n",
              "      <td>81297</td>\n",
              "      <td>81791</td>\n",
              "      <td>93539</td>\n",
              "      <td>108930</td>\n",
              "    </tr>\n",
              "    <tr>\n",
              "      <th>5</th>\n",
              "      <td>27641</td>\n",
              "      <td>20723</td>\n",
              "      <td>22557</td>\n",
              "      <td>25561</td>\n",
              "      <td>30376</td>\n",
              "      <td>38475</td>\n",
              "      <td>52533</td>\n",
              "    </tr>\n",
              "    <tr>\n",
              "      <th>6</th>\n",
              "      <td>40647</td>\n",
              "      <td>9524</td>\n",
              "      <td>5029</td>\n",
              "      <td>5175</td>\n",
              "      <td>6103</td>\n",
              "      <td>10753</td>\n",
              "      <td>32244</td>\n",
              "    </tr>\n",
              "    <tr>\n",
              "      <th rowspan=\"6\" valign=\"top\">member</th>\n",
              "      <th>1</th>\n",
              "      <td>18776</td>\n",
              "      <td>60143</td>\n",
              "      <td>74687</td>\n",
              "      <td>74791</td>\n",
              "      <td>66885</td>\n",
              "      <td>56738</td>\n",
              "      <td>25174</td>\n",
              "    </tr>\n",
              "    <tr>\n",
              "      <th>2</th>\n",
              "      <td>81118</td>\n",
              "      <td>58398</td>\n",
              "      <td>61396</td>\n",
              "      <td>63656</td>\n",
              "      <td>61185</td>\n",
              "      <td>65701</td>\n",
              "      <td>96167</td>\n",
              "    </tr>\n",
              "    <tr>\n",
              "      <th>3</th>\n",
              "      <td>103139</td>\n",
              "      <td>86689</td>\n",
              "      <td>92201</td>\n",
              "      <td>92034</td>\n",
              "      <td>87525</td>\n",
              "      <td>98563</td>\n",
              "      <td>107849</td>\n",
              "    </tr>\n",
              "    <tr>\n",
              "      <th>4</th>\n",
              "      <td>71102</td>\n",
              "      <td>117254</td>\n",
              "      <td>132848</td>\n",
              "      <td>136005</td>\n",
              "      <td>124140</td>\n",
              "      <td>108641</td>\n",
              "      <td>79527</td>\n",
              "    </tr>\n",
              "    <tr>\n",
              "      <th>5</th>\n",
              "      <td>17451</td>\n",
              "      <td>19320</td>\n",
              "      <td>23474</td>\n",
              "      <td>27139</td>\n",
              "      <td>28973</td>\n",
              "      <td>28950</td>\n",
              "      <td>30488</td>\n",
              "    </tr>\n",
              "    <tr>\n",
              "      <th>6</th>\n",
              "      <td>19626</td>\n",
              "      <td>4672</td>\n",
              "      <td>3514</td>\n",
              "      <td>4056</td>\n",
              "      <td>4761</td>\n",
              "      <td>7181</td>\n",
              "      <td>17865</td>\n",
              "    </tr>\n",
              "  </tbody>\n",
              "</table>\n",
              "</div>\n",
              "      <button class=\"colab-df-convert\" onclick=\"convertToInteractive('df-c4a1f7e3-5d1d-496c-b695-909c886b2606')\"\n",
              "              title=\"Convert this dataframe to an interactive table.\"\n",
              "              style=\"display:none;\">\n",
              "        \n",
              "  <svg xmlns=\"http://www.w3.org/2000/svg\" height=\"24px\"viewBox=\"0 0 24 24\"\n",
              "       width=\"24px\">\n",
              "    <path d=\"M0 0h24v24H0V0z\" fill=\"none\"/>\n",
              "    <path d=\"M18.56 5.44l.94 2.06.94-2.06 2.06-.94-2.06-.94-.94-2.06-.94 2.06-2.06.94zm-11 1L8.5 8.5l.94-2.06 2.06-.94-2.06-.94L8.5 2.5l-.94 2.06-2.06.94zm10 10l.94 2.06.94-2.06 2.06-.94-2.06-.94-.94-2.06-.94 2.06-2.06.94z\"/><path d=\"M17.41 7.96l-1.37-1.37c-.4-.4-.92-.59-1.43-.59-.52 0-1.04.2-1.43.59L10.3 9.45l-7.72 7.72c-.78.78-.78 2.05 0 2.83L4 21.41c.39.39.9.59 1.41.59.51 0 1.02-.2 1.41-.59l7.78-7.78 2.81-2.81c.8-.78.8-2.07 0-2.86zM5.41 20L4 18.59l7.72-7.72 1.47 1.35L5.41 20z\"/>\n",
              "  </svg>\n",
              "      </button>\n",
              "      \n",
              "  <style>\n",
              "    .colab-df-container {\n",
              "      display:flex;\n",
              "      flex-wrap:wrap;\n",
              "      gap: 12px;\n",
              "    }\n",
              "\n",
              "    .colab-df-convert {\n",
              "      background-color: #E8F0FE;\n",
              "      border: none;\n",
              "      border-radius: 50%;\n",
              "      cursor: pointer;\n",
              "      display: none;\n",
              "      fill: #1967D2;\n",
              "      height: 32px;\n",
              "      padding: 0 0 0 0;\n",
              "      width: 32px;\n",
              "    }\n",
              "\n",
              "    .colab-df-convert:hover {\n",
              "      background-color: #E2EBFA;\n",
              "      box-shadow: 0px 1px 2px rgba(60, 64, 67, 0.3), 0px 1px 3px 1px rgba(60, 64, 67, 0.15);\n",
              "      fill: #174EA6;\n",
              "    }\n",
              "\n",
              "    [theme=dark] .colab-df-convert {\n",
              "      background-color: #3B4455;\n",
              "      fill: #D2E3FC;\n",
              "    }\n",
              "\n",
              "    [theme=dark] .colab-df-convert:hover {\n",
              "      background-color: #434B5C;\n",
              "      box-shadow: 0px 1px 3px 1px rgba(0, 0, 0, 0.15);\n",
              "      filter: drop-shadow(0px 1px 2px rgba(0, 0, 0, 0.3));\n",
              "      fill: #FFFFFF;\n",
              "    }\n",
              "  </style>\n",
              "\n",
              "      <script>\n",
              "        const buttonEl =\n",
              "          document.querySelector('#df-c4a1f7e3-5d1d-496c-b695-909c886b2606 button.colab-df-convert');\n",
              "        buttonEl.style.display =\n",
              "          google.colab.kernel.accessAllowed ? 'block' : 'none';\n",
              "\n",
              "        async function convertToInteractive(key) {\n",
              "          const element = document.querySelector('#df-c4a1f7e3-5d1d-496c-b695-909c886b2606');\n",
              "          const dataTable =\n",
              "            await google.colab.kernel.invokeFunction('convertToInteractive',\n",
              "                                                     [key], {});\n",
              "          if (!dataTable) return;\n",
              "\n",
              "          const docLinkHtml = 'Like what you see? Visit the ' +\n",
              "            '<a target=\"_blank\" href=https://colab.research.google.com/notebooks/data_table.ipynb>data table notebook</a>'\n",
              "            + ' to learn more about interactive tables.';\n",
              "          element.innerHTML = '';\n",
              "          dataTable['output_type'] = 'display_data';\n",
              "          await google.colab.output.renderOutput(dataTable, element);\n",
              "          const docLink = document.createElement('div');\n",
              "          docLink.innerHTML = docLinkHtml;\n",
              "          element.appendChild(docLink);\n",
              "        }\n",
              "      </script>\n",
              "    </div>\n",
              "  </div>\n",
              "  "
            ]
          },
          "metadata": {},
          "execution_count": 150
        }
      ],
      "source": [
        "session_weekday_infomation.rename(columns=d, level=1)"
      ]
    },
    {
      "cell_type": "code",
      "execution_count": null,
      "metadata": {
        "id": "q0tfNB-XxRRs"
      },
      "outputs": [],
      "source": [
        "i = {1:\"Early Morning\",2:\"Morning\",3:\"Noon\",4:\"Eve\",5:\"Night\",6:\"Late Night\"}"
      ]
    },
    {
      "cell_type": "code",
      "execution_count": null,
      "metadata": {
        "id": "ryXsYiQ-wmaV"
      },
      "outputs": [],
      "source": [
        "session_weekday_infomation = session_weekday_infomation.rename(index=i, level=1).rename(columns=d, level=1)"
      ]
    },
    {
      "cell_type": "code",
      "execution_count": null,
      "metadata": {
        "id": "JLwZGqlN3JE7"
      },
      "outputs": [],
      "source": [
        "session_weekday_stack =session_weekday_stack.rename(index=i, level=0).rename(columns=d, level=0)"
      ]
    },
    {
      "cell_type": "code",
      "execution_count": null,
      "metadata": {
        "id": "Unw9A8VIkl3F"
      },
      "outputs": [],
      "source": [
        "session_info = session_info.rename(index=i, level=1) "
      ]
    },
    {
      "cell_type": "code",
      "execution_count": null,
      "metadata": {
        "id": "drYbY7uJk0rk"
      },
      "outputs": [],
      "source": [
        "session_info.to_csv(\"Session_info.csv\")"
      ]
    },
    {
      "cell_type": "code",
      "execution_count": null,
      "metadata": {
        "colab": {
          "base_uri": "https://localhost:8080/",
          "height": 457
        },
        "id": "SNbzfr7okkLK",
        "outputId": "b789fcc4-c694-438a-ed41-f310a8fe03e5"
      },
      "outputs": [
        {
          "output_type": "execute_result",
          "data": {
            "text/plain": [
              "                             session\n",
              "member_casual session               \n",
              "casual        Early Morning   113931\n",
              "              Morning         392073\n",
              "              Noon            609740\n",
              "              Eve             605217\n",
              "              Night           217866\n",
              "              Late Night      109475\n",
              "member        Early Morning   377194\n",
              "              Morning         487621\n",
              "              Noon            668000\n",
              "              Eve             769517\n",
              "              Night           175795\n",
              "              Late Night       61675"
            ],
            "text/html": [
              "\n",
              "  <div id=\"df-0e72faae-5ccc-4d7f-b343-c441c0963a0b\">\n",
              "    <div class=\"colab-df-container\">\n",
              "      <div>\n",
              "<style scoped>\n",
              "    .dataframe tbody tr th:only-of-type {\n",
              "        vertical-align: middle;\n",
              "    }\n",
              "\n",
              "    .dataframe tbody tr th {\n",
              "        vertical-align: top;\n",
              "    }\n",
              "\n",
              "    .dataframe thead th {\n",
              "        text-align: right;\n",
              "    }\n",
              "</style>\n",
              "<table border=\"1\" class=\"dataframe\">\n",
              "  <thead>\n",
              "    <tr style=\"text-align: right;\">\n",
              "      <th></th>\n",
              "      <th></th>\n",
              "      <th>session</th>\n",
              "    </tr>\n",
              "    <tr>\n",
              "      <th>member_casual</th>\n",
              "      <th>session</th>\n",
              "      <th></th>\n",
              "    </tr>\n",
              "  </thead>\n",
              "  <tbody>\n",
              "    <tr>\n",
              "      <th rowspan=\"6\" valign=\"top\">casual</th>\n",
              "      <th>Early Morning</th>\n",
              "      <td>113931</td>\n",
              "    </tr>\n",
              "    <tr>\n",
              "      <th>Morning</th>\n",
              "      <td>392073</td>\n",
              "    </tr>\n",
              "    <tr>\n",
              "      <th>Noon</th>\n",
              "      <td>609740</td>\n",
              "    </tr>\n",
              "    <tr>\n",
              "      <th>Eve</th>\n",
              "      <td>605217</td>\n",
              "    </tr>\n",
              "    <tr>\n",
              "      <th>Night</th>\n",
              "      <td>217866</td>\n",
              "    </tr>\n",
              "    <tr>\n",
              "      <th>Late Night</th>\n",
              "      <td>109475</td>\n",
              "    </tr>\n",
              "    <tr>\n",
              "      <th rowspan=\"6\" valign=\"top\">member</th>\n",
              "      <th>Early Morning</th>\n",
              "      <td>377194</td>\n",
              "    </tr>\n",
              "    <tr>\n",
              "      <th>Morning</th>\n",
              "      <td>487621</td>\n",
              "    </tr>\n",
              "    <tr>\n",
              "      <th>Noon</th>\n",
              "      <td>668000</td>\n",
              "    </tr>\n",
              "    <tr>\n",
              "      <th>Eve</th>\n",
              "      <td>769517</td>\n",
              "    </tr>\n",
              "    <tr>\n",
              "      <th>Night</th>\n",
              "      <td>175795</td>\n",
              "    </tr>\n",
              "    <tr>\n",
              "      <th>Late Night</th>\n",
              "      <td>61675</td>\n",
              "    </tr>\n",
              "  </tbody>\n",
              "</table>\n",
              "</div>\n",
              "      <button class=\"colab-df-convert\" onclick=\"convertToInteractive('df-0e72faae-5ccc-4d7f-b343-c441c0963a0b')\"\n",
              "              title=\"Convert this dataframe to an interactive table.\"\n",
              "              style=\"display:none;\">\n",
              "        \n",
              "  <svg xmlns=\"http://www.w3.org/2000/svg\" height=\"24px\"viewBox=\"0 0 24 24\"\n",
              "       width=\"24px\">\n",
              "    <path d=\"M0 0h24v24H0V0z\" fill=\"none\"/>\n",
              "    <path d=\"M18.56 5.44l.94 2.06.94-2.06 2.06-.94-2.06-.94-.94-2.06-.94 2.06-2.06.94zm-11 1L8.5 8.5l.94-2.06 2.06-.94-2.06-.94L8.5 2.5l-.94 2.06-2.06.94zm10 10l.94 2.06.94-2.06 2.06-.94-2.06-.94-.94-2.06-.94 2.06-2.06.94z\"/><path d=\"M17.41 7.96l-1.37-1.37c-.4-.4-.92-.59-1.43-.59-.52 0-1.04.2-1.43.59L10.3 9.45l-7.72 7.72c-.78.78-.78 2.05 0 2.83L4 21.41c.39.39.9.59 1.41.59.51 0 1.02-.2 1.41-.59l7.78-7.78 2.81-2.81c.8-.78.8-2.07 0-2.86zM5.41 20L4 18.59l7.72-7.72 1.47 1.35L5.41 20z\"/>\n",
              "  </svg>\n",
              "      </button>\n",
              "      \n",
              "  <style>\n",
              "    .colab-df-container {\n",
              "      display:flex;\n",
              "      flex-wrap:wrap;\n",
              "      gap: 12px;\n",
              "    }\n",
              "\n",
              "    .colab-df-convert {\n",
              "      background-color: #E8F0FE;\n",
              "      border: none;\n",
              "      border-radius: 50%;\n",
              "      cursor: pointer;\n",
              "      display: none;\n",
              "      fill: #1967D2;\n",
              "      height: 32px;\n",
              "      padding: 0 0 0 0;\n",
              "      width: 32px;\n",
              "    }\n",
              "\n",
              "    .colab-df-convert:hover {\n",
              "      background-color: #E2EBFA;\n",
              "      box-shadow: 0px 1px 2px rgba(60, 64, 67, 0.3), 0px 1px 3px 1px rgba(60, 64, 67, 0.15);\n",
              "      fill: #174EA6;\n",
              "    }\n",
              "\n",
              "    [theme=dark] .colab-df-convert {\n",
              "      background-color: #3B4455;\n",
              "      fill: #D2E3FC;\n",
              "    }\n",
              "\n",
              "    [theme=dark] .colab-df-convert:hover {\n",
              "      background-color: #434B5C;\n",
              "      box-shadow: 0px 1px 3px 1px rgba(0, 0, 0, 0.15);\n",
              "      filter: drop-shadow(0px 1px 2px rgba(0, 0, 0, 0.3));\n",
              "      fill: #FFFFFF;\n",
              "    }\n",
              "  </style>\n",
              "\n",
              "      <script>\n",
              "        const buttonEl =\n",
              "          document.querySelector('#df-0e72faae-5ccc-4d7f-b343-c441c0963a0b button.colab-df-convert');\n",
              "        buttonEl.style.display =\n",
              "          google.colab.kernel.accessAllowed ? 'block' : 'none';\n",
              "\n",
              "        async function convertToInteractive(key) {\n",
              "          const element = document.querySelector('#df-0e72faae-5ccc-4d7f-b343-c441c0963a0b');\n",
              "          const dataTable =\n",
              "            await google.colab.kernel.invokeFunction('convertToInteractive',\n",
              "                                                     [key], {});\n",
              "          if (!dataTable) return;\n",
              "\n",
              "          const docLinkHtml = 'Like what you see? Visit the ' +\n",
              "            '<a target=\"_blank\" href=https://colab.research.google.com/notebooks/data_table.ipynb>data table notebook</a>'\n",
              "            + ' to learn more about interactive tables.';\n",
              "          element.innerHTML = '';\n",
              "          dataTable['output_type'] = 'display_data';\n",
              "          await google.colab.output.renderOutput(dataTable, element);\n",
              "          const docLink = document.createElement('div');\n",
              "          docLink.innerHTML = docLinkHtml;\n",
              "          element.appendChild(docLink);\n",
              "        }\n",
              "      </script>\n",
              "    </div>\n",
              "  </div>\n",
              "  "
            ]
          },
          "metadata": {},
          "execution_count": 156
        }
      ],
      "source": [
        "session_info"
      ]
    },
    {
      "cell_type": "code",
      "execution_count": null,
      "metadata": {
        "colab": {
          "base_uri": "https://localhost:8080/",
          "height": 488
        },
        "id": "tbJU_-wMzyz6",
        "outputId": "a5fe6a60-ec09-47d5-c393-8113d6a7ec38"
      },
      "outputs": [
        {
          "output_type": "execute_result",
          "data": {
            "text/plain": [
              "                            weekday                                     \\\n",
              "weekday                      Sunday  Monday Tuesday Wednesday Thursday   \n",
              "member_casual session                                                    \n",
              "casual        Early Morning   13970   15937   17846     17984    17107   \n",
              "              Morning         93548   42461   34241     33574    33739   \n",
              "              Noon           139709   67282   56842     54538    55088   \n",
              "              Eve             88239   73004   78417     81297    81791   \n",
              "              Night           27641   20723   22557     25561    30376   \n",
              "              Late Night      40647    9524    5029      5175     6103   \n",
              "member        Early Morning   18776   60143   74687     74791    66885   \n",
              "              Morning         81118   58398   61396     63656    61185   \n",
              "              Noon           103139   86689   92201     92034    87525   \n",
              "              Eve             71102  117254  132848    136005   124140   \n",
              "              Night           17451   19320   23474     27139    28973   \n",
              "              Late Night      19626    4672    3514      4056     4761   \n",
              "\n",
              "                                              \n",
              "weekday                      Friday Saturday  \n",
              "member_casual session                         \n",
              "casual        Early Morning   16017    15070  \n",
              "              Morning         48545   105965  \n",
              "              Noon            82705   153576  \n",
              "              Eve             93539   108930  \n",
              "              Night           38475    52533  \n",
              "              Late Night      10753    32244  \n",
              "member        Early Morning   56738    25174  \n",
              "              Morning         65701    96167  \n",
              "              Noon            98563   107849  \n",
              "              Eve            108641    79527  \n",
              "              Night           28950    30488  \n",
              "              Late Night       7181    17865  "
            ],
            "text/html": [
              "\n",
              "  <div id=\"df-d8977547-1165-411a-a47c-3dcee5cc9402\">\n",
              "    <div class=\"colab-df-container\">\n",
              "      <div>\n",
              "<style scoped>\n",
              "    .dataframe tbody tr th:only-of-type {\n",
              "        vertical-align: middle;\n",
              "    }\n",
              "\n",
              "    .dataframe tbody tr th {\n",
              "        vertical-align: top;\n",
              "    }\n",
              "\n",
              "    .dataframe thead tr th {\n",
              "        text-align: left;\n",
              "    }\n",
              "\n",
              "    .dataframe thead tr:last-of-type th {\n",
              "        text-align: right;\n",
              "    }\n",
              "</style>\n",
              "<table border=\"1\" class=\"dataframe\">\n",
              "  <thead>\n",
              "    <tr>\n",
              "      <th></th>\n",
              "      <th></th>\n",
              "      <th colspan=\"7\" halign=\"left\">weekday</th>\n",
              "    </tr>\n",
              "    <tr>\n",
              "      <th></th>\n",
              "      <th>weekday</th>\n",
              "      <th>Sunday</th>\n",
              "      <th>Monday</th>\n",
              "      <th>Tuesday</th>\n",
              "      <th>Wednesday</th>\n",
              "      <th>Thursday</th>\n",
              "      <th>Friday</th>\n",
              "      <th>Saturday</th>\n",
              "    </tr>\n",
              "    <tr>\n",
              "      <th>member_casual</th>\n",
              "      <th>session</th>\n",
              "      <th></th>\n",
              "      <th></th>\n",
              "      <th></th>\n",
              "      <th></th>\n",
              "      <th></th>\n",
              "      <th></th>\n",
              "      <th></th>\n",
              "    </tr>\n",
              "  </thead>\n",
              "  <tbody>\n",
              "    <tr>\n",
              "      <th rowspan=\"6\" valign=\"top\">casual</th>\n",
              "      <th>Early Morning</th>\n",
              "      <td>13970</td>\n",
              "      <td>15937</td>\n",
              "      <td>17846</td>\n",
              "      <td>17984</td>\n",
              "      <td>17107</td>\n",
              "      <td>16017</td>\n",
              "      <td>15070</td>\n",
              "    </tr>\n",
              "    <tr>\n",
              "      <th>Morning</th>\n",
              "      <td>93548</td>\n",
              "      <td>42461</td>\n",
              "      <td>34241</td>\n",
              "      <td>33574</td>\n",
              "      <td>33739</td>\n",
              "      <td>48545</td>\n",
              "      <td>105965</td>\n",
              "    </tr>\n",
              "    <tr>\n",
              "      <th>Noon</th>\n",
              "      <td>139709</td>\n",
              "      <td>67282</td>\n",
              "      <td>56842</td>\n",
              "      <td>54538</td>\n",
              "      <td>55088</td>\n",
              "      <td>82705</td>\n",
              "      <td>153576</td>\n",
              "    </tr>\n",
              "    <tr>\n",
              "      <th>Eve</th>\n",
              "      <td>88239</td>\n",
              "      <td>73004</td>\n",
              "      <td>78417</td>\n",
              "      <td>81297</td>\n",
              "      <td>81791</td>\n",
              "      <td>93539</td>\n",
              "      <td>108930</td>\n",
              "    </tr>\n",
              "    <tr>\n",
              "      <th>Night</th>\n",
              "      <td>27641</td>\n",
              "      <td>20723</td>\n",
              "      <td>22557</td>\n",
              "      <td>25561</td>\n",
              "      <td>30376</td>\n",
              "      <td>38475</td>\n",
              "      <td>52533</td>\n",
              "    </tr>\n",
              "    <tr>\n",
              "      <th>Late Night</th>\n",
              "      <td>40647</td>\n",
              "      <td>9524</td>\n",
              "      <td>5029</td>\n",
              "      <td>5175</td>\n",
              "      <td>6103</td>\n",
              "      <td>10753</td>\n",
              "      <td>32244</td>\n",
              "    </tr>\n",
              "    <tr>\n",
              "      <th rowspan=\"6\" valign=\"top\">member</th>\n",
              "      <th>Early Morning</th>\n",
              "      <td>18776</td>\n",
              "      <td>60143</td>\n",
              "      <td>74687</td>\n",
              "      <td>74791</td>\n",
              "      <td>66885</td>\n",
              "      <td>56738</td>\n",
              "      <td>25174</td>\n",
              "    </tr>\n",
              "    <tr>\n",
              "      <th>Morning</th>\n",
              "      <td>81118</td>\n",
              "      <td>58398</td>\n",
              "      <td>61396</td>\n",
              "      <td>63656</td>\n",
              "      <td>61185</td>\n",
              "      <td>65701</td>\n",
              "      <td>96167</td>\n",
              "    </tr>\n",
              "    <tr>\n",
              "      <th>Noon</th>\n",
              "      <td>103139</td>\n",
              "      <td>86689</td>\n",
              "      <td>92201</td>\n",
              "      <td>92034</td>\n",
              "      <td>87525</td>\n",
              "      <td>98563</td>\n",
              "      <td>107849</td>\n",
              "    </tr>\n",
              "    <tr>\n",
              "      <th>Eve</th>\n",
              "      <td>71102</td>\n",
              "      <td>117254</td>\n",
              "      <td>132848</td>\n",
              "      <td>136005</td>\n",
              "      <td>124140</td>\n",
              "      <td>108641</td>\n",
              "      <td>79527</td>\n",
              "    </tr>\n",
              "    <tr>\n",
              "      <th>Night</th>\n",
              "      <td>17451</td>\n",
              "      <td>19320</td>\n",
              "      <td>23474</td>\n",
              "      <td>27139</td>\n",
              "      <td>28973</td>\n",
              "      <td>28950</td>\n",
              "      <td>30488</td>\n",
              "    </tr>\n",
              "    <tr>\n",
              "      <th>Late Night</th>\n",
              "      <td>19626</td>\n",
              "      <td>4672</td>\n",
              "      <td>3514</td>\n",
              "      <td>4056</td>\n",
              "      <td>4761</td>\n",
              "      <td>7181</td>\n",
              "      <td>17865</td>\n",
              "    </tr>\n",
              "  </tbody>\n",
              "</table>\n",
              "</div>\n",
              "      <button class=\"colab-df-convert\" onclick=\"convertToInteractive('df-d8977547-1165-411a-a47c-3dcee5cc9402')\"\n",
              "              title=\"Convert this dataframe to an interactive table.\"\n",
              "              style=\"display:none;\">\n",
              "        \n",
              "  <svg xmlns=\"http://www.w3.org/2000/svg\" height=\"24px\"viewBox=\"0 0 24 24\"\n",
              "       width=\"24px\">\n",
              "    <path d=\"M0 0h24v24H0V0z\" fill=\"none\"/>\n",
              "    <path d=\"M18.56 5.44l.94 2.06.94-2.06 2.06-.94-2.06-.94-.94-2.06-.94 2.06-2.06.94zm-11 1L8.5 8.5l.94-2.06 2.06-.94-2.06-.94L8.5 2.5l-.94 2.06-2.06.94zm10 10l.94 2.06.94-2.06 2.06-.94-2.06-.94-.94-2.06-.94 2.06-2.06.94z\"/><path d=\"M17.41 7.96l-1.37-1.37c-.4-.4-.92-.59-1.43-.59-.52 0-1.04.2-1.43.59L10.3 9.45l-7.72 7.72c-.78.78-.78 2.05 0 2.83L4 21.41c.39.39.9.59 1.41.59.51 0 1.02-.2 1.41-.59l7.78-7.78 2.81-2.81c.8-.78.8-2.07 0-2.86zM5.41 20L4 18.59l7.72-7.72 1.47 1.35L5.41 20z\"/>\n",
              "  </svg>\n",
              "      </button>\n",
              "      \n",
              "  <style>\n",
              "    .colab-df-container {\n",
              "      display:flex;\n",
              "      flex-wrap:wrap;\n",
              "      gap: 12px;\n",
              "    }\n",
              "\n",
              "    .colab-df-convert {\n",
              "      background-color: #E8F0FE;\n",
              "      border: none;\n",
              "      border-radius: 50%;\n",
              "      cursor: pointer;\n",
              "      display: none;\n",
              "      fill: #1967D2;\n",
              "      height: 32px;\n",
              "      padding: 0 0 0 0;\n",
              "      width: 32px;\n",
              "    }\n",
              "\n",
              "    .colab-df-convert:hover {\n",
              "      background-color: #E2EBFA;\n",
              "      box-shadow: 0px 1px 2px rgba(60, 64, 67, 0.3), 0px 1px 3px 1px rgba(60, 64, 67, 0.15);\n",
              "      fill: #174EA6;\n",
              "    }\n",
              "\n",
              "    [theme=dark] .colab-df-convert {\n",
              "      background-color: #3B4455;\n",
              "      fill: #D2E3FC;\n",
              "    }\n",
              "\n",
              "    [theme=dark] .colab-df-convert:hover {\n",
              "      background-color: #434B5C;\n",
              "      box-shadow: 0px 1px 3px 1px rgba(0, 0, 0, 0.15);\n",
              "      filter: drop-shadow(0px 1px 2px rgba(0, 0, 0, 0.3));\n",
              "      fill: #FFFFFF;\n",
              "    }\n",
              "  </style>\n",
              "\n",
              "      <script>\n",
              "        const buttonEl =\n",
              "          document.querySelector('#df-d8977547-1165-411a-a47c-3dcee5cc9402 button.colab-df-convert');\n",
              "        buttonEl.style.display =\n",
              "          google.colab.kernel.accessAllowed ? 'block' : 'none';\n",
              "\n",
              "        async function convertToInteractive(key) {\n",
              "          const element = document.querySelector('#df-d8977547-1165-411a-a47c-3dcee5cc9402');\n",
              "          const dataTable =\n",
              "            await google.colab.kernel.invokeFunction('convertToInteractive',\n",
              "                                                     [key], {});\n",
              "          if (!dataTable) return;\n",
              "\n",
              "          const docLinkHtml = 'Like what you see? Visit the ' +\n",
              "            '<a target=\"_blank\" href=https://colab.research.google.com/notebooks/data_table.ipynb>data table notebook</a>'\n",
              "            + ' to learn more about interactive tables.';\n",
              "          element.innerHTML = '';\n",
              "          dataTable['output_type'] = 'display_data';\n",
              "          await google.colab.output.renderOutput(dataTable, element);\n",
              "          const docLink = document.createElement('div');\n",
              "          docLink.innerHTML = docLinkHtml;\n",
              "          element.appendChild(docLink);\n",
              "        }\n",
              "      </script>\n",
              "    </div>\n",
              "  </div>\n",
              "  "
            ]
          },
          "metadata": {},
          "execution_count": 157
        }
      ],
      "source": [
        "session_weekday_infomation"
      ]
    },
    {
      "cell_type": "code",
      "execution_count": null,
      "metadata": {
        "id": "ZmS2IdDx3iu1"
      },
      "outputs": [],
      "source": [
        "session_weekday_info_stack = session_weekday_infomation.stack()"
      ]
    },
    {
      "cell_type": "code",
      "execution_count": null,
      "metadata": {
        "id": "7TIJnVd73r5V"
      },
      "outputs": [],
      "source": [
        "session_weekday_info_stack.to_csv('session_weekday_info_stack.csv')"
      ]
    },
    {
      "cell_type": "code",
      "execution_count": null,
      "metadata": {
        "id": "2a6a_yUZ5qb-"
      },
      "outputs": [],
      "source": [
        "session_weekday_info_stack.loc[\"casual\",:].to_csv(\"Casual_week_session_stack.csv\")"
      ]
    },
    {
      "cell_type": "code",
      "execution_count": null,
      "metadata": {
        "id": "2MvkyU9iztXZ"
      },
      "outputs": [],
      "source": [
        "session_weekday_infomation.loc[\"casual\",:].to_csv(\"Casual_session_weekday_info.csv\")"
      ]
    },
    {
      "cell_type": "code",
      "execution_count": null,
      "metadata": {
        "id": "EWyxvg1o0xax"
      },
      "outputs": [],
      "source": [
        "session_weekday_infomation.loc[\"member\",:].to_csv(\"Member_session_weekday_info.csv\")"
      ]
    },
    {
      "cell_type": "code",
      "execution_count": null,
      "metadata": {
        "colab": {
          "base_uri": "https://localhost:8080/",
          "height": 300
        },
        "id": "mVefkjwdclNH",
        "outputId": "a2eb60a4-a1c5-4ac6-eb75-0fc014bb77b4"
      },
      "outputs": [
        {
          "output_type": "execute_result",
          "data": {
            "text/plain": [
              "              weekday                                                    \n",
              "weekday        Sunday  Monday Tuesday Wednesday Thursday  Friday Saturday\n",
              "session                                                                  \n",
              "Early Morning   18776   60143   74687     74791    66885   56738    25174\n",
              "Morning         81118   58398   61396     63656    61185   65701    96167\n",
              "Noon           103139   86689   92201     92034    87525   98563   107849\n",
              "Eve             71102  117254  132848    136005   124140  108641    79527\n",
              "Night           17451   19320   23474     27139    28973   28950    30488\n",
              "Late Night      19626    4672    3514      4056     4761    7181    17865"
            ],
            "text/html": [
              "\n",
              "  <div id=\"df-380eca08-f1b1-42c8-925f-ec2f58c9d28e\">\n",
              "    <div class=\"colab-df-container\">\n",
              "      <div>\n",
              "<style scoped>\n",
              "    .dataframe tbody tr th:only-of-type {\n",
              "        vertical-align: middle;\n",
              "    }\n",
              "\n",
              "    .dataframe tbody tr th {\n",
              "        vertical-align: top;\n",
              "    }\n",
              "\n",
              "    .dataframe thead tr th {\n",
              "        text-align: left;\n",
              "    }\n",
              "\n",
              "    .dataframe thead tr:last-of-type th {\n",
              "        text-align: right;\n",
              "    }\n",
              "</style>\n",
              "<table border=\"1\" class=\"dataframe\">\n",
              "  <thead>\n",
              "    <tr>\n",
              "      <th></th>\n",
              "      <th colspan=\"7\" halign=\"left\">weekday</th>\n",
              "    </tr>\n",
              "    <tr>\n",
              "      <th>weekday</th>\n",
              "      <th>Sunday</th>\n",
              "      <th>Monday</th>\n",
              "      <th>Tuesday</th>\n",
              "      <th>Wednesday</th>\n",
              "      <th>Thursday</th>\n",
              "      <th>Friday</th>\n",
              "      <th>Saturday</th>\n",
              "    </tr>\n",
              "    <tr>\n",
              "      <th>session</th>\n",
              "      <th></th>\n",
              "      <th></th>\n",
              "      <th></th>\n",
              "      <th></th>\n",
              "      <th></th>\n",
              "      <th></th>\n",
              "      <th></th>\n",
              "    </tr>\n",
              "  </thead>\n",
              "  <tbody>\n",
              "    <tr>\n",
              "      <th>Early Morning</th>\n",
              "      <td>18776</td>\n",
              "      <td>60143</td>\n",
              "      <td>74687</td>\n",
              "      <td>74791</td>\n",
              "      <td>66885</td>\n",
              "      <td>56738</td>\n",
              "      <td>25174</td>\n",
              "    </tr>\n",
              "    <tr>\n",
              "      <th>Morning</th>\n",
              "      <td>81118</td>\n",
              "      <td>58398</td>\n",
              "      <td>61396</td>\n",
              "      <td>63656</td>\n",
              "      <td>61185</td>\n",
              "      <td>65701</td>\n",
              "      <td>96167</td>\n",
              "    </tr>\n",
              "    <tr>\n",
              "      <th>Noon</th>\n",
              "      <td>103139</td>\n",
              "      <td>86689</td>\n",
              "      <td>92201</td>\n",
              "      <td>92034</td>\n",
              "      <td>87525</td>\n",
              "      <td>98563</td>\n",
              "      <td>107849</td>\n",
              "    </tr>\n",
              "    <tr>\n",
              "      <th>Eve</th>\n",
              "      <td>71102</td>\n",
              "      <td>117254</td>\n",
              "      <td>132848</td>\n",
              "      <td>136005</td>\n",
              "      <td>124140</td>\n",
              "      <td>108641</td>\n",
              "      <td>79527</td>\n",
              "    </tr>\n",
              "    <tr>\n",
              "      <th>Night</th>\n",
              "      <td>17451</td>\n",
              "      <td>19320</td>\n",
              "      <td>23474</td>\n",
              "      <td>27139</td>\n",
              "      <td>28973</td>\n",
              "      <td>28950</td>\n",
              "      <td>30488</td>\n",
              "    </tr>\n",
              "    <tr>\n",
              "      <th>Late Night</th>\n",
              "      <td>19626</td>\n",
              "      <td>4672</td>\n",
              "      <td>3514</td>\n",
              "      <td>4056</td>\n",
              "      <td>4761</td>\n",
              "      <td>7181</td>\n",
              "      <td>17865</td>\n",
              "    </tr>\n",
              "  </tbody>\n",
              "</table>\n",
              "</div>\n",
              "      <button class=\"colab-df-convert\" onclick=\"convertToInteractive('df-380eca08-f1b1-42c8-925f-ec2f58c9d28e')\"\n",
              "              title=\"Convert this dataframe to an interactive table.\"\n",
              "              style=\"display:none;\">\n",
              "        \n",
              "  <svg xmlns=\"http://www.w3.org/2000/svg\" height=\"24px\"viewBox=\"0 0 24 24\"\n",
              "       width=\"24px\">\n",
              "    <path d=\"M0 0h24v24H0V0z\" fill=\"none\"/>\n",
              "    <path d=\"M18.56 5.44l.94 2.06.94-2.06 2.06-.94-2.06-.94-.94-2.06-.94 2.06-2.06.94zm-11 1L8.5 8.5l.94-2.06 2.06-.94-2.06-.94L8.5 2.5l-.94 2.06-2.06.94zm10 10l.94 2.06.94-2.06 2.06-.94-2.06-.94-.94-2.06-.94 2.06-2.06.94z\"/><path d=\"M17.41 7.96l-1.37-1.37c-.4-.4-.92-.59-1.43-.59-.52 0-1.04.2-1.43.59L10.3 9.45l-7.72 7.72c-.78.78-.78 2.05 0 2.83L4 21.41c.39.39.9.59 1.41.59.51 0 1.02-.2 1.41-.59l7.78-7.78 2.81-2.81c.8-.78.8-2.07 0-2.86zM5.41 20L4 18.59l7.72-7.72 1.47 1.35L5.41 20z\"/>\n",
              "  </svg>\n",
              "      </button>\n",
              "      \n",
              "  <style>\n",
              "    .colab-df-container {\n",
              "      display:flex;\n",
              "      flex-wrap:wrap;\n",
              "      gap: 12px;\n",
              "    }\n",
              "\n",
              "    .colab-df-convert {\n",
              "      background-color: #E8F0FE;\n",
              "      border: none;\n",
              "      border-radius: 50%;\n",
              "      cursor: pointer;\n",
              "      display: none;\n",
              "      fill: #1967D2;\n",
              "      height: 32px;\n",
              "      padding: 0 0 0 0;\n",
              "      width: 32px;\n",
              "    }\n",
              "\n",
              "    .colab-df-convert:hover {\n",
              "      background-color: #E2EBFA;\n",
              "      box-shadow: 0px 1px 2px rgba(60, 64, 67, 0.3), 0px 1px 3px 1px rgba(60, 64, 67, 0.15);\n",
              "      fill: #174EA6;\n",
              "    }\n",
              "\n",
              "    [theme=dark] .colab-df-convert {\n",
              "      background-color: #3B4455;\n",
              "      fill: #D2E3FC;\n",
              "    }\n",
              "\n",
              "    [theme=dark] .colab-df-convert:hover {\n",
              "      background-color: #434B5C;\n",
              "      box-shadow: 0px 1px 3px 1px rgba(0, 0, 0, 0.15);\n",
              "      filter: drop-shadow(0px 1px 2px rgba(0, 0, 0, 0.3));\n",
              "      fill: #FFFFFF;\n",
              "    }\n",
              "  </style>\n",
              "\n",
              "      <script>\n",
              "        const buttonEl =\n",
              "          document.querySelector('#df-380eca08-f1b1-42c8-925f-ec2f58c9d28e button.colab-df-convert');\n",
              "        buttonEl.style.display =\n",
              "          google.colab.kernel.accessAllowed ? 'block' : 'none';\n",
              "\n",
              "        async function convertToInteractive(key) {\n",
              "          const element = document.querySelector('#df-380eca08-f1b1-42c8-925f-ec2f58c9d28e');\n",
              "          const dataTable =\n",
              "            await google.colab.kernel.invokeFunction('convertToInteractive',\n",
              "                                                     [key], {});\n",
              "          if (!dataTable) return;\n",
              "\n",
              "          const docLinkHtml = 'Like what you see? Visit the ' +\n",
              "            '<a target=\"_blank\" href=https://colab.research.google.com/notebooks/data_table.ipynb>data table notebook</a>'\n",
              "            + ' to learn more about interactive tables.';\n",
              "          element.innerHTML = '';\n",
              "          dataTable['output_type'] = 'display_data';\n",
              "          await google.colab.output.renderOutput(dataTable, element);\n",
              "          const docLink = document.createElement('div');\n",
              "          docLink.innerHTML = docLinkHtml;\n",
              "          element.appendChild(docLink);\n",
              "        }\n",
              "      </script>\n",
              "    </div>\n",
              "  </div>\n",
              "  "
            ]
          },
          "metadata": {},
          "execution_count": 163
        }
      ],
      "source": [
        "session_weekday_infomation.loc[\"member\",:]"
      ]
    },
    {
      "cell_type": "code",
      "execution_count": null,
      "metadata": {
        "colab": {
          "base_uri": "https://localhost:8080/"
        },
        "id": "JuGtFBJFcvx5",
        "outputId": "33a21775-86f4-439e-f314-402a2f7f5e81"
      },
      "outputs": [
        {
          "output_type": "execute_result",
          "data": {
            "text/plain": [
              "array([[ 18776,  60143,  74687,  74791,  66885,  56738,  25174],\n",
              "       [ 81118,  58398,  61396,  63656,  61185,  65701,  96167],\n",
              "       [103139,  86689,  92201,  92034,  87525,  98563, 107849],\n",
              "       [ 71102, 117254, 132848, 136005, 124140, 108641,  79527],\n",
              "       [ 17451,  19320,  23474,  27139,  28973,  28950,  30488],\n",
              "       [ 19626,   4672,   3514,   4056,   4761,   7181,  17865]])"
            ]
          },
          "metadata": {},
          "execution_count": 164
        }
      ],
      "source": [
        "session_weekday_infomation.loc[\"member\",:][\"weekday\"].values"
      ]
    },
    {
      "cell_type": "code",
      "execution_count": null,
      "metadata": {
        "colab": {
          "base_uri": "https://localhost:8080/",
          "height": 457
        },
        "id": "kIydAbTXlKao",
        "outputId": "1760751e-af9b-4ea2-8835-2258940dde50"
      },
      "outputs": [
        {
          "output_type": "execute_result",
          "data": {
            "text/plain": [
              "                       distance\n",
              "member_casual session          \n",
              "casual        1        1.328985\n",
              "              2        1.424598\n",
              "              3        1.409880\n",
              "              4        1.321286\n",
              "              5        1.228196\n",
              "              6        1.267218\n",
              "member        1        1.341675\n",
              "              2        1.247200\n",
              "              3        1.310339\n",
              "              4        1.299136\n",
              "              5        1.282714\n",
              "              6        1.281348"
            ],
            "text/html": [
              "\n",
              "  <div id=\"df-be32806e-789a-4ea2-ba42-017c3640d2dd\">\n",
              "    <div class=\"colab-df-container\">\n",
              "      <div>\n",
              "<style scoped>\n",
              "    .dataframe tbody tr th:only-of-type {\n",
              "        vertical-align: middle;\n",
              "    }\n",
              "\n",
              "    .dataframe tbody tr th {\n",
              "        vertical-align: top;\n",
              "    }\n",
              "\n",
              "    .dataframe thead th {\n",
              "        text-align: right;\n",
              "    }\n",
              "</style>\n",
              "<table border=\"1\" class=\"dataframe\">\n",
              "  <thead>\n",
              "    <tr style=\"text-align: right;\">\n",
              "      <th></th>\n",
              "      <th></th>\n",
              "      <th>distance</th>\n",
              "    </tr>\n",
              "    <tr>\n",
              "      <th>member_casual</th>\n",
              "      <th>session</th>\n",
              "      <th></th>\n",
              "    </tr>\n",
              "  </thead>\n",
              "  <tbody>\n",
              "    <tr>\n",
              "      <th rowspan=\"6\" valign=\"top\">casual</th>\n",
              "      <th>1</th>\n",
              "      <td>1.328985</td>\n",
              "    </tr>\n",
              "    <tr>\n",
              "      <th>2</th>\n",
              "      <td>1.424598</td>\n",
              "    </tr>\n",
              "    <tr>\n",
              "      <th>3</th>\n",
              "      <td>1.409880</td>\n",
              "    </tr>\n",
              "    <tr>\n",
              "      <th>4</th>\n",
              "      <td>1.321286</td>\n",
              "    </tr>\n",
              "    <tr>\n",
              "      <th>5</th>\n",
              "      <td>1.228196</td>\n",
              "    </tr>\n",
              "    <tr>\n",
              "      <th>6</th>\n",
              "      <td>1.267218</td>\n",
              "    </tr>\n",
              "    <tr>\n",
              "      <th rowspan=\"6\" valign=\"top\">member</th>\n",
              "      <th>1</th>\n",
              "      <td>1.341675</td>\n",
              "    </tr>\n",
              "    <tr>\n",
              "      <th>2</th>\n",
              "      <td>1.247200</td>\n",
              "    </tr>\n",
              "    <tr>\n",
              "      <th>3</th>\n",
              "      <td>1.310339</td>\n",
              "    </tr>\n",
              "    <tr>\n",
              "      <th>4</th>\n",
              "      <td>1.299136</td>\n",
              "    </tr>\n",
              "    <tr>\n",
              "      <th>5</th>\n",
              "      <td>1.282714</td>\n",
              "    </tr>\n",
              "    <tr>\n",
              "      <th>6</th>\n",
              "      <td>1.281348</td>\n",
              "    </tr>\n",
              "  </tbody>\n",
              "</table>\n",
              "</div>\n",
              "      <button class=\"colab-df-convert\" onclick=\"convertToInteractive('df-be32806e-789a-4ea2-ba42-017c3640d2dd')\"\n",
              "              title=\"Convert this dataframe to an interactive table.\"\n",
              "              style=\"display:none;\">\n",
              "        \n",
              "  <svg xmlns=\"http://www.w3.org/2000/svg\" height=\"24px\"viewBox=\"0 0 24 24\"\n",
              "       width=\"24px\">\n",
              "    <path d=\"M0 0h24v24H0V0z\" fill=\"none\"/>\n",
              "    <path d=\"M18.56 5.44l.94 2.06.94-2.06 2.06-.94-2.06-.94-.94-2.06-.94 2.06-2.06.94zm-11 1L8.5 8.5l.94-2.06 2.06-.94-2.06-.94L8.5 2.5l-.94 2.06-2.06.94zm10 10l.94 2.06.94-2.06 2.06-.94-2.06-.94-.94-2.06-.94 2.06-2.06.94z\"/><path d=\"M17.41 7.96l-1.37-1.37c-.4-.4-.92-.59-1.43-.59-.52 0-1.04.2-1.43.59L10.3 9.45l-7.72 7.72c-.78.78-.78 2.05 0 2.83L4 21.41c.39.39.9.59 1.41.59.51 0 1.02-.2 1.41-.59l7.78-7.78 2.81-2.81c.8-.78.8-2.07 0-2.86zM5.41 20L4 18.59l7.72-7.72 1.47 1.35L5.41 20z\"/>\n",
              "  </svg>\n",
              "      </button>\n",
              "      \n",
              "  <style>\n",
              "    .colab-df-container {\n",
              "      display:flex;\n",
              "      flex-wrap:wrap;\n",
              "      gap: 12px;\n",
              "    }\n",
              "\n",
              "    .colab-df-convert {\n",
              "      background-color: #E8F0FE;\n",
              "      border: none;\n",
              "      border-radius: 50%;\n",
              "      cursor: pointer;\n",
              "      display: none;\n",
              "      fill: #1967D2;\n",
              "      height: 32px;\n",
              "      padding: 0 0 0 0;\n",
              "      width: 32px;\n",
              "    }\n",
              "\n",
              "    .colab-df-convert:hover {\n",
              "      background-color: #E2EBFA;\n",
              "      box-shadow: 0px 1px 2px rgba(60, 64, 67, 0.3), 0px 1px 3px 1px rgba(60, 64, 67, 0.15);\n",
              "      fill: #174EA6;\n",
              "    }\n",
              "\n",
              "    [theme=dark] .colab-df-convert {\n",
              "      background-color: #3B4455;\n",
              "      fill: #D2E3FC;\n",
              "    }\n",
              "\n",
              "    [theme=dark] .colab-df-convert:hover {\n",
              "      background-color: #434B5C;\n",
              "      box-shadow: 0px 1px 3px 1px rgba(0, 0, 0, 0.15);\n",
              "      filter: drop-shadow(0px 1px 2px rgba(0, 0, 0, 0.3));\n",
              "      fill: #FFFFFF;\n",
              "    }\n",
              "  </style>\n",
              "\n",
              "      <script>\n",
              "        const buttonEl =\n",
              "          document.querySelector('#df-be32806e-789a-4ea2-ba42-017c3640d2dd button.colab-df-convert');\n",
              "        buttonEl.style.display =\n",
              "          google.colab.kernel.accessAllowed ? 'block' : 'none';\n",
              "\n",
              "        async function convertToInteractive(key) {\n",
              "          const element = document.querySelector('#df-be32806e-789a-4ea2-ba42-017c3640d2dd');\n",
              "          const dataTable =\n",
              "            await google.colab.kernel.invokeFunction('convertToInteractive',\n",
              "                                                     [key], {});\n",
              "          if (!dataTable) return;\n",
              "\n",
              "          const docLinkHtml = 'Like what you see? Visit the ' +\n",
              "            '<a target=\"_blank\" href=https://colab.research.google.com/notebooks/data_table.ipynb>data table notebook</a>'\n",
              "            + ' to learn more about interactive tables.';\n",
              "          element.innerHTML = '';\n",
              "          dataTable['output_type'] = 'display_data';\n",
              "          await google.colab.output.renderOutput(dataTable, element);\n",
              "          const docLink = document.createElement('div');\n",
              "          docLink.innerHTML = docLinkHtml;\n",
              "          element.appendChild(docLink);\n",
              "        }\n",
              "      </script>\n",
              "    </div>\n",
              "  </div>\n",
              "  "
            ]
          },
          "metadata": {},
          "execution_count": 165
        }
      ],
      "source": [
        "pd.DataFrame(data_clean.groupby(['member_casual','session'])[\"distance\"].mean())"
      ]
    },
    {
      "cell_type": "code",
      "execution_count": null,
      "metadata": {
        "colab": {
          "base_uri": "https://localhost:8080/",
          "height": 175
        },
        "id": "sKNXdGrbBqva",
        "outputId": "67f6e108-344d-4706-c9ca-84ec6da8a527"
      },
      "outputs": [
        {
          "output_type": "execute_result",
          "data": {
            "text/plain": [
              "                   distance                                                   \n",
              "session       Early Morning   Morning      Noon       Eve     Night Late Night\n",
              "member_casual                                                                 \n",
              "casual             1.328985  1.424598  1.409880  1.321286  1.228196   1.267218\n",
              "member             1.341675  1.247200  1.310339  1.299136  1.282714   1.281348"
            ],
            "text/html": [
              "\n",
              "  <div id=\"df-618eb096-9bfd-481a-ae49-d8a08cbc3c95\">\n",
              "    <div class=\"colab-df-container\">\n",
              "      <div>\n",
              "<style scoped>\n",
              "    .dataframe tbody tr th:only-of-type {\n",
              "        vertical-align: middle;\n",
              "    }\n",
              "\n",
              "    .dataframe tbody tr th {\n",
              "        vertical-align: top;\n",
              "    }\n",
              "\n",
              "    .dataframe thead tr th {\n",
              "        text-align: left;\n",
              "    }\n",
              "\n",
              "    .dataframe thead tr:last-of-type th {\n",
              "        text-align: right;\n",
              "    }\n",
              "</style>\n",
              "<table border=\"1\" class=\"dataframe\">\n",
              "  <thead>\n",
              "    <tr>\n",
              "      <th></th>\n",
              "      <th colspan=\"6\" halign=\"left\">distance</th>\n",
              "    </tr>\n",
              "    <tr>\n",
              "      <th>session</th>\n",
              "      <th>Early Morning</th>\n",
              "      <th>Morning</th>\n",
              "      <th>Noon</th>\n",
              "      <th>Eve</th>\n",
              "      <th>Night</th>\n",
              "      <th>Late Night</th>\n",
              "    </tr>\n",
              "    <tr>\n",
              "      <th>member_casual</th>\n",
              "      <th></th>\n",
              "      <th></th>\n",
              "      <th></th>\n",
              "      <th></th>\n",
              "      <th></th>\n",
              "      <th></th>\n",
              "    </tr>\n",
              "  </thead>\n",
              "  <tbody>\n",
              "    <tr>\n",
              "      <th>casual</th>\n",
              "      <td>1.328985</td>\n",
              "      <td>1.424598</td>\n",
              "      <td>1.409880</td>\n",
              "      <td>1.321286</td>\n",
              "      <td>1.228196</td>\n",
              "      <td>1.267218</td>\n",
              "    </tr>\n",
              "    <tr>\n",
              "      <th>member</th>\n",
              "      <td>1.341675</td>\n",
              "      <td>1.247200</td>\n",
              "      <td>1.310339</td>\n",
              "      <td>1.299136</td>\n",
              "      <td>1.282714</td>\n",
              "      <td>1.281348</td>\n",
              "    </tr>\n",
              "  </tbody>\n",
              "</table>\n",
              "</div>\n",
              "      <button class=\"colab-df-convert\" onclick=\"convertToInteractive('df-618eb096-9bfd-481a-ae49-d8a08cbc3c95')\"\n",
              "              title=\"Convert this dataframe to an interactive table.\"\n",
              "              style=\"display:none;\">\n",
              "        \n",
              "  <svg xmlns=\"http://www.w3.org/2000/svg\" height=\"24px\"viewBox=\"0 0 24 24\"\n",
              "       width=\"24px\">\n",
              "    <path d=\"M0 0h24v24H0V0z\" fill=\"none\"/>\n",
              "    <path d=\"M18.56 5.44l.94 2.06.94-2.06 2.06-.94-2.06-.94-.94-2.06-.94 2.06-2.06.94zm-11 1L8.5 8.5l.94-2.06 2.06-.94-2.06-.94L8.5 2.5l-.94 2.06-2.06.94zm10 10l.94 2.06.94-2.06 2.06-.94-2.06-.94-.94-2.06-.94 2.06-2.06.94z\"/><path d=\"M17.41 7.96l-1.37-1.37c-.4-.4-.92-.59-1.43-.59-.52 0-1.04.2-1.43.59L10.3 9.45l-7.72 7.72c-.78.78-.78 2.05 0 2.83L4 21.41c.39.39.9.59 1.41.59.51 0 1.02-.2 1.41-.59l7.78-7.78 2.81-2.81c.8-.78.8-2.07 0-2.86zM5.41 20L4 18.59l7.72-7.72 1.47 1.35L5.41 20z\"/>\n",
              "  </svg>\n",
              "      </button>\n",
              "      \n",
              "  <style>\n",
              "    .colab-df-container {\n",
              "      display:flex;\n",
              "      flex-wrap:wrap;\n",
              "      gap: 12px;\n",
              "    }\n",
              "\n",
              "    .colab-df-convert {\n",
              "      background-color: #E8F0FE;\n",
              "      border: none;\n",
              "      border-radius: 50%;\n",
              "      cursor: pointer;\n",
              "      display: none;\n",
              "      fill: #1967D2;\n",
              "      height: 32px;\n",
              "      padding: 0 0 0 0;\n",
              "      width: 32px;\n",
              "    }\n",
              "\n",
              "    .colab-df-convert:hover {\n",
              "      background-color: #E2EBFA;\n",
              "      box-shadow: 0px 1px 2px rgba(60, 64, 67, 0.3), 0px 1px 3px 1px rgba(60, 64, 67, 0.15);\n",
              "      fill: #174EA6;\n",
              "    }\n",
              "\n",
              "    [theme=dark] .colab-df-convert {\n",
              "      background-color: #3B4455;\n",
              "      fill: #D2E3FC;\n",
              "    }\n",
              "\n",
              "    [theme=dark] .colab-df-convert:hover {\n",
              "      background-color: #434B5C;\n",
              "      box-shadow: 0px 1px 3px 1px rgba(0, 0, 0, 0.15);\n",
              "      filter: drop-shadow(0px 1px 2px rgba(0, 0, 0, 0.3));\n",
              "      fill: #FFFFFF;\n",
              "    }\n",
              "  </style>\n",
              "\n",
              "      <script>\n",
              "        const buttonEl =\n",
              "          document.querySelector('#df-618eb096-9bfd-481a-ae49-d8a08cbc3c95 button.colab-df-convert');\n",
              "        buttonEl.style.display =\n",
              "          google.colab.kernel.accessAllowed ? 'block' : 'none';\n",
              "\n",
              "        async function convertToInteractive(key) {\n",
              "          const element = document.querySelector('#df-618eb096-9bfd-481a-ae49-d8a08cbc3c95');\n",
              "          const dataTable =\n",
              "            await google.colab.kernel.invokeFunction('convertToInteractive',\n",
              "                                                     [key], {});\n",
              "          if (!dataTable) return;\n",
              "\n",
              "          const docLinkHtml = 'Like what you see? Visit the ' +\n",
              "            '<a target=\"_blank\" href=https://colab.research.google.com/notebooks/data_table.ipynb>data table notebook</a>'\n",
              "            + ' to learn more about interactive tables.';\n",
              "          element.innerHTML = '';\n",
              "          dataTable['output_type'] = 'display_data';\n",
              "          await google.colab.output.renderOutput(dataTable, element);\n",
              "          const docLink = document.createElement('div');\n",
              "          docLink.innerHTML = docLinkHtml;\n",
              "          element.appendChild(docLink);\n",
              "        }\n",
              "      </script>\n",
              "    </div>\n",
              "  </div>\n",
              "  "
            ]
          },
          "metadata": {},
          "execution_count": 166
        }
      ],
      "source": [
        "pd.DataFrame(data_clean.groupby(['member_casual','session'])[\"distance\"].mean()).unstack().rename(columns=i)"
      ]
    },
    {
      "cell_type": "code",
      "execution_count": null,
      "metadata": {
        "colab": {
          "base_uri": "https://localhost:8080/",
          "height": 457
        },
        "id": "NME4skkrDT2f",
        "outputId": "0d26eb35-ea7d-4340-8e1a-df60d8fbe701"
      },
      "outputs": [
        {
          "output_type": "execute_result",
          "data": {
            "text/plain": [
              "                             distance\n",
              "member_casual session                \n",
              "casual        Early Morning  1.328985\n",
              "              Eve            1.321286\n",
              "              Late Night     1.267218\n",
              "              Morning        1.424598\n",
              "              Night          1.228196\n",
              "              Noon           1.409880\n",
              "member        Early Morning  1.341675\n",
              "              Eve            1.299136\n",
              "              Late Night     1.281348\n",
              "              Morning        1.247200\n",
              "              Night          1.282714\n",
              "              Noon           1.310339"
            ],
            "text/html": [
              "\n",
              "  <div id=\"df-7eaa5c3b-d312-4ab0-905c-613dff7def1e\">\n",
              "    <div class=\"colab-df-container\">\n",
              "      <div>\n",
              "<style scoped>\n",
              "    .dataframe tbody tr th:only-of-type {\n",
              "        vertical-align: middle;\n",
              "    }\n",
              "\n",
              "    .dataframe tbody tr th {\n",
              "        vertical-align: top;\n",
              "    }\n",
              "\n",
              "    .dataframe thead th {\n",
              "        text-align: right;\n",
              "    }\n",
              "</style>\n",
              "<table border=\"1\" class=\"dataframe\">\n",
              "  <thead>\n",
              "    <tr style=\"text-align: right;\">\n",
              "      <th></th>\n",
              "      <th></th>\n",
              "      <th>distance</th>\n",
              "    </tr>\n",
              "    <tr>\n",
              "      <th>member_casual</th>\n",
              "      <th>session</th>\n",
              "      <th></th>\n",
              "    </tr>\n",
              "  </thead>\n",
              "  <tbody>\n",
              "    <tr>\n",
              "      <th rowspan=\"6\" valign=\"top\">casual</th>\n",
              "      <th>Early Morning</th>\n",
              "      <td>1.328985</td>\n",
              "    </tr>\n",
              "    <tr>\n",
              "      <th>Eve</th>\n",
              "      <td>1.321286</td>\n",
              "    </tr>\n",
              "    <tr>\n",
              "      <th>Late Night</th>\n",
              "      <td>1.267218</td>\n",
              "    </tr>\n",
              "    <tr>\n",
              "      <th>Morning</th>\n",
              "      <td>1.424598</td>\n",
              "    </tr>\n",
              "    <tr>\n",
              "      <th>Night</th>\n",
              "      <td>1.228196</td>\n",
              "    </tr>\n",
              "    <tr>\n",
              "      <th>Noon</th>\n",
              "      <td>1.409880</td>\n",
              "    </tr>\n",
              "    <tr>\n",
              "      <th rowspan=\"6\" valign=\"top\">member</th>\n",
              "      <th>Early Morning</th>\n",
              "      <td>1.341675</td>\n",
              "    </tr>\n",
              "    <tr>\n",
              "      <th>Eve</th>\n",
              "      <td>1.299136</td>\n",
              "    </tr>\n",
              "    <tr>\n",
              "      <th>Late Night</th>\n",
              "      <td>1.281348</td>\n",
              "    </tr>\n",
              "    <tr>\n",
              "      <th>Morning</th>\n",
              "      <td>1.247200</td>\n",
              "    </tr>\n",
              "    <tr>\n",
              "      <th>Night</th>\n",
              "      <td>1.282714</td>\n",
              "    </tr>\n",
              "    <tr>\n",
              "      <th>Noon</th>\n",
              "      <td>1.310339</td>\n",
              "    </tr>\n",
              "  </tbody>\n",
              "</table>\n",
              "</div>\n",
              "      <button class=\"colab-df-convert\" onclick=\"convertToInteractive('df-7eaa5c3b-d312-4ab0-905c-613dff7def1e')\"\n",
              "              title=\"Convert this dataframe to an interactive table.\"\n",
              "              style=\"display:none;\">\n",
              "        \n",
              "  <svg xmlns=\"http://www.w3.org/2000/svg\" height=\"24px\"viewBox=\"0 0 24 24\"\n",
              "       width=\"24px\">\n",
              "    <path d=\"M0 0h24v24H0V0z\" fill=\"none\"/>\n",
              "    <path d=\"M18.56 5.44l.94 2.06.94-2.06 2.06-.94-2.06-.94-.94-2.06-.94 2.06-2.06.94zm-11 1L8.5 8.5l.94-2.06 2.06-.94-2.06-.94L8.5 2.5l-.94 2.06-2.06.94zm10 10l.94 2.06.94-2.06 2.06-.94-2.06-.94-.94-2.06-.94 2.06-2.06.94z\"/><path d=\"M17.41 7.96l-1.37-1.37c-.4-.4-.92-.59-1.43-.59-.52 0-1.04.2-1.43.59L10.3 9.45l-7.72 7.72c-.78.78-.78 2.05 0 2.83L4 21.41c.39.39.9.59 1.41.59.51 0 1.02-.2 1.41-.59l7.78-7.78 2.81-2.81c.8-.78.8-2.07 0-2.86zM5.41 20L4 18.59l7.72-7.72 1.47 1.35L5.41 20z\"/>\n",
              "  </svg>\n",
              "      </button>\n",
              "      \n",
              "  <style>\n",
              "    .colab-df-container {\n",
              "      display:flex;\n",
              "      flex-wrap:wrap;\n",
              "      gap: 12px;\n",
              "    }\n",
              "\n",
              "    .colab-df-convert {\n",
              "      background-color: #E8F0FE;\n",
              "      border: none;\n",
              "      border-radius: 50%;\n",
              "      cursor: pointer;\n",
              "      display: none;\n",
              "      fill: #1967D2;\n",
              "      height: 32px;\n",
              "      padding: 0 0 0 0;\n",
              "      width: 32px;\n",
              "    }\n",
              "\n",
              "    .colab-df-convert:hover {\n",
              "      background-color: #E2EBFA;\n",
              "      box-shadow: 0px 1px 2px rgba(60, 64, 67, 0.3), 0px 1px 3px 1px rgba(60, 64, 67, 0.15);\n",
              "      fill: #174EA6;\n",
              "    }\n",
              "\n",
              "    [theme=dark] .colab-df-convert {\n",
              "      background-color: #3B4455;\n",
              "      fill: #D2E3FC;\n",
              "    }\n",
              "\n",
              "    [theme=dark] .colab-df-convert:hover {\n",
              "      background-color: #434B5C;\n",
              "      box-shadow: 0px 1px 3px 1px rgba(0, 0, 0, 0.15);\n",
              "      filter: drop-shadow(0px 1px 2px rgba(0, 0, 0, 0.3));\n",
              "      fill: #FFFFFF;\n",
              "    }\n",
              "  </style>\n",
              "\n",
              "      <script>\n",
              "        const buttonEl =\n",
              "          document.querySelector('#df-7eaa5c3b-d312-4ab0-905c-613dff7def1e button.colab-df-convert');\n",
              "        buttonEl.style.display =\n",
              "          google.colab.kernel.accessAllowed ? 'block' : 'none';\n",
              "\n",
              "        async function convertToInteractive(key) {\n",
              "          const element = document.querySelector('#df-7eaa5c3b-d312-4ab0-905c-613dff7def1e');\n",
              "          const dataTable =\n",
              "            await google.colab.kernel.invokeFunction('convertToInteractive',\n",
              "                                                     [key], {});\n",
              "          if (!dataTable) return;\n",
              "\n",
              "          const docLinkHtml = 'Like what you see? Visit the ' +\n",
              "            '<a target=\"_blank\" href=https://colab.research.google.com/notebooks/data_table.ipynb>data table notebook</a>'\n",
              "            + ' to learn more about interactive tables.';\n",
              "          element.innerHTML = '';\n",
              "          dataTable['output_type'] = 'display_data';\n",
              "          await google.colab.output.renderOutput(dataTable, element);\n",
              "          const docLink = document.createElement('div');\n",
              "          docLink.innerHTML = docLinkHtml;\n",
              "          element.appendChild(docLink);\n",
              "        }\n",
              "      </script>\n",
              "    </div>\n",
              "  </div>\n",
              "  "
            ]
          },
          "metadata": {},
          "execution_count": 167
        }
      ],
      "source": [
        "pd.DataFrame(data_clean.groupby(['member_casual','session'])[\"distance\"].mean()).unstack().rename(columns=i).stack()"
      ]
    },
    {
      "cell_type": "code",
      "execution_count": null,
      "metadata": {
        "colab": {
          "base_uri": "https://localhost:8080/",
          "height": 457
        },
        "id": "RlCUBNMfDmgf",
        "outputId": "7480d84c-9ee5-49e7-ec81-e0d2807f852f"
      },
      "outputs": [
        {
          "output_type": "execute_result",
          "data": {
            "text/plain": [
              "                             ride_length\n",
              "member_casual session                   \n",
              "casual        Early Morning  1359.439924\n",
              "              Eve            1824.160316\n",
              "              Late Night     2322.779137\n",
              "              Morning        2009.598478\n",
              "              Night          1992.919483\n",
              "              Noon           2066.710957\n",
              "member        Early Morning   701.371109\n",
              "              Eve             817.196084\n",
              "              Late Night      792.673158\n",
              "              Morning         784.029761\n",
              "              Night           775.239694\n",
              "              Noon            820.668090"
            ],
            "text/html": [
              "\n",
              "  <div id=\"df-42c07c03-9aa5-4b39-922d-03aaea418845\">\n",
              "    <div class=\"colab-df-container\">\n",
              "      <div>\n",
              "<style scoped>\n",
              "    .dataframe tbody tr th:only-of-type {\n",
              "        vertical-align: middle;\n",
              "    }\n",
              "\n",
              "    .dataframe tbody tr th {\n",
              "        vertical-align: top;\n",
              "    }\n",
              "\n",
              "    .dataframe thead th {\n",
              "        text-align: right;\n",
              "    }\n",
              "</style>\n",
              "<table border=\"1\" class=\"dataframe\">\n",
              "  <thead>\n",
              "    <tr style=\"text-align: right;\">\n",
              "      <th></th>\n",
              "      <th></th>\n",
              "      <th>ride_length</th>\n",
              "    </tr>\n",
              "    <tr>\n",
              "      <th>member_casual</th>\n",
              "      <th>session</th>\n",
              "      <th></th>\n",
              "    </tr>\n",
              "  </thead>\n",
              "  <tbody>\n",
              "    <tr>\n",
              "      <th rowspan=\"6\" valign=\"top\">casual</th>\n",
              "      <th>Early Morning</th>\n",
              "      <td>1359.439924</td>\n",
              "    </tr>\n",
              "    <tr>\n",
              "      <th>Eve</th>\n",
              "      <td>1824.160316</td>\n",
              "    </tr>\n",
              "    <tr>\n",
              "      <th>Late Night</th>\n",
              "      <td>2322.779137</td>\n",
              "    </tr>\n",
              "    <tr>\n",
              "      <th>Morning</th>\n",
              "      <td>2009.598478</td>\n",
              "    </tr>\n",
              "    <tr>\n",
              "      <th>Night</th>\n",
              "      <td>1992.919483</td>\n",
              "    </tr>\n",
              "    <tr>\n",
              "      <th>Noon</th>\n",
              "      <td>2066.710957</td>\n",
              "    </tr>\n",
              "    <tr>\n",
              "      <th rowspan=\"6\" valign=\"top\">member</th>\n",
              "      <th>Early Morning</th>\n",
              "      <td>701.371109</td>\n",
              "    </tr>\n",
              "    <tr>\n",
              "      <th>Eve</th>\n",
              "      <td>817.196084</td>\n",
              "    </tr>\n",
              "    <tr>\n",
              "      <th>Late Night</th>\n",
              "      <td>792.673158</td>\n",
              "    </tr>\n",
              "    <tr>\n",
              "      <th>Morning</th>\n",
              "      <td>784.029761</td>\n",
              "    </tr>\n",
              "    <tr>\n",
              "      <th>Night</th>\n",
              "      <td>775.239694</td>\n",
              "    </tr>\n",
              "    <tr>\n",
              "      <th>Noon</th>\n",
              "      <td>820.668090</td>\n",
              "    </tr>\n",
              "  </tbody>\n",
              "</table>\n",
              "</div>\n",
              "      <button class=\"colab-df-convert\" onclick=\"convertToInteractive('df-42c07c03-9aa5-4b39-922d-03aaea418845')\"\n",
              "              title=\"Convert this dataframe to an interactive table.\"\n",
              "              style=\"display:none;\">\n",
              "        \n",
              "  <svg xmlns=\"http://www.w3.org/2000/svg\" height=\"24px\"viewBox=\"0 0 24 24\"\n",
              "       width=\"24px\">\n",
              "    <path d=\"M0 0h24v24H0V0z\" fill=\"none\"/>\n",
              "    <path d=\"M18.56 5.44l.94 2.06.94-2.06 2.06-.94-2.06-.94-.94-2.06-.94 2.06-2.06.94zm-11 1L8.5 8.5l.94-2.06 2.06-.94-2.06-.94L8.5 2.5l-.94 2.06-2.06.94zm10 10l.94 2.06.94-2.06 2.06-.94-2.06-.94-.94-2.06-.94 2.06-2.06.94z\"/><path d=\"M17.41 7.96l-1.37-1.37c-.4-.4-.92-.59-1.43-.59-.52 0-1.04.2-1.43.59L10.3 9.45l-7.72 7.72c-.78.78-.78 2.05 0 2.83L4 21.41c.39.39.9.59 1.41.59.51 0 1.02-.2 1.41-.59l7.78-7.78 2.81-2.81c.8-.78.8-2.07 0-2.86zM5.41 20L4 18.59l7.72-7.72 1.47 1.35L5.41 20z\"/>\n",
              "  </svg>\n",
              "      </button>\n",
              "      \n",
              "  <style>\n",
              "    .colab-df-container {\n",
              "      display:flex;\n",
              "      flex-wrap:wrap;\n",
              "      gap: 12px;\n",
              "    }\n",
              "\n",
              "    .colab-df-convert {\n",
              "      background-color: #E8F0FE;\n",
              "      border: none;\n",
              "      border-radius: 50%;\n",
              "      cursor: pointer;\n",
              "      display: none;\n",
              "      fill: #1967D2;\n",
              "      height: 32px;\n",
              "      padding: 0 0 0 0;\n",
              "      width: 32px;\n",
              "    }\n",
              "\n",
              "    .colab-df-convert:hover {\n",
              "      background-color: #E2EBFA;\n",
              "      box-shadow: 0px 1px 2px rgba(60, 64, 67, 0.3), 0px 1px 3px 1px rgba(60, 64, 67, 0.15);\n",
              "      fill: #174EA6;\n",
              "    }\n",
              "\n",
              "    [theme=dark] .colab-df-convert {\n",
              "      background-color: #3B4455;\n",
              "      fill: #D2E3FC;\n",
              "    }\n",
              "\n",
              "    [theme=dark] .colab-df-convert:hover {\n",
              "      background-color: #434B5C;\n",
              "      box-shadow: 0px 1px 3px 1px rgba(0, 0, 0, 0.15);\n",
              "      filter: drop-shadow(0px 1px 2px rgba(0, 0, 0, 0.3));\n",
              "      fill: #FFFFFF;\n",
              "    }\n",
              "  </style>\n",
              "\n",
              "      <script>\n",
              "        const buttonEl =\n",
              "          document.querySelector('#df-42c07c03-9aa5-4b39-922d-03aaea418845 button.colab-df-convert');\n",
              "        buttonEl.style.display =\n",
              "          google.colab.kernel.accessAllowed ? 'block' : 'none';\n",
              "\n",
              "        async function convertToInteractive(key) {\n",
              "          const element = document.querySelector('#df-42c07c03-9aa5-4b39-922d-03aaea418845');\n",
              "          const dataTable =\n",
              "            await google.colab.kernel.invokeFunction('convertToInteractive',\n",
              "                                                     [key], {});\n",
              "          if (!dataTable) return;\n",
              "\n",
              "          const docLinkHtml = 'Like what you see? Visit the ' +\n",
              "            '<a target=\"_blank\" href=https://colab.research.google.com/notebooks/data_table.ipynb>data table notebook</a>'\n",
              "            + ' to learn more about interactive tables.';\n",
              "          element.innerHTML = '';\n",
              "          dataTable['output_type'] = 'display_data';\n",
              "          await google.colab.output.renderOutput(dataTable, element);\n",
              "          const docLink = document.createElement('div');\n",
              "          docLink.innerHTML = docLinkHtml;\n",
              "          element.appendChild(docLink);\n",
              "        }\n",
              "      </script>\n",
              "    </div>\n",
              "  </div>\n",
              "  "
            ]
          },
          "metadata": {},
          "execution_count": 168
        }
      ],
      "source": [
        "pd.DataFrame(data_clean.groupby(['member_casual','session'])[\"ride_length\"].mean()).unstack().rename(columns=i).stack()"
      ]
    },
    {
      "cell_type": "code",
      "execution_count": null,
      "metadata": {
        "colab": {
          "base_uri": "https://localhost:8080/",
          "height": 455
        },
        "id": "WCGDSdpHDuRk",
        "outputId": "e4de26f2-2e1c-45b5-b570-e608af33fe26"
      },
      "outputs": [
        {
          "output_type": "execute_result",
          "data": {
            "text/plain": [
              "                               ride_length\n",
              "member_casual session weekday             \n",
              "casual        1       1        2278.996564\n",
              "                      2        1245.606011\n",
              "                      3        1223.516810\n",
              "                      4        1117.792983\n",
              "                      5        1013.102356\n",
              "...                                    ...\n",
              "member        6       3         690.906659\n",
              "                      4         723.357742\n",
              "                      5         722.236715\n",
              "                      6         722.055842\n",
              "                      7         828.473272\n",
              "\n",
              "[84 rows x 1 columns]"
            ],
            "text/html": [
              "\n",
              "  <div id=\"df-7f36f57d-4413-460a-993d-9d1a0764d64f\">\n",
              "    <div class=\"colab-df-container\">\n",
              "      <div>\n",
              "<style scoped>\n",
              "    .dataframe tbody tr th:only-of-type {\n",
              "        vertical-align: middle;\n",
              "    }\n",
              "\n",
              "    .dataframe tbody tr th {\n",
              "        vertical-align: top;\n",
              "    }\n",
              "\n",
              "    .dataframe thead th {\n",
              "        text-align: right;\n",
              "    }\n",
              "</style>\n",
              "<table border=\"1\" class=\"dataframe\">\n",
              "  <thead>\n",
              "    <tr style=\"text-align: right;\">\n",
              "      <th></th>\n",
              "      <th></th>\n",
              "      <th></th>\n",
              "      <th>ride_length</th>\n",
              "    </tr>\n",
              "    <tr>\n",
              "      <th>member_casual</th>\n",
              "      <th>session</th>\n",
              "      <th>weekday</th>\n",
              "      <th></th>\n",
              "    </tr>\n",
              "  </thead>\n",
              "  <tbody>\n",
              "    <tr>\n",
              "      <th rowspan=\"5\" valign=\"top\">casual</th>\n",
              "      <th rowspan=\"5\" valign=\"top\">1</th>\n",
              "      <th>1</th>\n",
              "      <td>2278.996564</td>\n",
              "    </tr>\n",
              "    <tr>\n",
              "      <th>2</th>\n",
              "      <td>1245.606011</td>\n",
              "    </tr>\n",
              "    <tr>\n",
              "      <th>3</th>\n",
              "      <td>1223.516810</td>\n",
              "    </tr>\n",
              "    <tr>\n",
              "      <th>4</th>\n",
              "      <td>1117.792983</td>\n",
              "    </tr>\n",
              "    <tr>\n",
              "      <th>5</th>\n",
              "      <td>1013.102356</td>\n",
              "    </tr>\n",
              "    <tr>\n",
              "      <th>...</th>\n",
              "      <th>...</th>\n",
              "      <th>...</th>\n",
              "      <td>...</td>\n",
              "    </tr>\n",
              "    <tr>\n",
              "      <th rowspan=\"5\" valign=\"top\">member</th>\n",
              "      <th rowspan=\"5\" valign=\"top\">6</th>\n",
              "      <th>3</th>\n",
              "      <td>690.906659</td>\n",
              "    </tr>\n",
              "    <tr>\n",
              "      <th>4</th>\n",
              "      <td>723.357742</td>\n",
              "    </tr>\n",
              "    <tr>\n",
              "      <th>5</th>\n",
              "      <td>722.236715</td>\n",
              "    </tr>\n",
              "    <tr>\n",
              "      <th>6</th>\n",
              "      <td>722.055842</td>\n",
              "    </tr>\n",
              "    <tr>\n",
              "      <th>7</th>\n",
              "      <td>828.473272</td>\n",
              "    </tr>\n",
              "  </tbody>\n",
              "</table>\n",
              "<p>84 rows × 1 columns</p>\n",
              "</div>\n",
              "      <button class=\"colab-df-convert\" onclick=\"convertToInteractive('df-7f36f57d-4413-460a-993d-9d1a0764d64f')\"\n",
              "              title=\"Convert this dataframe to an interactive table.\"\n",
              "              style=\"display:none;\">\n",
              "        \n",
              "  <svg xmlns=\"http://www.w3.org/2000/svg\" height=\"24px\"viewBox=\"0 0 24 24\"\n",
              "       width=\"24px\">\n",
              "    <path d=\"M0 0h24v24H0V0z\" fill=\"none\"/>\n",
              "    <path d=\"M18.56 5.44l.94 2.06.94-2.06 2.06-.94-2.06-.94-.94-2.06-.94 2.06-2.06.94zm-11 1L8.5 8.5l.94-2.06 2.06-.94-2.06-.94L8.5 2.5l-.94 2.06-2.06.94zm10 10l.94 2.06.94-2.06 2.06-.94-2.06-.94-.94-2.06-.94 2.06-2.06.94z\"/><path d=\"M17.41 7.96l-1.37-1.37c-.4-.4-.92-.59-1.43-.59-.52 0-1.04.2-1.43.59L10.3 9.45l-7.72 7.72c-.78.78-.78 2.05 0 2.83L4 21.41c.39.39.9.59 1.41.59.51 0 1.02-.2 1.41-.59l7.78-7.78 2.81-2.81c.8-.78.8-2.07 0-2.86zM5.41 20L4 18.59l7.72-7.72 1.47 1.35L5.41 20z\"/>\n",
              "  </svg>\n",
              "      </button>\n",
              "      \n",
              "  <style>\n",
              "    .colab-df-container {\n",
              "      display:flex;\n",
              "      flex-wrap:wrap;\n",
              "      gap: 12px;\n",
              "    }\n",
              "\n",
              "    .colab-df-convert {\n",
              "      background-color: #E8F0FE;\n",
              "      border: none;\n",
              "      border-radius: 50%;\n",
              "      cursor: pointer;\n",
              "      display: none;\n",
              "      fill: #1967D2;\n",
              "      height: 32px;\n",
              "      padding: 0 0 0 0;\n",
              "      width: 32px;\n",
              "    }\n",
              "\n",
              "    .colab-df-convert:hover {\n",
              "      background-color: #E2EBFA;\n",
              "      box-shadow: 0px 1px 2px rgba(60, 64, 67, 0.3), 0px 1px 3px 1px rgba(60, 64, 67, 0.15);\n",
              "      fill: #174EA6;\n",
              "    }\n",
              "\n",
              "    [theme=dark] .colab-df-convert {\n",
              "      background-color: #3B4455;\n",
              "      fill: #D2E3FC;\n",
              "    }\n",
              "\n",
              "    [theme=dark] .colab-df-convert:hover {\n",
              "      background-color: #434B5C;\n",
              "      box-shadow: 0px 1px 3px 1px rgba(0, 0, 0, 0.15);\n",
              "      filter: drop-shadow(0px 1px 2px rgba(0, 0, 0, 0.3));\n",
              "      fill: #FFFFFF;\n",
              "    }\n",
              "  </style>\n",
              "\n",
              "      <script>\n",
              "        const buttonEl =\n",
              "          document.querySelector('#df-7f36f57d-4413-460a-993d-9d1a0764d64f button.colab-df-convert');\n",
              "        buttonEl.style.display =\n",
              "          google.colab.kernel.accessAllowed ? 'block' : 'none';\n",
              "\n",
              "        async function convertToInteractive(key) {\n",
              "          const element = document.querySelector('#df-7f36f57d-4413-460a-993d-9d1a0764d64f');\n",
              "          const dataTable =\n",
              "            await google.colab.kernel.invokeFunction('convertToInteractive',\n",
              "                                                     [key], {});\n",
              "          if (!dataTable) return;\n",
              "\n",
              "          const docLinkHtml = 'Like what you see? Visit the ' +\n",
              "            '<a target=\"_blank\" href=https://colab.research.google.com/notebooks/data_table.ipynb>data table notebook</a>'\n",
              "            + ' to learn more about interactive tables.';\n",
              "          element.innerHTML = '';\n",
              "          dataTable['output_type'] = 'display_data';\n",
              "          await google.colab.output.renderOutput(dataTable, element);\n",
              "          const docLink = document.createElement('div');\n",
              "          docLink.innerHTML = docLinkHtml;\n",
              "          element.appendChild(docLink);\n",
              "        }\n",
              "      </script>\n",
              "    </div>\n",
              "  </div>\n",
              "  "
            ]
          },
          "metadata": {},
          "execution_count": 169
        }
      ],
      "source": [
        "pd.DataFrame(data_clean.groupby(['member_casual','session','weekday'])[\"ride_length\"].mean())"
      ]
    },
    {
      "cell_type": "code",
      "execution_count": null,
      "metadata": {
        "id": "a78EX7BzD4OK"
      },
      "outputs": [],
      "source": [
        "Session_weekday_mean_distance = pd.DataFrame(data_clean.groupby(['member_casual','session','weekday'])[\"distance\"].mean()).unstack().rename(index=i, level=1).rename(columns=d, level=1).stack()"
      ]
    },
    {
      "cell_type": "code",
      "execution_count": null,
      "metadata": {
        "colab": {
          "base_uri": "https://localhost:8080/",
          "height": 455
        },
        "id": "QJgxUGncFEuM",
        "outputId": "3bac74e3-b3f8-4150-abe1-3a4206e4d4dc"
      },
      "outputs": [
        {
          "output_type": "execute_result",
          "data": {
            "text/plain": [
              "                                       distance\n",
              "member_casual session       weekday            \n",
              "casual        Early Morning Friday     1.331879\n",
              "                            Monday     1.307243\n",
              "                            Saturday   1.408737\n",
              "                            Sunday     1.361051\n",
              "                            Thursday   1.311858\n",
              "...                                         ...\n",
              "member        Late Night    Saturday   1.280891\n",
              "                            Sunday     1.326959\n",
              "                            Thursday   1.214356\n",
              "                            Tuesday    1.249870\n",
              "                            Wednesday  1.292415\n",
              "\n",
              "[84 rows x 1 columns]"
            ],
            "text/html": [
              "\n",
              "  <div id=\"df-9b71b44b-7808-4303-b83e-e749c2c903bb\">\n",
              "    <div class=\"colab-df-container\">\n",
              "      <div>\n",
              "<style scoped>\n",
              "    .dataframe tbody tr th:only-of-type {\n",
              "        vertical-align: middle;\n",
              "    }\n",
              "\n",
              "    .dataframe tbody tr th {\n",
              "        vertical-align: top;\n",
              "    }\n",
              "\n",
              "    .dataframe thead th {\n",
              "        text-align: right;\n",
              "    }\n",
              "</style>\n",
              "<table border=\"1\" class=\"dataframe\">\n",
              "  <thead>\n",
              "    <tr style=\"text-align: right;\">\n",
              "      <th></th>\n",
              "      <th></th>\n",
              "      <th></th>\n",
              "      <th>distance</th>\n",
              "    </tr>\n",
              "    <tr>\n",
              "      <th>member_casual</th>\n",
              "      <th>session</th>\n",
              "      <th>weekday</th>\n",
              "      <th></th>\n",
              "    </tr>\n",
              "  </thead>\n",
              "  <tbody>\n",
              "    <tr>\n",
              "      <th rowspan=\"5\" valign=\"top\">casual</th>\n",
              "      <th rowspan=\"5\" valign=\"top\">Early Morning</th>\n",
              "      <th>Friday</th>\n",
              "      <td>1.331879</td>\n",
              "    </tr>\n",
              "    <tr>\n",
              "      <th>Monday</th>\n",
              "      <td>1.307243</td>\n",
              "    </tr>\n",
              "    <tr>\n",
              "      <th>Saturday</th>\n",
              "      <td>1.408737</td>\n",
              "    </tr>\n",
              "    <tr>\n",
              "      <th>Sunday</th>\n",
              "      <td>1.361051</td>\n",
              "    </tr>\n",
              "    <tr>\n",
              "      <th>Thursday</th>\n",
              "      <td>1.311858</td>\n",
              "    </tr>\n",
              "    <tr>\n",
              "      <th>...</th>\n",
              "      <th>...</th>\n",
              "      <th>...</th>\n",
              "      <td>...</td>\n",
              "    </tr>\n",
              "    <tr>\n",
              "      <th rowspan=\"5\" valign=\"top\">member</th>\n",
              "      <th rowspan=\"5\" valign=\"top\">Late Night</th>\n",
              "      <th>Saturday</th>\n",
              "      <td>1.280891</td>\n",
              "    </tr>\n",
              "    <tr>\n",
              "      <th>Sunday</th>\n",
              "      <td>1.326959</td>\n",
              "    </tr>\n",
              "    <tr>\n",
              "      <th>Thursday</th>\n",
              "      <td>1.214356</td>\n",
              "    </tr>\n",
              "    <tr>\n",
              "      <th>Tuesday</th>\n",
              "      <td>1.249870</td>\n",
              "    </tr>\n",
              "    <tr>\n",
              "      <th>Wednesday</th>\n",
              "      <td>1.292415</td>\n",
              "    </tr>\n",
              "  </tbody>\n",
              "</table>\n",
              "<p>84 rows × 1 columns</p>\n",
              "</div>\n",
              "      <button class=\"colab-df-convert\" onclick=\"convertToInteractive('df-9b71b44b-7808-4303-b83e-e749c2c903bb')\"\n",
              "              title=\"Convert this dataframe to an interactive table.\"\n",
              "              style=\"display:none;\">\n",
              "        \n",
              "  <svg xmlns=\"http://www.w3.org/2000/svg\" height=\"24px\"viewBox=\"0 0 24 24\"\n",
              "       width=\"24px\">\n",
              "    <path d=\"M0 0h24v24H0V0z\" fill=\"none\"/>\n",
              "    <path d=\"M18.56 5.44l.94 2.06.94-2.06 2.06-.94-2.06-.94-.94-2.06-.94 2.06-2.06.94zm-11 1L8.5 8.5l.94-2.06 2.06-.94-2.06-.94L8.5 2.5l-.94 2.06-2.06.94zm10 10l.94 2.06.94-2.06 2.06-.94-2.06-.94-.94-2.06-.94 2.06-2.06.94z\"/><path d=\"M17.41 7.96l-1.37-1.37c-.4-.4-.92-.59-1.43-.59-.52 0-1.04.2-1.43.59L10.3 9.45l-7.72 7.72c-.78.78-.78 2.05 0 2.83L4 21.41c.39.39.9.59 1.41.59.51 0 1.02-.2 1.41-.59l7.78-7.78 2.81-2.81c.8-.78.8-2.07 0-2.86zM5.41 20L4 18.59l7.72-7.72 1.47 1.35L5.41 20z\"/>\n",
              "  </svg>\n",
              "      </button>\n",
              "      \n",
              "  <style>\n",
              "    .colab-df-container {\n",
              "      display:flex;\n",
              "      flex-wrap:wrap;\n",
              "      gap: 12px;\n",
              "    }\n",
              "\n",
              "    .colab-df-convert {\n",
              "      background-color: #E8F0FE;\n",
              "      border: none;\n",
              "      border-radius: 50%;\n",
              "      cursor: pointer;\n",
              "      display: none;\n",
              "      fill: #1967D2;\n",
              "      height: 32px;\n",
              "      padding: 0 0 0 0;\n",
              "      width: 32px;\n",
              "    }\n",
              "\n",
              "    .colab-df-convert:hover {\n",
              "      background-color: #E2EBFA;\n",
              "      box-shadow: 0px 1px 2px rgba(60, 64, 67, 0.3), 0px 1px 3px 1px rgba(60, 64, 67, 0.15);\n",
              "      fill: #174EA6;\n",
              "    }\n",
              "\n",
              "    [theme=dark] .colab-df-convert {\n",
              "      background-color: #3B4455;\n",
              "      fill: #D2E3FC;\n",
              "    }\n",
              "\n",
              "    [theme=dark] .colab-df-convert:hover {\n",
              "      background-color: #434B5C;\n",
              "      box-shadow: 0px 1px 3px 1px rgba(0, 0, 0, 0.15);\n",
              "      filter: drop-shadow(0px 1px 2px rgba(0, 0, 0, 0.3));\n",
              "      fill: #FFFFFF;\n",
              "    }\n",
              "  </style>\n",
              "\n",
              "      <script>\n",
              "        const buttonEl =\n",
              "          document.querySelector('#df-9b71b44b-7808-4303-b83e-e749c2c903bb button.colab-df-convert');\n",
              "        buttonEl.style.display =\n",
              "          google.colab.kernel.accessAllowed ? 'block' : 'none';\n",
              "\n",
              "        async function convertToInteractive(key) {\n",
              "          const element = document.querySelector('#df-9b71b44b-7808-4303-b83e-e749c2c903bb');\n",
              "          const dataTable =\n",
              "            await google.colab.kernel.invokeFunction('convertToInteractive',\n",
              "                                                     [key], {});\n",
              "          if (!dataTable) return;\n",
              "\n",
              "          const docLinkHtml = 'Like what you see? Visit the ' +\n",
              "            '<a target=\"_blank\" href=https://colab.research.google.com/notebooks/data_table.ipynb>data table notebook</a>'\n",
              "            + ' to learn more about interactive tables.';\n",
              "          element.innerHTML = '';\n",
              "          dataTable['output_type'] = 'display_data';\n",
              "          await google.colab.output.renderOutput(dataTable, element);\n",
              "          const docLink = document.createElement('div');\n",
              "          docLink.innerHTML = docLinkHtml;\n",
              "          element.appendChild(docLink);\n",
              "        }\n",
              "      </script>\n",
              "    </div>\n",
              "  </div>\n",
              "  "
            ]
          },
          "metadata": {},
          "execution_count": 171
        }
      ],
      "source": [
        "Session_weekday_mean_distance"
      ]
    },
    {
      "cell_type": "code",
      "execution_count": null,
      "metadata": {
        "id": "HHJRFMPOE_ix"
      },
      "outputs": [],
      "source": [
        "Session_weekday_mean_distance.to_csv(\"Session_weekday_mean_distance.csv\")"
      ]
    },
    {
      "cell_type": "code",
      "execution_count": null,
      "metadata": {
        "id": "mAqCm9GQlTQk"
      },
      "outputs": [],
      "source": [
        "Session_weekday_mean_rideLength=pd.DataFrame(data_clean.groupby(['member_casual','session','weekday'])[\"ride_length\"].mean()).unstack().rename(index=i, level=1).rename(columns=d, level=1).stack()"
      ]
    },
    {
      "cell_type": "code",
      "execution_count": null,
      "metadata": {
        "colab": {
          "base_uri": "https://localhost:8080/",
          "height": 455
        },
        "id": "n0iD9zj-FaKA",
        "outputId": "c1169d88-3549-43dc-dfe7-f71437dd6edb"
      },
      "outputs": [
        {
          "output_type": "execute_result",
          "data": {
            "text/plain": [
              "                                       ride_length\n",
              "member_casual session       weekday               \n",
              "casual        Early Morning Friday     1130.025348\n",
              "                            Monday     1245.606011\n",
              "                            Saturday   1713.703849\n",
              "                            Sunday     2278.996564\n",
              "                            Thursday   1013.102356\n",
              "...                                            ...\n",
              "member        Late Night    Saturday    828.473272\n",
              "                            Sunday      845.348925\n",
              "                            Thursday    722.236715\n",
              "                            Tuesday     690.906659\n",
              "                            Wednesday   723.357742\n",
              "\n",
              "[84 rows x 1 columns]"
            ],
            "text/html": [
              "\n",
              "  <div id=\"df-c08bd4d0-b2bb-40e9-b38d-0f51f86857d2\">\n",
              "    <div class=\"colab-df-container\">\n",
              "      <div>\n",
              "<style scoped>\n",
              "    .dataframe tbody tr th:only-of-type {\n",
              "        vertical-align: middle;\n",
              "    }\n",
              "\n",
              "    .dataframe tbody tr th {\n",
              "        vertical-align: top;\n",
              "    }\n",
              "\n",
              "    .dataframe thead th {\n",
              "        text-align: right;\n",
              "    }\n",
              "</style>\n",
              "<table border=\"1\" class=\"dataframe\">\n",
              "  <thead>\n",
              "    <tr style=\"text-align: right;\">\n",
              "      <th></th>\n",
              "      <th></th>\n",
              "      <th></th>\n",
              "      <th>ride_length</th>\n",
              "    </tr>\n",
              "    <tr>\n",
              "      <th>member_casual</th>\n",
              "      <th>session</th>\n",
              "      <th>weekday</th>\n",
              "      <th></th>\n",
              "    </tr>\n",
              "  </thead>\n",
              "  <tbody>\n",
              "    <tr>\n",
              "      <th rowspan=\"5\" valign=\"top\">casual</th>\n",
              "      <th rowspan=\"5\" valign=\"top\">Early Morning</th>\n",
              "      <th>Friday</th>\n",
              "      <td>1130.025348</td>\n",
              "    </tr>\n",
              "    <tr>\n",
              "      <th>Monday</th>\n",
              "      <td>1245.606011</td>\n",
              "    </tr>\n",
              "    <tr>\n",
              "      <th>Saturday</th>\n",
              "      <td>1713.703849</td>\n",
              "    </tr>\n",
              "    <tr>\n",
              "      <th>Sunday</th>\n",
              "      <td>2278.996564</td>\n",
              "    </tr>\n",
              "    <tr>\n",
              "      <th>Thursday</th>\n",
              "      <td>1013.102356</td>\n",
              "    </tr>\n",
              "    <tr>\n",
              "      <th>...</th>\n",
              "      <th>...</th>\n",
              "      <th>...</th>\n",
              "      <td>...</td>\n",
              "    </tr>\n",
              "    <tr>\n",
              "      <th rowspan=\"5\" valign=\"top\">member</th>\n",
              "      <th rowspan=\"5\" valign=\"top\">Late Night</th>\n",
              "      <th>Saturday</th>\n",
              "      <td>828.473272</td>\n",
              "    </tr>\n",
              "    <tr>\n",
              "      <th>Sunday</th>\n",
              "      <td>845.348925</td>\n",
              "    </tr>\n",
              "    <tr>\n",
              "      <th>Thursday</th>\n",
              "      <td>722.236715</td>\n",
              "    </tr>\n",
              "    <tr>\n",
              "      <th>Tuesday</th>\n",
              "      <td>690.906659</td>\n",
              "    </tr>\n",
              "    <tr>\n",
              "      <th>Wednesday</th>\n",
              "      <td>723.357742</td>\n",
              "    </tr>\n",
              "  </tbody>\n",
              "</table>\n",
              "<p>84 rows × 1 columns</p>\n",
              "</div>\n",
              "      <button class=\"colab-df-convert\" onclick=\"convertToInteractive('df-c08bd4d0-b2bb-40e9-b38d-0f51f86857d2')\"\n",
              "              title=\"Convert this dataframe to an interactive table.\"\n",
              "              style=\"display:none;\">\n",
              "        \n",
              "  <svg xmlns=\"http://www.w3.org/2000/svg\" height=\"24px\"viewBox=\"0 0 24 24\"\n",
              "       width=\"24px\">\n",
              "    <path d=\"M0 0h24v24H0V0z\" fill=\"none\"/>\n",
              "    <path d=\"M18.56 5.44l.94 2.06.94-2.06 2.06-.94-2.06-.94-.94-2.06-.94 2.06-2.06.94zm-11 1L8.5 8.5l.94-2.06 2.06-.94-2.06-.94L8.5 2.5l-.94 2.06-2.06.94zm10 10l.94 2.06.94-2.06 2.06-.94-2.06-.94-.94-2.06-.94 2.06-2.06.94z\"/><path d=\"M17.41 7.96l-1.37-1.37c-.4-.4-.92-.59-1.43-.59-.52 0-1.04.2-1.43.59L10.3 9.45l-7.72 7.72c-.78.78-.78 2.05 0 2.83L4 21.41c.39.39.9.59 1.41.59.51 0 1.02-.2 1.41-.59l7.78-7.78 2.81-2.81c.8-.78.8-2.07 0-2.86zM5.41 20L4 18.59l7.72-7.72 1.47 1.35L5.41 20z\"/>\n",
              "  </svg>\n",
              "      </button>\n",
              "      \n",
              "  <style>\n",
              "    .colab-df-container {\n",
              "      display:flex;\n",
              "      flex-wrap:wrap;\n",
              "      gap: 12px;\n",
              "    }\n",
              "\n",
              "    .colab-df-convert {\n",
              "      background-color: #E8F0FE;\n",
              "      border: none;\n",
              "      border-radius: 50%;\n",
              "      cursor: pointer;\n",
              "      display: none;\n",
              "      fill: #1967D2;\n",
              "      height: 32px;\n",
              "      padding: 0 0 0 0;\n",
              "      width: 32px;\n",
              "    }\n",
              "\n",
              "    .colab-df-convert:hover {\n",
              "      background-color: #E2EBFA;\n",
              "      box-shadow: 0px 1px 2px rgba(60, 64, 67, 0.3), 0px 1px 3px 1px rgba(60, 64, 67, 0.15);\n",
              "      fill: #174EA6;\n",
              "    }\n",
              "\n",
              "    [theme=dark] .colab-df-convert {\n",
              "      background-color: #3B4455;\n",
              "      fill: #D2E3FC;\n",
              "    }\n",
              "\n",
              "    [theme=dark] .colab-df-convert:hover {\n",
              "      background-color: #434B5C;\n",
              "      box-shadow: 0px 1px 3px 1px rgba(0, 0, 0, 0.15);\n",
              "      filter: drop-shadow(0px 1px 2px rgba(0, 0, 0, 0.3));\n",
              "      fill: #FFFFFF;\n",
              "    }\n",
              "  </style>\n",
              "\n",
              "      <script>\n",
              "        const buttonEl =\n",
              "          document.querySelector('#df-c08bd4d0-b2bb-40e9-b38d-0f51f86857d2 button.colab-df-convert');\n",
              "        buttonEl.style.display =\n",
              "          google.colab.kernel.accessAllowed ? 'block' : 'none';\n",
              "\n",
              "        async function convertToInteractive(key) {\n",
              "          const element = document.querySelector('#df-c08bd4d0-b2bb-40e9-b38d-0f51f86857d2');\n",
              "          const dataTable =\n",
              "            await google.colab.kernel.invokeFunction('convertToInteractive',\n",
              "                                                     [key], {});\n",
              "          if (!dataTable) return;\n",
              "\n",
              "          const docLinkHtml = 'Like what you see? Visit the ' +\n",
              "            '<a target=\"_blank\" href=https://colab.research.google.com/notebooks/data_table.ipynb>data table notebook</a>'\n",
              "            + ' to learn more about interactive tables.';\n",
              "          element.innerHTML = '';\n",
              "          dataTable['output_type'] = 'display_data';\n",
              "          await google.colab.output.renderOutput(dataTable, element);\n",
              "          const docLink = document.createElement('div');\n",
              "          docLink.innerHTML = docLinkHtml;\n",
              "          element.appendChild(docLink);\n",
              "        }\n",
              "      </script>\n",
              "    </div>\n",
              "  </div>\n",
              "  "
            ]
          },
          "metadata": {},
          "execution_count": 174
        }
      ],
      "source": [
        "Session_weekday_mean_rideLength"
      ]
    },
    {
      "cell_type": "code",
      "execution_count": null,
      "metadata": {
        "id": "fxFSF3sNZK7l"
      },
      "outputs": [],
      "source": [
        "Session_weekday_mean_rideLength.to_csv(\"Session_weekday_mean_rideLength.csv\")"
      ]
    },
    {
      "cell_type": "code",
      "execution_count": null,
      "metadata": {
        "colab": {
          "base_uri": "https://localhost:8080/",
          "height": 457
        },
        "id": "aUbqjZA8aP-5",
        "outputId": "d9c9c301-d3f8-4325-cde8-86f03e37ffec"
      },
      "outputs": [
        {
          "output_type": "execute_result",
          "data": {
            "text/plain": [
              "                             session\n",
              "member_casual session               \n",
              "casual        Early Morning   113931\n",
              "              Morning         392073\n",
              "              Noon            609740\n",
              "              Eve             605217\n",
              "              Night           217866\n",
              "              Late Night      109475\n",
              "member        Early Morning   377194\n",
              "              Morning         487621\n",
              "              Noon            668000\n",
              "              Eve             769517\n",
              "              Night           175795\n",
              "              Late Night       61675"
            ],
            "text/html": [
              "\n",
              "  <div id=\"df-139775e7-3207-4eb7-9e51-c8998c535f36\">\n",
              "    <div class=\"colab-df-container\">\n",
              "      <div>\n",
              "<style scoped>\n",
              "    .dataframe tbody tr th:only-of-type {\n",
              "        vertical-align: middle;\n",
              "    }\n",
              "\n",
              "    .dataframe tbody tr th {\n",
              "        vertical-align: top;\n",
              "    }\n",
              "\n",
              "    .dataframe thead th {\n",
              "        text-align: right;\n",
              "    }\n",
              "</style>\n",
              "<table border=\"1\" class=\"dataframe\">\n",
              "  <thead>\n",
              "    <tr style=\"text-align: right;\">\n",
              "      <th></th>\n",
              "      <th></th>\n",
              "      <th>session</th>\n",
              "    </tr>\n",
              "    <tr>\n",
              "      <th>member_casual</th>\n",
              "      <th>session</th>\n",
              "      <th></th>\n",
              "    </tr>\n",
              "  </thead>\n",
              "  <tbody>\n",
              "    <tr>\n",
              "      <th rowspan=\"6\" valign=\"top\">casual</th>\n",
              "      <th>Early Morning</th>\n",
              "      <td>113931</td>\n",
              "    </tr>\n",
              "    <tr>\n",
              "      <th>Morning</th>\n",
              "      <td>392073</td>\n",
              "    </tr>\n",
              "    <tr>\n",
              "      <th>Noon</th>\n",
              "      <td>609740</td>\n",
              "    </tr>\n",
              "    <tr>\n",
              "      <th>Eve</th>\n",
              "      <td>605217</td>\n",
              "    </tr>\n",
              "    <tr>\n",
              "      <th>Night</th>\n",
              "      <td>217866</td>\n",
              "    </tr>\n",
              "    <tr>\n",
              "      <th>Late Night</th>\n",
              "      <td>109475</td>\n",
              "    </tr>\n",
              "    <tr>\n",
              "      <th rowspan=\"6\" valign=\"top\">member</th>\n",
              "      <th>Early Morning</th>\n",
              "      <td>377194</td>\n",
              "    </tr>\n",
              "    <tr>\n",
              "      <th>Morning</th>\n",
              "      <td>487621</td>\n",
              "    </tr>\n",
              "    <tr>\n",
              "      <th>Noon</th>\n",
              "      <td>668000</td>\n",
              "    </tr>\n",
              "    <tr>\n",
              "      <th>Eve</th>\n",
              "      <td>769517</td>\n",
              "    </tr>\n",
              "    <tr>\n",
              "      <th>Night</th>\n",
              "      <td>175795</td>\n",
              "    </tr>\n",
              "    <tr>\n",
              "      <th>Late Night</th>\n",
              "      <td>61675</td>\n",
              "    </tr>\n",
              "  </tbody>\n",
              "</table>\n",
              "</div>\n",
              "      <button class=\"colab-df-convert\" onclick=\"convertToInteractive('df-139775e7-3207-4eb7-9e51-c8998c535f36')\"\n",
              "              title=\"Convert this dataframe to an interactive table.\"\n",
              "              style=\"display:none;\">\n",
              "        \n",
              "  <svg xmlns=\"http://www.w3.org/2000/svg\" height=\"24px\"viewBox=\"0 0 24 24\"\n",
              "       width=\"24px\">\n",
              "    <path d=\"M0 0h24v24H0V0z\" fill=\"none\"/>\n",
              "    <path d=\"M18.56 5.44l.94 2.06.94-2.06 2.06-.94-2.06-.94-.94-2.06-.94 2.06-2.06.94zm-11 1L8.5 8.5l.94-2.06 2.06-.94-2.06-.94L8.5 2.5l-.94 2.06-2.06.94zm10 10l.94 2.06.94-2.06 2.06-.94-2.06-.94-.94-2.06-.94 2.06-2.06.94z\"/><path d=\"M17.41 7.96l-1.37-1.37c-.4-.4-.92-.59-1.43-.59-.52 0-1.04.2-1.43.59L10.3 9.45l-7.72 7.72c-.78.78-.78 2.05 0 2.83L4 21.41c.39.39.9.59 1.41.59.51 0 1.02-.2 1.41-.59l7.78-7.78 2.81-2.81c.8-.78.8-2.07 0-2.86zM5.41 20L4 18.59l7.72-7.72 1.47 1.35L5.41 20z\"/>\n",
              "  </svg>\n",
              "      </button>\n",
              "      \n",
              "  <style>\n",
              "    .colab-df-container {\n",
              "      display:flex;\n",
              "      flex-wrap:wrap;\n",
              "      gap: 12px;\n",
              "    }\n",
              "\n",
              "    .colab-df-convert {\n",
              "      background-color: #E8F0FE;\n",
              "      border: none;\n",
              "      border-radius: 50%;\n",
              "      cursor: pointer;\n",
              "      display: none;\n",
              "      fill: #1967D2;\n",
              "      height: 32px;\n",
              "      padding: 0 0 0 0;\n",
              "      width: 32px;\n",
              "    }\n",
              "\n",
              "    .colab-df-convert:hover {\n",
              "      background-color: #E2EBFA;\n",
              "      box-shadow: 0px 1px 2px rgba(60, 64, 67, 0.3), 0px 1px 3px 1px rgba(60, 64, 67, 0.15);\n",
              "      fill: #174EA6;\n",
              "    }\n",
              "\n",
              "    [theme=dark] .colab-df-convert {\n",
              "      background-color: #3B4455;\n",
              "      fill: #D2E3FC;\n",
              "    }\n",
              "\n",
              "    [theme=dark] .colab-df-convert:hover {\n",
              "      background-color: #434B5C;\n",
              "      box-shadow: 0px 1px 3px 1px rgba(0, 0, 0, 0.15);\n",
              "      filter: drop-shadow(0px 1px 2px rgba(0, 0, 0, 0.3));\n",
              "      fill: #FFFFFF;\n",
              "    }\n",
              "  </style>\n",
              "\n",
              "      <script>\n",
              "        const buttonEl =\n",
              "          document.querySelector('#df-139775e7-3207-4eb7-9e51-c8998c535f36 button.colab-df-convert');\n",
              "        buttonEl.style.display =\n",
              "          google.colab.kernel.accessAllowed ? 'block' : 'none';\n",
              "\n",
              "        async function convertToInteractive(key) {\n",
              "          const element = document.querySelector('#df-139775e7-3207-4eb7-9e51-c8998c535f36');\n",
              "          const dataTable =\n",
              "            await google.colab.kernel.invokeFunction('convertToInteractive',\n",
              "                                                     [key], {});\n",
              "          if (!dataTable) return;\n",
              "\n",
              "          const docLinkHtml = 'Like what you see? Visit the ' +\n",
              "            '<a target=\"_blank\" href=https://colab.research.google.com/notebooks/data_table.ipynb>data table notebook</a>'\n",
              "            + ' to learn more about interactive tables.';\n",
              "          element.innerHTML = '';\n",
              "          dataTable['output_type'] = 'display_data';\n",
              "          await google.colab.output.renderOutput(dataTable, element);\n",
              "          const docLink = document.createElement('div');\n",
              "          docLink.innerHTML = docLinkHtml;\n",
              "          element.appendChild(docLink);\n",
              "        }\n",
              "      </script>\n",
              "    </div>\n",
              "  </div>\n",
              "  "
            ]
          },
          "metadata": {},
          "execution_count": 176
        }
      ],
      "source": [
        "session_info"
      ]
    },
    {
      "cell_type": "code",
      "execution_count": null,
      "metadata": {
        "colab": {
          "base_uri": "https://localhost:8080/"
        },
        "id": "Zfu3fZbf0pIr",
        "outputId": "8bd15902-19b4-4adc-ccef-622dee869cd1"
      },
      "outputs": [
        {
          "output_type": "stream",
          "name": "stdout",
          "text": [
            "<class 'pandas.core.frame.DataFrame'>\n",
            "Int64Index: 4588104 entries, 9 to 247539\n",
            "Data columns (total 19 columns):\n",
            " #   Column              Dtype         \n",
            "---  ------              -----         \n",
            " 0   ride_id             object        \n",
            " 1   rideable_type       object        \n",
            " 2   started_at          datetime64[ns]\n",
            " 3   ended_at            datetime64[ns]\n",
            " 4   start_station_name  object        \n",
            " 5   start_station_id    object        \n",
            " 6   end_station_name    object        \n",
            " 7   end_station_id      object        \n",
            " 8   start_lat           float64       \n",
            " 9   start_lng           float64       \n",
            " 10  end_lat             float64       \n",
            " 11  end_lng             float64       \n",
            " 12  member_casual       object        \n",
            " 13  ride_length         float64       \n",
            " 14  weekday             int64         \n",
            " 15  distance            float64       \n",
            " 16  Month               int64         \n",
            " 17  Hour                int64         \n",
            " 18  session             int64         \n",
            "dtypes: datetime64[ns](2), float64(6), int64(4), object(7)\n",
            "memory usage: 700.1+ MB\n"
          ]
        }
      ],
      "source": [
        "data_clean.info()"
      ]
    },
    {
      "cell_type": "code",
      "execution_count": null,
      "metadata": {
        "colab": {
          "base_uri": "https://localhost:8080/"
        },
        "id": "utWdmquN0a0x",
        "outputId": "e4a4f678-c7f5-4d62-9899-89f440064610"
      },
      "outputs": [
        {
          "output_type": "execute_result",
          "data": {
            "text/plain": [
              "0.5535624301454369"
            ]
          },
          "metadata": {},
          "execution_count": 178
        }
      ],
      "source": [
        "len(data_clean[data_clean[\"member_casual\"]==\"member\"])/len(data_clean)"
      ]
    },
    {
      "cell_type": "code",
      "execution_count": null,
      "metadata": {
        "id": "wlEZmH5SB6lZ"
      },
      "outputs": [],
      "source": [
        "Month_session_info = pd.DataFrame(data_clean.groupby(['member_casual','session'])[\"Month\"].value_counts()).sort_index()"
      ]
    },
    {
      "cell_type": "code",
      "execution_count": null,
      "metadata": {
        "colab": {
          "base_uri": "https://localhost:8080/",
          "height": 455
        },
        "id": "MeUQxkeFCBD4",
        "outputId": "45e00c04-33da-4453-9d4a-f2fbccc173e1"
      },
      "outputs": [
        {
          "output_type": "execute_result",
          "data": {
            "text/plain": [
              "                             Month\n",
              "member_casual session Month       \n",
              "casual        1       1       1072\n",
              "                      2        451\n",
              "                      3       3247\n",
              "                      4       4994\n",
              "                      5       9038\n",
              "...                            ...\n",
              "member        6       8       9071\n",
              "                      9       7827\n",
              "                      10      8004\n",
              "                      11      3831\n",
              "                      12      2834\n",
              "\n",
              "[144 rows x 1 columns]"
            ],
            "text/html": [
              "\n",
              "  <div id=\"df-861ad498-4783-4e50-9fb3-d4add48fbec6\">\n",
              "    <div class=\"colab-df-container\">\n",
              "      <div>\n",
              "<style scoped>\n",
              "    .dataframe tbody tr th:only-of-type {\n",
              "        vertical-align: middle;\n",
              "    }\n",
              "\n",
              "    .dataframe tbody tr th {\n",
              "        vertical-align: top;\n",
              "    }\n",
              "\n",
              "    .dataframe thead th {\n",
              "        text-align: right;\n",
              "    }\n",
              "</style>\n",
              "<table border=\"1\" class=\"dataframe\">\n",
              "  <thead>\n",
              "    <tr style=\"text-align: right;\">\n",
              "      <th></th>\n",
              "      <th></th>\n",
              "      <th></th>\n",
              "      <th>Month</th>\n",
              "    </tr>\n",
              "    <tr>\n",
              "      <th>member_casual</th>\n",
              "      <th>session</th>\n",
              "      <th>Month</th>\n",
              "      <th></th>\n",
              "    </tr>\n",
              "  </thead>\n",
              "  <tbody>\n",
              "    <tr>\n",
              "      <th rowspan=\"5\" valign=\"top\">casual</th>\n",
              "      <th rowspan=\"5\" valign=\"top\">1</th>\n",
              "      <th>1</th>\n",
              "      <td>1072</td>\n",
              "    </tr>\n",
              "    <tr>\n",
              "      <th>2</th>\n",
              "      <td>451</td>\n",
              "    </tr>\n",
              "    <tr>\n",
              "      <th>3</th>\n",
              "      <td>3247</td>\n",
              "    </tr>\n",
              "    <tr>\n",
              "      <th>4</th>\n",
              "      <td>4994</td>\n",
              "    </tr>\n",
              "    <tr>\n",
              "      <th>5</th>\n",
              "      <td>9038</td>\n",
              "    </tr>\n",
              "    <tr>\n",
              "      <th>...</th>\n",
              "      <th>...</th>\n",
              "      <th>...</th>\n",
              "      <td>...</td>\n",
              "    </tr>\n",
              "    <tr>\n",
              "      <th rowspan=\"5\" valign=\"top\">member</th>\n",
              "      <th rowspan=\"5\" valign=\"top\">6</th>\n",
              "      <th>8</th>\n",
              "      <td>9071</td>\n",
              "    </tr>\n",
              "    <tr>\n",
              "      <th>9</th>\n",
              "      <td>7827</td>\n",
              "    </tr>\n",
              "    <tr>\n",
              "      <th>10</th>\n",
              "      <td>8004</td>\n",
              "    </tr>\n",
              "    <tr>\n",
              "      <th>11</th>\n",
              "      <td>3831</td>\n",
              "    </tr>\n",
              "    <tr>\n",
              "      <th>12</th>\n",
              "      <td>2834</td>\n",
              "    </tr>\n",
              "  </tbody>\n",
              "</table>\n",
              "<p>144 rows × 1 columns</p>\n",
              "</div>\n",
              "      <button class=\"colab-df-convert\" onclick=\"convertToInteractive('df-861ad498-4783-4e50-9fb3-d4add48fbec6')\"\n",
              "              title=\"Convert this dataframe to an interactive table.\"\n",
              "              style=\"display:none;\">\n",
              "        \n",
              "  <svg xmlns=\"http://www.w3.org/2000/svg\" height=\"24px\"viewBox=\"0 0 24 24\"\n",
              "       width=\"24px\">\n",
              "    <path d=\"M0 0h24v24H0V0z\" fill=\"none\"/>\n",
              "    <path d=\"M18.56 5.44l.94 2.06.94-2.06 2.06-.94-2.06-.94-.94-2.06-.94 2.06-2.06.94zm-11 1L8.5 8.5l.94-2.06 2.06-.94-2.06-.94L8.5 2.5l-.94 2.06-2.06.94zm10 10l.94 2.06.94-2.06 2.06-.94-2.06-.94-.94-2.06-.94 2.06-2.06.94z\"/><path d=\"M17.41 7.96l-1.37-1.37c-.4-.4-.92-.59-1.43-.59-.52 0-1.04.2-1.43.59L10.3 9.45l-7.72 7.72c-.78.78-.78 2.05 0 2.83L4 21.41c.39.39.9.59 1.41.59.51 0 1.02-.2 1.41-.59l7.78-7.78 2.81-2.81c.8-.78.8-2.07 0-2.86zM5.41 20L4 18.59l7.72-7.72 1.47 1.35L5.41 20z\"/>\n",
              "  </svg>\n",
              "      </button>\n",
              "      \n",
              "  <style>\n",
              "    .colab-df-container {\n",
              "      display:flex;\n",
              "      flex-wrap:wrap;\n",
              "      gap: 12px;\n",
              "    }\n",
              "\n",
              "    .colab-df-convert {\n",
              "      background-color: #E8F0FE;\n",
              "      border: none;\n",
              "      border-radius: 50%;\n",
              "      cursor: pointer;\n",
              "      display: none;\n",
              "      fill: #1967D2;\n",
              "      height: 32px;\n",
              "      padding: 0 0 0 0;\n",
              "      width: 32px;\n",
              "    }\n",
              "\n",
              "    .colab-df-convert:hover {\n",
              "      background-color: #E2EBFA;\n",
              "      box-shadow: 0px 1px 2px rgba(60, 64, 67, 0.3), 0px 1px 3px 1px rgba(60, 64, 67, 0.15);\n",
              "      fill: #174EA6;\n",
              "    }\n",
              "\n",
              "    [theme=dark] .colab-df-convert {\n",
              "      background-color: #3B4455;\n",
              "      fill: #D2E3FC;\n",
              "    }\n",
              "\n",
              "    [theme=dark] .colab-df-convert:hover {\n",
              "      background-color: #434B5C;\n",
              "      box-shadow: 0px 1px 3px 1px rgba(0, 0, 0, 0.15);\n",
              "      filter: drop-shadow(0px 1px 2px rgba(0, 0, 0, 0.3));\n",
              "      fill: #FFFFFF;\n",
              "    }\n",
              "  </style>\n",
              "\n",
              "      <script>\n",
              "        const buttonEl =\n",
              "          document.querySelector('#df-861ad498-4783-4e50-9fb3-d4add48fbec6 button.colab-df-convert');\n",
              "        buttonEl.style.display =\n",
              "          google.colab.kernel.accessAllowed ? 'block' : 'none';\n",
              "\n",
              "        async function convertToInteractive(key) {\n",
              "          const element = document.querySelector('#df-861ad498-4783-4e50-9fb3-d4add48fbec6');\n",
              "          const dataTable =\n",
              "            await google.colab.kernel.invokeFunction('convertToInteractive',\n",
              "                                                     [key], {});\n",
              "          if (!dataTable) return;\n",
              "\n",
              "          const docLinkHtml = 'Like what you see? Visit the ' +\n",
              "            '<a target=\"_blank\" href=https://colab.research.google.com/notebooks/data_table.ipynb>data table notebook</a>'\n",
              "            + ' to learn more about interactive tables.';\n",
              "          element.innerHTML = '';\n",
              "          dataTable['output_type'] = 'display_data';\n",
              "          await google.colab.output.renderOutput(dataTable, element);\n",
              "          const docLink = document.createElement('div');\n",
              "          docLink.innerHTML = docLinkHtml;\n",
              "          element.appendChild(docLink);\n",
              "        }\n",
              "      </script>\n",
              "    </div>\n",
              "  </div>\n",
              "  "
            ]
          },
          "metadata": {},
          "execution_count": 180
        }
      ],
      "source": [
        "Month_session_info "
      ]
    },
    {
      "cell_type": "code",
      "execution_count": null,
      "metadata": {
        "id": "4USDxzWICL7N"
      },
      "outputs": [],
      "source": [
        "Month_session_info = Month_session_info.unstack().rename(index=i, level=1).stack()"
      ]
    },
    {
      "cell_type": "code",
      "execution_count": null,
      "metadata": {
        "id": "Go4UXpUODCKm"
      },
      "outputs": [],
      "source": [
        "Month_session_info.to_csv(\"Month_session_info.csv\")"
      ]
    },
    {
      "cell_type": "code",
      "execution_count": null,
      "metadata": {
        "id": "OMLXOD_88Dmk"
      },
      "outputs": [],
      "source": [
        "data_clean.to_csv(\"clean_data.csv\")"
      ]
    },
    {
      "cell_type": "code",
      "execution_count": null,
      "metadata": {
        "colab": {
          "base_uri": "https://localhost:8080/"
        },
        "id": "CdoyIT1k-Qhr",
        "outputId": "be50fbbf-6bb1-4be2-ed31-5c0d4acec689"
      },
      "outputs": [
        {
          "output_type": "stream",
          "name": "stdout",
          "text": [
            "Drive already mounted at /gdrive; to attempt to forcibly remount, call drive.mount(\"/gdrive\", force_remount=True).\n",
            "/gdrive\n",
            "'/content/clean_data.csv' -> '/gdrive/MyDrive/clean_data.csv'\n",
            "/content\n"
          ]
        }
      ],
      "source": [
        "from google.colab import drive\n",
        "drive.mount('/gdrive')\n",
        "\n",
        "%cd /gdrive\n",
        "%cp -av  /content/clean_data.csv  /gdrive/MyDrive/\n",
        "%cd /content/"
      ]
    },
    {
      "cell_type": "code",
      "execution_count": null,
      "metadata": {
        "id": "ZjhxcRHSBEM-",
        "colab": {
          "base_uri": "https://localhost:8080/"
        },
        "outputId": "2542d91b-1a57-431b-dfb0-92f825dd4448"
      },
      "outputs": [
        {
          "output_type": "stream",
          "name": "stdout",
          "text": [
            "<class 'pandas.core.frame.DataFrame'>\n",
            "Int64Index: 4588104 entries, 9 to 247539\n",
            "Data columns (total 19 columns):\n",
            " #   Column              Dtype         \n",
            "---  ------              -----         \n",
            " 0   ride_id             object        \n",
            " 1   rideable_type       object        \n",
            " 2   started_at          datetime64[ns]\n",
            " 3   ended_at            datetime64[ns]\n",
            " 4   start_station_name  object        \n",
            " 5   start_station_id    object        \n",
            " 6   end_station_name    object        \n",
            " 7   end_station_id      object        \n",
            " 8   start_lat           float64       \n",
            " 9   start_lng           float64       \n",
            " 10  end_lat             float64       \n",
            " 11  end_lng             float64       \n",
            " 12  member_casual       object        \n",
            " 13  ride_length         float64       \n",
            " 14  weekday             int64         \n",
            " 15  distance            float64       \n",
            " 16  Month               int64         \n",
            " 17  Hour                int64         \n",
            " 18  session             int64         \n",
            "dtypes: datetime64[ns](2), float64(6), int64(4), object(7)\n",
            "memory usage: 700.1+ MB\n"
          ]
        }
      ],
      "source": [
        "data_clean.info()"
      ]
    },
    {
      "cell_type": "code",
      "execution_count": null,
      "metadata": {
        "id": "JkPFeKd9DTuH",
        "colab": {
          "base_uri": "https://localhost:8080/"
        },
        "outputId": "a885825b-2723-4dec-f87c-f8095923c450"
      },
      "outputs": [
        {
          "output_type": "execute_result",
          "data": {
            "text/plain": [
              "start_station_id\n",
              "13001                             24280\n",
              "13006                              9899\n",
              "13008                             40479\n",
              "13011                             16620\n",
              "13016                             28613\n",
              "                                  ...  \n",
              "TA1309000067                       1079\n",
              "Throop/Hastings Mobile Station        1\n",
              "WL-008                             7930\n",
              "WL-011                             8611\n",
              "WL-012                            19830\n",
              "Name: ride_id, Length: 829, dtype: int64"
            ]
          },
          "metadata": {},
          "execution_count": 186
        }
      ],
      "source": [
        "data_clean.groupby('start_station_id')['ride_id'].count()"
      ]
    },
    {
      "cell_type": "code",
      "execution_count": null,
      "metadata": {
        "id": "vbjzHVZlE6x1",
        "colab": {
          "base_uri": "https://localhost:8080/"
        },
        "outputId": "e2840090-6a30-421c-dda2-dcad07b4316f"
      },
      "outputs": [
        {
          "output_type": "execute_result",
          "data": {
            "text/plain": [
              "start_station_id\n",
              "416      1\n",
              "460      1\n",
              "20111    1\n",
              "462      1\n",
              "20240    1\n",
              "466      2\n",
              "452      2\n",
              "418      2\n",
              "429      2\n",
              "383      2\n",
              "Name: ride_id, dtype: int64"
            ]
          },
          "metadata": {},
          "execution_count": 187
        }
      ],
      "source": [
        "data_clean[data_clean['member_casual']=='casual'].groupby('start_station_id')['ride_id'].count().sort_values()[:10]"
      ]
    },
    {
      "cell_type": "code",
      "execution_count": null,
      "metadata": {
        "id": "_S6jYAfxFC7a",
        "colab": {
          "base_uri": "https://localhost:8080/"
        },
        "outputId": "c82dc802-e3f3-480a-e014-443825ba9e58"
      },
      "outputs": [
        {
          "output_type": "execute_result",
          "data": {
            "text/plain": [
              "start_station_id\n",
              "20134    1\n",
              "365.0    1\n",
              "458      1\n",
              "375      1\n",
              "376      1\n",
              "380      1\n",
              "20114    1\n",
              "388      1\n",
              "389      1\n",
              "394      1\n",
              "Name: ride_id, dtype: int64"
            ]
          },
          "metadata": {},
          "execution_count": 188
        }
      ],
      "source": [
        "data_clean[data_clean['member_casual']=='member'].groupby('start_station_id')['ride_id'].count().sort_values()[:10]"
      ]
    },
    {
      "cell_type": "code",
      "execution_count": null,
      "metadata": {
        "id": "8Az6G_WKF-uR",
        "colab": {
          "base_uri": "https://localhost:8080/"
        },
        "outputId": "64e4c01a-6933-4e01-f290-97a303385d5c"
      },
      "outputs": [
        {
          "output_type": "execute_result",
          "data": {
            "text/plain": [
              "start_station_id\n",
              "SL-005          15814\n",
              "13179           16290\n",
              "TA1308000050    18879\n",
              "TA1308000001    20620\n",
              "15544           22544\n",
              "13042           28661\n",
              "LF-005          28684\n",
              "13008           32185\n",
              "13300           34756\n",
              "13022           64446\n",
              "Name: ride_id, dtype: int64"
            ]
          },
          "metadata": {},
          "execution_count": 189
        }
      ],
      "source": [
        "data_clean[data_clean['member_casual']=='casual'].groupby('start_station_id')['ride_id'].count().sort_values()[-10:]"
      ]
    },
    {
      "cell_type": "code",
      "execution_count": null,
      "metadata": {
        "id": "yhHbsgMsFqei"
      },
      "outputs": [],
      "source": [
        "pd.DataFrame(data_clean[data_clean['member_casual']=='member'].groupby('start_station_id')['ride_id'].count().sort_values(ascending=False)[:10]).to_csv(\"top10Member.csv\")"
      ]
    },
    {
      "cell_type": "code",
      "source": [
        "pd.DataFrame(data_clean[data_clean['member_casual']=='casual'].groupby('start_station_id')['ride_id'].count().sort_values(ascending=False)[:10]).to_csv(\"top10casual.csv\")"
      ],
      "metadata": {
        "id": "uTivbPRxcWV3"
      },
      "execution_count": null,
      "outputs": []
    },
    {
      "cell_type": "code",
      "execution_count": null,
      "metadata": {
        "id": "z-FPrCqrELEN",
        "colab": {
          "base_uri": "https://localhost:8080/"
        },
        "outputId": "936c6592-062e-4df8-d4c4-50b25c85559d"
      },
      "outputs": [
        {
          "output_type": "execute_result",
          "data": {
            "text/plain": [
              "829"
            ]
          },
          "metadata": {},
          "execution_count": 191
        }
      ],
      "source": [
        "len(data_clean['start_station_id'].unique())"
      ]
    },
    {
      "cell_type": "code",
      "execution_count": null,
      "metadata": {
        "id": "W2qhnOJvGGhm",
        "colab": {
          "base_uri": "https://localhost:8080/"
        },
        "outputId": "ca1afdce-d24b-471d-c817-f60844ccf8bc"
      },
      "outputs": [
        {
          "output_type": "execute_result",
          "data": {
            "text/plain": [
              "end_station_id\n",
              "381        1\n",
              "466        1\n",
              "340        1\n",
              "420        1\n",
              "20248.0    1\n",
              "437        1\n",
              "20240      1\n",
              "373        2\n",
              "380        2\n",
              "390        2\n",
              "Name: ride_id, dtype: int64"
            ]
          },
          "metadata": {},
          "execution_count": 192
        }
      ],
      "source": [
        "data_clean[data_clean['member_casual']=='casual'].groupby('end_station_id')['ride_id'].count().sort_values()[:10]"
      ]
    },
    {
      "cell_type": "code",
      "execution_count": null,
      "metadata": {
        "id": "mQiu86E9Gaoo",
        "colab": {
          "base_uri": "https://localhost:8080/"
        },
        "outputId": "62d67ba6-988c-4bc9-a46d-7e0e59e16aa5"
      },
      "outputs": [
        {
          "output_type": "execute_result",
          "data": {
            "text/plain": [
              "end_station_id\n",
              "20221    1\n",
              "327      1\n",
              "341      1\n",
              "374      1\n",
              "307      1\n",
              "335.0    1\n",
              "304      1\n",
              "381      1\n",
              "393      1\n",
              "464      1\n",
              "Name: ride_id, dtype: int64"
            ]
          },
          "metadata": {},
          "execution_count": 193
        }
      ],
      "source": [
        "data_clean[data_clean['member_casual']=='member'].groupby('end_station_id')['ride_id'].count().sort_values()[:10]"
      ]
    },
    {
      "cell_type": "code",
      "execution_count": null,
      "metadata": {
        "id": "Amz1FP1yGNtG",
        "colab": {
          "base_uri": "https://localhost:8080/"
        },
        "outputId": "e216587c-f8aa-4872-b186-111df62f03b7"
      },
      "outputs": [
        {
          "output_type": "execute_result",
          "data": {
            "text/plain": [
              "end_station_id\n",
              "13179           16544\n",
              "TA1307000117    16575\n",
              "TA1308000050    18618\n",
              "15544           21158\n",
              "TA1308000001    22307\n",
              "13042           30364\n",
              "13300           32456\n",
              "LF-005          33725\n",
              "13008           33744\n",
              "13022           67524\n",
              "Name: ride_id, dtype: int64"
            ]
          },
          "metadata": {},
          "execution_count": 194
        }
      ],
      "source": [
        "data_clean[data_clean['member_casual']=='casual'].groupby('end_station_id')['ride_id'].count().sort_values()[-10:]"
      ]
    },
    {
      "cell_type": "code",
      "execution_count": null,
      "metadata": {
        "id": "j-Q8CswnGfKz"
      },
      "outputs": [],
      "source": [
        "pd.DataFrame(data_clean[data_clean['member_casual']=='member'].groupby('end_station_id')['ride_id'].count().sort_values(ascending=False)[:10]).to_csv('10member_end.csv')"
      ]
    },
    {
      "cell_type": "code",
      "source": [
        "pd.DataFrame(data_clean[data_clean['member_casual']=='casual'].groupby('end_station_id')['ride_id'].count().sort_values(ascending=False)[:10]).to_csv('10casual_end.csv')"
      ],
      "metadata": {
        "id": "LV8QV_ddf9AZ"
      },
      "execution_count": null,
      "outputs": []
    },
    {
      "cell_type": "code",
      "source": [
        "data_clean['end_station_id'].head(10)"
      ],
      "metadata": {
        "colab": {
          "base_uri": "https://localhost:8080/"
        },
        "id": "G5EPw25BZ_tq",
        "outputId": "40ac175c-0ba4-4f75-efb1-c790ba845051"
      },
      "execution_count": null,
      "outputs": [
        {
          "output_type": "execute_result",
          "data": {
            "text/plain": [
              "9              657\n",
              "10           13258\n",
              "11             657\n",
              "12             657\n",
              "13             657\n",
              "14    KA1504000135\n",
              "15    KA1504000113\n",
              "16    KA1504000103\n",
              "17           13271\n",
              "18           13271\n",
              "Name: end_station_id, dtype: object"
            ]
          },
          "metadata": {},
          "execution_count": 196
        }
      ]
    },
    {
      "cell_type": "code",
      "source": [
        "data_clean['ride_id'].head(10)"
      ],
      "metadata": {
        "colab": {
          "base_uri": "https://localhost:8080/"
        },
        "id": "NsZ3nXoIaIFV",
        "outputId": "d0919f47-3c79-48c1-c32e-ca9864358ba4"
      },
      "execution_count": null,
      "outputs": [
        {
          "output_type": "execute_result",
          "data": {
            "text/plain": [
              "9     B9F73448DFBE0D45\n",
              "10    457C7F4B5D3DA135\n",
              "11    57C750326F9FDABE\n",
              "12    4D518C65E338D070\n",
              "13    9D08A3AFF410474D\n",
              "14    49FCE1F8598F12C6\n",
              "15    0FEED5C2C8749A1C\n",
              "16    E276FD43BDED6420\n",
              "17    88BFCF66C2D585EC\n",
              "18    8BD6F6510F5C8BD2\n",
              "Name: ride_id, dtype: object"
            ]
          },
          "metadata": {},
          "execution_count": 197
        }
      ]
    }
  ],
  "metadata": {
    "colab": {
      "collapsed_sections": [
        "OO4rUiloz8AC"
      ],
      "provenance": []
    },
    "kernelspec": {
      "display_name": "Python 3",
      "name": "python3"
    },
    "language_info": {
      "name": "python"
    }
  },
  "nbformat": 4,
  "nbformat_minor": 0
}